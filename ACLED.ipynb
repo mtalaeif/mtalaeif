{
 "cells": [
  {
   "cell_type": "code",
   "execution_count": 1,
   "metadata": {},
   "outputs": [
    {
     "name": "stderr",
     "output_type": "stream",
     "text": [
      "C:\\Users\\ASUS\\AppData\\Local\\Temp\\ipykernel_16188\\3124696532.py:3: FutureWarning: The pandas.datetime class is deprecated and will be removed from pandas in a future version. Import from datetime module instead.\n",
      "  d_parser = lambda x: pd.datetime.strptime(x, '%d %B %Y')\n"
     ]
    }
   ],
   "source": [
    "import pandas as pd\n",
    "import numpy as np\n",
    "d_parser = lambda x: pd.datetime.strptime(x, '%d %B %Y')\n",
    "f2 = pd.read_csv(\"ACLED_2000-01-01-2022-07-18-Eastern_Africa-Middle_Africa-Northern_Africa-Southern_Africa-Western_Africa.csv\",\n",
    "                parse_dates = ['event_date'], date_parser = d_parser)"
   ]
  },
  {
   "cell_type": "code",
   "execution_count": 5,
   "metadata": {},
   "outputs": [],
   "source": [
    "#f2.sort_values(by = 'event_date', axis=0, ascending=True)\n",
    "f2['month'] = f2['event_date'].dt.month\n",
    "#f2.to_csv(r'C:\\Users\\ASUS\\Desktop\\WHK\\practici\\sggg.csv')"
   ]
  },
  {
   "cell_type": "code",
   "execution_count": null,
   "metadata": {},
   "outputs": [],
   "source": []
  },
  {
   "cell_type": "code",
   "execution_count": 45,
   "metadata": {},
   "outputs": [
    {
     "name": "stderr",
     "output_type": "stream",
     "text": [
      "C:\\Users\\ASUS\\AppData\\Local\\Temp\\ipykernel_11472\\3699924901.py:3: DtypeWarning: Columns (3) have mixed types. Specify dtype option on import or set low_memory=False.\n",
      "  dfd = pd.read_csv('event.csv')\n"
     ]
    }
   ],
   "source": [
    "df2_L=f2.groupby(['country','location','event_date']).agg({'fatalities':['sum']})\n",
    "df2_L.to_csv(r'C:\\Users\\ASUS\\Desktop\\WHK\\practici\\event.csv')\n",
    "dfd = pd.read_csv('event.csv')\n",
    "dfd.drop([0,1], axis=0, inplace=True)\n",
    "dfd.rename(columns = {'Unnamed: 0':'country', 'Unnamed: 1' :'location', 'Unnamed: 2': 'event_date'}, inplace= True)\n"
   ]
  },
  {
   "cell_type": "code",
   "execution_count": 15,
   "metadata": {},
   "outputs": [
    {
     "data": {
      "text/html": [
       "<div>\n",
       "<style scoped>\n",
       "    .dataframe tbody tr th:only-of-type {\n",
       "        vertical-align: middle;\n",
       "    }\n",
       "\n",
       "    .dataframe tbody tr th {\n",
       "        vertical-align: top;\n",
       "    }\n",
       "\n",
       "    .dataframe thead th {\n",
       "        text-align: right;\n",
       "    }\n",
       "</style>\n",
       "<table border=\"1\" class=\"dataframe\">\n",
       "  <thead>\n",
       "    <tr style=\"text-align: right;\">\n",
       "      <th></th>\n",
       "      <th>country</th>\n",
       "      <th>year</th>\n",
       "      <th>month</th>\n",
       "      <th>fatalities</th>\n",
       "    </tr>\n",
       "  </thead>\n",
       "  <tbody>\n",
       "    <tr>\n",
       "      <th>2</th>\n",
       "      <td>Algeria</td>\n",
       "      <td>2000</td>\n",
       "      <td>1</td>\n",
       "      <td>257</td>\n",
       "    </tr>\n",
       "    <tr>\n",
       "      <th>3</th>\n",
       "      <td>Algeria</td>\n",
       "      <td>2000</td>\n",
       "      <td>2</td>\n",
       "      <td>233</td>\n",
       "    </tr>\n",
       "    <tr>\n",
       "      <th>4</th>\n",
       "      <td>Algeria</td>\n",
       "      <td>2000</td>\n",
       "      <td>3</td>\n",
       "      <td>80</td>\n",
       "    </tr>\n",
       "    <tr>\n",
       "      <th>5</th>\n",
       "      <td>Algeria</td>\n",
       "      <td>2000</td>\n",
       "      <td>4</td>\n",
       "      <td>50</td>\n",
       "    </tr>\n",
       "    <tr>\n",
       "      <th>6</th>\n",
       "      <td>Algeria</td>\n",
       "      <td>2000</td>\n",
       "      <td>5</td>\n",
       "      <td>79</td>\n",
       "    </tr>\n",
       "    <tr>\n",
       "      <th>...</th>\n",
       "      <td>...</td>\n",
       "      <td>...</td>\n",
       "      <td>...</td>\n",
       "      <td>...</td>\n",
       "    </tr>\n",
       "    <tr>\n",
       "      <th>9354</th>\n",
       "      <td>eSwatini</td>\n",
       "      <td>2022</td>\n",
       "      <td>3</td>\n",
       "      <td>0</td>\n",
       "    </tr>\n",
       "    <tr>\n",
       "      <th>9355</th>\n",
       "      <td>eSwatini</td>\n",
       "      <td>2022</td>\n",
       "      <td>4</td>\n",
       "      <td>0</td>\n",
       "    </tr>\n",
       "    <tr>\n",
       "      <th>9356</th>\n",
       "      <td>eSwatini</td>\n",
       "      <td>2022</td>\n",
       "      <td>5</td>\n",
       "      <td>0</td>\n",
       "    </tr>\n",
       "    <tr>\n",
       "      <th>9357</th>\n",
       "      <td>eSwatini</td>\n",
       "      <td>2022</td>\n",
       "      <td>6</td>\n",
       "      <td>2</td>\n",
       "    </tr>\n",
       "    <tr>\n",
       "      <th>9358</th>\n",
       "      <td>eSwatini</td>\n",
       "      <td>2022</td>\n",
       "      <td>7</td>\n",
       "      <td>0</td>\n",
       "    </tr>\n",
       "  </tbody>\n",
       "</table>\n",
       "<p>9357 rows × 4 columns</p>\n",
       "</div>"
      ],
      "text/plain": [
       "       country  year month fatalities\n",
       "2      Algeria  2000     1        257\n",
       "3      Algeria  2000     2        233\n",
       "4      Algeria  2000     3         80\n",
       "5      Algeria  2000     4         50\n",
       "6      Algeria  2000     5         79\n",
       "...        ...   ...   ...        ...\n",
       "9354  eSwatini  2022     3          0\n",
       "9355  eSwatini  2022     4          0\n",
       "9356  eSwatini  2022     5          0\n",
       "9357  eSwatini  2022     6          2\n",
       "9358  eSwatini  2022     7          0\n",
       "\n",
       "[9357 rows x 4 columns]"
      ]
     },
     "execution_count": 15,
     "metadata": {},
     "output_type": "execute_result"
    }
   ],
   "source": [
    "df2_0=f2.groupby(['country','year','month']).agg({'fatalities':['sum']})\n",
    "#df2_L=f2.groupby(['country','location','year','month']).agg({'fatalities':['sum']})\n",
    "#df2_0.to_csv(r'C:\\Users\\ASUS\\Desktop\\WHK\\practici\\ss.csv')\n",
    "#df2_L.to_csv(r'C:\\Users\\ASUS\\Desktop\\WHK\\practici\\Loc.csv')\n",
    "\n",
    "dd = pd.read_csv('ss.csv')\n",
    "dd.drop([0,1], axis=0, inplace=True)\n",
    "dd.rename(columns = {'Unnamed: 0':'country', 'Unnamed: 1' :'year', 'Unnamed: 2': 'month'}, inplace= True)\n",
    "dd.country.unique()\n",
    "dd"
   ]
  },
  {
   "cell_type": "markdown",
   "metadata": {},
   "source": [
    "# locations"
   ]
  },
  {
   "cell_type": "code",
   "execution_count": 75,
   "metadata": {},
   "outputs": [],
   "source": [
    "s = dfd[dfd['country']=='Angola']\n",
    "r=s.groupby(['event_date', 'location']).agg({'fatalities':['sum']})\n",
    "r.to_csv(r'C:\\Users\\ASUS\\Desktop\\WHK\\practici\\bvb.csv')\n",
    "b = pd.read_csv('bvb.csv')\n",
    "b.drop([0,1], axis=0, inplace=True)\n",
    "b.rename(columns = {'Unnamed: 0':'date', 'Unnamed: 1' :'location'}, inplace= True)\n",
    "b.sort_values(by='date', axis=0, ascending=True)\n",
    "b[['year','month','day']]= b['date'].str.split('-', expand=True)\n",
    "b.drop(['date','day'],axis=1, inplace=True)\n",
    "b['country']='Angola'\n",
    "b.to_csv(r'C:\\Users\\ASUS\\Desktop\\WHK\\practici\\ACLED_LOC\\Angola.csv')"
   ]
  },
  {
   "cell_type": "code",
   "execution_count": 76,
   "metadata": {},
   "outputs": [],
   "source": [
    "s = dfd[dfd['country']=='Algeria']\n",
    "r=s.groupby(['event_date', 'location']).agg({'fatalities':['sum']})\n",
    "r.to_csv(r'C:\\Users\\ASUS\\Desktop\\WHK\\practici\\bvb1.csv')\n",
    "b = pd.read_csv('bvb1.csv')\n",
    "b.drop([0,1], axis=0, inplace=True)\n",
    "b.rename(columns = {'Unnamed: 0':'date', 'Unnamed: 1' :'location'}, inplace= True)\n",
    "b.sort_values(by='date', axis=0, ascending=True)\n",
    "b[['year','month','day']]= b['date'].str.split('-', expand=True)\n",
    "b.drop(['date','day'],axis=1, inplace=True)\n",
    "b['country']='Algeria'\n",
    "b.to_csv(r'C:\\Users\\ASUS\\Desktop\\WHK\\practici\\ACLED_LOC\\Algeria.csv')"
   ]
  },
  {
   "cell_type": "code",
   "execution_count": 77,
   "metadata": {},
   "outputs": [],
   "source": [
    "s = dfd[dfd['country']=='Benin']\n",
    "r=s.groupby(['event_date', 'location']).agg({'fatalities':['sum']})\n",
    "r.to_csv(r'C:\\Users\\ASUS\\Desktop\\WHK\\practici\\bvb3.csv')\n",
    "b = pd.read_csv('bvb3.csv')\n",
    "b.drop([0,1], axis=0, inplace=True)\n",
    "b.rename(columns = {'Unnamed: 0':'date', 'Unnamed: 1' :'location'}, inplace= True)\n",
    "b.sort_values(by='date', axis=0, ascending=True)\n",
    "b[['year','month','day']]= b['date'].str.split('-', expand=True)\n",
    "b.drop(['date','day'],axis=1, inplace=True)\n",
    "b['country']='Benin'\n",
    "b.to_csv(r'C:\\Users\\ASUS\\Desktop\\WHK\\practici\\ACLED_LOC\\Benin.csv')"
   ]
  },
  {
   "cell_type": "code",
   "execution_count": 78,
   "metadata": {},
   "outputs": [],
   "source": [
    "s = dfd[dfd['country']=='Botswana']\n",
    "r=s.groupby(['event_date', 'location']).agg({'fatalities':['sum']})\n",
    "r.to_csv(r'C:\\Users\\ASUS\\Desktop\\WHK\\practici\\bvb4.csv')\n",
    "b = pd.read_csv('bvb4.csv')\n",
    "b.drop([0,1], axis=0, inplace=True)\n",
    "b.rename(columns = {'Unnamed: 0':'date', 'Unnamed: 1' :'location'}, inplace= True)\n",
    "b.sort_values(by='date', axis=0, ascending=True)\n",
    "b[['year','month','day']]= b['date'].str.split('-', expand=True)\n",
    "b.drop(['date','day'],axis=1, inplace=True)\n",
    "b['country']='Botswana'\n",
    "b.to_csv(r'C:\\Users\\ASUS\\Desktop\\WHK\\practici\\ACLED_LOC\\Botswana.csv')"
   ]
  },
  {
   "cell_type": "code",
   "execution_count": 79,
   "metadata": {},
   "outputs": [],
   "source": [
    "s = dfd[dfd['country']=='Burkina Faso']\n",
    "r=s.groupby(['event_date', 'location']).agg({'fatalities':['sum']})\n",
    "r.to_csv(r'C:\\Users\\ASUS\\Desktop\\WHK\\practici\\bv1b.csv')\n",
    "b = pd.read_csv('bv1b.csv')\n",
    "b.drop([0,1], axis=0, inplace=True)\n",
    "b.rename(columns = {'Unnamed: 0':'date', 'Unnamed: 1' :'location'}, inplace= True)\n",
    "b.sort_values(by='date', axis=0, ascending=True)\n",
    "b[['year','month','day']]= b['date'].str.split('-', expand=True)\n",
    "b.drop(['date','day'],axis=1, inplace=True)\n",
    "b['country']='Burkina_Faso'\n",
    "b.to_csv(r'C:\\Users\\ASUS\\Desktop\\WHK\\practici\\ACLED_LOC\\Burkina Faso.csv')"
   ]
  },
  {
   "cell_type": "code",
   "execution_count": 80,
   "metadata": {},
   "outputs": [],
   "source": [
    "s = dfd[dfd['country']=='Burundi']\n",
    "r=s.groupby(['event_date', 'location']).agg({'fatalities':['sum']})\n",
    "r.to_csv(r'C:\\Users\\ASUS\\Desktop\\WHK\\practici\\bvb44.csv')\n",
    "b = pd.read_csv('bvb44.csv')\n",
    "b.drop([0,1], axis=0, inplace=True)\n",
    "b.rename(columns = {'Unnamed: 0':'date', 'Unnamed: 1' :'location'}, inplace= True)\n",
    "b.sort_values(by='date', axis=0, ascending=True)\n",
    "b[['year','month','day']]= b['date'].str.split('-', expand=True)\n",
    "b.drop(['date','day'],axis=1, inplace=True)\n",
    "b['country']='Burundi'\n",
    "b.to_csv(r'C:\\Users\\ASUS\\Desktop\\WHK\\practici\\ACLED_LOC\\Burundi.csv')"
   ]
  },
  {
   "cell_type": "code",
   "execution_count": 81,
   "metadata": {},
   "outputs": [],
   "source": [
    "s = dfd[dfd['country']=='Cameroon']\n",
    "r=s.groupby(['event_date', 'location']).agg({'fatalities':['sum']})\n",
    "r.to_csv(r'C:\\Users\\ASUS\\Desktop\\WHK\\practici\\bv22b.csv')\n",
    "b = pd.read_csv('bv22b.csv')\n",
    "b.drop([0,1], axis=0, inplace=True)\n",
    "b.rename(columns = {'Unnamed: 0':'date', 'Unnamed: 1' :'location'}, inplace= True)\n",
    "b.sort_values(by='date', axis=0, ascending=True)\n",
    "b[['year','month','day']]= b['date'].str.split('-', expand=True)\n",
    "b.drop(['date','day'],axis=1, inplace=True)\n",
    "b['country']='Cameroon'\n",
    "b.to_csv(r'C:\\Users\\ASUS\\Desktop\\WHK\\practici\\ACLED_LOC\\Cameroon.csv')"
   ]
  },
  {
   "cell_type": "code",
   "execution_count": 82,
   "metadata": {},
   "outputs": [],
   "source": [
    "s = dfd[dfd['country']=='Cape Verde']\n",
    "r=s.groupby(['event_date', 'location']).agg({'fatalities':['sum']})\n",
    "r.to_csv(r'C:\\Users\\ASUS\\Desktop\\WHK\\practici\\bvbm.csv')\n",
    "b = pd.read_csv('bvbm.csv')\n",
    "b.drop([0,1], axis=0, inplace=True)\n",
    "b.rename(columns = {'Unnamed: 0':'date', 'Unnamed: 1' :'location'}, inplace= True)\n",
    "b.sort_values(by='date', axis=0, ascending=True)\n",
    "b[['year','month','day']]= b['date'].str.split('-', expand=True)\n",
    "b.drop(['date','day'],axis=1, inplace=True)\n",
    "b['country']='Cape_Verde'\n",
    "b.to_csv(r'C:\\Users\\ASUS\\Desktop\\WHK\\practici\\ACLED_LOC\\Cape Verde.csv')"
   ]
  },
  {
   "cell_type": "code",
   "execution_count": 83,
   "metadata": {},
   "outputs": [],
   "source": [
    "s = dfd[dfd['country']=='Central African Republic']\n",
    "r=s.groupby(['event_date', 'location']).agg({'fatalities':['sum']})\n",
    "r.to_csv(r'C:\\Users\\ASUS\\Desktop\\WHK\\practici\\bv121b.csv')\n",
    "b = pd.read_csv('bv121b.csv')\n",
    "b.drop([0,1], axis=0, inplace=True)\n",
    "b.rename(columns = {'Unnamed: 0':'date', 'Unnamed: 1' :'location'}, inplace= True)\n",
    "b.sort_values(by='date', axis=0, ascending=True)\n",
    "b[['year','month','day']]= b['date'].str.split('-', expand=True)\n",
    "b.drop(['date','day'],axis=1, inplace=True)\n",
    "b['country']='Central_African_Republic'\n",
    "b.to_csv(r'C:\\Users\\ASUS\\Desktop\\WHK\\practici\\ACLED_LOC\\Central_African_Republic.csv')"
   ]
  },
  {
   "cell_type": "code",
   "execution_count": 84,
   "metadata": {},
   "outputs": [],
   "source": [
    "s = dfd[dfd['country']=='Chad']\n",
    "r=s.groupby(['event_date', 'location']).agg({'fatalities':['sum']})\n",
    "r.to_csv(r'C:\\Users\\ASUS\\Desktop\\WHK\\practici\\bvb447.csv')\n",
    "b = pd.read_csv('bvb447.csv')\n",
    "b.drop([0,1], axis=0, inplace=True)\n",
    "b.rename(columns = {'Unnamed: 0':'date', 'Unnamed: 1' :'location'}, inplace= True)\n",
    "b.sort_values(by='date', axis=0, ascending=True)\n",
    "b[['year','month','day']]= b['date'].str.split('-', expand=True)\n",
    "b.drop(['date','day'],axis=1, inplace=True)\n",
    "b['country']='Chad'\n",
    "b.to_csv(r'C:\\Users\\ASUS\\Desktop\\WHK\\practici\\ACLED_LOC\\Chad.csv')"
   ]
  },
  {
   "cell_type": "code",
   "execution_count": 85,
   "metadata": {},
   "outputs": [],
   "source": [
    "s = dfd[dfd['country']=='Comoros']\n",
    "r=s.groupby(['event_date', 'location']).agg({'fatalities':['sum']})\n",
    "r.to_csv(r'C:\\Users\\ASUS\\Desktop\\WHK\\practici\\bvnb.csv')\n",
    "b = pd.read_csv('bvnb.csv')\n",
    "b.drop([0,1], axis=0, inplace=True)\n",
    "b.rename(columns = {'Unnamed: 0':'date', 'Unnamed: 1' :'location'}, inplace= True)\n",
    "b.sort_values(by='date', axis=0, ascending=True)\n",
    "b[['year','month','day']]= b['date'].str.split('-', expand=True)\n",
    "b.drop(['date','day'],axis=1, inplace=True)\n",
    "b['country']='Comoros'\n",
    "b.to_csv(r'C:\\Users\\ASUS\\Desktop\\WHK\\practici\\ACLED_LOC\\Comoros.csv')"
   ]
  },
  {
   "cell_type": "code",
   "execution_count": 86,
   "metadata": {},
   "outputs": [],
   "source": [
    "s = dfd[dfd['country']=='Democratic Republic of Congo']\n",
    "r=s.groupby(['event_date', 'location']).agg({'fatalities':['sum']})\n",
    "r.to_csv(r'C:\\Users\\ASUS\\Desktop\\WHK\\practici\\bvb.csv')\n",
    "b = pd.read_csv('bvb.csv')\n",
    "b.drop([0,1], axis=0, inplace=True)\n",
    "b.rename(columns = {'Unnamed: 0':'date', 'Unnamed: 1' :'location'}, inplace= True)\n",
    "b.sort_values(by='date', axis=0, ascending=True)\n",
    "b[['year','month','day']]= b['date'].str.split('-', expand=True)\n",
    "b.drop(['date','day'],axis=1, inplace=True)\n",
    "b['country']='Democratic Republic of Congo'\n",
    "b.to_csv(r'C:\\Users\\ASUS\\Desktop\\WHK\\practici\\ACLED_LOC\\Democratic Republic of Congo.csv')"
   ]
  },
  {
   "cell_type": "code",
   "execution_count": 87,
   "metadata": {},
   "outputs": [],
   "source": [
    "s = dfd[dfd['country']=='Djibouti']\n",
    "r=s.groupby(['event_date', 'location']).agg({'fatalities':['sum']})\n",
    "r.to_csv(r'C:\\Users\\ASUS\\Desktop\\WHK\\practici\\bssvb.csv')\n",
    "b = pd.read_csv('bssvb.csv')\n",
    "b.drop([0,1], axis=0, inplace=True)\n",
    "b.rename(columns = {'Unnamed: 0':'date', 'Unnamed: 1' :'location'}, inplace= True)\n",
    "b.sort_values(by='date', axis=0, ascending=True)\n",
    "b[['year','month','day']]= b['date'].str.split('-', expand=True)\n",
    "b.drop(['date','day'],axis=1, inplace=True)\n",
    "b['country']='Djibouti'\n",
    "b.to_csv(r'C:\\Users\\ASUS\\Desktop\\WHK\\practici\\ACLED_LOC\\Djibouti.csv')"
   ]
  },
  {
   "cell_type": "code",
   "execution_count": 88,
   "metadata": {},
   "outputs": [],
   "source": [
    "s = dfd[dfd['country']=='Egypt']\n",
    "r=s.groupby(['event_date', 'location']).agg({'fatalities':['sum']})\n",
    "r.to_csv(r'C:\\Users\\ASUS\\Desktop\\WHK\\practici\\bb.csv')\n",
    "b = pd.read_csv('bb.csv')\n",
    "b.drop([0,1], axis=0, inplace=True)\n",
    "b.rename(columns = {'Unnamed: 0':'date', 'Unnamed: 1' :'location'}, inplace= True)\n",
    "b.sort_values(by='date', axis=0, ascending=True)\n",
    "b[['year','month','day']]= b['date'].str.split('-', expand=True)\n",
    "b.drop(['date','day'],axis=1, inplace=True)\n",
    "b['country']='Egypt'\n",
    "b.to_csv(r'C:\\Users\\ASUS\\Desktop\\WHK\\practici\\ACLED_LOC\\Egypt.csv')"
   ]
  },
  {
   "cell_type": "code",
   "execution_count": 89,
   "metadata": {},
   "outputs": [],
   "source": [
    "s = dfd[dfd['country']=='Equatorial Guinea']\n",
    "r=s.groupby(['event_date', 'location']).agg({'fatalities':['sum']})\n",
    "r.to_csv(r'C:\\Users\\ASUS\\Desktop\\WHK\\practici\\bvv.csv')\n",
    "b = pd.read_csv('bvv.csv')\n",
    "b.drop([0,1], axis=0, inplace=True)\n",
    "b.rename(columns = {'Unnamed: 0':'date', 'Unnamed: 1' :'location'}, inplace= True)\n",
    "b.sort_values(by='date', axis=0, ascending=True)\n",
    "b[['year','month','day']]= b['date'].str.split('-', expand=True)\n",
    "b.drop(['date','day'],axis=1, inplace=True)\n",
    "b['country']='Equatorial Guinea'\n",
    "b.to_csv(r'C:\\Users\\ASUS\\Desktop\\WHK\\practici\\ACLED_LOC\\Equatorial Guinea.csv')"
   ]
  },
  {
   "cell_type": "code",
   "execution_count": 90,
   "metadata": {},
   "outputs": [],
   "source": [
    "s = dfd[dfd['country']=='Eritrea']\n",
    "r=s.groupby(['event_date', 'location']).agg({'fatalities':['sum']})\n",
    "r.to_csv(r'C:\\Users\\ASUS\\Desktop\\WHK\\practici\\vvb.csv')\n",
    "b = pd.read_csv('vvb.csv')\n",
    "b.drop([0,1], axis=0, inplace=True)\n",
    "b.rename(columns = {'Unnamed: 0':'date', 'Unnamed: 1' :'location'}, inplace= True)\n",
    "b.sort_values(by='date', axis=0, ascending=True)\n",
    "b[['year','month','day']]= b['date'].str.split('-', expand=True)\n",
    "b.drop(['date','day'],axis=1, inplace=True)\n",
    "b['country']='Eritrea'\n",
    "b.to_csv(r'C:\\Users\\ASUS\\Desktop\\WHK\\practici\\ACLED_LOC\\Eritrea.csv')"
   ]
  },
  {
   "cell_type": "code",
   "execution_count": 91,
   "metadata": {},
   "outputs": [],
   "source": [
    "s = dfd[dfd['country']=='Ethiopia']\n",
    "r=s.groupby(['event_date', 'location']).agg({'fatalities':['sum']})\n",
    "r.to_csv(r'C:\\Users\\ASUS\\Desktop\\WHK\\practici\\bpb.csv')\n",
    "b = pd.read_csv('bpb.csv')\n",
    "b.drop([0,1], axis=0, inplace=True)\n",
    "b.rename(columns = {'Unnamed: 0':'date', 'Unnamed: 1' :'location'}, inplace= True)\n",
    "b.sort_values(by='date', axis=0, ascending=True)\n",
    "b[['year','month','day']]= b['date'].str.split('-', expand=True)\n",
    "b.drop(['date','day'],axis=1, inplace=True)\n",
    "b['country']='Ethiopia'\n",
    "b.to_csv(r'C:\\Users\\ASUS\\Desktop\\WHK\\practici\\ACLED_LOC\\Ethiopia.csv')"
   ]
  },
  {
   "cell_type": "code",
   "execution_count": 93,
   "metadata": {},
   "outputs": [],
   "source": [
    "s = dfd[dfd['country']=='Gambia']\n",
    "r=s.groupby(['event_date', 'location']).agg({'fatalities':['sum']})\n",
    "r.to_csv(r'C:\\Users\\ASUS\\Desktop\\WHK\\practici\\ppp.csv')\n",
    "b = pd.read_csv('ppp.csv')\n",
    "b.drop([0,1], axis=0, inplace=True)\n",
    "b.rename(columns = {'Unnamed: 0':'date', 'Unnamed: 1' :'location'}, inplace= True)\n",
    "b.sort_values(by='date', axis=0, ascending=True)\n",
    "b[['year','month','day']]= b['date'].str.split('-', expand=True)\n",
    "b.drop(['date','day'],axis=1, inplace=True)\n",
    "b['country']='Gambia'\n",
    "b.to_csv(r'C:\\Users\\ASUS\\Desktop\\WHK\\practici\\ACLED_LOC\\Gambia.csv')"
   ]
  },
  {
   "cell_type": "code",
   "execution_count": 94,
   "metadata": {},
   "outputs": [],
   "source": [
    "s = dfd[dfd['country']=='Ghana']\n",
    "r=s.groupby(['event_date', 'location']).agg({'fatalities':['sum']})\n",
    "r.to_csv(r'C:\\Users\\ASUS\\Desktop\\WHK\\practici\\bc.csv')\n",
    "b = pd.read_csv('bc.csv')\n",
    "b.drop([0,1], axis=0, inplace=True)\n",
    "b.rename(columns = {'Unnamed: 0':'date', 'Unnamed: 1' :'location'}, inplace= True)\n",
    "b.sort_values(by='date', axis=0, ascending=True)\n",
    "b[['year','month','day']]= b['date'].str.split('-', expand=True)\n",
    "b.drop(['date','day'],axis=1, inplace=True)\n",
    "b['country']='Ghana'\n",
    "b.to_csv(r'C:\\Users\\ASUS\\Desktop\\WHK\\practici\\ACLED_LOC\\Ghana.csv')"
   ]
  },
  {
   "cell_type": "code",
   "execution_count": 95,
   "metadata": {},
   "outputs": [],
   "source": [
    "s = dfd[dfd['country']=='Guinea']\n",
    "r=s.groupby(['event_date', 'location']).agg({'fatalities':['sum']})\n",
    "r.to_csv(r'C:\\Users\\ASUS\\Desktop\\WHK\\practici\\v.csv')\n",
    "b = pd.read_csv('v.csv')\n",
    "b.drop([0,1], axis=0, inplace=True)\n",
    "b.rename(columns = {'Unnamed: 0':'date', 'Unnamed: 1' :'location'}, inplace= True)\n",
    "b.sort_values(by='date', axis=0, ascending=True)\n",
    "b[['year','month','day']]= b['date'].str.split('-', expand=True)\n",
    "b.drop(['date','day'],axis=1, inplace=True)\n",
    "b['country']='Guinea'\n",
    "b.to_csv(r'C:\\Users\\ASUS\\Desktop\\WHK\\practici\\ACLED_LOC\\Guinea.csv')"
   ]
  },
  {
   "cell_type": "code",
   "execution_count": 96,
   "metadata": {},
   "outputs": [],
   "source": [
    "s = dfd[dfd['country']=='Guinea-Bissau']\n",
    "r=s.groupby(['event_date', 'location']).agg({'fatalities':['sum']})\n",
    "r.to_csv(r'C:\\Users\\ASUS\\Desktop\\WHK\\practici\\11.csv')\n",
    "b = pd.read_csv('11.csv')\n",
    "b.drop([0,1], axis=0, inplace=True)\n",
    "b.rename(columns = {'Unnamed: 0':'date', 'Unnamed: 1' :'location'}, inplace= True)\n",
    "b.sort_values(by='date', axis=0, ascending=True)\n",
    "b[['year','month','day']]= b['date'].str.split('-', expand=True)\n",
    "b.drop(['date','day'],axis=1, inplace=True)\n",
    "b['country']='Guinea-Bissau'\n",
    "b.to_csv(r'C:\\Users\\ASUS\\Desktop\\WHK\\practici\\ACLED_LOC\\Guinea-Bissau.csv')"
   ]
  },
  {
   "cell_type": "code",
   "execution_count": 97,
   "metadata": {},
   "outputs": [],
   "source": [
    "s = dfd[dfd['country']=='Ivory Coast']\n",
    "r=s.groupby(['event_date', 'location']).agg({'fatalities':['sum']})\n",
    "r.to_csv(r'C:\\Users\\ASUS\\Desktop\\WHK\\practici\\12.csv')\n",
    "b = pd.read_csv('12.csv')\n",
    "b.drop([0,1], axis=0, inplace=True)\n",
    "b.rename(columns = {'Unnamed: 0':'date', 'Unnamed: 1' :'location'}, inplace= True)\n",
    "b.sort_values(by='date', axis=0, ascending=True)\n",
    "b[['year','month','day']]= b['date'].str.split('-', expand=True)\n",
    "b.drop(['date','day'],axis=1, inplace=True)\n",
    "b['country']='Ivory Coast'\n",
    "b.to_csv(r'C:\\Users\\ASUS\\Desktop\\WHK\\practici\\ACLED_LOC\\Ivory Coast.csv')"
   ]
  },
  {
   "cell_type": "code",
   "execution_count": 98,
   "metadata": {},
   "outputs": [],
   "source": [
    "s = dfd[dfd['country']=='Kenya']\n",
    "r=s.groupby(['event_date', 'location']).agg({'fatalities':['sum']})\n",
    "r.to_csv(r'C:\\Users\\ASUS\\Desktop\\WHK\\practici\\13.csv')\n",
    "b = pd.read_csv('13.csv')\n",
    "b.drop([0,1], axis=0, inplace=True)\n",
    "b.rename(columns = {'Unnamed: 0':'date', 'Unnamed: 1' :'location'}, inplace= True)\n",
    "b.sort_values(by='date', axis=0, ascending=True)\n",
    "b[['year','month','day']]= b['date'].str.split('-', expand=True)\n",
    "b.drop(['date','day'],axis=1, inplace=True)\n",
    "b['country']='Kenya'\n",
    "b.to_csv(r'C:\\Users\\ASUS\\Desktop\\WHK\\practici\\ACLED_LOC\\Kenya.csv')"
   ]
  },
  {
   "cell_type": "code",
   "execution_count": 99,
   "metadata": {},
   "outputs": [],
   "source": [
    "s = dfd[dfd['country']=='Lesotho']\n",
    "r=s.groupby(['event_date', 'location']).agg({'fatalities':['sum']})\n",
    "r.to_csv(r'C:\\Users\\ASUS\\Desktop\\WHK\\practici\\21.csv')\n",
    "b = pd.read_csv('21.csv')\n",
    "b.drop([0,1], axis=0, inplace=True)\n",
    "b.rename(columns = {'Unnamed: 0':'date', 'Unnamed: 1' :'location'}, inplace= True)\n",
    "b.sort_values(by='date', axis=0, ascending=True)\n",
    "b[['year','month','day']]= b['date'].str.split('-', expand=True)\n",
    "b.drop(['date','day'],axis=1, inplace=True)\n",
    "b['country']='Lesotho'\n",
    "b.to_csv(r'C:\\Users\\ASUS\\Desktop\\WHK\\practici\\ACLED_LOC\\Lesotho.csv')"
   ]
  },
  {
   "cell_type": "code",
   "execution_count": 100,
   "metadata": {},
   "outputs": [],
   "source": [
    "s = dfd[dfd['country']=='Liberia']\n",
    "r=s.groupby(['event_date', 'location']).agg({'fatalities':['sum']})\n",
    "r.to_csv(r'C:\\Users\\ASUS\\Desktop\\WHK\\practici\\9.csv')\n",
    "b = pd.read_csv('9.csv')\n",
    "b.drop([0,1], axis=0, inplace=True)\n",
    "b.rename(columns = {'Unnamed: 0':'date', 'Unnamed: 1' :'location'}, inplace= True)\n",
    "b.sort_values(by='date', axis=0, ascending=True)\n",
    "b[['year','month','day']]= b['date'].str.split('-', expand=True)\n",
    "b.drop(['date','day'],axis=1, inplace=True)\n",
    "b['country']='Liberia'\n",
    "b.to_csv(r'C:\\Users\\ASUS\\Desktop\\WHK\\practici\\ACLED_LOC\\Liberia.csv')"
   ]
  },
  {
   "cell_type": "code",
   "execution_count": 101,
   "metadata": {},
   "outputs": [],
   "source": [
    "s = dfd[dfd['country']=='Libya']\n",
    "r=s.groupby(['event_date', 'location']).agg({'fatalities':['sum']})\n",
    "r.to_csv(r'C:\\Users\\ASUS\\Desktop\\WHK\\practici\\10.csv')\n",
    "b = pd.read_csv('10.csv')\n",
    "b.drop([0,1], axis=0, inplace=True)\n",
    "b.rename(columns = {'Unnamed: 0':'date', 'Unnamed: 1' :'location'}, inplace= True)\n",
    "b.sort_values(by='date', axis=0, ascending=True)\n",
    "b[['year','month','day']]= b['date'].str.split('-', expand=True)\n",
    "b.drop(['date','day'],axis=1, inplace=True)\n",
    "b['country']='Libya'\n",
    "b.to_csv(r'C:\\Users\\ASUS\\Desktop\\WHK\\practici\\ACLED_LOC\\Libya.csv')"
   ]
  },
  {
   "cell_type": "code",
   "execution_count": 102,
   "metadata": {},
   "outputs": [],
   "source": [
    "s = dfd[dfd['country']=='Madagascar']\n",
    "r=s.groupby(['event_date', 'location']).agg({'fatalities':['sum']})\n",
    "r.to_csv(r'C:\\Users\\ASUS\\Desktop\\WHK\\practici\\7.csv')\n",
    "b = pd.read_csv('7.csv')\n",
    "b.drop([0,1], axis=0, inplace=True)\n",
    "b.rename(columns = {'Unnamed: 0':'date', 'Unnamed: 1' :'location'}, inplace= True)\n",
    "b.sort_values(by='date', axis=0, ascending=True)\n",
    "b[['year','month','day']]= b['date'].str.split('-', expand=True)\n",
    "b.drop(['date','day'],axis=1, inplace=True)\n",
    "b['country']='Madagascar'\n",
    "b.to_csv(r'C:\\Users\\ASUS\\Desktop\\WHK\\practici\\ACLED_LOC\\Madagascar.csv')"
   ]
  },
  {
   "cell_type": "code",
   "execution_count": 103,
   "metadata": {},
   "outputs": [],
   "source": [
    "s = dfd[dfd['country']=='Malawi']\n",
    "r=s.groupby(['event_date', 'location']).agg({'fatalities':['sum']})\n",
    "r.to_csv(r'C:\\Users\\ASUS\\Desktop\\WHK\\practici\\mn.csv')\n",
    "b = pd.read_csv('mn.csv')\n",
    "b.drop([0,1], axis=0, inplace=True)\n",
    "b.rename(columns = {'Unnamed: 0':'date', 'Unnamed: 1' :'location'}, inplace= True)\n",
    "b.sort_values(by='date', axis=0, ascending=True)\n",
    "b[['year','month','day']]= b['date'].str.split('-', expand=True)\n",
    "b.drop(['date','day'],axis=1, inplace=True)\n",
    "b['country']='Malawi'\n",
    "b.to_csv(r'C:\\Users\\ASUS\\Desktop\\WHK\\practici\\ACLED_LOC\\Malawi.csv')"
   ]
  },
  {
   "cell_type": "code",
   "execution_count": 104,
   "metadata": {},
   "outputs": [],
   "source": [
    "s = dfd[dfd['country']=='Mali']\n",
    "r=s.groupby(['event_date', 'location']).agg({'fatalities':['sum']})\n",
    "r.to_csv(r'C:\\Users\\ASUS\\Desktop\\WHK\\practici\\123.csv')\n",
    "b = pd.read_csv('123.csv')\n",
    "b.drop([0,1], axis=0, inplace=True)\n",
    "b.rename(columns = {'Unnamed: 0':'date', 'Unnamed: 1' :'location'}, inplace= True)\n",
    "b.sort_values(by='date', axis=0, ascending=True)\n",
    "b[['year','month','day']]= b['date'].str.split('-', expand=True)\n",
    "b.drop(['date','day'],axis=1, inplace=True)\n",
    "b['country']='Mali'\n",
    "b.to_csv(r'C:\\Users\\ASUS\\Desktop\\WHK\\practici\\ACLED_LOC\\Mali.csv')"
   ]
  },
  {
   "cell_type": "code",
   "execution_count": 105,
   "metadata": {},
   "outputs": [],
   "source": [
    "s = dfd[dfd['country']=='Mauritania']\n",
    "r=s.groupby(['event_date', 'location']).agg({'fatalities':['sum']})\n",
    "r.to_csv(r'C:\\Users\\ASUS\\Desktop\\WHK\\practici\\asd.csv')\n",
    "b = pd.read_csv('asd.csv')\n",
    "b.drop([0,1], axis=0, inplace=True)\n",
    "b.rename(columns = {'Unnamed: 0':'date', 'Unnamed: 1' :'location'}, inplace= True)\n",
    "b.sort_values(by='date', axis=0, ascending=True)\n",
    "b[['year','month','day']]= b['date'].str.split('-', expand=True)\n",
    "b.drop(['date','day'],axis=1, inplace=True)\n",
    "b['country']='Mauritania'\n",
    "b.to_csv(r'C:\\Users\\ASUS\\Desktop\\WHK\\practici\\ACLED_LOC\\Mauritania.csv')"
   ]
  },
  {
   "cell_type": "code",
   "execution_count": 106,
   "metadata": {},
   "outputs": [],
   "source": [
    "s = dfd[dfd['country']=='Mauritius']\n",
    "r=s.groupby(['event_date', 'location']).agg({'fatalities':['sum']})\n",
    "r.to_csv(r'C:\\Users\\ASUS\\Desktop\\WHK\\practici\\nb.csv')\n",
    "b = pd.read_csv('nb.csv')\n",
    "b.drop([0,1], axis=0, inplace=True)\n",
    "b.rename(columns = {'Unnamed: 0':'date', 'Unnamed: 1' :'location'}, inplace= True)\n",
    "b.sort_values(by='date', axis=0, ascending=True)\n",
    "b[['year','month','day']]= b['date'].str.split('-', expand=True)\n",
    "b.drop(['date','day'],axis=1, inplace=True)\n",
    "b['country']='Mauritius'\n",
    "b.to_csv(r'C:\\Users\\ASUS\\Desktop\\WHK\\practici\\ACLED_LOC\\Mauritius.csv')"
   ]
  },
  {
   "cell_type": "code",
   "execution_count": 107,
   "metadata": {},
   "outputs": [],
   "source": [
    "s = dfd[dfd['country']=='Mayotte']\n",
    "r=s.groupby(['event_date', 'location']).agg({'fatalities':['sum']})\n",
    "r.to_csv(r'C:\\Users\\ASUS\\Desktop\\WHK\\practici\\po.csv')\n",
    "b = pd.read_csv('po.csv')\n",
    "b.drop([0,1], axis=0, inplace=True)\n",
    "b.rename(columns = {'Unnamed: 0':'date', 'Unnamed: 1' :'location'}, inplace= True)\n",
    "b.sort_values(by='date', axis=0, ascending=True)\n",
    "b[['year','month','day']]= b['date'].str.split('-', expand=True)\n",
    "b.drop(['date','day'],axis=1, inplace=True)\n",
    "b['country']='Mayotte'\n",
    "b.to_csv(r'C:\\Users\\ASUS\\Desktop\\WHK\\practici\\ACLED_LOC\\Mayotte.csv')"
   ]
  },
  {
   "cell_type": "code",
   "execution_count": 108,
   "metadata": {},
   "outputs": [],
   "source": [
    "s = dfd[dfd['country']=='Morocco']\n",
    "r=s.groupby(['event_date', 'location']).agg({'fatalities':['sum']})\n",
    "r.to_csv(r'C:\\Users\\ASUS\\Desktop\\WHK\\practici\\az.csv')\n",
    "b = pd.read_csv('az.csv')\n",
    "b.drop([0,1], axis=0, inplace=True)\n",
    "b.rename(columns = {'Unnamed: 0':'date', 'Unnamed: 1' :'location'}, inplace= True)\n",
    "b.sort_values(by='date', axis=0, ascending=True)\n",
    "b[['year','month','day']]= b['date'].str.split('-', expand=True)\n",
    "b.drop(['date','day'],axis=1, inplace=True)\n",
    "b['country']='Morocco'\n",
    "b.to_csv(r'C:\\Users\\ASUS\\Desktop\\WHK\\practici\\ACLED_LOC\\Morocco.csv')"
   ]
  },
  {
   "cell_type": "code",
   "execution_count": 111,
   "metadata": {},
   "outputs": [],
   "source": [
    "s = dfd[dfd['country']=='Niger']\n",
    "r=s.groupby(['event_date', 'location']).agg({'fatalities':['sum']})\n",
    "r.to_csv(r'C:\\Users\\ASUS\\Desktop\\WHK\\practici\\444.csv')\n",
    "b = pd.read_csv('444.csv')\n",
    "b.drop([0,1], axis=0, inplace=True)\n",
    "b.rename(columns = {'Unnamed: 0':'date', 'Unnamed: 1' :'location'}, inplace= True)\n",
    "b.sort_values(by='date', axis=0, ascending=True)\n",
    "b[['year','month','day']]= b['date'].str.split('-', expand=True)\n",
    "b.drop(['date','day'],axis=1, inplace=True)\n",
    "b['country']='Niger'\n",
    "b.to_csv(r'C:\\Users\\ASUS\\Desktop\\WHK\\practici\\ACLED_LOC\\Niger.csv')"
   ]
  },
  {
   "cell_type": "code",
   "execution_count": 110,
   "metadata": {},
   "outputs": [],
   "source": [
    "s = dfd[dfd['country']=='Namibia']\n",
    "r=s.groupby(['event_date', 'location']).agg({'fatalities':['sum']})\n",
    "r.to_csv(r'C:\\Users\\ASUS\\Desktop\\WHK\\practici\\qw.csv')\n",
    "b = pd.read_csv('qw.csv')\n",
    "b.drop([0,1], axis=0, inplace=True)\n",
    "b.rename(columns = {'Unnamed: 0':'date', 'Unnamed: 1' :'location'}, inplace= True)\n",
    "b.sort_values(by='date', axis=0, ascending=True)\n",
    "b[['year','month','day']]= b['date'].str.split('-', expand=True)\n",
    "b.drop(['date','day'],axis=1, inplace=True)\n",
    "b['country']='Namibia'\n",
    "b.to_csv(r'C:\\Users\\ASUS\\Desktop\\WHK\\practici\\ACLED_LOC\\Namibia.csv')"
   ]
  },
  {
   "cell_type": "code",
   "execution_count": 112,
   "metadata": {},
   "outputs": [],
   "source": [
    "s = dfd[dfd['country']=='Nigeria']\n",
    "r=s.groupby(['event_date', 'location']).agg({'fatalities':['sum']})\n",
    "r.to_csv(r'C:\\Users\\ASUS\\Desktop\\WHK\\practici\\qq.csv')\n",
    "b = pd.read_csv('qq.csv')\n",
    "b.drop([0,1], axis=0, inplace=True)\n",
    "b.rename(columns = {'Unnamed: 0':'date', 'Unnamed: 1' :'location'}, inplace= True)\n",
    "b.sort_values(by='date', axis=0, ascending=True)\n",
    "b[['year','month','day']]= b['date'].str.split('-', expand=True)\n",
    "b.drop(['date','day'],axis=1, inplace=True)\n",
    "b['country']='Nigeria'\n",
    "b.to_csv(r'C:\\Users\\ASUS\\Desktop\\WHK\\practici\\ACLED_LOC\\Nigeria.csv')"
   ]
  },
  {
   "cell_type": "code",
   "execution_count": 113,
   "metadata": {},
   "outputs": [],
   "source": [
    "s = dfd[dfd['country']=='Republic of Congo']\n",
    "r=s.groupby(['event_date', 'location']).agg({'fatalities':['sum']})\n",
    "r.to_csv(r'C:\\Users\\ASUS\\Desktop\\WHK\\practici\\vc.csv')\n",
    "b = pd.read_csv('vc.csv')\n",
    "b.drop([0,1], axis=0, inplace=True)\n",
    "b.rename(columns = {'Unnamed: 0':'date', 'Unnamed: 1' :'location'}, inplace= True)\n",
    "b.sort_values(by='date', axis=0, ascending=True)\n",
    "b[['year','month','day']]= b['date'].str.split('-', expand=True)\n",
    "b.drop(['date','day'],axis=1, inplace=True)\n",
    "b['country']='Republic_of_Congo'\n",
    "b.to_csv(r'C:\\Users\\ASUS\\Desktop\\WHK\\practici\\ACLED_LOC\\Republic of Congo.csv')"
   ]
  },
  {
   "cell_type": "code",
   "execution_count": 114,
   "metadata": {},
   "outputs": [],
   "source": [
    "s = dfd[dfd['country']=='Rwanda']\n",
    "r=s.groupby(['event_date', 'location']).agg({'fatalities':['sum']})\n",
    "r.to_csv(r'C:\\Users\\ASUS\\Desktop\\WHK\\practici\\vy.csv')\n",
    "b = pd.read_csv('vy.csv')\n",
    "b.drop([0,1], axis=0, inplace=True)\n",
    "b.rename(columns = {'Unnamed: 0':'date', 'Unnamed: 1' :'location'}, inplace= True)\n",
    "b.sort_values(by='date', axis=0, ascending=True)\n",
    "b[['year','month','day']]= b['date'].str.split('-', expand=True)\n",
    "b.drop(['date','day'],axis=1, inplace=True)\n",
    "b['country']='Rwanda'\n",
    "b.to_csv(r'C:\\Users\\ASUS\\Desktop\\WHK\\practici\\ACLED_LOC\\Rwanda.csv')"
   ]
  },
  {
   "cell_type": "code",
   "execution_count": 115,
   "metadata": {},
   "outputs": [],
   "source": [
    "s = dfd[dfd['country']=='Senegal']\n",
    "r=s.groupby(['event_date', 'location']).agg({'fatalities':['sum']})\n",
    "r.to_csv(r'C:\\Users\\ASUS\\Desktop\\WHK\\practici\\v7.csv')\n",
    "b = pd.read_csv('v7.csv')\n",
    "b.drop([0,1], axis=0, inplace=True)\n",
    "b.rename(columns = {'Unnamed: 0':'date', 'Unnamed: 1' :'location'}, inplace= True)\n",
    "b.sort_values(by='date', axis=0, ascending=True)\n",
    "b[['year','month','day']]= b['date'].str.split('-', expand=True)\n",
    "b.drop(['date','day'],axis=1, inplace=True)\n",
    "b['country']='Senegal'\n",
    "b.to_csv(r'C:\\Users\\ASUS\\Desktop\\WHK\\practici\\ACLED_LOC\\Senegal.csv')"
   ]
  },
  {
   "cell_type": "code",
   "execution_count": 116,
   "metadata": {},
   "outputs": [],
   "source": [
    "s = dfd[dfd['country']=='Sierra Leone']\n",
    "r=s.groupby(['event_date', 'location']).agg({'fatalities':['sum']})\n",
    "r.to_csv(r'C:\\Users\\ASUS\\Desktop\\WHK\\practici\\v8.csv')\n",
    "b = pd.read_csv('v8.csv')\n",
    "b.drop([0,1], axis=0, inplace=True)\n",
    "b.rename(columns = {'Unnamed: 0':'date', 'Unnamed: 1' :'location'}, inplace= True)\n",
    "b.sort_values(by='date', axis=0, ascending=True)\n",
    "b[['year','month','day']]= b['date'].str.split('-', expand=True)\n",
    "b.drop(['date','day'],axis=1, inplace=True)\n",
    "b['country']='Sierra_Leone'\n",
    "b.to_csv(r'C:\\Users\\ASUS\\Desktop\\WHK\\practici\\ACLED_LOC\\Sierra Leone.csv')"
   ]
  },
  {
   "cell_type": "code",
   "execution_count": 117,
   "metadata": {},
   "outputs": [],
   "source": [
    "s = dfd[dfd['country']=='Somalia']\n",
    "r=s.groupby(['event_date', 'location']).agg({'fatalities':['sum']})\n",
    "r.to_csv(r'C:\\Users\\ASUS\\Desktop\\WHK\\practici\\741.csv')\n",
    "b = pd.read_csv('741.csv')\n",
    "b.drop([0,1], axis=0, inplace=True)\n",
    "b.rename(columns = {'Unnamed: 0':'date', 'Unnamed: 1' :'location'}, inplace= True)\n",
    "b.sort_values(by='date', axis=0, ascending=True)\n",
    "b[['year','month','day']]= b['date'].str.split('-', expand=True)\n",
    "b.drop(['date','day'],axis=1, inplace=True)\n",
    "b['country']='Somalia'\n",
    "b.to_csv(r'C:\\Users\\ASUS\\Desktop\\WHK\\practici\\ACLED_LOC\\Somalia.csv')"
   ]
  },
  {
   "cell_type": "code",
   "execution_count": 118,
   "metadata": {},
   "outputs": [],
   "source": [
    "s = dfd[dfd['country']=='South Africa']\n",
    "r=s.groupby(['event_date', 'location']).agg({'fatalities':['sum']})\n",
    "r.to_csv(r'C:\\Users\\ASUS\\Desktop\\WHK\\practici\\v12.csv')\n",
    "b = pd.read_csv('v12.csv')\n",
    "b.drop([0,1], axis=0, inplace=True)\n",
    "b.rename(columns = {'Unnamed: 0':'date', 'Unnamed: 1' :'location'}, inplace= True)\n",
    "b.sort_values(by='date', axis=0, ascending=True)\n",
    "b[['year','month','day']]= b['date'].str.split('-', expand=True)\n",
    "b.drop(['date','day'],axis=1, inplace=True)\n",
    "b['country']='South_Africa'\n",
    "b.to_csv(r'C:\\Users\\ASUS\\Desktop\\WHK\\practici\\ACLED_LOC\\South Africa.csv')"
   ]
  },
  {
   "cell_type": "code",
   "execution_count": 119,
   "metadata": {},
   "outputs": [],
   "source": [
    "s = dfd[dfd['country']=='South Sudan']\n",
    "r=s.groupby(['event_date', 'location']).agg({'fatalities':['sum']})\n",
    "r.to_csv(r'C:\\Users\\ASUS\\Desktop\\WHK\\practici\\vc.csv')\n",
    "b = pd.read_csv('vc.csv')\n",
    "b.drop([0,1], axis=0, inplace=True)\n",
    "b.rename(columns = {'Unnamed: 0':'date', 'Unnamed: 1' :'location'}, inplace= True)\n",
    "b.sort_values(by='date', axis=0, ascending=True)\n",
    "b[['year','month','day']]= b['date'].str.split('-', expand=True)\n",
    "b.drop(['date','day'],axis=1, inplace=True)\n",
    "b['country']='South_Sudan'\n",
    "b.to_csv(r'C:\\Users\\ASUS\\Desktop\\WHK\\practici\\ACLED_LOC\\South_Sudan.csv')"
   ]
  },
  {
   "cell_type": "code",
   "execution_count": 120,
   "metadata": {},
   "outputs": [],
   "source": [
    "s = dfd[dfd['country']=='Sudan']\n",
    "r=s.groupby(['event_date', 'location']).agg({'fatalities':['sum']})\n",
    "r.to_csv(r'C:\\Users\\ASUS\\Desktop\\WHK\\practici\\899.csv')\n",
    "b = pd.read_csv('899.csv')\n",
    "b.drop([0,1], axis=0, inplace=True)\n",
    "b.rename(columns = {'Unnamed: 0':'date', 'Unnamed: 1' :'location'}, inplace= True)\n",
    "b.sort_values(by='date', axis=0, ascending=True)\n",
    "b[['year','month','day']]= b['date'].str.split('-', expand=True)\n",
    "b.drop(['date','day'],axis=1, inplace=True)\n",
    "b['country']='Sudan'\n",
    "b.to_csv(r'C:\\Users\\ASUS\\Desktop\\WHK\\practici\\ACLED_LOC\\Sudan.csv')"
   ]
  },
  {
   "cell_type": "code",
   "execution_count": 121,
   "metadata": {},
   "outputs": [],
   "source": [
    "s = dfd[dfd['country']=='Tanzania']\n",
    "r=s.groupby(['event_date', 'location']).agg({'fatalities':['sum']})\n",
    "r.to_csv(r'C:\\Users\\ASUS\\Desktop\\WHK\\practici\\30.csv')\n",
    "b = pd.read_csv('30.csv')\n",
    "b.drop([0,1], axis=0, inplace=True)\n",
    "b.rename(columns = {'Unnamed: 0':'date', 'Unnamed: 1' :'location'}, inplace= True)\n",
    "b.sort_values(by='date', axis=0, ascending=True)\n",
    "b[['year','month','day']]= b['date'].str.split('-', expand=True)\n",
    "b.drop(['date','day'],axis=1, inplace=True)\n",
    "b['country']='Tanzania'\n",
    "b.to_csv(r'C:\\Users\\ASUS\\Desktop\\WHK\\practici\\ACLED_LOC\\Tanzania.csv')"
   ]
  },
  {
   "cell_type": "code",
   "execution_count": 122,
   "metadata": {},
   "outputs": [],
   "source": [
    "s = dfd[dfd['country']=='Togo']\n",
    "r=s.groupby(['event_date', 'location']).agg({'fatalities':['sum']})\n",
    "r.to_csv(r'C:\\Users\\ASUS\\Desktop\\WHK\\practici\\df.csv')\n",
    "b = pd.read_csv('df.csv')\n",
    "b.drop([0,1], axis=0, inplace=True)\n",
    "b.rename(columns = {'Unnamed: 0':'date', 'Unnamed: 1' :'location'}, inplace= True)\n",
    "b.sort_values(by='date', axis=0, ascending=True)\n",
    "b[['year','month','day']]= b['date'].str.split('-', expand=True)\n",
    "b.drop(['date','day'],axis=1, inplace=True)\n",
    "b['country']='Togo'\n",
    "b.to_csv(r'C:\\Users\\ASUS\\Desktop\\WHK\\practici\\ACLED_LOC\\Togo.csv')"
   ]
  },
  {
   "cell_type": "code",
   "execution_count": 123,
   "metadata": {},
   "outputs": [],
   "source": [
    "s = dfd[dfd['country']=='Tunisia']\n",
    "r=s.groupby(['event_date', 'location']).agg({'fatalities':['sum']})\n",
    "r.to_csv(r'C:\\Users\\ASUS\\Desktop\\WHK\\practici\\xz.csv')\n",
    "b = pd.read_csv('xz.csv')\n",
    "b.drop([0,1], axis=0, inplace=True)\n",
    "b.rename(columns = {'Unnamed: 0':'date', 'Unnamed: 1' :'location'}, inplace= True)\n",
    "b.sort_values(by='date', axis=0, ascending=True)\n",
    "b[['year','month','day']]= b['date'].str.split('-', expand=True)\n",
    "b.drop(['date','day'],axis=1, inplace=True)\n",
    "b['country']='Tunisia'\n",
    "b.to_csv(r'C:\\Users\\ASUS\\Desktop\\WHK\\practici\\ACLED_LOC\\Tunisia.csv')"
   ]
  },
  {
   "cell_type": "code",
   "execution_count": 124,
   "metadata": {},
   "outputs": [],
   "source": [
    "s = dfd[dfd['country']=='Uganda']\n",
    "r=s.groupby(['event_date', 'location']).agg({'fatalities':['sum']})\n",
    "r.to_csv(r'C:\\Users\\ASUS\\Desktop\\WHK\\practici\\op.csv')\n",
    "b = pd.read_csv('op.csv')\n",
    "b.drop([0,1], axis=0, inplace=True)\n",
    "b.rename(columns = {'Unnamed: 0':'date', 'Unnamed: 1' :'location'}, inplace= True)\n",
    "b.sort_values(by='date', axis=0, ascending=True)\n",
    "b[['year','month','day']]= b['date'].str.split('-', expand=True)\n",
    "b.drop(['date','day'],axis=1, inplace=True)\n",
    "b['country']='Uganda'\n",
    "b.to_csv(r'C:\\Users\\ASUS\\Desktop\\WHK\\practici\\ACLED_LOC\\Uganda.csv')"
   ]
  },
  {
   "cell_type": "code",
   "execution_count": 125,
   "metadata": {},
   "outputs": [],
   "source": [
    "s = dfd[dfd['country']=='Zambia']\n",
    "r=s.groupby(['event_date', 'location']).agg({'fatalities':['sum']})\n",
    "r.to_csv(r'C:\\Users\\ASUS\\Desktop\\WHK\\practici\\02.csv')\n",
    "b = pd.read_csv('02.csv')\n",
    "b.drop([0,1], axis=0, inplace=True)\n",
    "b.rename(columns = {'Unnamed: 0':'date', 'Unnamed: 1' :'location'}, inplace= True)\n",
    "b.sort_values(by='date', axis=0, ascending=True)\n",
    "b[['year','month','day']]= b['date'].str.split('-', expand=True)\n",
    "b.drop(['date','day'],axis=1, inplace=True)\n",
    "b['country']='Zambia'\n",
    "b.to_csv(r'C:\\Users\\ASUS\\Desktop\\WHK\\practici\\ACLED_LOC\\Zambia.csv')"
   ]
  },
  {
   "cell_type": "code",
   "execution_count": 126,
   "metadata": {},
   "outputs": [],
   "source": [
    "s = dfd[dfd['country']=='Zimbabwe']\n",
    "r=s.groupby(['event_date', 'location']).agg({'fatalities':['sum']})\n",
    "r.to_csv(r'C:\\Users\\ASUS\\Desktop\\WHK\\practici\\007.csv')\n",
    "b = pd.read_csv('007.csv')\n",
    "b.drop([0,1], axis=0, inplace=True)\n",
    "b.rename(columns = {'Unnamed: 0':'date', 'Unnamed: 1' :'location'}, inplace= True)\n",
    "b.sort_values(by='date', axis=0, ascending=True)\n",
    "b[['year','month','day']]= b['date'].str.split('-', expand=True)\n",
    "b.drop(['date','day'],axis=1, inplace=True)\n",
    "b['country']='Zimbabwe'\n",
    "b.to_csv(r'C:\\Users\\ASUS\\Desktop\\WHK\\practici\\ACLED_LOC\\Zimbabwe.csv')"
   ]
  },
  {
   "cell_type": "code",
   "execution_count": 127,
   "metadata": {},
   "outputs": [],
   "source": [
    "s = dfd[dfd['country']=='eSwatini']\n",
    "r=s.groupby(['event_date', 'location']).agg({'fatalities':['sum']})\n",
    "r.to_csv(r'C:\\Users\\ASUS\\Desktop\\WHK\\practici\\za.csv')\n",
    "b = pd.read_csv('za.csv')\n",
    "b.drop([0,1], axis=0, inplace=True)\n",
    "b.rename(columns = {'Unnamed: 0':'date', 'Unnamed: 1' :'location'}, inplace= True)\n",
    "b.sort_values(by='date', axis=0, ascending=True)\n",
    "b[['year','month','day']]= b['date'].str.split('-', expand=True)\n",
    "b.drop(['date','day'],axis=1, inplace=True)\n",
    "b['country']='eSwatini'\n",
    "b.to_csv(r'C:\\Users\\ASUS\\Desktop\\WHK\\practici\\ACLED_LOC\\eSwatini.csv')"
   ]
  },
  {
   "cell_type": "code",
   "execution_count": null,
   "metadata": {},
   "outputs": [],
   "source": []
  },
  {
   "cell_type": "markdown",
   "metadata": {},
   "source": [
    "# Countries"
   ]
  },
  {
   "cell_type": "code",
   "execution_count": 123,
   "metadata": {},
   "outputs": [
    {
     "data": {
      "text/html": [
       "<div>\n",
       "<style scoped>\n",
       "    .dataframe tbody tr th:only-of-type {\n",
       "        vertical-align: middle;\n",
       "    }\n",
       "\n",
       "    .dataframe tbody tr th {\n",
       "        vertical-align: top;\n",
       "    }\n",
       "\n",
       "    .dataframe thead th {\n",
       "        text-align: right;\n",
       "    }\n",
       "</style>\n",
       "<table border=\"1\" class=\"dataframe\">\n",
       "  <thead>\n",
       "    <tr style=\"text-align: right;\">\n",
       "      <th></th>\n",
       "      <th>country</th>\n",
       "      <th>year</th>\n",
       "      <th>month</th>\n",
       "      <th>fatalities</th>\n",
       "    </tr>\n",
       "  </thead>\n",
       "  <tbody>\n",
       "    <tr>\n",
       "      <th>2</th>\n",
       "      <td>Algeria</td>\n",
       "      <td>2000</td>\n",
       "      <td>1</td>\n",
       "      <td>257</td>\n",
       "    </tr>\n",
       "    <tr>\n",
       "      <th>3</th>\n",
       "      <td>Algeria</td>\n",
       "      <td>2000</td>\n",
       "      <td>2</td>\n",
       "      <td>233</td>\n",
       "    </tr>\n",
       "    <tr>\n",
       "      <th>4</th>\n",
       "      <td>Algeria</td>\n",
       "      <td>2000</td>\n",
       "      <td>3</td>\n",
       "      <td>80</td>\n",
       "    </tr>\n",
       "    <tr>\n",
       "      <th>5</th>\n",
       "      <td>Algeria</td>\n",
       "      <td>2000</td>\n",
       "      <td>4</td>\n",
       "      <td>50</td>\n",
       "    </tr>\n",
       "    <tr>\n",
       "      <th>6</th>\n",
       "      <td>Algeria</td>\n",
       "      <td>2000</td>\n",
       "      <td>5</td>\n",
       "      <td>79</td>\n",
       "    </tr>\n",
       "    <tr>\n",
       "      <th>...</th>\n",
       "      <td>...</td>\n",
       "      <td>...</td>\n",
       "      <td>...</td>\n",
       "      <td>...</td>\n",
       "    </tr>\n",
       "    <tr>\n",
       "      <th>267</th>\n",
       "      <td>Algeria</td>\n",
       "      <td>2022</td>\n",
       "      <td>3</td>\n",
       "      <td>3</td>\n",
       "    </tr>\n",
       "    <tr>\n",
       "      <th>268</th>\n",
       "      <td>Algeria</td>\n",
       "      <td>2022</td>\n",
       "      <td>4</td>\n",
       "      <td>1</td>\n",
       "    </tr>\n",
       "    <tr>\n",
       "      <th>269</th>\n",
       "      <td>Algeria</td>\n",
       "      <td>2022</td>\n",
       "      <td>5</td>\n",
       "      <td>0</td>\n",
       "    </tr>\n",
       "    <tr>\n",
       "      <th>270</th>\n",
       "      <td>Algeria</td>\n",
       "      <td>2022</td>\n",
       "      <td>6</td>\n",
       "      <td>0</td>\n",
       "    </tr>\n",
       "    <tr>\n",
       "      <th>271</th>\n",
       "      <td>Algeria</td>\n",
       "      <td>2022</td>\n",
       "      <td>7</td>\n",
       "      <td>1</td>\n",
       "    </tr>\n",
       "  </tbody>\n",
       "</table>\n",
       "<p>270 rows × 4 columns</p>\n",
       "</div>"
      ],
      "text/plain": [
       "     country  year month fatalities\n",
       "2    Algeria  2000     1        257\n",
       "3    Algeria  2000     2        233\n",
       "4    Algeria  2000     3         80\n",
       "5    Algeria  2000     4         50\n",
       "6    Algeria  2000     5         79\n",
       "..       ...   ...   ...        ...\n",
       "267  Algeria  2022     3          3\n",
       "268  Algeria  2022     4          1\n",
       "269  Algeria  2022     5          0\n",
       "270  Algeria  2022     6          0\n",
       "271  Algeria  2022     7          1\n",
       "\n",
       "[270 rows x 4 columns]"
      ]
     },
     "execution_count": 123,
     "metadata": {},
     "output_type": "execute_result"
    }
   ],
   "source": [
    "s = dd[dd['country']=='Algeria']\n",
    "\n",
    "t=s.fatalities\n",
    "t = t.astype(float)\n",
    "\n",
    "s"
   ]
  },
  {
   "cell_type": "code",
   "execution_count": 86,
   "metadata": {},
   "outputs": [],
   "source": []
  },
  {
   "cell_type": "code",
   "execution_count": 151,
   "metadata": {},
   "outputs": [],
   "source": [
    "f = []\n",
    "f.append(t[2])\n",
    "f.append(t[3])\n",
    "for i in range(4,272):\n",
    "   \n",
    "    result= t[i] + t[i-1] + t[i-2]\n",
    "    f.append( result)\n",
    "\n"
   ]
  },
  {
   "cell_type": "code",
   "execution_count": 145,
   "metadata": {},
   "outputs": [],
   "source": [
    "az=[]\n",
    "az.append(t[0:13])\n",
    "\n",
    "for j in range(len(t)):\n",
    "    a=t[j+13:j:-1]\n",
    "    az.append(a)\n",
    "\n"
   ]
  },
  {
   "cell_type": "code",
   "execution_count": 188,
   "metadata": {},
   "outputs": [
    {
     "ename": "KeyError",
     "evalue": "2",
     "output_type": "error",
     "traceback": [
      "\u001b[1;31m---------------------------------------------------------------------------\u001b[0m",
      "\u001b[1;31mKeyError\u001b[0m                                  Traceback (most recent call last)",
      "File \u001b[1;32m~\\anaconda3\\envs\\plotlyenv\\lib\\site-packages\\pandas\\core\\indexes\\base.py:3621\u001b[0m, in \u001b[0;36mIndex.get_loc\u001b[1;34m(self, key, method, tolerance)\u001b[0m\n\u001b[0;32m   3620\u001b[0m \u001b[38;5;28;01mtry\u001b[39;00m:\n\u001b[1;32m-> 3621\u001b[0m     \u001b[38;5;28;01mreturn\u001b[39;00m \u001b[38;5;28;43mself\u001b[39;49m\u001b[38;5;241;43m.\u001b[39;49m\u001b[43m_engine\u001b[49m\u001b[38;5;241;43m.\u001b[39;49m\u001b[43mget_loc\u001b[49m\u001b[43m(\u001b[49m\u001b[43mcasted_key\u001b[49m\u001b[43m)\u001b[49m\n\u001b[0;32m   3622\u001b[0m \u001b[38;5;28;01mexcept\u001b[39;00m \u001b[38;5;167;01mKeyError\u001b[39;00m \u001b[38;5;28;01mas\u001b[39;00m err:\n",
      "File \u001b[1;32m~\\anaconda3\\envs\\plotlyenv\\lib\\site-packages\\pandas\\_libs\\index.pyx:136\u001b[0m, in \u001b[0;36mpandas._libs.index.IndexEngine.get_loc\u001b[1;34m()\u001b[0m\n",
      "File \u001b[1;32m~\\anaconda3\\envs\\plotlyenv\\lib\\site-packages\\pandas\\_libs\\index.pyx:163\u001b[0m, in \u001b[0;36mpandas._libs.index.IndexEngine.get_loc\u001b[1;34m()\u001b[0m\n",
      "File \u001b[1;32mpandas\\_libs\\hashtable_class_helper.pxi:2131\u001b[0m, in \u001b[0;36mpandas._libs.hashtable.Int64HashTable.get_item\u001b[1;34m()\u001b[0m\n",
      "File \u001b[1;32mpandas\\_libs\\hashtable_class_helper.pxi:2140\u001b[0m, in \u001b[0;36mpandas._libs.hashtable.Int64HashTable.get_item\u001b[1;34m()\u001b[0m\n",
      "\u001b[1;31mKeyError\u001b[0m: 2",
      "\nThe above exception was the direct cause of the following exception:\n",
      "\u001b[1;31mKeyError\u001b[0m                                  Traceback (most recent call last)",
      "Input \u001b[1;32mIn [188]\u001b[0m, in \u001b[0;36m<cell line: 2>\u001b[1;34m()\u001b[0m\n\u001b[0;32m      1\u001b[0m an\u001b[38;5;241m=\u001b[39m[]\n\u001b[0;32m      2\u001b[0m \u001b[38;5;28;01mfor\u001b[39;00m i \u001b[38;5;129;01min\u001b[39;00m \u001b[38;5;28mrange\u001b[39m(\u001b[38;5;241m2\u001b[39m,\u001b[38;5;241m14\u001b[39m):\n\u001b[1;32m----> 3\u001b[0m     an\u001b[38;5;241m.\u001b[39mappend(\u001b[43mt\u001b[49m\u001b[43m[\u001b[49m\u001b[43mi\u001b[49m\u001b[43m]\u001b[49m)\n\u001b[0;32m      6\u001b[0m \u001b[38;5;28;01mfor\u001b[39;00m x \u001b[38;5;129;01min\u001b[39;00m \u001b[38;5;28mrange\u001b[39m(\u001b[38;5;28mlen\u001b[39m(az)\u001b[38;5;241m-\u001b[39m\u001b[38;5;241m13\u001b[39m):\n\u001b[0;32m      7\u001b[0m     b\u001b[38;5;241m=\u001b[39m\u001b[38;5;28msum\u001b[39m(az[x])\n",
      "File \u001b[1;32m~\\anaconda3\\envs\\plotlyenv\\lib\\site-packages\\pandas\\core\\series.py:958\u001b[0m, in \u001b[0;36mSeries.__getitem__\u001b[1;34m(self, key)\u001b[0m\n\u001b[0;32m    955\u001b[0m     \u001b[38;5;28;01mreturn\u001b[39;00m \u001b[38;5;28mself\u001b[39m\u001b[38;5;241m.\u001b[39m_values[key]\n\u001b[0;32m    957\u001b[0m \u001b[38;5;28;01melif\u001b[39;00m key_is_scalar:\n\u001b[1;32m--> 958\u001b[0m     \u001b[38;5;28;01mreturn\u001b[39;00m \u001b[38;5;28;43mself\u001b[39;49m\u001b[38;5;241;43m.\u001b[39;49m\u001b[43m_get_value\u001b[49m\u001b[43m(\u001b[49m\u001b[43mkey\u001b[49m\u001b[43m)\u001b[49m\n\u001b[0;32m    960\u001b[0m \u001b[38;5;28;01mif\u001b[39;00m is_hashable(key):\n\u001b[0;32m    961\u001b[0m     \u001b[38;5;66;03m# Otherwise index.get_value will raise InvalidIndexError\u001b[39;00m\n\u001b[0;32m    962\u001b[0m     \u001b[38;5;28;01mtry\u001b[39;00m:\n\u001b[0;32m    963\u001b[0m         \u001b[38;5;66;03m# For labels that don't resolve as scalars like tuples and frozensets\u001b[39;00m\n",
      "File \u001b[1;32m~\\anaconda3\\envs\\plotlyenv\\lib\\site-packages\\pandas\\core\\series.py:1069\u001b[0m, in \u001b[0;36mSeries._get_value\u001b[1;34m(self, label, takeable)\u001b[0m\n\u001b[0;32m   1066\u001b[0m     \u001b[38;5;28;01mreturn\u001b[39;00m \u001b[38;5;28mself\u001b[39m\u001b[38;5;241m.\u001b[39m_values[label]\n\u001b[0;32m   1068\u001b[0m \u001b[38;5;66;03m# Similar to Index.get_value, but we do not fall back to positional\u001b[39;00m\n\u001b[1;32m-> 1069\u001b[0m loc \u001b[38;5;241m=\u001b[39m \u001b[38;5;28;43mself\u001b[39;49m\u001b[38;5;241;43m.\u001b[39;49m\u001b[43mindex\u001b[49m\u001b[38;5;241;43m.\u001b[39;49m\u001b[43mget_loc\u001b[49m\u001b[43m(\u001b[49m\u001b[43mlabel\u001b[49m\u001b[43m)\u001b[49m\n\u001b[0;32m   1070\u001b[0m \u001b[38;5;28;01mreturn\u001b[39;00m \u001b[38;5;28mself\u001b[39m\u001b[38;5;241m.\u001b[39mindex\u001b[38;5;241m.\u001b[39m_get_values_for_loc(\u001b[38;5;28mself\u001b[39m, loc, label)\n",
      "File \u001b[1;32m~\\anaconda3\\envs\\plotlyenv\\lib\\site-packages\\pandas\\core\\indexes\\base.py:3623\u001b[0m, in \u001b[0;36mIndex.get_loc\u001b[1;34m(self, key, method, tolerance)\u001b[0m\n\u001b[0;32m   3621\u001b[0m     \u001b[38;5;28;01mreturn\u001b[39;00m \u001b[38;5;28mself\u001b[39m\u001b[38;5;241m.\u001b[39m_engine\u001b[38;5;241m.\u001b[39mget_loc(casted_key)\n\u001b[0;32m   3622\u001b[0m \u001b[38;5;28;01mexcept\u001b[39;00m \u001b[38;5;167;01mKeyError\u001b[39;00m \u001b[38;5;28;01mas\u001b[39;00m err:\n\u001b[1;32m-> 3623\u001b[0m     \u001b[38;5;28;01mraise\u001b[39;00m \u001b[38;5;167;01mKeyError\u001b[39;00m(key) \u001b[38;5;28;01mfrom\u001b[39;00m \u001b[38;5;21;01merr\u001b[39;00m\n\u001b[0;32m   3624\u001b[0m \u001b[38;5;28;01mexcept\u001b[39;00m \u001b[38;5;167;01mTypeError\u001b[39;00m:\n\u001b[0;32m   3625\u001b[0m     \u001b[38;5;66;03m# If we have a listlike key, _check_indexing_error will raise\u001b[39;00m\n\u001b[0;32m   3626\u001b[0m     \u001b[38;5;66;03m#  InvalidIndexError. Otherwise we fall through and re-raise\u001b[39;00m\n\u001b[0;32m   3627\u001b[0m     \u001b[38;5;66;03m#  the TypeError.\u001b[39;00m\n\u001b[0;32m   3628\u001b[0m     \u001b[38;5;28mself\u001b[39m\u001b[38;5;241m.\u001b[39m_check_indexing_error(key)\n",
      "\u001b[1;31mKeyError\u001b[0m: 2"
     ]
    }
   ],
   "source": [
    "an=[]\n",
    "for i in range(2,14):\n",
    "    an.append(t[i])\n",
    "\n",
    "\n",
    "for x in range(len(az)-13):\n",
    "    b=sum(az[x])\n",
    "    an.append(b)\n"
   ]
  },
  {
   "cell_type": "code",
   "execution_count": 178,
   "metadata": {},
   "outputs": [
    {
     "name": "stderr",
     "output_type": "stream",
     "text": [
      "C:\\Users\\ASUS\\AppData\\Local\\Temp\\ipykernel_16188\\2889785030.py:1: SettingWithCopyWarning: \n",
      "A value is trying to be set on a copy of a slice from a DataFrame.\n",
      "Try using .loc[row_indexer,col_indexer] = value instead\n",
      "\n",
      "See the caveats in the documentation: https://pandas.pydata.org/pandas-docs/stable/user_guide/indexing.html#returning-a-view-versus-a-copy\n",
      "  s['y'] = an\n"
     ]
    }
   ],
   "source": [
    "s['y'] = an"
   ]
  },
  {
   "cell_type": "code",
   "execution_count": 180,
   "metadata": {},
   "outputs": [
    {
     "name": "stderr",
     "output_type": "stream",
     "text": [
      "C:\\Users\\ASUS\\AppData\\Local\\Temp\\ipykernel_16188\\3826548529.py:1: SettingWithCopyWarning: \n",
      "A value is trying to be set on a copy of a slice from a DataFrame.\n",
      "Try using .loc[row_indexer,col_indexer] = value instead\n",
      "\n",
      "See the caveats in the documentation: https://pandas.pydata.org/pandas-docs/stable/user_guide/indexing.html#returning-a-view-versus-a-copy\n",
      "  s['3M'] = f\n",
      "C:\\Users\\ASUS\\AppData\\Local\\Temp\\ipykernel_16188\\3826548529.py:2: SettingWithCopyWarning: \n",
      "A value is trying to be set on a copy of a slice from a DataFrame.\n",
      "Try using .loc[row_indexer,col_indexer] = value instead\n",
      "\n",
      "See the caveats in the documentation: https://pandas.pydata.org/pandas-docs/stable/user_guide/indexing.html#returning-a-view-versus-a-copy\n",
      "  s['y'] = an\n"
     ]
    }
   ],
   "source": [
    "s['3M'] = f\n",
    "s['y'] = an\n",
    "s.to_csv(r'C:\\Users\\ASUS\\Desktop\\WHK\\practici\\adm_0_ACLED\\Algeria')"
   ]
  },
  {
   "cell_type": "code",
   "execution_count": 181,
   "metadata": {},
   "outputs": [
    {
     "data": {
      "text/plain": [
       "272    766.0\n",
       "273    161.0\n",
       "274     38.0\n",
       "275    324.0\n",
       "276    425.0\n",
       "       ...  \n",
       "455      6.0\n",
       "456     18.0\n",
       "457      4.0\n",
       "458      4.0\n",
       "459      2.0\n",
       "Name: fatalities, Length: 188, dtype: float64"
      ]
     },
     "execution_count": 181,
     "metadata": {},
     "output_type": "execute_result"
    }
   ],
   "source": [
    "s = dd[dd['country']=='Angola']\n",
    "\n",
    "t=s.fatalities\n",
    "t = t.astype(float)\n",
    "t"
   ]
  },
  {
   "cell_type": "code",
   "execution_count": 182,
   "metadata": {},
   "outputs": [],
   "source": [
    "f = []\n",
    "f.append(t[272])\n",
    "f.append(t[273])\n",
    "for i in range(274,460):\n",
    "   \n",
    "    result= t[i] + t[i-1] + t[i-2]\n",
    "    f.append( result)\n"
   ]
  },
  {
   "cell_type": "code",
   "execution_count": 186,
   "metadata": {},
   "outputs": [],
   "source": [
    "az=[]\n",
    "\n",
    "for j in range(len(t)):\n",
    "    a=t.iloc[j+13:j:-1]\n",
    "    az.append(a)\n",
    "\n",
    "    \n",
    "an=[]\n",
    "for i in range(272,285):\n",
    "    an.append(t[i])\n",
    "    \n",
    "for x in range(len(az)-13):\n",
    "    b=sum(az[x])\n",
    "    an.append(b)"
   ]
  },
  {
   "cell_type": "code",
   "execution_count": 187,
   "metadata": {},
   "outputs": [
    {
     "name": "stderr",
     "output_type": "stream",
     "text": [
      "C:\\Users\\ASUS\\AppData\\Local\\Temp\\ipykernel_16188\\287725840.py:1: SettingWithCopyWarning: \n",
      "A value is trying to be set on a copy of a slice from a DataFrame.\n",
      "Try using .loc[row_indexer,col_indexer] = value instead\n",
      "\n",
      "See the caveats in the documentation: https://pandas.pydata.org/pandas-docs/stable/user_guide/indexing.html#returning-a-view-versus-a-copy\n",
      "  s['Y'] = an\n"
     ]
    }
   ],
   "source": [
    "s['Y'] = an"
   ]
  },
  {
   "cell_type": "code",
   "execution_count": 190,
   "metadata": {},
   "outputs": [
    {
     "name": "stderr",
     "output_type": "stream",
     "text": [
      "C:\\Users\\ASUS\\AppData\\Local\\Temp\\ipykernel_16188\\2162156044.py:1: SettingWithCopyWarning: \n",
      "A value is trying to be set on a copy of a slice from a DataFrame.\n",
      "Try using .loc[row_indexer,col_indexer] = value instead\n",
      "\n",
      "See the caveats in the documentation: https://pandas.pydata.org/pandas-docs/stable/user_guide/indexing.html#returning-a-view-versus-a-copy\n",
      "  s['3M'] = f\n"
     ]
    }
   ],
   "source": [
    "s['3M'] = f\n",
    "\n",
    "s.to_csv(r'C:\\Users\\ASUS\\Desktop\\WHK\\practici\\adm_0_ACLED\\Angola.csv')"
   ]
  },
  {
   "cell_type": "code",
   "execution_count": 191,
   "metadata": {},
   "outputs": [
    {
     "data": {
      "text/plain": [
       "460     1.0\n",
       "461     0.0\n",
       "462     4.0\n",
       "463     0.0\n",
       "464     0.0\n",
       "       ... \n",
       "570    14.0\n",
       "571     9.0\n",
       "572     9.0\n",
       "573    12.0\n",
       "574     4.0\n",
       "Name: fatalities, Length: 115, dtype: float64"
      ]
     },
     "execution_count": 191,
     "metadata": {},
     "output_type": "execute_result"
    }
   ],
   "source": [
    "s = dd[dd['country']=='Benin']\n",
    "\n",
    "t=s.fatalities\n",
    "t = t.astype(float)\n",
    "t"
   ]
  },
  {
   "cell_type": "code",
   "execution_count": 192,
   "metadata": {},
   "outputs": [],
   "source": [
    "f = []\n",
    "f.append(t[460])\n",
    "f.append(t[461])\n",
    "for i in range(462,575):\n",
    "   \n",
    "    result= t[i] + t[i-1] + t[i-2]\n",
    "    f.append( result)\n"
   ]
  },
  {
   "cell_type": "code",
   "execution_count": 197,
   "metadata": {},
   "outputs": [
    {
     "name": "stderr",
     "output_type": "stream",
     "text": [
      "C:\\Users\\ASUS\\AppData\\Local\\Temp\\ipykernel_16188\\2716077007.py:19: SettingWithCopyWarning: \n",
      "A value is trying to be set on a copy of a slice from a DataFrame.\n",
      "Try using .loc[row_indexer,col_indexer] = value instead\n",
      "\n",
      "See the caveats in the documentation: https://pandas.pydata.org/pandas-docs/stable/user_guide/indexing.html#returning-a-view-versus-a-copy\n",
      "  s['Y'] = an\n"
     ]
    }
   ],
   "source": [
    "az=[]\n",
    "for j in range(len(t)):\n",
    "    a=t.iloc[j+13:j:-1]\n",
    "    az.append(a)\n",
    "    \n",
    "    \n",
    "an=[]\n",
    "for i in range(460,473):\n",
    "    an.append(t[i])    \n",
    "    \n",
    "    \n",
    "\n",
    "for x in range(len(az)-13):\n",
    "    b=sum(az[x])\n",
    "    an.append(b)\n",
    "    \n",
    "    \n",
    "    \n",
    "s['Y'] = an"
   ]
  },
  {
   "cell_type": "code",
   "execution_count": 198,
   "metadata": {},
   "outputs": [
    {
     "name": "stderr",
     "output_type": "stream",
     "text": [
      "C:\\Users\\ASUS\\AppData\\Local\\Temp\\ipykernel_16188\\2910880863.py:1: SettingWithCopyWarning: \n",
      "A value is trying to be set on a copy of a slice from a DataFrame.\n",
      "Try using .loc[row_indexer,col_indexer] = value instead\n",
      "\n",
      "See the caveats in the documentation: https://pandas.pydata.org/pandas-docs/stable/user_guide/indexing.html#returning-a-view-versus-a-copy\n",
      "  s['3M'] = f\n"
     ]
    }
   ],
   "source": [
    "s['3M'] = f\n",
    "\n",
    "s.to_csv(r'C:\\Users\\ASUS\\Desktop\\WHK\\practici\\adm_0_ACLED\\Benin.csv')"
   ]
  },
  {
   "cell_type": "code",
   "execution_count": 200,
   "metadata": {},
   "outputs": [
    {
     "data": {
      "text/plain": [
       "575    0.0\n",
       "576    0.0\n",
       "577    0.0\n",
       "578    0.0\n",
       "579    0.0\n",
       "      ... \n",
       "632    1.0\n",
       "633    0.0\n",
       "634    2.0\n",
       "635    0.0\n",
       "636    0.0\n",
       "Name: fatalities, Length: 62, dtype: float64"
      ]
     },
     "execution_count": 200,
     "metadata": {},
     "output_type": "execute_result"
    }
   ],
   "source": [
    "s = dd[dd['country']=='Botswana']\n",
    "\n",
    "t=s.fatalities\n",
    "t = t.astype(float)\n",
    "t"
   ]
  },
  {
   "cell_type": "code",
   "execution_count": 201,
   "metadata": {},
   "outputs": [],
   "source": [
    "f = []\n",
    "f.append(t[575])\n",
    "f.append(t[576])\n",
    "for i in range(577,637):\n",
    "   \n",
    "    result= t[i] + t[i-1] + t[i-2]\n",
    "    f.append( result)\n"
   ]
  },
  {
   "cell_type": "code",
   "execution_count": 202,
   "metadata": {},
   "outputs": [],
   "source": [
    "az=[]\n",
    "for j in range(len(t)):\n",
    "    a=t.iloc[j+13:j:-1]\n",
    "    az.append(a)\n",
    "    \n",
    "    \n",
    "    \n",
    "    \n",
    "an=[]\n",
    "\n",
    "for i in range(575,588):\n",
    "    an.append(t[i])  \n",
    "\n",
    "for x in range(len(az)-13):\n",
    "    b=sum(az[x])\n",
    "    an.append(b)"
   ]
  },
  {
   "cell_type": "code",
   "execution_count": 204,
   "metadata": {},
   "outputs": [
    {
     "name": "stderr",
     "output_type": "stream",
     "text": [
      "C:\\Users\\ASUS\\AppData\\Local\\Temp\\ipykernel_16188\\595585971.py:1: SettingWithCopyWarning: \n",
      "A value is trying to be set on a copy of a slice from a DataFrame.\n",
      "Try using .loc[row_indexer,col_indexer] = value instead\n",
      "\n",
      "See the caveats in the documentation: https://pandas.pydata.org/pandas-docs/stable/user_guide/indexing.html#returning-a-view-versus-a-copy\n",
      "  s['3M'] = f\n",
      "C:\\Users\\ASUS\\AppData\\Local\\Temp\\ipykernel_16188\\595585971.py:2: SettingWithCopyWarning: \n",
      "A value is trying to be set on a copy of a slice from a DataFrame.\n",
      "Try using .loc[row_indexer,col_indexer] = value instead\n",
      "\n",
      "See the caveats in the documentation: https://pandas.pydata.org/pandas-docs/stable/user_guide/indexing.html#returning-a-view-versus-a-copy\n",
      "  s['Y'] = an\n"
     ]
    }
   ],
   "source": [
    "s['3M'] = f\n",
    "s['Y'] = an\n",
    "s.to_csv(r'C:\\Users\\ASUS\\Desktop\\WHK\\practici\\adm_0_ACLED\\Botswana.csv')"
   ]
  },
  {
   "cell_type": "code",
   "execution_count": 205,
   "metadata": {},
   "outputs": [
    {
     "data": {
      "text/plain": [
       "637      0.0\n",
       "638      0.0\n",
       "639      0.0\n",
       "640      0.0\n",
       "641      0.0\n",
       "       ...  \n",
       "798    347.0\n",
       "799    373.0\n",
       "800    441.0\n",
       "801    367.0\n",
       "802    164.0\n",
       "Name: fatalities, Length: 166, dtype: float64"
      ]
     },
     "execution_count": 205,
     "metadata": {},
     "output_type": "execute_result"
    }
   ],
   "source": [
    "s = dd[dd['country']=='Burkina Faso']\n",
    "\n",
    "t=s.fatalities\n",
    "t = t.astype(float)\n",
    "t"
   ]
  },
  {
   "cell_type": "code",
   "execution_count": 206,
   "metadata": {},
   "outputs": [],
   "source": [
    "f = []\n",
    "f.append(t[637])\n",
    "f.append(t[638])\n",
    "for i in range(639,803):\n",
    "   \n",
    "    result= t[i] + t[i-1] + t[i-2]\n",
    "    f.append( result)"
   ]
  },
  {
   "cell_type": "code",
   "execution_count": 207,
   "metadata": {},
   "outputs": [],
   "source": [
    "az=[]\n",
    "for j in range(len(t)):\n",
    "    a=t.iloc[j+13:j:-1]\n",
    "    az.append(a)\n",
    "    \n",
    "an=[]\n",
    "\n",
    "for i in range(637,650):\n",
    "    an.append(t[i])  \n",
    "    \n",
    "for x in range(len(az)-13):\n",
    "    b=sum(az[x])\n",
    "    an.append(b)"
   ]
  },
  {
   "cell_type": "code",
   "execution_count": 209,
   "metadata": {},
   "outputs": [
    {
     "name": "stderr",
     "output_type": "stream",
     "text": [
      "C:\\Users\\ASUS\\AppData\\Local\\Temp\\ipykernel_16188\\1919548105.py:1: SettingWithCopyWarning: \n",
      "A value is trying to be set on a copy of a slice from a DataFrame.\n",
      "Try using .loc[row_indexer,col_indexer] = value instead\n",
      "\n",
      "See the caveats in the documentation: https://pandas.pydata.org/pandas-docs/stable/user_guide/indexing.html#returning-a-view-versus-a-copy\n",
      "  s['3M'] = f\n",
      "C:\\Users\\ASUS\\AppData\\Local\\Temp\\ipykernel_16188\\1919548105.py:2: SettingWithCopyWarning: \n",
      "A value is trying to be set on a copy of a slice from a DataFrame.\n",
      "Try using .loc[row_indexer,col_indexer] = value instead\n",
      "\n",
      "See the caveats in the documentation: https://pandas.pydata.org/pandas-docs/stable/user_guide/indexing.html#returning-a-view-versus-a-copy\n",
      "  s['Y'] = an\n"
     ]
    }
   ],
   "source": [
    "s['3M'] = f\n",
    "s['Y'] = an\n",
    "s.to_csv(r'C:\\Users\\ASUS\\Desktop\\WHK\\practici\\adm_0_ACLED\\Burkina Faso.csv')"
   ]
  },
  {
   "cell_type": "code",
   "execution_count": 210,
   "metadata": {},
   "outputs": [
    {
     "data": {
      "text/plain": [
       "803      90.0\n",
       "804     318.0\n",
       "805      76.0\n",
       "806     199.0\n",
       "807     248.0\n",
       "        ...  \n",
       "1057     10.0\n",
       "1058     26.0\n",
       "1059     13.0\n",
       "1060     16.0\n",
       "1061      3.0\n",
       "Name: fatalities, Length: 259, dtype: float64"
      ]
     },
     "execution_count": 210,
     "metadata": {},
     "output_type": "execute_result"
    }
   ],
   "source": [
    "s = dd[dd['country']=='Burundi']\n",
    "\n",
    "t=s.fatalities\n",
    "t = t.astype(float)\n",
    "t"
   ]
  },
  {
   "cell_type": "code",
   "execution_count": 211,
   "metadata": {},
   "outputs": [],
   "source": [
    "f = []\n",
    "f.append(t[803])\n",
    "f.append(t[804])\n",
    "for i in range(805,1062):\n",
    "   \n",
    "    result= t[i] + t[i-1] + t[i-2]\n",
    "    f.append( result)"
   ]
  },
  {
   "cell_type": "code",
   "execution_count": 214,
   "metadata": {},
   "outputs": [],
   "source": [
    "az=[]\n",
    "for j in range(len(t)):\n",
    "    a=t.iloc[j+13:j:-1]\n",
    "    az.append(a)\n",
    "    \n",
    "an=[]\n",
    "for i in range(803,816):\n",
    "    an.append(t[i])  \n",
    "    \n",
    "for x in range(len(az)-13):\n",
    "    b=sum(az[x])\n",
    "    an.append(b)"
   ]
  },
  {
   "cell_type": "code",
   "execution_count": 216,
   "metadata": {},
   "outputs": [
    {
     "name": "stderr",
     "output_type": "stream",
     "text": [
      "C:\\Users\\ASUS\\AppData\\Local\\Temp\\ipykernel_16188\\301654007.py:1: SettingWithCopyWarning: \n",
      "A value is trying to be set on a copy of a slice from a DataFrame.\n",
      "Try using .loc[row_indexer,col_indexer] = value instead\n",
      "\n",
      "See the caveats in the documentation: https://pandas.pydata.org/pandas-docs/stable/user_guide/indexing.html#returning-a-view-versus-a-copy\n",
      "  s['3M'] = f\n",
      "C:\\Users\\ASUS\\AppData\\Local\\Temp\\ipykernel_16188\\301654007.py:2: SettingWithCopyWarning: \n",
      "A value is trying to be set on a copy of a slice from a DataFrame.\n",
      "Try using .loc[row_indexer,col_indexer] = value instead\n",
      "\n",
      "See the caveats in the documentation: https://pandas.pydata.org/pandas-docs/stable/user_guide/indexing.html#returning-a-view-versus-a-copy\n",
      "  s['Y'] = an\n"
     ]
    }
   ],
   "source": [
    "s['3M'] = f\n",
    "s['Y'] = an\n",
    "s.to_csv(r'C:\\Users\\ASUS\\Desktop\\WHK\\practici\\adm_0_ACLED\\Burundi.csv')"
   ]
  },
  {
   "cell_type": "code",
   "execution_count": 217,
   "metadata": {},
   "outputs": [
    {
     "data": {
      "text/plain": [
       "1062      0.0\n",
       "1063      1.0\n",
       "1064      0.0\n",
       "1065     15.0\n",
       "1066      0.0\n",
       "        ...  \n",
       "1245     65.0\n",
       "1246     81.0\n",
       "1247     92.0\n",
       "1248    168.0\n",
       "1249     25.0\n",
       "Name: fatalities, Length: 188, dtype: float64"
      ]
     },
     "execution_count": 217,
     "metadata": {},
     "output_type": "execute_result"
    }
   ],
   "source": [
    "s = dd[dd['country']=='Cameroon']\n",
    "\n",
    "t=s.fatalities\n",
    "t = t.astype(float)\n",
    "t"
   ]
  },
  {
   "cell_type": "code",
   "execution_count": 218,
   "metadata": {},
   "outputs": [],
   "source": [
    "f = []\n",
    "f.append(t[1062])\n",
    "f.append(t[1063])\n",
    "for i in range(1064,1250):\n",
    "   \n",
    "    result= t[i] + t[i-1] + t[i-2]\n",
    "    f.append( result)"
   ]
  },
  {
   "cell_type": "code",
   "execution_count": 219,
   "metadata": {},
   "outputs": [],
   "source": [
    "az=[]\n",
    "for j in range(len(t)):\n",
    "    a=t.iloc[j+13:j:-1]\n",
    "    az.append(a)\n",
    "    \n",
    "an=[]\n",
    "\n",
    "for i in range(1062,1075):\n",
    "    an.append(t[i])  \n",
    "    \n",
    "for x in range(len(az)-13):\n",
    "    b=sum(az[x])\n",
    "    an.append(b)"
   ]
  },
  {
   "cell_type": "code",
   "execution_count": 221,
   "metadata": {},
   "outputs": [
    {
     "name": "stderr",
     "output_type": "stream",
     "text": [
      "C:\\Users\\ASUS\\AppData\\Local\\Temp\\ipykernel_16188\\457405165.py:1: SettingWithCopyWarning: \n",
      "A value is trying to be set on a copy of a slice from a DataFrame.\n",
      "Try using .loc[row_indexer,col_indexer] = value instead\n",
      "\n",
      "See the caveats in the documentation: https://pandas.pydata.org/pandas-docs/stable/user_guide/indexing.html#returning-a-view-versus-a-copy\n",
      "  s['3M'] = f\n",
      "C:\\Users\\ASUS\\AppData\\Local\\Temp\\ipykernel_16188\\457405165.py:2: SettingWithCopyWarning: \n",
      "A value is trying to be set on a copy of a slice from a DataFrame.\n",
      "Try using .loc[row_indexer,col_indexer] = value instead\n",
      "\n",
      "See the caveats in the documentation: https://pandas.pydata.org/pandas-docs/stable/user_guide/indexing.html#returning-a-view-versus-a-copy\n",
      "  s['Y'] = an\n"
     ]
    }
   ],
   "source": [
    "s['3M'] = f\n",
    "s['Y'] = an\n",
    "s.to_csv(r'C:\\Users\\ASUS\\Desktop\\WHK\\practici\\adm_0_ACLED\\Cameroon.csv')"
   ]
  },
  {
   "cell_type": "code",
   "execution_count": 222,
   "metadata": {},
   "outputs": [
    {
     "data": {
      "text/plain": [
       "1278      0.0\n",
       "1279      1.0\n",
       "1280      0.0\n",
       "1281      1.0\n",
       "1282      0.0\n",
       "        ...  \n",
       "1526    119.0\n",
       "1527     89.0\n",
       "1528     87.0\n",
       "1529     60.0\n",
       "1530     13.0\n",
       "Name: fatalities, Length: 253, dtype: float64"
      ]
     },
     "execution_count": 222,
     "metadata": {},
     "output_type": "execute_result"
    }
   ],
   "source": [
    "s = dd[dd['country']=='Central African Republic']\n",
    "\n",
    "t=s.fatalities\n",
    "t = t.astype(float)\n",
    "t"
   ]
  },
  {
   "cell_type": "code",
   "execution_count": 223,
   "metadata": {},
   "outputs": [],
   "source": [
    "f = []\n",
    "f.append(t[1278])\n",
    "f.append(t[1279])\n",
    "for i in range(1280,1531):\n",
    "   \n",
    "    result= t[i] + t[i-1] + t[i-2]\n",
    "    f.append( result)"
   ]
  },
  {
   "cell_type": "code",
   "execution_count": 224,
   "metadata": {},
   "outputs": [],
   "source": [
    "az=[]\n",
    "for j in range(len(t)):\n",
    "    a=t.iloc[j+13:j:-1]\n",
    "    az.append(a)\n",
    "    \n",
    "an=[]\n",
    "for i in range(1278,1291):\n",
    "    an.append(t[i])  \n",
    "    \n",
    "\n",
    "for x in range(len(az)-13):\n",
    "    b=sum(az[x])\n",
    "    an.append(b)"
   ]
  },
  {
   "cell_type": "code",
   "execution_count": 226,
   "metadata": {},
   "outputs": [
    {
     "name": "stderr",
     "output_type": "stream",
     "text": [
      "C:\\Users\\ASUS\\AppData\\Local\\Temp\\ipykernel_16188\\812827711.py:1: SettingWithCopyWarning: \n",
      "A value is trying to be set on a copy of a slice from a DataFrame.\n",
      "Try using .loc[row_indexer,col_indexer] = value instead\n",
      "\n",
      "See the caveats in the documentation: https://pandas.pydata.org/pandas-docs/stable/user_guide/indexing.html#returning-a-view-versus-a-copy\n",
      "  s['3M'] = f\n",
      "C:\\Users\\ASUS\\AppData\\Local\\Temp\\ipykernel_16188\\812827711.py:2: SettingWithCopyWarning: \n",
      "A value is trying to be set on a copy of a slice from a DataFrame.\n",
      "Try using .loc[row_indexer,col_indexer] = value instead\n",
      "\n",
      "See the caveats in the documentation: https://pandas.pydata.org/pandas-docs/stable/user_guide/indexing.html#returning-a-view-versus-a-copy\n",
      "  s['Y'] = an\n"
     ]
    }
   ],
   "source": [
    "s['3M'] = f\n",
    "s['Y'] = an\n",
    "s.to_csv(r'C:\\Users\\ASUS\\Desktop\\WHK\\practici\\adm_0_ACLED\\Central_African_Republic.csv')"
   ]
  },
  {
   "cell_type": "code",
   "execution_count": 227,
   "metadata": {},
   "outputs": [
    {
     "data": {
      "text/plain": [
       "1531      0.0\n",
       "1532      3.0\n",
       "1533    197.0\n",
       "1534     25.0\n",
       "1535      0.0\n",
       "        ...  \n",
       "1730     37.0\n",
       "1731      3.0\n",
       "1732     18.0\n",
       "1733    310.0\n",
       "1734     32.0\n",
       "Name: fatalities, Length: 204, dtype: float64"
      ]
     },
     "execution_count": 227,
     "metadata": {},
     "output_type": "execute_result"
    }
   ],
   "source": [
    "s = dd[dd['country']=='Chad']\n",
    "\n",
    "t=s.fatalities\n",
    "t = t.astype(float)\n",
    "t"
   ]
  },
  {
   "cell_type": "code",
   "execution_count": 228,
   "metadata": {},
   "outputs": [],
   "source": [
    "f = []\n",
    "f.append(t[1531])\n",
    "f.append(t[1532])\n",
    "for i in range(1533,1735):\n",
    "   \n",
    "    result= t[i] + t[i-1] + t[i-2]\n",
    "    f.append( result)"
   ]
  },
  {
   "cell_type": "code",
   "execution_count": 229,
   "metadata": {},
   "outputs": [],
   "source": [
    "az=[]\n",
    "for j in range(len(t)):\n",
    "    a=t.iloc[j+13:j:-1]\n",
    "    az.append(a)\n",
    "    \n",
    "an=[]\n",
    "for i in range(1531,1544):\n",
    "    an.append(t[i])  \n",
    "\n",
    "for x in range(len(az)-13):\n",
    "    b=sum(az[x])\n",
    "    an.append(b)"
   ]
  },
  {
   "cell_type": "code",
   "execution_count": 231,
   "metadata": {},
   "outputs": [
    {
     "name": "stderr",
     "output_type": "stream",
     "text": [
      "C:\\Users\\ASUS\\AppData\\Local\\Temp\\ipykernel_16188\\3819270901.py:1: SettingWithCopyWarning: \n",
      "A value is trying to be set on a copy of a slice from a DataFrame.\n",
      "Try using .loc[row_indexer,col_indexer] = value instead\n",
      "\n",
      "See the caveats in the documentation: https://pandas.pydata.org/pandas-docs/stable/user_guide/indexing.html#returning-a-view-versus-a-copy\n",
      "  s['3M'] = f\n",
      "C:\\Users\\ASUS\\AppData\\Local\\Temp\\ipykernel_16188\\3819270901.py:2: SettingWithCopyWarning: \n",
      "A value is trying to be set on a copy of a slice from a DataFrame.\n",
      "Try using .loc[row_indexer,col_indexer] = value instead\n",
      "\n",
      "See the caveats in the documentation: https://pandas.pydata.org/pandas-docs/stable/user_guide/indexing.html#returning-a-view-versus-a-copy\n",
      "  s['Y'] = an\n"
     ]
    }
   ],
   "source": [
    "s['3M'] = f\n",
    "s['Y'] = an\n",
    "s.to_csv(r'C:\\Users\\ASUS\\Desktop\\WHK\\practici\\adm_0_ACLED\\Chad.csv')"
   ]
  },
  {
   "cell_type": "code",
   "execution_count": 232,
   "metadata": {},
   "outputs": [
    {
     "data": {
      "text/plain": [
       "1758    948.0\n",
       "1759     10.0\n",
       "1760    220.0\n",
       "1761    228.0\n",
       "1762      7.0\n",
       "        ...  \n",
       "2024    660.0\n",
       "2025    440.0\n",
       "2026    430.0\n",
       "2027    388.0\n",
       "2028     81.0\n",
       "Name: fatalities, Length: 271, dtype: float64"
      ]
     },
     "execution_count": 232,
     "metadata": {},
     "output_type": "execute_result"
    }
   ],
   "source": [
    "s = dd[dd['country']=='Democratic Republic of Congo']\n",
    "\n",
    "t=s.fatalities\n",
    "t = t.astype(float)\n",
    "t"
   ]
  },
  {
   "cell_type": "code",
   "execution_count": 233,
   "metadata": {},
   "outputs": [],
   "source": [
    "f = []\n",
    "f.append(t[1758])\n",
    "f.append(t[1759])\n",
    "for i in range(1760,2029):\n",
    "   \n",
    "    result= t[i] + t[i-1] + t[i-2]\n",
    "    f.append( result)"
   ]
  },
  {
   "cell_type": "code",
   "execution_count": 234,
   "metadata": {},
   "outputs": [],
   "source": [
    "az=[]\n",
    "for j in range(len(t)):\n",
    "    a=t.iloc[j+13:j:-1]\n",
    "    az.append(a)\n",
    "    \n",
    "an=[]\n",
    "for i in range(1758,1771):\n",
    "    an.append(t[i])  \n",
    "    \n",
    "for x in range(len(az)-13):\n",
    "    b=sum(az[x])\n",
    "    an.append(b)"
   ]
  },
  {
   "cell_type": "code",
   "execution_count": 236,
   "metadata": {},
   "outputs": [
    {
     "name": "stderr",
     "output_type": "stream",
     "text": [
      "C:\\Users\\ASUS\\AppData\\Local\\Temp\\ipykernel_16188\\1655605782.py:1: SettingWithCopyWarning: \n",
      "A value is trying to be set on a copy of a slice from a DataFrame.\n",
      "Try using .loc[row_indexer,col_indexer] = value instead\n",
      "\n",
      "See the caveats in the documentation: https://pandas.pydata.org/pandas-docs/stable/user_guide/indexing.html#returning-a-view-versus-a-copy\n",
      "  s['3M'] = f\n",
      "C:\\Users\\ASUS\\AppData\\Local\\Temp\\ipykernel_16188\\1655605782.py:2: SettingWithCopyWarning: \n",
      "A value is trying to be set on a copy of a slice from a DataFrame.\n",
      "Try using .loc[row_indexer,col_indexer] = value instead\n",
      "\n",
      "See the caveats in the documentation: https://pandas.pydata.org/pandas-docs/stable/user_guide/indexing.html#returning-a-view-versus-a-copy\n",
      "  s['Y'] = an\n"
     ]
    }
   ],
   "source": [
    "s['3M'] = f\n",
    "s['Y'] = an\n",
    "s.to_csv(r'C:\\Users\\ASUS\\Desktop\\WHK\\practici\\adm_0_ACLED\\Democratic_Republic_of_Congo.csv')"
   ]
  },
  {
   "cell_type": "code",
   "execution_count": 237,
   "metadata": {},
   "outputs": [
    {
     "data": {
      "text/plain": [
       "2029    0.0\n",
       "2030    0.0\n",
       "2031    0.0\n",
       "2032    2.0\n",
       "2033    0.0\n",
       "       ... \n",
       "2107    0.0\n",
       "2108    0.0\n",
       "2109    0.0\n",
       "2110    0.0\n",
       "2111    0.0\n",
       "Name: fatalities, Length: 83, dtype: float64"
      ]
     },
     "execution_count": 237,
     "metadata": {},
     "output_type": "execute_result"
    }
   ],
   "source": [
    "s = dd[dd['country']=='Djibouti']\n",
    "\n",
    "t=s.fatalities\n",
    "t = t.astype(float)\n",
    "t"
   ]
  },
  {
   "cell_type": "code",
   "execution_count": 238,
   "metadata": {},
   "outputs": [],
   "source": [
    "f = []\n",
    "f.append(t[2029])\n",
    "f.append(t[2030])\n",
    "for i in range(2031,2112):\n",
    "   \n",
    "    result= t[i] + t[i-1] + t[i-2]\n",
    "    f.append( result)"
   ]
  },
  {
   "cell_type": "code",
   "execution_count": 239,
   "metadata": {},
   "outputs": [],
   "source": [
    "az=[]\n",
    "for j in range(len(t)):\n",
    "    a=t.iloc[j+13:j:-1]\n",
    "    az.append(a)\n",
    "    \n",
    "an=[]\n",
    "for i in range(2029,2042):\n",
    "    an.append(t[i])  \n",
    "    \n",
    "for x in range(len(az)-13):\n",
    "    b=sum(az[x])\n",
    "    an.append(b)"
   ]
  },
  {
   "cell_type": "code",
   "execution_count": 241,
   "metadata": {},
   "outputs": [
    {
     "name": "stderr",
     "output_type": "stream",
     "text": [
      "C:\\Users\\ASUS\\AppData\\Local\\Temp\\ipykernel_16188\\3598913580.py:1: SettingWithCopyWarning: \n",
      "A value is trying to be set on a copy of a slice from a DataFrame.\n",
      "Try using .loc[row_indexer,col_indexer] = value instead\n",
      "\n",
      "See the caveats in the documentation: https://pandas.pydata.org/pandas-docs/stable/user_guide/indexing.html#returning-a-view-versus-a-copy\n",
      "  s['3M'] = f\n",
      "C:\\Users\\ASUS\\AppData\\Local\\Temp\\ipykernel_16188\\3598913580.py:2: SettingWithCopyWarning: \n",
      "A value is trying to be set on a copy of a slice from a DataFrame.\n",
      "Try using .loc[row_indexer,col_indexer] = value instead\n",
      "\n",
      "See the caveats in the documentation: https://pandas.pydata.org/pandas-docs/stable/user_guide/indexing.html#returning-a-view-versus-a-copy\n",
      "  s['Y'] = an\n"
     ]
    }
   ],
   "source": [
    "s['3M'] = f\n",
    "s['Y'] = an\n",
    "s.to_csv(r'C:\\Users\\ASUS\\Desktop\\WHK\\practici\\adm_0_ACLED\\Djibouti.csv')"
   ]
  },
  {
   "cell_type": "code",
   "execution_count": 242,
   "metadata": {},
   "outputs": [
    {
     "data": {
      "text/plain": [
       "2112    29.0\n",
       "2113     0.0\n",
       "2114     0.0\n",
       "2115     0.0\n",
       "2116     0.0\n",
       "        ... \n",
       "2338    76.0\n",
       "2339    37.0\n",
       "2340    26.0\n",
       "2341    26.0\n",
       "2342     7.0\n",
       "Name: fatalities, Length: 231, dtype: float64"
      ]
     },
     "execution_count": 242,
     "metadata": {},
     "output_type": "execute_result"
    }
   ],
   "source": [
    "s = dd[dd['country']=='Egypt']\n",
    "\n",
    "t=s.fatalities\n",
    "t = t.astype(float)\n",
    "t"
   ]
  },
  {
   "cell_type": "code",
   "execution_count": 243,
   "metadata": {},
   "outputs": [],
   "source": [
    "f = []\n",
    "f.append(t[2112])\n",
    "f.append(t[2113])\n",
    "for i in range(2114,2343):\n",
    "   \n",
    "    result= t[i] + t[i-1] + t[i-2]\n",
    "    f.append( result)"
   ]
  },
  {
   "cell_type": "code",
   "execution_count": 244,
   "metadata": {},
   "outputs": [],
   "source": [
    "az=[]\n",
    "for j in range(len(t)):\n",
    "    a=t.iloc[j+13:j:-1]\n",
    "    az.append(a)\n",
    "    \n",
    "an=[]\n",
    "for i in range(2112,2125):\n",
    "    an.append(t[i])  \n",
    "\n",
    "for x in range(len(az)-13):\n",
    "    b=sum(az[x])\n",
    "    an.append(b)"
   ]
  },
  {
   "cell_type": "code",
   "execution_count": 246,
   "metadata": {},
   "outputs": [
    {
     "name": "stderr",
     "output_type": "stream",
     "text": [
      "C:\\Users\\ASUS\\AppData\\Local\\Temp\\ipykernel_16188\\3536255111.py:1: SettingWithCopyWarning: \n",
      "A value is trying to be set on a copy of a slice from a DataFrame.\n",
      "Try using .loc[row_indexer,col_indexer] = value instead\n",
      "\n",
      "See the caveats in the documentation: https://pandas.pydata.org/pandas-docs/stable/user_guide/indexing.html#returning-a-view-versus-a-copy\n",
      "  s['3M'] = f\n",
      "C:\\Users\\ASUS\\AppData\\Local\\Temp\\ipykernel_16188\\3536255111.py:2: SettingWithCopyWarning: \n",
      "A value is trying to be set on a copy of a slice from a DataFrame.\n",
      "Try using .loc[row_indexer,col_indexer] = value instead\n",
      "\n",
      "See the caveats in the documentation: https://pandas.pydata.org/pandas-docs/stable/user_guide/indexing.html#returning-a-view-versus-a-copy\n",
      "  s['Y'] = an\n"
     ]
    }
   ],
   "source": [
    "s['3M'] = f\n",
    "s['Y'] = an\n",
    "s.to_csv(r'C:\\Users\\ASUS\\Desktop\\WHK\\practici\\adm_0_ACLED\\Egypt.csv')"
   ]
  },
  {
   "cell_type": "code",
   "execution_count": 248,
   "metadata": {},
   "outputs": [],
   "source": [
    "s = dd[dd['country']=='Equatorial Guinea']\n",
    "\n",
    "t=s.fatalities\n",
    "t = t.astype(float)\n"
   ]
  },
  {
   "cell_type": "code",
   "execution_count": 250,
   "metadata": {},
   "outputs": [],
   "source": [
    "f = []\n",
    "f.append(t[2343])\n",
    "f.append(t[2344])\n",
    "for i in range(2345,2391):\n",
    "   \n",
    "    result= t[i] + t[i-1] + t[i-2]\n",
    "    f.append( result)"
   ]
  },
  {
   "cell_type": "code",
   "execution_count": 253,
   "metadata": {},
   "outputs": [],
   "source": [
    "az=[]\n",
    "for j in range(len(t)):\n",
    "    a=t.iloc[j+13:j:-1]\n",
    "    az.append(a)\n",
    "    \n",
    "an=[]\n",
    "for i in range(2343,2356):\n",
    "    an.append(t[i])  \n",
    "\n",
    "for x in range(len(az)-13):\n",
    "    b=sum(az[x])\n",
    "    an.append(b)"
   ]
  },
  {
   "cell_type": "code",
   "execution_count": 255,
   "metadata": {},
   "outputs": [
    {
     "name": "stderr",
     "output_type": "stream",
     "text": [
      "C:\\Users\\ASUS\\AppData\\Local\\Temp\\ipykernel_16188\\2821442222.py:1: SettingWithCopyWarning: \n",
      "A value is trying to be set on a copy of a slice from a DataFrame.\n",
      "Try using .loc[row_indexer,col_indexer] = value instead\n",
      "\n",
      "See the caveats in the documentation: https://pandas.pydata.org/pandas-docs/stable/user_guide/indexing.html#returning-a-view-versus-a-copy\n",
      "  s['3M'] = f\n",
      "C:\\Users\\ASUS\\AppData\\Local\\Temp\\ipykernel_16188\\2821442222.py:2: SettingWithCopyWarning: \n",
      "A value is trying to be set on a copy of a slice from a DataFrame.\n",
      "Try using .loc[row_indexer,col_indexer] = value instead\n",
      "\n",
      "See the caveats in the documentation: https://pandas.pydata.org/pandas-docs/stable/user_guide/indexing.html#returning-a-view-versus-a-copy\n",
      "  s['Y'] = an\n"
     ]
    }
   ],
   "source": [
    "s['3M'] = f\n",
    "s['Y'] = an\n",
    "s.to_csv(r'C:\\Users\\ASUS\\Desktop\\WHK\\practici\\adm_0_ACLED\\Equatorial_Guinea.csv')"
   ]
  },
  {
   "cell_type": "code",
   "execution_count": 256,
   "metadata": {},
   "outputs": [
    {
     "data": {
      "text/plain": [
       "2391     20.0\n",
       "2392    120.0\n",
       "2393      0.0\n",
       "2394     13.0\n",
       "2395     40.0\n",
       "        ...  \n",
       "2485      0.0\n",
       "2486      0.0\n",
       "2487      0.0\n",
       "2488      0.0\n",
       "2489      0.0\n",
       "Name: fatalities, Length: 99, dtype: float64"
      ]
     },
     "execution_count": 256,
     "metadata": {},
     "output_type": "execute_result"
    }
   ],
   "source": [
    "s = dd[dd['country']=='Eritrea']\n",
    "\n",
    "t=s.fatalities\n",
    "t = t.astype(float)\n",
    "t"
   ]
  },
  {
   "cell_type": "code",
   "execution_count": 257,
   "metadata": {},
   "outputs": [],
   "source": [
    "f = []\n",
    "f.append(t[2391])\n",
    "f.append(t[2392])\n",
    "for i in range(2393,2490):\n",
    "   \n",
    "    result= t[i] + t[i-1] + t[i-2]\n",
    "    f.append( result)"
   ]
  },
  {
   "cell_type": "code",
   "execution_count": 258,
   "metadata": {},
   "outputs": [],
   "source": [
    "az=[]\n",
    "for j in range(len(t)):\n",
    "    a=t.iloc[j+13:j:-1]\n",
    "    az.append(a)\n",
    "    \n",
    "an=[]\n",
    "for i in range(2391,2404):\n",
    "    an.append(t[i])  \n",
    "\n",
    "for x in range(len(az)-13):\n",
    "    b=sum(az[x])\n",
    "    an.append(b)"
   ]
  },
  {
   "cell_type": "code",
   "execution_count": 260,
   "metadata": {},
   "outputs": [
    {
     "name": "stderr",
     "output_type": "stream",
     "text": [
      "C:\\Users\\ASUS\\AppData\\Local\\Temp\\ipykernel_16188\\669634634.py:1: SettingWithCopyWarning: \n",
      "A value is trying to be set on a copy of a slice from a DataFrame.\n",
      "Try using .loc[row_indexer,col_indexer] = value instead\n",
      "\n",
      "See the caveats in the documentation: https://pandas.pydata.org/pandas-docs/stable/user_guide/indexing.html#returning-a-view-versus-a-copy\n",
      "  s['3M'] = f\n",
      "C:\\Users\\ASUS\\AppData\\Local\\Temp\\ipykernel_16188\\669634634.py:2: SettingWithCopyWarning: \n",
      "A value is trying to be set on a copy of a slice from a DataFrame.\n",
      "Try using .loc[row_indexer,col_indexer] = value instead\n",
      "\n",
      "See the caveats in the documentation: https://pandas.pydata.org/pandas-docs/stable/user_guide/indexing.html#returning-a-view-versus-a-copy\n",
      "  s['Y'] = an\n"
     ]
    }
   ],
   "source": [
    "s['3M'] = f\n",
    "s['Y'] = an\n",
    "s.to_csv(r'C:\\Users\\ASUS\\Desktop\\WHK\\practici\\adm_0_ACLED\\Eritrea.csv')"
   ]
  },
  {
   "cell_type": "code",
   "execution_count": 261,
   "metadata": {},
   "outputs": [
    {
     "data": {
      "text/plain": [
       "2490      5.0\n",
       "2491      1.0\n",
       "2492    212.0\n",
       "2493     25.0\n",
       "2494    357.0\n",
       "        ...  \n",
       "2744    347.0\n",
       "2745    402.0\n",
       "2746    456.0\n",
       "2747    993.0\n",
       "2748    176.0\n",
       "Name: fatalities, Length: 259, dtype: float64"
      ]
     },
     "execution_count": 261,
     "metadata": {},
     "output_type": "execute_result"
    }
   ],
   "source": [
    "s = dd[dd['country']=='Ethiopia']\n",
    "\n",
    "t=s.fatalities\n",
    "t = t.astype(float)\n",
    "t"
   ]
  },
  {
   "cell_type": "code",
   "execution_count": 262,
   "metadata": {},
   "outputs": [],
   "source": [
    "f = []\n",
    "f.append(t[2490])\n",
    "f.append(t[2491])\n",
    "for i in range(2492,2749):\n",
    "   \n",
    "    result= t[i] + t[i-1] + t[i-2]\n",
    "    f.append( result)"
   ]
  },
  {
   "cell_type": "code",
   "execution_count": 264,
   "metadata": {},
   "outputs": [],
   "source": [
    "az=[]\n",
    "for j in range(len(t)):\n",
    "    a=t.iloc[j+13:j:-1]\n",
    "    az.append(a)\n",
    "    \n",
    "an=[]\n",
    "for i in range(2490,2503):\n",
    "    an.append(t[i])  \n",
    "\n",
    "for x in range(len(az)-13):\n",
    "    b=sum(az[x])\n",
    "    an.append(b)"
   ]
  },
  {
   "cell_type": "code",
   "execution_count": 266,
   "metadata": {},
   "outputs": [
    {
     "name": "stderr",
     "output_type": "stream",
     "text": [
      "C:\\Users\\ASUS\\AppData\\Local\\Temp\\ipykernel_16188\\571433307.py:1: SettingWithCopyWarning: \n",
      "A value is trying to be set on a copy of a slice from a DataFrame.\n",
      "Try using .loc[row_indexer,col_indexer] = value instead\n",
      "\n",
      "See the caveats in the documentation: https://pandas.pydata.org/pandas-docs/stable/user_guide/indexing.html#returning-a-view-versus-a-copy\n",
      "  s['3M'] = f\n",
      "C:\\Users\\ASUS\\AppData\\Local\\Temp\\ipykernel_16188\\571433307.py:2: SettingWithCopyWarning: \n",
      "A value is trying to be set on a copy of a slice from a DataFrame.\n",
      "Try using .loc[row_indexer,col_indexer] = value instead\n",
      "\n",
      "See the caveats in the documentation: https://pandas.pydata.org/pandas-docs/stable/user_guide/indexing.html#returning-a-view-versus-a-copy\n",
      "  s['Y'] = an\n"
     ]
    }
   ],
   "source": [
    "s['3M'] = f\n",
    "s['Y'] = an\n",
    "s.to_csv(r'C:\\Users\\ASUS\\Desktop\\WHK\\practici\\adm_0_ACLED\\Ethiopia.csv')"
   ]
  },
  {
   "cell_type": "code",
   "execution_count": 267,
   "metadata": {},
   "outputs": [
    {
     "data": {
      "text/plain": [
       "2749    0.0\n",
       "2750    0.0\n",
       "2751    0.0\n",
       "2752    0.0\n",
       "2753    0.0\n",
       "       ... \n",
       "2859    0.0\n",
       "2860    0.0\n",
       "2861    0.0\n",
       "2862    0.0\n",
       "2863    0.0\n",
       "Name: fatalities, Length: 115, dtype: float64"
      ]
     },
     "execution_count": 267,
     "metadata": {},
     "output_type": "execute_result"
    }
   ],
   "source": [
    "s = dd[dd['country']=='Gabon']\n",
    "\n",
    "t=s.fatalities\n",
    "t = t.astype(float)\n",
    "t"
   ]
  },
  {
   "cell_type": "code",
   "execution_count": 268,
   "metadata": {},
   "outputs": [],
   "source": [
    "f = []\n",
    "f.append(t[2749])\n",
    "f.append(t[2750])\n",
    "for i in range(2751,2864):\n",
    "   \n",
    "    result= t[i] + t[i-1] + t[i-2]\n",
    "    f.append( result)"
   ]
  },
  {
   "cell_type": "code",
   "execution_count": 269,
   "metadata": {},
   "outputs": [],
   "source": [
    "az=[]\n",
    "for j in range(len(t)):\n",
    "    a=t.iloc[j+13:j:-1]\n",
    "    az.append(a)\n",
    "    \n",
    "an=[]\n",
    "for i in range(2749,2762):\n",
    "    an.append(t[i])  \n",
    "\n",
    "\n",
    "for x in range(len(az)-13):\n",
    "    b=sum(az[x])\n",
    "    an.append(b)"
   ]
  },
  {
   "cell_type": "code",
   "execution_count": 271,
   "metadata": {},
   "outputs": [
    {
     "name": "stderr",
     "output_type": "stream",
     "text": [
      "C:\\Users\\ASUS\\AppData\\Local\\Temp\\ipykernel_16188\\271150776.py:1: SettingWithCopyWarning: \n",
      "A value is trying to be set on a copy of a slice from a DataFrame.\n",
      "Try using .loc[row_indexer,col_indexer] = value instead\n",
      "\n",
      "See the caveats in the documentation: https://pandas.pydata.org/pandas-docs/stable/user_guide/indexing.html#returning-a-view-versus-a-copy\n",
      "  s['3M'] = f\n",
      "C:\\Users\\ASUS\\AppData\\Local\\Temp\\ipykernel_16188\\271150776.py:2: SettingWithCopyWarning: \n",
      "A value is trying to be set on a copy of a slice from a DataFrame.\n",
      "Try using .loc[row_indexer,col_indexer] = value instead\n",
      "\n",
      "See the caveats in the documentation: https://pandas.pydata.org/pandas-docs/stable/user_guide/indexing.html#returning-a-view-versus-a-copy\n",
      "  s['Y'] = an\n"
     ]
    }
   ],
   "source": [
    "s['3M'] = f\n",
    "s['Y'] = an\n",
    "s.to_csv(r'C:\\Users\\ASUS\\Desktop\\WHK\\practici\\adm_0_ACLED\\Gabon.csv')"
   ]
  },
  {
   "cell_type": "code",
   "execution_count": 272,
   "metadata": {},
   "outputs": [
    {
     "data": {
      "text/plain": [
       "2864     1.0\n",
       "2865     1.0\n",
       "2866    15.0\n",
       "2867     1.0\n",
       "2868     0.0\n",
       "        ... \n",
       "2985     0.0\n",
       "2986     0.0\n",
       "2987     3.0\n",
       "2988     0.0\n",
       "2989     0.0\n",
       "Name: fatalities, Length: 126, dtype: float64"
      ]
     },
     "execution_count": 272,
     "metadata": {},
     "output_type": "execute_result"
    }
   ],
   "source": [
    "s = dd[dd['country']=='Gambia']\n",
    "\n",
    "t=s.fatalities\n",
    "t = t.astype(float)\n",
    "t"
   ]
  },
  {
   "cell_type": "code",
   "execution_count": 273,
   "metadata": {},
   "outputs": [],
   "source": [
    "f = []\n",
    "f.append(t[2864])\n",
    "f.append(t[2865])\n",
    "for i in range(2866,2990):\n",
    "   \n",
    "    result= t[i] + t[i-1] + t[i-2]\n",
    "    f.append( result)"
   ]
  },
  {
   "cell_type": "code",
   "execution_count": 274,
   "metadata": {},
   "outputs": [],
   "source": [
    "az=[]\n",
    "for j in range(len(t)):\n",
    "    a=t.iloc[j+13:j:-1]\n",
    "    az.append(a)\n",
    "    \n",
    "an=[]\n",
    "for i in range(2864,2877):\n",
    "    an.append(t[i])  \n",
    "\n",
    "    \n",
    "for x in range(len(az)-13):\n",
    "    b=sum(az[x])\n",
    "    an.append(b)"
   ]
  },
  {
   "cell_type": "code",
   "execution_count": 281,
   "metadata": {},
   "outputs": [
    {
     "name": "stderr",
     "output_type": "stream",
     "text": [
      "C:\\Users\\ASUS\\AppData\\Local\\Temp\\ipykernel_16188\\2759016046.py:1: SettingWithCopyWarning: \n",
      "A value is trying to be set on a copy of a slice from a DataFrame.\n",
      "Try using .loc[row_indexer,col_indexer] = value instead\n",
      "\n",
      "See the caveats in the documentation: https://pandas.pydata.org/pandas-docs/stable/user_guide/indexing.html#returning-a-view-versus-a-copy\n",
      "  s['3M'] = f\n",
      "C:\\Users\\ASUS\\AppData\\Local\\Temp\\ipykernel_16188\\2759016046.py:2: SettingWithCopyWarning: \n",
      "A value is trying to be set on a copy of a slice from a DataFrame.\n",
      "Try using .loc[row_indexer,col_indexer] = value instead\n",
      "\n",
      "See the caveats in the documentation: https://pandas.pydata.org/pandas-docs/stable/user_guide/indexing.html#returning-a-view-versus-a-copy\n",
      "  s['Y'] = an\n"
     ]
    }
   ],
   "source": [
    "s['3M'] = f\n",
    "s['Y'] = an\n",
    "s.to_csv(r'C:\\Users\\ASUS\\Desktop\\WHK\\practici\\adm_0_ACLED\\Gambia.csv')"
   ]
  },
  {
   "cell_type": "code",
   "execution_count": 277,
   "metadata": {},
   "outputs": [
    {
     "data": {
      "text/plain": [
       "2990     1.0\n",
       "2991     0.0\n",
       "2992     0.0\n",
       "2993     1.0\n",
       "2994    32.0\n",
       "        ... \n",
       "3167     6.0\n",
       "3168    16.0\n",
       "3169    10.0\n",
       "3170     4.0\n",
       "3171     1.0\n",
       "Name: fatalities, Length: 182, dtype: float64"
      ]
     },
     "execution_count": 277,
     "metadata": {},
     "output_type": "execute_result"
    }
   ],
   "source": [
    "s = dd[dd['country']=='Ghana']\n",
    "\n",
    "t=s.fatalities\n",
    "t = t.astype(float)\n",
    "t"
   ]
  },
  {
   "cell_type": "code",
   "execution_count": 278,
   "metadata": {},
   "outputs": [],
   "source": [
    "f = []\n",
    "f.append(t[2990])\n",
    "f.append(t[2991])\n",
    "for i in range(2992,3172):\n",
    "   \n",
    "    result= t[i] + t[i-1] + t[i-2]\n",
    "    f.append( result)"
   ]
  },
  {
   "cell_type": "code",
   "execution_count": 279,
   "metadata": {},
   "outputs": [],
   "source": [
    "az=[]\n",
    "for j in range(len(t)):\n",
    "    a=t.iloc[j+13:j:-1]\n",
    "    az.append(a)\n",
    "    \n",
    "an=[]\n",
    "for i in range(2990,3003):\n",
    "    an.append(t[i])  \n",
    "\n",
    "for x in range(len(az)-13):\n",
    "    b=sum(az[x])\n",
    "    an.append(b)"
   ]
  },
  {
   "cell_type": "code",
   "execution_count": 283,
   "metadata": {},
   "outputs": [
    {
     "name": "stderr",
     "output_type": "stream",
     "text": [
      "C:\\Users\\ASUS\\AppData\\Local\\Temp\\ipykernel_16188\\3564578237.py:1: SettingWithCopyWarning: \n",
      "A value is trying to be set on a copy of a slice from a DataFrame.\n",
      "Try using .loc[row_indexer,col_indexer] = value instead\n",
      "\n",
      "See the caveats in the documentation: https://pandas.pydata.org/pandas-docs/stable/user_guide/indexing.html#returning-a-view-versus-a-copy\n",
      "  s['3M'] = f\n",
      "C:\\Users\\ASUS\\AppData\\Local\\Temp\\ipykernel_16188\\3564578237.py:2: SettingWithCopyWarning: \n",
      "A value is trying to be set on a copy of a slice from a DataFrame.\n",
      "Try using .loc[row_indexer,col_indexer] = value instead\n",
      "\n",
      "See the caveats in the documentation: https://pandas.pydata.org/pandas-docs/stable/user_guide/indexing.html#returning-a-view-versus-a-copy\n",
      "  s['Y'] = an\n"
     ]
    }
   ],
   "source": [
    "s['3M'] = f\n",
    "s['Y'] = an\n",
    "s.to_csv(r'C:\\Users\\ASUS\\Desktop\\WHK\\practici\\adm_0_ACLED\\Ghana.csv')"
   ]
  },
  {
   "cell_type": "code",
   "execution_count": 284,
   "metadata": {},
   "outputs": [
    {
     "data": {
      "text/plain": [
       "3172     31.0\n",
       "3173      0.0\n",
       "3174      6.0\n",
       "3175      0.0\n",
       "3176    413.0\n",
       "        ...  \n",
       "3365      0.0\n",
       "3366      3.0\n",
       "3367      2.0\n",
       "3368      4.0\n",
       "3369      0.0\n",
       "Name: fatalities, Length: 198, dtype: float64"
      ]
     },
     "execution_count": 284,
     "metadata": {},
     "output_type": "execute_result"
    }
   ],
   "source": [
    "s = dd[dd['country']=='Guinea']\n",
    "\n",
    "t=s.fatalities\n",
    "t = t.astype(float)\n",
    "t"
   ]
  },
  {
   "cell_type": "code",
   "execution_count": 285,
   "metadata": {},
   "outputs": [],
   "source": [
    "f = []\n",
    "f.append(t[3172])\n",
    "f.append(t[3173])\n",
    "for i in range(3174,3370):\n",
    "   \n",
    "    result= t[i] + t[i-1] + t[i-2]\n",
    "    f.append( result)"
   ]
  },
  {
   "cell_type": "code",
   "execution_count": 286,
   "metadata": {},
   "outputs": [],
   "source": [
    "az=[]\n",
    "for j in range(len(t)):\n",
    "    a=t.iloc[j+13:j:-1]\n",
    "    az.append(a)\n",
    "    \n",
    "an=[]\n",
    "for i in range(3172,3185):\n",
    "    an.append(t[i])  \n",
    "\n",
    "\n",
    "for x in range(len(az)-13):\n",
    "    b=sum(az[x])\n",
    "    an.append(b)"
   ]
  },
  {
   "cell_type": "code",
   "execution_count": 288,
   "metadata": {},
   "outputs": [
    {
     "name": "stderr",
     "output_type": "stream",
     "text": [
      "C:\\Users\\ASUS\\AppData\\Local\\Temp\\ipykernel_16188\\3897657275.py:1: SettingWithCopyWarning: \n",
      "A value is trying to be set on a copy of a slice from a DataFrame.\n",
      "Try using .loc[row_indexer,col_indexer] = value instead\n",
      "\n",
      "See the caveats in the documentation: https://pandas.pydata.org/pandas-docs/stable/user_guide/indexing.html#returning-a-view-versus-a-copy\n",
      "  s['3M'] = f\n",
      "C:\\Users\\ASUS\\AppData\\Local\\Temp\\ipykernel_16188\\3897657275.py:2: SettingWithCopyWarning: \n",
      "A value is trying to be set on a copy of a slice from a DataFrame.\n",
      "Try using .loc[row_indexer,col_indexer] = value instead\n",
      "\n",
      "See the caveats in the documentation: https://pandas.pydata.org/pandas-docs/stable/user_guide/indexing.html#returning-a-view-versus-a-copy\n",
      "  s['Y'] = an\n"
     ]
    }
   ],
   "source": [
    "s['3M'] = f\n",
    "s['Y'] = an\n",
    "s.to_csv(r'C:\\Users\\ASUS\\Desktop\\WHK\\practici\\adm_0_ACLED\\Guinea.csv')"
   ]
  },
  {
   "cell_type": "code",
   "execution_count": 289,
   "metadata": {},
   "outputs": [
    {
     "data": {
      "text/plain": [
       "3370     0.0\n",
       "3371     7.0\n",
       "3372     0.0\n",
       "3373     7.0\n",
       "3374    13.0\n",
       "        ... \n",
       "3471     0.0\n",
       "3472     0.0\n",
       "3473     0.0\n",
       "3474     1.0\n",
       "3475     0.0\n",
       "Name: fatalities, Length: 106, dtype: float64"
      ]
     },
     "execution_count": 289,
     "metadata": {},
     "output_type": "execute_result"
    }
   ],
   "source": [
    "s = dd[dd['country']=='Guinea-Bissau']\n",
    "\n",
    "t=s.fatalities\n",
    "t = t.astype(float)\n",
    "t"
   ]
  },
  {
   "cell_type": "code",
   "execution_count": 290,
   "metadata": {},
   "outputs": [],
   "source": [
    "f = []\n",
    "f.append(t[3370])\n",
    "f.append(t[3371])\n",
    "for i in range(3372,3476):\n",
    "   \n",
    "    result= t[i] + t[i-1] + t[i-2]\n",
    "    f.append( result)"
   ]
  },
  {
   "cell_type": "code",
   "execution_count": 291,
   "metadata": {},
   "outputs": [],
   "source": [
    "az=[]\n",
    "for j in range(len(t)):\n",
    "    a=t.iloc[j+13:j:-1]\n",
    "    az.append(a)\n",
    "    \n",
    "an=[]\n",
    "for i in range(3372,3385):\n",
    "    an.append(t[i])  \n",
    "\n",
    "for x in range(len(az)-13):\n",
    "    b=sum(az[x])\n",
    "    an.append(b)"
   ]
  },
  {
   "cell_type": "code",
   "execution_count": 293,
   "metadata": {},
   "outputs": [
    {
     "name": "stderr",
     "output_type": "stream",
     "text": [
      "C:\\Users\\ASUS\\AppData\\Local\\Temp\\ipykernel_16188\\3351239487.py:1: SettingWithCopyWarning: \n",
      "A value is trying to be set on a copy of a slice from a DataFrame.\n",
      "Try using .loc[row_indexer,col_indexer] = value instead\n",
      "\n",
      "See the caveats in the documentation: https://pandas.pydata.org/pandas-docs/stable/user_guide/indexing.html#returning-a-view-versus-a-copy\n",
      "  s['3M'] = f\n",
      "C:\\Users\\ASUS\\AppData\\Local\\Temp\\ipykernel_16188\\3351239487.py:2: SettingWithCopyWarning: \n",
      "A value is trying to be set on a copy of a slice from a DataFrame.\n",
      "Try using .loc[row_indexer,col_indexer] = value instead\n",
      "\n",
      "See the caveats in the documentation: https://pandas.pydata.org/pandas-docs/stable/user_guide/indexing.html#returning-a-view-versus-a-copy\n",
      "  s['Y'] = an\n"
     ]
    }
   ],
   "source": [
    "s['3M'] = f\n",
    "s['Y'] = an\n",
    "s.to_csv(r'C:\\Users\\ASUS\\Desktop\\WHK\\practici\\adm_0_ACLED\\Guinea-Bissau.csv')"
   ]
  },
  {
   "cell_type": "code",
   "execution_count": 294,
   "metadata": {},
   "outputs": [
    {
     "data": {
      "text/plain": [
       "3476    0.0\n",
       "3477    0.0\n",
       "3478    0.0\n",
       "3479    1.0\n",
       "3480    2.0\n",
       "       ... \n",
       "3699    1.0\n",
       "3700    2.0\n",
       "3701    0.0\n",
       "3702    9.0\n",
       "3703    0.0\n",
       "Name: fatalities, Length: 228, dtype: float64"
      ]
     },
     "execution_count": 294,
     "metadata": {},
     "output_type": "execute_result"
    }
   ],
   "source": [
    "s = dd[dd['country']=='Ivory Coast']\n",
    "\n",
    "t=s.fatalities\n",
    "t = t.astype(float)\n",
    "t"
   ]
  },
  {
   "cell_type": "code",
   "execution_count": 295,
   "metadata": {},
   "outputs": [],
   "source": [
    "f = []\n",
    "f.append(t[3476])\n",
    "f.append(t[3477])\n",
    "for i in range(3478,3704):\n",
    "   \n",
    "    result= t[i] + t[i-1] + t[i-2]\n",
    "    f.append( result)"
   ]
  },
  {
   "cell_type": "code",
   "execution_count": 298,
   "metadata": {},
   "outputs": [],
   "source": [
    "az=[]\n",
    "for j in range(len(t)):\n",
    "    a=t.iloc[j+13:j:-1]\n",
    "    az.append(a)\n",
    "    \n",
    "an=[]\n",
    "for i in range(3476,3489):\n",
    "    an.append(t[i])  \n",
    "\n",
    "for x in range(len(az)-13):\n",
    "    b=sum(az[x])\n",
    "    an.append(b)"
   ]
  },
  {
   "cell_type": "code",
   "execution_count": 300,
   "metadata": {},
   "outputs": [
    {
     "name": "stderr",
     "output_type": "stream",
     "text": [
      "C:\\Users\\ASUS\\AppData\\Local\\Temp\\ipykernel_16188\\1202806293.py:1: SettingWithCopyWarning: \n",
      "A value is trying to be set on a copy of a slice from a DataFrame.\n",
      "Try using .loc[row_indexer,col_indexer] = value instead\n",
      "\n",
      "See the caveats in the documentation: https://pandas.pydata.org/pandas-docs/stable/user_guide/indexing.html#returning-a-view-versus-a-copy\n",
      "  s['3M'] = f\n",
      "C:\\Users\\ASUS\\AppData\\Local\\Temp\\ipykernel_16188\\1202806293.py:2: SettingWithCopyWarning: \n",
      "A value is trying to be set on a copy of a slice from a DataFrame.\n",
      "Try using .loc[row_indexer,col_indexer] = value instead\n",
      "\n",
      "See the caveats in the documentation: https://pandas.pydata.org/pandas-docs/stable/user_guide/indexing.html#returning-a-view-versus-a-copy\n",
      "  s['Y'] = an\n"
     ]
    }
   ],
   "source": [
    "s['3M'] = f\n",
    "s['Y'] = an\n",
    "s.to_csv(r'C:\\Users\\ASUS\\Desktop\\WHK\\practici\\adm_0_ACLED\\Ivory Coast.csv')"
   ]
  },
  {
   "cell_type": "code",
   "execution_count": 301,
   "metadata": {},
   "outputs": [
    {
     "data": {
      "text/plain": [
       "3704    31.0\n",
       "3705    93.0\n",
       "3706    22.0\n",
       "3707    72.0\n",
       "3708    37.0\n",
       "        ... \n",
       "3970    81.0\n",
       "3971    42.0\n",
       "3972    32.0\n",
       "3973    45.0\n",
       "3974    16.0\n",
       "Name: fatalities, Length: 271, dtype: float64"
      ]
     },
     "execution_count": 301,
     "metadata": {},
     "output_type": "execute_result"
    }
   ],
   "source": [
    "s = dd[dd['country']=='Kenya']\n",
    "\n",
    "t=s.fatalities\n",
    "t = t.astype(float)\n",
    "t"
   ]
  },
  {
   "cell_type": "code",
   "execution_count": 302,
   "metadata": {},
   "outputs": [],
   "source": [
    "f = []\n",
    "f.append(t[3704])\n",
    "f.append(t[3705])\n",
    "for i in range(3706,3975):\n",
    "   \n",
    "    result= t[i] + t[i-1] + t[i-2]\n",
    "    f.append( result)"
   ]
  },
  {
   "cell_type": "code",
   "execution_count": 303,
   "metadata": {},
   "outputs": [],
   "source": [
    "az=[]\n",
    "for j in range(len(t)):\n",
    "    a=t.iloc[j+13:j:-1]\n",
    "    az.append(a)\n",
    "    \n",
    "an=[]\n",
    "for i in range(3704,3717):\n",
    "    an.append(t[i])  \n",
    "\n",
    "for x in range(len(az)-13):\n",
    "    b=sum(az[x])\n",
    "    an.append(b)"
   ]
  },
  {
   "cell_type": "code",
   "execution_count": 305,
   "metadata": {},
   "outputs": [
    {
     "name": "stderr",
     "output_type": "stream",
     "text": [
      "C:\\Users\\ASUS\\AppData\\Local\\Temp\\ipykernel_16188\\1294321945.py:1: SettingWithCopyWarning: \n",
      "A value is trying to be set on a copy of a slice from a DataFrame.\n",
      "Try using .loc[row_indexer,col_indexer] = value instead\n",
      "\n",
      "See the caveats in the documentation: https://pandas.pydata.org/pandas-docs/stable/user_guide/indexing.html#returning-a-view-versus-a-copy\n",
      "  s['3M'] = f\n",
      "C:\\Users\\ASUS\\AppData\\Local\\Temp\\ipykernel_16188\\1294321945.py:2: SettingWithCopyWarning: \n",
      "A value is trying to be set on a copy of a slice from a DataFrame.\n",
      "Try using .loc[row_indexer,col_indexer] = value instead\n",
      "\n",
      "See the caveats in the documentation: https://pandas.pydata.org/pandas-docs/stable/user_guide/indexing.html#returning-a-view-versus-a-copy\n",
      "  s['Y'] = an\n"
     ]
    }
   ],
   "source": [
    "s['3M'] = f\n",
    "s['Y'] = an\n",
    "s.to_csv(r'C:\\Users\\ASUS\\Desktop\\WHK\\practici\\adm_0_ACLED\\Kenya.csv')"
   ]
  },
  {
   "cell_type": "code",
   "execution_count": 306,
   "metadata": {},
   "outputs": [
    {
     "data": {
      "text/plain": [
       "3975    0.0\n",
       "3976    0.0\n",
       "3977    0.0\n",
       "3978    0.0\n",
       "3979    8.0\n",
       "       ... \n",
       "4045    2.0\n",
       "4046    1.0\n",
       "4047    2.0\n",
       "4048    0.0\n",
       "4049    6.0\n",
       "Name: fatalities, Length: 75, dtype: float64"
      ]
     },
     "execution_count": 306,
     "metadata": {},
     "output_type": "execute_result"
    }
   ],
   "source": [
    "s = dd[dd['country']=='Lesotho']\n",
    "\n",
    "t=s.fatalities\n",
    "t = t.astype(float)\n",
    "t"
   ]
  },
  {
   "cell_type": "code",
   "execution_count": 307,
   "metadata": {},
   "outputs": [],
   "source": [
    "f = []\n",
    "f.append(t[3975])\n",
    "f.append(t[3976])\n",
    "for i in range(3977,4050):\n",
    "   \n",
    "    result= t[i] + t[i-1] + t[i-2]\n",
    "    f.append( result)"
   ]
  },
  {
   "cell_type": "code",
   "execution_count": 308,
   "metadata": {},
   "outputs": [],
   "source": [
    "az=[]\n",
    "for j in range(len(t)):\n",
    "    a=t.iloc[j+13:j:-1]\n",
    "    az.append(a)\n",
    "    \n",
    "an=[]\n",
    "for i in range(3975,3988):\n",
    "    an.append(t[i])  \n",
    "\n",
    "    \n",
    "for x in range(len(az)-13):\n",
    "    b=sum(az[x])\n",
    "    an.append(b)"
   ]
  },
  {
   "cell_type": "code",
   "execution_count": 310,
   "metadata": {},
   "outputs": [
    {
     "name": "stderr",
     "output_type": "stream",
     "text": [
      "C:\\Users\\ASUS\\AppData\\Local\\Temp\\ipykernel_16188\\1953490901.py:1: SettingWithCopyWarning: \n",
      "A value is trying to be set on a copy of a slice from a DataFrame.\n",
      "Try using .loc[row_indexer,col_indexer] = value instead\n",
      "\n",
      "See the caveats in the documentation: https://pandas.pydata.org/pandas-docs/stable/user_guide/indexing.html#returning-a-view-versus-a-copy\n",
      "  s['3M'] = f\n",
      "C:\\Users\\ASUS\\AppData\\Local\\Temp\\ipykernel_16188\\1953490901.py:2: SettingWithCopyWarning: \n",
      "A value is trying to be set on a copy of a slice from a DataFrame.\n",
      "Try using .loc[row_indexer,col_indexer] = value instead\n",
      "\n",
      "See the caveats in the documentation: https://pandas.pydata.org/pandas-docs/stable/user_guide/indexing.html#returning-a-view-versus-a-copy\n",
      "  s['Y'] = an\n"
     ]
    }
   ],
   "source": [
    "s['3M'] = f\n",
    "s['Y'] = an\n",
    "s.to_csv(r'C:\\Users\\ASUS\\Desktop\\WHK\\practici\\adm_0_ACLED\\Lesotho.csv')"
   ]
  },
  {
   "cell_type": "code",
   "execution_count": 311,
   "metadata": {},
   "outputs": [
    {
     "data": {
      "text/plain": [
       "4050     0.0\n",
       "4051     0.0\n",
       "4052     0.0\n",
       "4053    42.0\n",
       "4054     0.0\n",
       "        ... \n",
       "4269     0.0\n",
       "4270     3.0\n",
       "4271     0.0\n",
       "4272     3.0\n",
       "4273     1.0\n",
       "Name: fatalities, Length: 224, dtype: float64"
      ]
     },
     "execution_count": 311,
     "metadata": {},
     "output_type": "execute_result"
    }
   ],
   "source": [
    "s = dd[dd['country']=='Liberia']\n",
    "\n",
    "t=s.fatalities\n",
    "t = t.astype(float)\n",
    "t"
   ]
  },
  {
   "cell_type": "code",
   "execution_count": 312,
   "metadata": {},
   "outputs": [],
   "source": [
    "f = []\n",
    "f.append(t[4050])\n",
    "f.append(t[4051])\n",
    "for i in range(4052,4274):\n",
    "   \n",
    "    result= t[i] + t[i-1] + t[i-2]\n",
    "    f.append( result)"
   ]
  },
  {
   "cell_type": "code",
   "execution_count": 313,
   "metadata": {},
   "outputs": [],
   "source": [
    "az=[]\n",
    "for j in range(len(t)):\n",
    "    a=t.iloc[j+13:j:-1]\n",
    "    az.append(a)\n",
    "    \n",
    "an=[]\n",
    "for i in range(4050,4063):\n",
    "    an.append(t[i])  \n",
    "\n",
    "\n",
    "for x in range(len(az)-13):\n",
    "    b=sum(az[x])\n",
    "    an.append(b)"
   ]
  },
  {
   "cell_type": "code",
   "execution_count": 315,
   "metadata": {},
   "outputs": [
    {
     "name": "stderr",
     "output_type": "stream",
     "text": [
      "C:\\Users\\ASUS\\AppData\\Local\\Temp\\ipykernel_16188\\3506942006.py:1: SettingWithCopyWarning: \n",
      "A value is trying to be set on a copy of a slice from a DataFrame.\n",
      "Try using .loc[row_indexer,col_indexer] = value instead\n",
      "\n",
      "See the caveats in the documentation: https://pandas.pydata.org/pandas-docs/stable/user_guide/indexing.html#returning-a-view-versus-a-copy\n",
      "  s['3M'] = f\n",
      "C:\\Users\\ASUS\\AppData\\Local\\Temp\\ipykernel_16188\\3506942006.py:2: SettingWithCopyWarning: \n",
      "A value is trying to be set on a copy of a slice from a DataFrame.\n",
      "Try using .loc[row_indexer,col_indexer] = value instead\n",
      "\n",
      "See the caveats in the documentation: https://pandas.pydata.org/pandas-docs/stable/user_guide/indexing.html#returning-a-view-versus-a-copy\n",
      "  s['Y'] = an\n"
     ]
    }
   ],
   "source": [
    "s['3M'] = f\n",
    "s['Y'] = an\n",
    "s.to_csv(r'C:\\Users\\ASUS\\Desktop\\WHK\\practici\\adm_0_ACLED\\Liberia.csv')"
   ]
  },
  {
   "cell_type": "code",
   "execution_count": 316,
   "metadata": {},
   "outputs": [
    {
     "data": {
      "text/plain": [
       "4274     2.0\n",
       "4275     0.0\n",
       "4276    50.0\n",
       "4277     0.0\n",
       "4278     0.0\n",
       "        ... \n",
       "4445     3.0\n",
       "4446    14.0\n",
       "4447    16.0\n",
       "4448     9.0\n",
       "4449     2.0\n",
       "Name: fatalities, Length: 176, dtype: float64"
      ]
     },
     "execution_count": 316,
     "metadata": {},
     "output_type": "execute_result"
    }
   ],
   "source": [
    "s = dd[dd['country']=='Libya']\n",
    "\n",
    "t=s.fatalities\n",
    "t = t.astype(float)\n",
    "t"
   ]
  },
  {
   "cell_type": "code",
   "execution_count": 317,
   "metadata": {},
   "outputs": [],
   "source": [
    "f = []\n",
    "f.append(t[4274])\n",
    "f.append(t[4275])\n",
    "for i in range(4276,4450):\n",
    "   \n",
    "    result= t[i] + t[i-1] + t[i-2]\n",
    "    f.append( result)"
   ]
  },
  {
   "cell_type": "code",
   "execution_count": 318,
   "metadata": {},
   "outputs": [],
   "source": [
    "az=[]\n",
    "for j in range(len(t)):\n",
    "    a=t.iloc[j+13:j:-1]\n",
    "    az.append(a)\n",
    "    \n",
    "an=[]\n",
    "for i in range(4274,4287):\n",
    "    an.append(t[i])  \n",
    "\n",
    "\n",
    "for x in range(len(az)-13):\n",
    "    b=sum(az[x])\n",
    "    an.append(b)"
   ]
  },
  {
   "cell_type": "code",
   "execution_count": 320,
   "metadata": {},
   "outputs": [
    {
     "name": "stderr",
     "output_type": "stream",
     "text": [
      "C:\\Users\\ASUS\\AppData\\Local\\Temp\\ipykernel_16188\\2745051692.py:1: SettingWithCopyWarning: \n",
      "A value is trying to be set on a copy of a slice from a DataFrame.\n",
      "Try using .loc[row_indexer,col_indexer] = value instead\n",
      "\n",
      "See the caveats in the documentation: https://pandas.pydata.org/pandas-docs/stable/user_guide/indexing.html#returning-a-view-versus-a-copy\n",
      "  s['3M'] = f\n",
      "C:\\Users\\ASUS\\AppData\\Local\\Temp\\ipykernel_16188\\2745051692.py:2: SettingWithCopyWarning: \n",
      "A value is trying to be set on a copy of a slice from a DataFrame.\n",
      "Try using .loc[row_indexer,col_indexer] = value instead\n",
      "\n",
      "See the caveats in the documentation: https://pandas.pydata.org/pandas-docs/stable/user_guide/indexing.html#returning-a-view-versus-a-copy\n",
      "  s['Y'] = an\n"
     ]
    }
   ],
   "source": [
    "s['3M'] = f\n",
    "s['Y'] = an\n",
    "s.to_csv(r'C:\\Users\\ASUS\\Desktop\\WHK\\practici\\adm_0_ACLED\\Libya.csv')"
   ]
  },
  {
   "cell_type": "code",
   "execution_count": 321,
   "metadata": {},
   "outputs": [
    {
     "data": {
      "text/plain": [
       "4450     1.0\n",
       "4451     0.0\n",
       "4452     0.0\n",
       "4453     2.0\n",
       "4454     1.0\n",
       "        ... \n",
       "4624    10.0\n",
       "4625    16.0\n",
       "4626    20.0\n",
       "4627     3.0\n",
       "4628     0.0\n",
       "Name: fatalities, Length: 179, dtype: float64"
      ]
     },
     "execution_count": 321,
     "metadata": {},
     "output_type": "execute_result"
    }
   ],
   "source": [
    "s = dd[dd['country']=='Madagascar']\n",
    "\n",
    "t=s.fatalities\n",
    "t = t.astype(float)\n",
    "t"
   ]
  },
  {
   "cell_type": "code",
   "execution_count": 322,
   "metadata": {},
   "outputs": [],
   "source": [
    "f = []\n",
    "f.append(t[4450])\n",
    "f.append(t[4451])\n",
    "for i in range(4452,4629):\n",
    "   \n",
    "    result= t[i] + t[i-1] + t[i-2]\n",
    "    f.append( result)"
   ]
  },
  {
   "cell_type": "code",
   "execution_count": 323,
   "metadata": {},
   "outputs": [],
   "source": [
    "az=[]\n",
    "for j in range(len(t)):\n",
    "    a=t.iloc[j+13:j:-1]\n",
    "    az.append(a)\n",
    "    \n",
    "an=[]\n",
    "for i in range(4450,4463):\n",
    "    an.append(t[i])  \n",
    "\n",
    "\n",
    "for x in range(len(az)-13):\n",
    "    b=sum(az[x])\n",
    "    an.append(b)"
   ]
  },
  {
   "cell_type": "code",
   "execution_count": 325,
   "metadata": {},
   "outputs": [
    {
     "name": "stderr",
     "output_type": "stream",
     "text": [
      "C:\\Users\\ASUS\\AppData\\Local\\Temp\\ipykernel_16188\\3872419129.py:1: SettingWithCopyWarning: \n",
      "A value is trying to be set on a copy of a slice from a DataFrame.\n",
      "Try using .loc[row_indexer,col_indexer] = value instead\n",
      "\n",
      "See the caveats in the documentation: https://pandas.pydata.org/pandas-docs/stable/user_guide/indexing.html#returning-a-view-versus-a-copy\n",
      "  s['3M'] = f\n",
      "C:\\Users\\ASUS\\AppData\\Local\\Temp\\ipykernel_16188\\3872419129.py:2: SettingWithCopyWarning: \n",
      "A value is trying to be set on a copy of a slice from a DataFrame.\n",
      "Try using .loc[row_indexer,col_indexer] = value instead\n",
      "\n",
      "See the caveats in the documentation: https://pandas.pydata.org/pandas-docs/stable/user_guide/indexing.html#returning-a-view-versus-a-copy\n",
      "  s['Y'] = an\n"
     ]
    }
   ],
   "source": [
    "s['3M'] = f\n",
    "s['Y'] = an\n",
    "s.to_csv(r'C:\\Users\\ASUS\\Desktop\\WHK\\practici\\adm_0_ACLED\\Madagascar.csv')"
   ]
  },
  {
   "cell_type": "code",
   "execution_count": 326,
   "metadata": {},
   "outputs": [
    {
     "data": {
      "text/plain": [
       "4629    0.0\n",
       "4630    0.0\n",
       "4631    0.0\n",
       "4632    0.0\n",
       "4633    0.0\n",
       "       ... \n",
       "4798    3.0\n",
       "4799    7.0\n",
       "4800    4.0\n",
       "4801    4.0\n",
       "4802    1.0\n",
       "Name: fatalities, Length: 174, dtype: float64"
      ]
     },
     "execution_count": 326,
     "metadata": {},
     "output_type": "execute_result"
    }
   ],
   "source": [
    "s = dd[dd['country']=='Malawi']\n",
    "\n",
    "t=s.fatalities\n",
    "t = t.astype(float)\n",
    "t"
   ]
  },
  {
   "cell_type": "code",
   "execution_count": 327,
   "metadata": {},
   "outputs": [],
   "source": [
    "f = []\n",
    "f.append(t[4629])\n",
    "f.append(t[4630])\n",
    "for i in range(4631,4803):\n",
    "   \n",
    "    result= t[i] + t[i-1] + t[i-2]\n",
    "    f.append( result)"
   ]
  },
  {
   "cell_type": "code",
   "execution_count": 328,
   "metadata": {},
   "outputs": [],
   "source": [
    "az=[]\n",
    "for j in range(len(t)):\n",
    "    a=t.iloc[j+13:j:-1]\n",
    "    az.append(a)\n",
    "    \n",
    "an=[]\n",
    "for i in range(4629,4642):\n",
    "    an.append(t[i])  \n",
    "\n",
    "\n",
    "for x in range(len(az)-13):\n",
    "    b=sum(az[x])\n",
    "    an.append(b)"
   ]
  },
  {
   "cell_type": "code",
   "execution_count": 330,
   "metadata": {},
   "outputs": [
    {
     "name": "stderr",
     "output_type": "stream",
     "text": [
      "C:\\Users\\ASUS\\AppData\\Local\\Temp\\ipykernel_16188\\3072398061.py:1: SettingWithCopyWarning: \n",
      "A value is trying to be set on a copy of a slice from a DataFrame.\n",
      "Try using .loc[row_indexer,col_indexer] = value instead\n",
      "\n",
      "See the caveats in the documentation: https://pandas.pydata.org/pandas-docs/stable/user_guide/indexing.html#returning-a-view-versus-a-copy\n",
      "  s['3M'] = f\n",
      "C:\\Users\\ASUS\\AppData\\Local\\Temp\\ipykernel_16188\\3072398061.py:2: SettingWithCopyWarning: \n",
      "A value is trying to be set on a copy of a slice from a DataFrame.\n",
      "Try using .loc[row_indexer,col_indexer] = value instead\n",
      "\n",
      "See the caveats in the documentation: https://pandas.pydata.org/pandas-docs/stable/user_guide/indexing.html#returning-a-view-versus-a-copy\n",
      "  s['Y'] = an\n"
     ]
    }
   ],
   "source": [
    "s['3M'] = f\n",
    "s['Y'] = an\n",
    "s.to_csv(r'C:\\Users\\ASUS\\Desktop\\WHK\\practici\\adm_0_ACLED\\Malawi.csv')"
   ]
  },
  {
   "cell_type": "code",
   "execution_count": 331,
   "metadata": {},
   "outputs": [
    {
     "data": {
      "text/plain": [
       "4803       3.0\n",
       "4804       5.0\n",
       "4805       0.0\n",
       "4806       0.0\n",
       "4807       5.0\n",
       "         ...  \n",
       "4984    1134.0\n",
       "4985     175.0\n",
       "4986     338.0\n",
       "4987     491.0\n",
       "4988      14.0\n",
       "Name: fatalities, Length: 186, dtype: float64"
      ]
     },
     "execution_count": 331,
     "metadata": {},
     "output_type": "execute_result"
    }
   ],
   "source": [
    "s = dd[dd['country']=='Mali']\n",
    "\n",
    "t=s.fatalities\n",
    "t = t.astype(float)\n",
    "t"
   ]
  },
  {
   "cell_type": "code",
   "execution_count": 332,
   "metadata": {},
   "outputs": [],
   "source": [
    "f = []\n",
    "f.append(t[4803])\n",
    "f.append(t[4804])\n",
    "for i in range(4805,4989):\n",
    "   \n",
    "    result= t[i] + t[i-1] + t[i-2]\n",
    "    f.append( result)"
   ]
  },
  {
   "cell_type": "code",
   "execution_count": 333,
   "metadata": {},
   "outputs": [],
   "source": [
    "az=[]\n",
    "for j in range(len(t)):\n",
    "    a=t.iloc[j+13:j:-1]\n",
    "    az.append(a)\n",
    "    \n",
    "an=[]\n",
    "for i in range(4803,4816):\n",
    "    an.append(t[i])  \n",
    "for x in range(len(az)-13):\n",
    "    b=sum(az[x])\n",
    "    an.append(b)"
   ]
  },
  {
   "cell_type": "code",
   "execution_count": 335,
   "metadata": {},
   "outputs": [
    {
     "name": "stderr",
     "output_type": "stream",
     "text": [
      "C:\\Users\\ASUS\\AppData\\Local\\Temp\\ipykernel_16188\\3719612407.py:1: SettingWithCopyWarning: \n",
      "A value is trying to be set on a copy of a slice from a DataFrame.\n",
      "Try using .loc[row_indexer,col_indexer] = value instead\n",
      "\n",
      "See the caveats in the documentation: https://pandas.pydata.org/pandas-docs/stable/user_guide/indexing.html#returning-a-view-versus-a-copy\n",
      "  s['3M'] = f\n",
      "C:\\Users\\ASUS\\AppData\\Local\\Temp\\ipykernel_16188\\3719612407.py:2: SettingWithCopyWarning: \n",
      "A value is trying to be set on a copy of a slice from a DataFrame.\n",
      "Try using .loc[row_indexer,col_indexer] = value instead\n",
      "\n",
      "See the caveats in the documentation: https://pandas.pydata.org/pandas-docs/stable/user_guide/indexing.html#returning-a-view-versus-a-copy\n",
      "  s['Y'] = an\n"
     ]
    }
   ],
   "source": [
    "s['3M'] = f\n",
    "s['Y'] = an\n",
    "s.to_csv(r'C:\\Users\\ASUS\\Desktop\\WHK\\practici\\adm_0_ACLED\\Mali.csv')"
   ]
  },
  {
   "cell_type": "code",
   "execution_count": 336,
   "metadata": {},
   "outputs": [
    {
     "data": {
      "text/plain": [
       "4989    0.0\n",
       "4990    0.0\n",
       "4991    1.0\n",
       "4992    0.0\n",
       "4993    0.0\n",
       "       ... \n",
       "5163    0.0\n",
       "5164    3.0\n",
       "5165    0.0\n",
       "5166    0.0\n",
       "5167    0.0\n",
       "Name: fatalities, Length: 179, dtype: float64"
      ]
     },
     "execution_count": 336,
     "metadata": {},
     "output_type": "execute_result"
    }
   ],
   "source": [
    "s = dd[dd['country']=='Mauritania']\n",
    "\n",
    "t=s.fatalities\n",
    "t = t.astype(float)\n",
    "t"
   ]
  },
  {
   "cell_type": "code",
   "execution_count": 337,
   "metadata": {},
   "outputs": [],
   "source": [
    "f = []\n",
    "f.append(t[4989])\n",
    "f.append(t[4990])\n",
    "for i in range(4991,5168):\n",
    "   \n",
    "    result= t[i] + t[i-1] + t[i-2]\n",
    "    f.append( result)"
   ]
  },
  {
   "cell_type": "code",
   "execution_count": 338,
   "metadata": {},
   "outputs": [],
   "source": [
    "az=[]\n",
    "for j in range(len(t)):\n",
    "    a=t.iloc[j+13:j:-1]\n",
    "    az.append(a)\n",
    "    \n",
    "an=[]\n",
    "for i in range(4989,5002):\n",
    "    an.append(t[i]) \n",
    "\n",
    "for x in range(len(az)-13):\n",
    "    b=sum(az[x])\n",
    "    an.append(b)"
   ]
  },
  {
   "cell_type": "code",
   "execution_count": 340,
   "metadata": {},
   "outputs": [
    {
     "name": "stderr",
     "output_type": "stream",
     "text": [
      "C:\\Users\\ASUS\\AppData\\Local\\Temp\\ipykernel_16188\\2499895588.py:1: SettingWithCopyWarning: \n",
      "A value is trying to be set on a copy of a slice from a DataFrame.\n",
      "Try using .loc[row_indexer,col_indexer] = value instead\n",
      "\n",
      "See the caveats in the documentation: https://pandas.pydata.org/pandas-docs/stable/user_guide/indexing.html#returning-a-view-versus-a-copy\n",
      "  s['3M'] = f\n",
      "C:\\Users\\ASUS\\AppData\\Local\\Temp\\ipykernel_16188\\2499895588.py:2: SettingWithCopyWarning: \n",
      "A value is trying to be set on a copy of a slice from a DataFrame.\n",
      "Try using .loc[row_indexer,col_indexer] = value instead\n",
      "\n",
      "See the caveats in the documentation: https://pandas.pydata.org/pandas-docs/stable/user_guide/indexing.html#returning-a-view-versus-a-copy\n",
      "  s['Y'] = an\n"
     ]
    }
   ],
   "source": [
    "s['3M'] = f\n",
    "s['Y'] = an\n",
    "s.to_csv(r'C:\\Users\\ASUS\\Desktop\\WHK\\practici\\adm_0_ACLED\\Mauritania.csv')"
   ]
  },
  {
   "cell_type": "code",
   "execution_count": 341,
   "metadata": {},
   "outputs": [],
   "source": [
    "s = dd[dd['country']=='Mauritius']\n",
    "\n",
    "t=s.fatalities\n",
    "t = t.astype(float)\n"
   ]
  },
  {
   "cell_type": "code",
   "execution_count": 342,
   "metadata": {},
   "outputs": [],
   "source": [
    "f = []\n",
    "f.append(t[5168])\n",
    "f.append(t[5169])\n",
    "for i in range(5170,5198):\n",
    "   \n",
    "    result= t[i] + t[i-1] + t[i-2]\n",
    "    f.append( result)"
   ]
  },
  {
   "cell_type": "code",
   "execution_count": 347,
   "metadata": {},
   "outputs": [],
   "source": [
    "az=[]\n",
    "for j in range(len(t)):\n",
    "    a=t.iloc[j+13:j:-1]\n",
    "    az.append(a)\n",
    "    \n",
    "an=[]\n",
    "for i in range(5168,5181):\n",
    "    an.append(t[i]) \n",
    "\n",
    "for x in range(len(az)-13):\n",
    "    b=sum(az[x])\n",
    "    an.append(b)"
   ]
  },
  {
   "cell_type": "code",
   "execution_count": 349,
   "metadata": {},
   "outputs": [
    {
     "name": "stderr",
     "output_type": "stream",
     "text": [
      "C:\\Users\\ASUS\\AppData\\Local\\Temp\\ipykernel_16188\\3342678616.py:1: SettingWithCopyWarning: \n",
      "A value is trying to be set on a copy of a slice from a DataFrame.\n",
      "Try using .loc[row_indexer,col_indexer] = value instead\n",
      "\n",
      "See the caveats in the documentation: https://pandas.pydata.org/pandas-docs/stable/user_guide/indexing.html#returning-a-view-versus-a-copy\n",
      "  s['3M'] = f\n",
      "C:\\Users\\ASUS\\AppData\\Local\\Temp\\ipykernel_16188\\3342678616.py:2: SettingWithCopyWarning: \n",
      "A value is trying to be set on a copy of a slice from a DataFrame.\n",
      "Try using .loc[row_indexer,col_indexer] = value instead\n",
      "\n",
      "See the caveats in the documentation: https://pandas.pydata.org/pandas-docs/stable/user_guide/indexing.html#returning-a-view-versus-a-copy\n",
      "  s['Y'] = an\n"
     ]
    }
   ],
   "source": [
    "s['3M'] = f\n",
    "s['Y'] = an\n",
    "s.to_csv(r'C:\\Users\\ASUS\\Desktop\\WHK\\practici\\adm_0_ACLED\\Mauritius.csv')"
   ]
  },
  {
   "cell_type": "code",
   "execution_count": 350,
   "metadata": {},
   "outputs": [
    {
     "data": {
      "text/plain": [
       "5198    0.0\n",
       "5199    0.0\n",
       "5200    0.0\n",
       "5201    0.0\n",
       "5202    0.0\n",
       "5203    0.0\n",
       "5204    0.0\n",
       "5205    0.0\n",
       "5206    0.0\n",
       "5207    0.0\n",
       "5208    0.0\n",
       "5209    0.0\n",
       "5210    0.0\n",
       "5211    0.0\n",
       "5212    0.0\n",
       "5213    0.0\n",
       "5214    0.0\n",
       "5215    1.0\n",
       "5216    0.0\n",
       "5217    0.0\n",
       "5218    0.0\n",
       "5219    1.0\n",
       "5220    1.0\n",
       "5221    0.0\n",
       "5222    0.0\n",
       "Name: fatalities, dtype: float64"
      ]
     },
     "execution_count": 350,
     "metadata": {},
     "output_type": "execute_result"
    }
   ],
   "source": [
    "s = dd[dd['country']=='Mayotte']\n",
    "\n",
    "t=s.fatalities\n",
    "t = t.astype(float)\n",
    "t"
   ]
  },
  {
   "cell_type": "code",
   "execution_count": 351,
   "metadata": {},
   "outputs": [],
   "source": [
    "f = []\n",
    "f.append(t[5198])\n",
    "f.append(t[5199])\n",
    "for i in range(5200,5223):\n",
    "   \n",
    "    result= t[i] + t[i-1] + t[i-2]\n",
    "    f.append( result)"
   ]
  },
  {
   "cell_type": "code",
   "execution_count": 352,
   "metadata": {},
   "outputs": [],
   "source": [
    "az=[]\n",
    "for j in range(len(t)):\n",
    "    a=t.iloc[j+13:j:-1]\n",
    "    az.append(a)\n",
    "    \n",
    "an=[]\n",
    "for i in range(5198,5211):\n",
    "    an.append(t[i])\n",
    "\n",
    "for x in range(len(az)-13):\n",
    "    b=sum(az[x])\n",
    "    an.append(b)"
   ]
  },
  {
   "cell_type": "code",
   "execution_count": 354,
   "metadata": {},
   "outputs": [
    {
     "name": "stderr",
     "output_type": "stream",
     "text": [
      "C:\\Users\\ASUS\\AppData\\Local\\Temp\\ipykernel_16188\\1377345053.py:1: SettingWithCopyWarning: \n",
      "A value is trying to be set on a copy of a slice from a DataFrame.\n",
      "Try using .loc[row_indexer,col_indexer] = value instead\n",
      "\n",
      "See the caveats in the documentation: https://pandas.pydata.org/pandas-docs/stable/user_guide/indexing.html#returning-a-view-versus-a-copy\n",
      "  s['3M'] = f\n",
      "C:\\Users\\ASUS\\AppData\\Local\\Temp\\ipykernel_16188\\1377345053.py:2: SettingWithCopyWarning: \n",
      "A value is trying to be set on a copy of a slice from a DataFrame.\n",
      "Try using .loc[row_indexer,col_indexer] = value instead\n",
      "\n",
      "See the caveats in the documentation: https://pandas.pydata.org/pandas-docs/stable/user_guide/indexing.html#returning-a-view-versus-a-copy\n",
      "  s['Y'] = an\n"
     ]
    }
   ],
   "source": [
    "s['3M'] = f\n",
    "s['Y'] = an\n",
    "s.to_csv(r'C:\\Users\\ASUS\\Desktop\\WHK\\practici\\adm_0_ACLED\\Mayotte.csv')"
   ]
  },
  {
   "cell_type": "code",
   "execution_count": 355,
   "metadata": {},
   "outputs": [
    {
     "data": {
      "text/plain": [
       "5223     0.0\n",
       "5224     0.0\n",
       "5225     0.0\n",
       "5226     0.0\n",
       "5227     0.0\n",
       "        ... \n",
       "5441     5.0\n",
       "5442     0.0\n",
       "5443     0.0\n",
       "5444    25.0\n",
       "5445     0.0\n",
       "Name: fatalities, Length: 223, dtype: float64"
      ]
     },
     "execution_count": 355,
     "metadata": {},
     "output_type": "execute_result"
    }
   ],
   "source": [
    "s = dd[dd['country']=='Morocco']\n",
    "\n",
    "t=s.fatalities\n",
    "t = t.astype(float)\n",
    "t"
   ]
  },
  {
   "cell_type": "code",
   "execution_count": 356,
   "metadata": {},
   "outputs": [],
   "source": [
    "f = []\n",
    "f.append(t[5223])\n",
    "f.append(t[5224])\n",
    "for i in range(5225,5446):\n",
    "   \n",
    "    result= t[i] + t[i-1] + t[i-2]\n",
    "    f.append( result)"
   ]
  },
  {
   "cell_type": "code",
   "execution_count": 357,
   "metadata": {},
   "outputs": [],
   "source": [
    "az=[]\n",
    "for j in range(len(t)):\n",
    "    a=t.iloc[j+13:j:-1]\n",
    "    az.append(a)\n",
    "    \n",
    "an=[]\n",
    "for i in range(5223,5236):\n",
    "    an.append(t[i])\n",
    "\n",
    "for x in range(len(az)-13):\n",
    "    b=sum(az[x])\n",
    "    an.append(b)"
   ]
  },
  {
   "cell_type": "code",
   "execution_count": 359,
   "metadata": {},
   "outputs": [
    {
     "name": "stderr",
     "output_type": "stream",
     "text": [
      "C:\\Users\\ASUS\\AppData\\Local\\Temp\\ipykernel_16188\\3223666889.py:1: SettingWithCopyWarning: \n",
      "A value is trying to be set on a copy of a slice from a DataFrame.\n",
      "Try using .loc[row_indexer,col_indexer] = value instead\n",
      "\n",
      "See the caveats in the documentation: https://pandas.pydata.org/pandas-docs/stable/user_guide/indexing.html#returning-a-view-versus-a-copy\n",
      "  s['3M'] = f\n",
      "C:\\Users\\ASUS\\AppData\\Local\\Temp\\ipykernel_16188\\3223666889.py:2: SettingWithCopyWarning: \n",
      "A value is trying to be set on a copy of a slice from a DataFrame.\n",
      "Try using .loc[row_indexer,col_indexer] = value instead\n",
      "\n",
      "See the caveats in the documentation: https://pandas.pydata.org/pandas-docs/stable/user_guide/indexing.html#returning-a-view-versus-a-copy\n",
      "  s['Y'] = an\n"
     ]
    }
   ],
   "source": [
    "s['3M'] = f\n",
    "s['Y'] = an\n",
    "s.to_csv(r'C:\\Users\\ASUS\\Desktop\\WHK\\practici\\adm_0_ACLED\\Morocco.csv')"
   ]
  },
  {
   "cell_type": "code",
   "execution_count": 360,
   "metadata": {},
   "outputs": [
    {
     "data": {
      "text/plain": [
       "5446      1.0\n",
       "5447      0.0\n",
       "5448      1.0\n",
       "5449      0.0\n",
       "5450      0.0\n",
       "        ...  \n",
       "5649     94.0\n",
       "5650     36.0\n",
       "5651     74.0\n",
       "5652    104.0\n",
       "5653      2.0\n",
       "Name: fatalities, Length: 208, dtype: float64"
      ]
     },
     "execution_count": 360,
     "metadata": {},
     "output_type": "execute_result"
    }
   ],
   "source": [
    "s = dd[dd['country']=='Mozambique']\n",
    "\n",
    "t=s.fatalities\n",
    "t = t.astype(float)\n",
    "t"
   ]
  },
  {
   "cell_type": "code",
   "execution_count": 361,
   "metadata": {},
   "outputs": [],
   "source": [
    "f = []\n",
    "f.append(t[5446])\n",
    "f.append(t[5447])\n",
    "for i in range(5448,5654):\n",
    "   \n",
    "    result= t[i] + t[i-1] + t[i-2]\n",
    "    f.append( result)"
   ]
  },
  {
   "cell_type": "code",
   "execution_count": 362,
   "metadata": {},
   "outputs": [],
   "source": [
    "az=[]\n",
    "for j in range(len(t)):\n",
    "    a=t.iloc[j+13:j:-1]\n",
    "    az.append(a)\n",
    "    \n",
    "an=[]\n",
    "for i in range(5446,5459):\n",
    "    an.append(t[i])\n",
    "\n",
    "for x in range(len(az)-13):\n",
    "    b=sum(az[x])\n",
    "    an.append(b)"
   ]
  },
  {
   "cell_type": "code",
   "execution_count": 364,
   "metadata": {},
   "outputs": [
    {
     "name": "stderr",
     "output_type": "stream",
     "text": [
      "C:\\Users\\ASUS\\AppData\\Local\\Temp\\ipykernel_16188\\566990766.py:1: SettingWithCopyWarning: \n",
      "A value is trying to be set on a copy of a slice from a DataFrame.\n",
      "Try using .loc[row_indexer,col_indexer] = value instead\n",
      "\n",
      "See the caveats in the documentation: https://pandas.pydata.org/pandas-docs/stable/user_guide/indexing.html#returning-a-view-versus-a-copy\n",
      "  s['3M'] = f\n",
      "C:\\Users\\ASUS\\AppData\\Local\\Temp\\ipykernel_16188\\566990766.py:2: SettingWithCopyWarning: \n",
      "A value is trying to be set on a copy of a slice from a DataFrame.\n",
      "Try using .loc[row_indexer,col_indexer] = value instead\n",
      "\n",
      "See the caveats in the documentation: https://pandas.pydata.org/pandas-docs/stable/user_guide/indexing.html#returning-a-view-versus-a-copy\n",
      "  s['Y'] = an\n"
     ]
    }
   ],
   "source": [
    "s['3M'] = f\n",
    "s['Y'] = an\n",
    "s.to_csv(r'C:\\Users\\ASUS\\Desktop\\WHK\\practici\\adm_0_ACLED\\Mozambique.csv')"
   ]
  },
  {
   "cell_type": "code",
   "execution_count": 365,
   "metadata": {},
   "outputs": [
    {
     "data": {
      "text/plain": [
       "5654    30.0\n",
       "5655    71.0\n",
       "5656     9.0\n",
       "5657    14.0\n",
       "5658     2.0\n",
       "        ... \n",
       "5846     2.0\n",
       "5847     0.0\n",
       "5848     0.0\n",
       "5849     1.0\n",
       "5850     0.0\n",
       "Name: fatalities, Length: 197, dtype: float64"
      ]
     },
     "execution_count": 365,
     "metadata": {},
     "output_type": "execute_result"
    }
   ],
   "source": [
    "s = dd[dd['country']=='Namibia']\n",
    "\n",
    "t=s.fatalities\n",
    "t = t.astype(float)\n",
    "t"
   ]
  },
  {
   "cell_type": "code",
   "execution_count": 366,
   "metadata": {},
   "outputs": [],
   "source": [
    "f = []\n",
    "f.append(t[5654])\n",
    "f.append(t[5655])\n",
    "for i in range(5656,5851):\n",
    "   \n",
    "    result= t[i] + t[i-1] + t[i-2]\n",
    "    f.append( result)"
   ]
  },
  {
   "cell_type": "code",
   "execution_count": 368,
   "metadata": {},
   "outputs": [],
   "source": [
    "az=[]\n",
    "for j in range(len(t)):\n",
    "    a=t.iloc[j+13:j:-1]\n",
    "    az.append(a)\n",
    "    \n",
    "an=[]\n",
    "for i in range(5654,5667):\n",
    "    an.append(t[i])\n",
    "\n",
    "for x in range(len(az)-13):\n",
    "    b=sum(az[x])\n",
    "    an.append(b)"
   ]
  },
  {
   "cell_type": "code",
   "execution_count": 370,
   "metadata": {},
   "outputs": [
    {
     "name": "stderr",
     "output_type": "stream",
     "text": [
      "C:\\Users\\ASUS\\AppData\\Local\\Temp\\ipykernel_16188\\955692803.py:1: SettingWithCopyWarning: \n",
      "A value is trying to be set on a copy of a slice from a DataFrame.\n",
      "Try using .loc[row_indexer,col_indexer] = value instead\n",
      "\n",
      "See the caveats in the documentation: https://pandas.pydata.org/pandas-docs/stable/user_guide/indexing.html#returning-a-view-versus-a-copy\n",
      "  s['3M'] = f\n",
      "C:\\Users\\ASUS\\AppData\\Local\\Temp\\ipykernel_16188\\955692803.py:2: SettingWithCopyWarning: \n",
      "A value is trying to be set on a copy of a slice from a DataFrame.\n",
      "Try using .loc[row_indexer,col_indexer] = value instead\n",
      "\n",
      "See the caveats in the documentation: https://pandas.pydata.org/pandas-docs/stable/user_guide/indexing.html#returning-a-view-versus-a-copy\n",
      "  s['Y'] = an\n"
     ]
    }
   ],
   "source": [
    "s['3M'] = f\n",
    "s['Y'] = an\n",
    "s.to_csv(r'C:\\Users\\ASUS\\Desktop\\WHK\\practici\\adm_0_ACLED\\Namibia.csv')"
   ]
  },
  {
   "cell_type": "code",
   "execution_count": 371,
   "metadata": {},
   "outputs": [
    {
     "data": {
      "text/plain": [
       "5851      0.0\n",
       "5852      0.0\n",
       "5853      0.0\n",
       "5854      0.0\n",
       "5855      0.0\n",
       "        ...  \n",
       "6044     93.0\n",
       "6045     99.0\n",
       "6046    118.0\n",
       "6047    127.0\n",
       "6048     45.0\n",
       "Name: fatalities, Length: 198, dtype: float64"
      ]
     },
     "execution_count": 371,
     "metadata": {},
     "output_type": "execute_result"
    }
   ],
   "source": [
    "s = dd[dd['country']=='Niger']\n",
    "\n",
    "t=s.fatalities\n",
    "t = t.astype(float)\n",
    "t"
   ]
  },
  {
   "cell_type": "code",
   "execution_count": 372,
   "metadata": {},
   "outputs": [],
   "source": [
    "f = []\n",
    "f.append(t[5851])\n",
    "f.append(t[5852])\n",
    "for i in range(5853,6049):\n",
    "   \n",
    "    result= t[i] + t[i-1] + t[i-2]\n",
    "    f.append( result)"
   ]
  },
  {
   "cell_type": "code",
   "execution_count": 373,
   "metadata": {},
   "outputs": [],
   "source": [
    "az=[]\n",
    "for j in range(len(t)):\n",
    "    a=t.iloc[j+13:j:-1]\n",
    "    az.append(a)\n",
    "    \n",
    "an=[]\n",
    "for i in range(5851,5864):\n",
    "    an.append(t[i])\n",
    "\n",
    "for x in range(len(az)-13):\n",
    "    b=sum(az[x])\n",
    "    an.append(b)"
   ]
  },
  {
   "cell_type": "code",
   "execution_count": 375,
   "metadata": {},
   "outputs": [
    {
     "name": "stderr",
     "output_type": "stream",
     "text": [
      "C:\\Users\\ASUS\\AppData\\Local\\Temp\\ipykernel_16188\\3229031258.py:1: SettingWithCopyWarning: \n",
      "A value is trying to be set on a copy of a slice from a DataFrame.\n",
      "Try using .loc[row_indexer,col_indexer] = value instead\n",
      "\n",
      "See the caveats in the documentation: https://pandas.pydata.org/pandas-docs/stable/user_guide/indexing.html#returning-a-view-versus-a-copy\n",
      "  s['3M'] = f\n",
      "C:\\Users\\ASUS\\AppData\\Local\\Temp\\ipykernel_16188\\3229031258.py:2: SettingWithCopyWarning: \n",
      "A value is trying to be set on a copy of a slice from a DataFrame.\n",
      "Try using .loc[row_indexer,col_indexer] = value instead\n",
      "\n",
      "See the caveats in the documentation: https://pandas.pydata.org/pandas-docs/stable/user_guide/indexing.html#returning-a-view-versus-a-copy\n",
      "  s['Y'] = an\n"
     ]
    }
   ],
   "source": [
    "s['3M'] = f\n",
    "s['Y'] = an\n",
    "s.to_csv(r'C:\\Users\\ASUS\\Desktop\\WHK\\practici\\adm_0_ACLED\\Niger.csv')"
   ]
  },
  {
   "cell_type": "code",
   "execution_count": 376,
   "metadata": {},
   "outputs": [
    {
     "data": {
      "text/plain": [
       "6049      23.0\n",
       "6050    2101.0\n",
       "6051     124.0\n",
       "6052      39.0\n",
       "6053     459.0\n",
       "         ...  \n",
       "6315    1528.0\n",
       "6316     880.0\n",
       "6317     676.0\n",
       "6318     771.0\n",
       "6319     183.0\n",
       "Name: fatalities, Length: 271, dtype: float64"
      ]
     },
     "execution_count": 376,
     "metadata": {},
     "output_type": "execute_result"
    }
   ],
   "source": [
    "s = dd[dd['country']=='Nigeria']\n",
    "\n",
    "t=s.fatalities\n",
    "t = t.astype(float)\n",
    "t"
   ]
  },
  {
   "cell_type": "code",
   "execution_count": 377,
   "metadata": {},
   "outputs": [],
   "source": [
    "f = []\n",
    "f.append(t[6049])\n",
    "f.append(t[6050])\n",
    "for i in range(6051,6320):\n",
    "   \n",
    "    result= t[i] + t[i-1] + t[i-2]\n",
    "    f.append( result)"
   ]
  },
  {
   "cell_type": "code",
   "execution_count": 378,
   "metadata": {},
   "outputs": [],
   "source": [
    "az=[]\n",
    "for j in range(len(t)):\n",
    "    a=t.iloc[j+13:j:-1]\n",
    "    az.append(a)\n",
    "    \n",
    "an=[]\n",
    "for i in range(6049,6062):\n",
    "    an.append(t[i])\n",
    "\n",
    "\n",
    "for x in range(len(az)-13):\n",
    "    b=sum(az[x])\n",
    "    an.append(b)"
   ]
  },
  {
   "cell_type": "code",
   "execution_count": 380,
   "metadata": {},
   "outputs": [
    {
     "name": "stderr",
     "output_type": "stream",
     "text": [
      "C:\\Users\\ASUS\\AppData\\Local\\Temp\\ipykernel_16188\\3277155381.py:1: SettingWithCopyWarning: \n",
      "A value is trying to be set on a copy of a slice from a DataFrame.\n",
      "Try using .loc[row_indexer,col_indexer] = value instead\n",
      "\n",
      "See the caveats in the documentation: https://pandas.pydata.org/pandas-docs/stable/user_guide/indexing.html#returning-a-view-versus-a-copy\n",
      "  s['3M'] = f\n",
      "C:\\Users\\ASUS\\AppData\\Local\\Temp\\ipykernel_16188\\3277155381.py:2: SettingWithCopyWarning: \n",
      "A value is trying to be set on a copy of a slice from a DataFrame.\n",
      "Try using .loc[row_indexer,col_indexer] = value instead\n",
      "\n",
      "See the caveats in the documentation: https://pandas.pydata.org/pandas-docs/stable/user_guide/indexing.html#returning-a-view-versus-a-copy\n",
      "  s['Y'] = an\n"
     ]
    }
   ],
   "source": [
    "s['3M'] = f\n",
    "s['Y'] = an\n",
    "s.to_csv(r'C:\\Users\\ASUS\\Desktop\\WHK\\practici\\adm_0_ACLED\\Nigeria.csv')"
   ]
  },
  {
   "cell_type": "code",
   "execution_count": 381,
   "metadata": {},
   "outputs": [
    {
     "data": {
      "text/plain": [
       "6320    80.0\n",
       "6321     0.0\n",
       "6322    16.0\n",
       "6323     0.0\n",
       "6324     0.0\n",
       "        ... \n",
       "6428     1.0\n",
       "6429     1.0\n",
       "6430     0.0\n",
       "6431     0.0\n",
       "6432     3.0\n",
       "Name: fatalities, Length: 113, dtype: float64"
      ]
     },
     "execution_count": 381,
     "metadata": {},
     "output_type": "execute_result"
    }
   ],
   "source": [
    "s = dd[dd['country']=='Republic of Congo']\n",
    "\n",
    "t=s.fatalities\n",
    "t = t.astype(float)\n",
    "t"
   ]
  },
  {
   "cell_type": "code",
   "execution_count": 382,
   "metadata": {},
   "outputs": [],
   "source": [
    "f = []\n",
    "f.append(t[6320])\n",
    "f.append(t[6321])\n",
    "for i in range(6322,6433):\n",
    "   \n",
    "    result= t[i] + t[i-1] + t[i-2]\n",
    "    f.append( result)"
   ]
  },
  {
   "cell_type": "code",
   "execution_count": 383,
   "metadata": {},
   "outputs": [],
   "source": [
    "az=[]\n",
    "for j in range(len(t)):\n",
    "    a=t.iloc[j+13:j:-1]\n",
    "    az.append(a)\n",
    "    \n",
    "an=[]\n",
    "for i in range(6320,6333):\n",
    "    an.append(t[i])\n",
    "\n",
    "\n",
    "for x in range(len(az)-13):\n",
    "    b=sum(az[x])\n",
    "    an.append(b)"
   ]
  },
  {
   "cell_type": "code",
   "execution_count": 385,
   "metadata": {},
   "outputs": [
    {
     "name": "stderr",
     "output_type": "stream",
     "text": [
      "C:\\Users\\ASUS\\AppData\\Local\\Temp\\ipykernel_16188\\2942204952.py:1: SettingWithCopyWarning: \n",
      "A value is trying to be set on a copy of a slice from a DataFrame.\n",
      "Try using .loc[row_indexer,col_indexer] = value instead\n",
      "\n",
      "See the caveats in the documentation: https://pandas.pydata.org/pandas-docs/stable/user_guide/indexing.html#returning-a-view-versus-a-copy\n",
      "  s['3M'] = f\n",
      "C:\\Users\\ASUS\\AppData\\Local\\Temp\\ipykernel_16188\\2942204952.py:2: SettingWithCopyWarning: \n",
      "A value is trying to be set on a copy of a slice from a DataFrame.\n",
      "Try using .loc[row_indexer,col_indexer] = value instead\n",
      "\n",
      "See the caveats in the documentation: https://pandas.pydata.org/pandas-docs/stable/user_guide/indexing.html#returning-a-view-versus-a-copy\n",
      "  s['Y'] = an\n"
     ]
    }
   ],
   "source": [
    "s['3M'] = f\n",
    "s['Y'] = an\n",
    "s.to_csv(r'C:\\Users\\ASUS\\Desktop\\WHK\\practici\\adm_0_ACLED\\Republic of Congo.csv')"
   ]
  },
  {
   "cell_type": "code",
   "execution_count": 386,
   "metadata": {},
   "outputs": [
    {
     "data": {
      "text/plain": [
       "6464      3.0\n",
       "6465      5.0\n",
       "6466      5.0\n",
       "6467      4.0\n",
       "6468    155.0\n",
       "        ...  \n",
       "6618      0.0\n",
       "6619      2.0\n",
       "6620      0.0\n",
       "6621      2.0\n",
       "6622      3.0\n",
       "Name: fatalities, Length: 159, dtype: float64"
      ]
     },
     "execution_count": 386,
     "metadata": {},
     "output_type": "execute_result"
    }
   ],
   "source": [
    "s = dd[dd['country']=='Rwanda']\n",
    "\n",
    "t=s.fatalities\n",
    "t = t.astype(float)\n",
    "t"
   ]
  },
  {
   "cell_type": "code",
   "execution_count": 387,
   "metadata": {},
   "outputs": [],
   "source": [
    "f = []\n",
    "f.append(t[6464])\n",
    "f.append(t[6465])\n",
    "for i in range(6466,6623):\n",
    "   \n",
    "    result= t[i] + t[i-1] + t[i-2]\n",
    "    f.append( result)"
   ]
  },
  {
   "cell_type": "code",
   "execution_count": 388,
   "metadata": {},
   "outputs": [],
   "source": [
    "az=[]\n",
    "for j in range(len(t)):\n",
    "    a=t.iloc[j+13:j:-1]\n",
    "    az.append(a)\n",
    "    \n",
    "an=[]\n",
    "for i in range(6464,6477):\n",
    "    an.append(t[i])\n",
    "\n",
    "for x in range(len(az)-13):\n",
    "    b=sum(az[x])\n",
    "    an.append(b)"
   ]
  },
  {
   "cell_type": "code",
   "execution_count": 390,
   "metadata": {},
   "outputs": [
    {
     "name": "stderr",
     "output_type": "stream",
     "text": [
      "C:\\Users\\ASUS\\AppData\\Local\\Temp\\ipykernel_16188\\2414389249.py:1: SettingWithCopyWarning: \n",
      "A value is trying to be set on a copy of a slice from a DataFrame.\n",
      "Try using .loc[row_indexer,col_indexer] = value instead\n",
      "\n",
      "See the caveats in the documentation: https://pandas.pydata.org/pandas-docs/stable/user_guide/indexing.html#returning-a-view-versus-a-copy\n",
      "  s['3M'] = f\n",
      "C:\\Users\\ASUS\\AppData\\Local\\Temp\\ipykernel_16188\\2414389249.py:2: SettingWithCopyWarning: \n",
      "A value is trying to be set on a copy of a slice from a DataFrame.\n",
      "Try using .loc[row_indexer,col_indexer] = value instead\n",
      "\n",
      "See the caveats in the documentation: https://pandas.pydata.org/pandas-docs/stable/user_guide/indexing.html#returning-a-view-versus-a-copy\n",
      "  s['Y'] = an\n"
     ]
    }
   ],
   "source": [
    "s['3M'] = f\n",
    "s['Y'] = an\n",
    "s.to_csv(r'C:\\Users\\ASUS\\Desktop\\WHK\\practici\\adm_0_ACLED\\Rwanda.csv')"
   ]
  },
  {
   "cell_type": "code",
   "execution_count": 391,
   "metadata": {},
   "outputs": [
    {
     "data": {
      "text/html": [
       "<div>\n",
       "<style scoped>\n",
       "    .dataframe tbody tr th:only-of-type {\n",
       "        vertical-align: middle;\n",
       "    }\n",
       "\n",
       "    .dataframe tbody tr th {\n",
       "        vertical-align: top;\n",
       "    }\n",
       "\n",
       "    .dataframe thead th {\n",
       "        text-align: right;\n",
       "    }\n",
       "</style>\n",
       "<table border=\"1\" class=\"dataframe\">\n",
       "  <thead>\n",
       "    <tr style=\"text-align: right;\">\n",
       "      <th></th>\n",
       "      <th>country</th>\n",
       "      <th>year</th>\n",
       "      <th>month</th>\n",
       "      <th>fatalities</th>\n",
       "    </tr>\n",
       "  </thead>\n",
       "  <tbody>\n",
       "    <tr>\n",
       "      <th>6635</th>\n",
       "      <td>Senegal</td>\n",
       "      <td>2000</td>\n",
       "      <td>2</td>\n",
       "      <td>17</td>\n",
       "    </tr>\n",
       "    <tr>\n",
       "      <th>6636</th>\n",
       "      <td>Senegal</td>\n",
       "      <td>2000</td>\n",
       "      <td>3</td>\n",
       "      <td>2</td>\n",
       "    </tr>\n",
       "    <tr>\n",
       "      <th>6637</th>\n",
       "      <td>Senegal</td>\n",
       "      <td>2000</td>\n",
       "      <td>4</td>\n",
       "      <td>23</td>\n",
       "    </tr>\n",
       "    <tr>\n",
       "      <th>6638</th>\n",
       "      <td>Senegal</td>\n",
       "      <td>2000</td>\n",
       "      <td>5</td>\n",
       "      <td>2</td>\n",
       "    </tr>\n",
       "    <tr>\n",
       "      <th>6639</th>\n",
       "      <td>Senegal</td>\n",
       "      <td>2000</td>\n",
       "      <td>6</td>\n",
       "      <td>1</td>\n",
       "    </tr>\n",
       "    <tr>\n",
       "      <th>...</th>\n",
       "      <td>...</td>\n",
       "      <td>...</td>\n",
       "      <td>...</td>\n",
       "      <td>...</td>\n",
       "    </tr>\n",
       "    <tr>\n",
       "      <th>6859</th>\n",
       "      <td>Senegal</td>\n",
       "      <td>2022</td>\n",
       "      <td>3</td>\n",
       "      <td>11</td>\n",
       "    </tr>\n",
       "    <tr>\n",
       "      <th>6860</th>\n",
       "      <td>Senegal</td>\n",
       "      <td>2022</td>\n",
       "      <td>4</td>\n",
       "      <td>0</td>\n",
       "    </tr>\n",
       "    <tr>\n",
       "      <th>6861</th>\n",
       "      <td>Senegal</td>\n",
       "      <td>2022</td>\n",
       "      <td>5</td>\n",
       "      <td>1</td>\n",
       "    </tr>\n",
       "    <tr>\n",
       "      <th>6862</th>\n",
       "      <td>Senegal</td>\n",
       "      <td>2022</td>\n",
       "      <td>6</td>\n",
       "      <td>4</td>\n",
       "    </tr>\n",
       "    <tr>\n",
       "      <th>6863</th>\n",
       "      <td>Senegal</td>\n",
       "      <td>2022</td>\n",
       "      <td>7</td>\n",
       "      <td>0</td>\n",
       "    </tr>\n",
       "  </tbody>\n",
       "</table>\n",
       "<p>229 rows × 4 columns</p>\n",
       "</div>"
      ],
      "text/plain": [
       "      country  year month fatalities\n",
       "6635  Senegal  2000     2         17\n",
       "6636  Senegal  2000     3          2\n",
       "6637  Senegal  2000     4         23\n",
       "6638  Senegal  2000     5          2\n",
       "6639  Senegal  2000     6          1\n",
       "...       ...   ...   ...        ...\n",
       "6859  Senegal  2022     3         11\n",
       "6860  Senegal  2022     4          0\n",
       "6861  Senegal  2022     5          1\n",
       "6862  Senegal  2022     6          4\n",
       "6863  Senegal  2022     7          0\n",
       "\n",
       "[229 rows x 4 columns]"
      ]
     },
     "execution_count": 391,
     "metadata": {},
     "output_type": "execute_result"
    }
   ],
   "source": [
    "s = dd[dd['country']=='Senegal']\n",
    "\n",
    "t=s.fatalities\n",
    "t = t.astype(float)\n",
    "s"
   ]
  },
  {
   "cell_type": "code",
   "execution_count": 392,
   "metadata": {},
   "outputs": [],
   "source": [
    "f = []\n",
    "f.append(t[6635])\n",
    "f.append(t[6636])\n",
    "for i in range(6637,6864):\n",
    "   \n",
    "    result= t[i] + t[i-1] + t[i-2]\n",
    "    f.append( result)"
   ]
  },
  {
   "cell_type": "code",
   "execution_count": 395,
   "metadata": {},
   "outputs": [],
   "source": [
    "az=[]\n",
    "for j in range(len(t)):\n",
    "    a=t.iloc[j+13:j:-1]\n",
    "    az.append(a)\n",
    "    \n",
    "an=[]\n",
    "for i in range(6635,6648):\n",
    "    an.append(t[i])\n",
    "\n",
    "\n",
    "for x in range(len(az)-13):\n",
    "    b=sum(az[x])\n",
    "    an.append(b)"
   ]
  },
  {
   "cell_type": "code",
   "execution_count": 397,
   "metadata": {},
   "outputs": [
    {
     "name": "stderr",
     "output_type": "stream",
     "text": [
      "C:\\Users\\ASUS\\AppData\\Local\\Temp\\ipykernel_16188\\510018229.py:1: SettingWithCopyWarning: \n",
      "A value is trying to be set on a copy of a slice from a DataFrame.\n",
      "Try using .loc[row_indexer,col_indexer] = value instead\n",
      "\n",
      "See the caveats in the documentation: https://pandas.pydata.org/pandas-docs/stable/user_guide/indexing.html#returning-a-view-versus-a-copy\n",
      "  s['3M'] = f\n",
      "C:\\Users\\ASUS\\AppData\\Local\\Temp\\ipykernel_16188\\510018229.py:2: SettingWithCopyWarning: \n",
      "A value is trying to be set on a copy of a slice from a DataFrame.\n",
      "Try using .loc[row_indexer,col_indexer] = value instead\n",
      "\n",
      "See the caveats in the documentation: https://pandas.pydata.org/pandas-docs/stable/user_guide/indexing.html#returning-a-view-versus-a-copy\n",
      "  s['Y'] = an\n"
     ]
    }
   ],
   "source": [
    "s['3M'] = f\n",
    "s['Y'] = an\n",
    "s.to_csv(r'C:\\Users\\ASUS\\Desktop\\WHK\\practici\\adm_0_ACLED\\Senegal.csv')"
   ]
  },
  {
   "cell_type": "code",
   "execution_count": 398,
   "metadata": {},
   "outputs": [
    {
     "data": {
      "text/html": [
       "<div>\n",
       "<style scoped>\n",
       "    .dataframe tbody tr th:only-of-type {\n",
       "        vertical-align: middle;\n",
       "    }\n",
       "\n",
       "    .dataframe tbody tr th {\n",
       "        vertical-align: top;\n",
       "    }\n",
       "\n",
       "    .dataframe thead th {\n",
       "        text-align: right;\n",
       "    }\n",
       "</style>\n",
       "<table border=\"1\" class=\"dataframe\">\n",
       "  <thead>\n",
       "    <tr style=\"text-align: right;\">\n",
       "      <th></th>\n",
       "      <th>country</th>\n",
       "      <th>year</th>\n",
       "      <th>month</th>\n",
       "      <th>fatalities</th>\n",
       "    </tr>\n",
       "  </thead>\n",
       "  <tbody>\n",
       "    <tr>\n",
       "      <th>6864</th>\n",
       "      <td>Seychelles</td>\n",
       "      <td>2020</td>\n",
       "      <td>2</td>\n",
       "      <td>0</td>\n",
       "    </tr>\n",
       "    <tr>\n",
       "      <th>6865</th>\n",
       "      <td>Seychelles</td>\n",
       "      <td>2020</td>\n",
       "      <td>3</td>\n",
       "      <td>0</td>\n",
       "    </tr>\n",
       "    <tr>\n",
       "      <th>6866</th>\n",
       "      <td>Seychelles</td>\n",
       "      <td>2020</td>\n",
       "      <td>6</td>\n",
       "      <td>0</td>\n",
       "    </tr>\n",
       "    <tr>\n",
       "      <th>6867</th>\n",
       "      <td>Seychelles</td>\n",
       "      <td>2020</td>\n",
       "      <td>8</td>\n",
       "      <td>0</td>\n",
       "    </tr>\n",
       "    <tr>\n",
       "      <th>6868</th>\n",
       "      <td>Seychelles</td>\n",
       "      <td>2020</td>\n",
       "      <td>10</td>\n",
       "      <td>0</td>\n",
       "    </tr>\n",
       "    <tr>\n",
       "      <th>6869</th>\n",
       "      <td>Seychelles</td>\n",
       "      <td>2020</td>\n",
       "      <td>12</td>\n",
       "      <td>0</td>\n",
       "    </tr>\n",
       "    <tr>\n",
       "      <th>6870</th>\n",
       "      <td>Seychelles</td>\n",
       "      <td>2021</td>\n",
       "      <td>2</td>\n",
       "      <td>0</td>\n",
       "    </tr>\n",
       "  </tbody>\n",
       "</table>\n",
       "</div>"
      ],
      "text/plain": [
       "         country  year month fatalities\n",
       "6864  Seychelles  2020     2          0\n",
       "6865  Seychelles  2020     3          0\n",
       "6866  Seychelles  2020     6          0\n",
       "6867  Seychelles  2020     8          0\n",
       "6868  Seychelles  2020    10          0\n",
       "6869  Seychelles  2020    12          0\n",
       "6870  Seychelles  2021     2          0"
      ]
     },
     "execution_count": 398,
     "metadata": {},
     "output_type": "execute_result"
    }
   ],
   "source": [
    "s = dd[dd['country']=='Seychelles']\n",
    "\n",
    "t=s.fatalities\n",
    "t = t.astype(float)\n",
    "s"
   ]
  },
  {
   "cell_type": "code",
   "execution_count": 405,
   "metadata": {},
   "outputs": [],
   "source": [
    "f = []\n",
    "f.append(t[6864])\n",
    "f.append(t[6865])\n",
    "for i in range(6866,6871):\n",
    "   \n",
    "    result= t[i] + t[i-1] + t[i-2]\n",
    "    f.append( result)\n",
    "    \n"
   ]
  },
  {
   "cell_type": "code",
   "execution_count": 402,
   "metadata": {},
   "outputs": [
    {
     "ename": "KeyError",
     "evalue": "6871",
     "output_type": "error",
     "traceback": [
      "\u001b[1;31m---------------------------------------------------------------------------\u001b[0m",
      "\u001b[1;31mKeyError\u001b[0m                                  Traceback (most recent call last)",
      "File \u001b[1;32m~\\anaconda3\\envs\\plotlyenv\\lib\\site-packages\\pandas\\core\\indexes\\base.py:3621\u001b[0m, in \u001b[0;36mIndex.get_loc\u001b[1;34m(self, key, method, tolerance)\u001b[0m\n\u001b[0;32m   3620\u001b[0m \u001b[38;5;28;01mtry\u001b[39;00m:\n\u001b[1;32m-> 3621\u001b[0m     \u001b[38;5;28;01mreturn\u001b[39;00m \u001b[38;5;28;43mself\u001b[39;49m\u001b[38;5;241;43m.\u001b[39;49m\u001b[43m_engine\u001b[49m\u001b[38;5;241;43m.\u001b[39;49m\u001b[43mget_loc\u001b[49m\u001b[43m(\u001b[49m\u001b[43mcasted_key\u001b[49m\u001b[43m)\u001b[49m\n\u001b[0;32m   3622\u001b[0m \u001b[38;5;28;01mexcept\u001b[39;00m \u001b[38;5;167;01mKeyError\u001b[39;00m \u001b[38;5;28;01mas\u001b[39;00m err:\n",
      "File \u001b[1;32m~\\anaconda3\\envs\\plotlyenv\\lib\\site-packages\\pandas\\_libs\\index.pyx:136\u001b[0m, in \u001b[0;36mpandas._libs.index.IndexEngine.get_loc\u001b[1;34m()\u001b[0m\n",
      "File \u001b[1;32m~\\anaconda3\\envs\\plotlyenv\\lib\\site-packages\\pandas\\_libs\\index.pyx:163\u001b[0m, in \u001b[0;36mpandas._libs.index.IndexEngine.get_loc\u001b[1;34m()\u001b[0m\n",
      "File \u001b[1;32mpandas\\_libs\\hashtable_class_helper.pxi:2131\u001b[0m, in \u001b[0;36mpandas._libs.hashtable.Int64HashTable.get_item\u001b[1;34m()\u001b[0m\n",
      "File \u001b[1;32mpandas\\_libs\\hashtable_class_helper.pxi:2140\u001b[0m, in \u001b[0;36mpandas._libs.hashtable.Int64HashTable.get_item\u001b[1;34m()\u001b[0m\n",
      "\u001b[1;31mKeyError\u001b[0m: 6871",
      "\nThe above exception was the direct cause of the following exception:\n",
      "\u001b[1;31mKeyError\u001b[0m                                  Traceback (most recent call last)",
      "Input \u001b[1;32mIn [402]\u001b[0m, in \u001b[0;36m<cell line: 7>\u001b[1;34m()\u001b[0m\n\u001b[0;32m      6\u001b[0m an\u001b[38;5;241m=\u001b[39m[]\n\u001b[0;32m      7\u001b[0m \u001b[38;5;28;01mfor\u001b[39;00m i \u001b[38;5;129;01min\u001b[39;00m \u001b[38;5;28mrange\u001b[39m(\u001b[38;5;241m6864\u001b[39m,\u001b[38;5;241m6877\u001b[39m):\n\u001b[1;32m----> 8\u001b[0m     an\u001b[38;5;241m.\u001b[39mappend(\u001b[43mt\u001b[49m\u001b[43m[\u001b[49m\u001b[43mi\u001b[49m\u001b[43m]\u001b[49m)\n\u001b[0;32m     10\u001b[0m \u001b[38;5;28;01mfor\u001b[39;00m x \u001b[38;5;129;01min\u001b[39;00m \u001b[38;5;28mrange\u001b[39m(\u001b[38;5;28mlen\u001b[39m(az)\u001b[38;5;241m-\u001b[39m\u001b[38;5;241m13\u001b[39m):\n\u001b[0;32m     11\u001b[0m     b\u001b[38;5;241m=\u001b[39m\u001b[38;5;28msum\u001b[39m(az[x])\n",
      "File \u001b[1;32m~\\anaconda3\\envs\\plotlyenv\\lib\\site-packages\\pandas\\core\\series.py:958\u001b[0m, in \u001b[0;36mSeries.__getitem__\u001b[1;34m(self, key)\u001b[0m\n\u001b[0;32m    955\u001b[0m     \u001b[38;5;28;01mreturn\u001b[39;00m \u001b[38;5;28mself\u001b[39m\u001b[38;5;241m.\u001b[39m_values[key]\n\u001b[0;32m    957\u001b[0m \u001b[38;5;28;01melif\u001b[39;00m key_is_scalar:\n\u001b[1;32m--> 958\u001b[0m     \u001b[38;5;28;01mreturn\u001b[39;00m \u001b[38;5;28;43mself\u001b[39;49m\u001b[38;5;241;43m.\u001b[39;49m\u001b[43m_get_value\u001b[49m\u001b[43m(\u001b[49m\u001b[43mkey\u001b[49m\u001b[43m)\u001b[49m\n\u001b[0;32m    960\u001b[0m \u001b[38;5;28;01mif\u001b[39;00m is_hashable(key):\n\u001b[0;32m    961\u001b[0m     \u001b[38;5;66;03m# Otherwise index.get_value will raise InvalidIndexError\u001b[39;00m\n\u001b[0;32m    962\u001b[0m     \u001b[38;5;28;01mtry\u001b[39;00m:\n\u001b[0;32m    963\u001b[0m         \u001b[38;5;66;03m# For labels that don't resolve as scalars like tuples and frozensets\u001b[39;00m\n",
      "File \u001b[1;32m~\\anaconda3\\envs\\plotlyenv\\lib\\site-packages\\pandas\\core\\series.py:1069\u001b[0m, in \u001b[0;36mSeries._get_value\u001b[1;34m(self, label, takeable)\u001b[0m\n\u001b[0;32m   1066\u001b[0m     \u001b[38;5;28;01mreturn\u001b[39;00m \u001b[38;5;28mself\u001b[39m\u001b[38;5;241m.\u001b[39m_values[label]\n\u001b[0;32m   1068\u001b[0m \u001b[38;5;66;03m# Similar to Index.get_value, but we do not fall back to positional\u001b[39;00m\n\u001b[1;32m-> 1069\u001b[0m loc \u001b[38;5;241m=\u001b[39m \u001b[38;5;28;43mself\u001b[39;49m\u001b[38;5;241;43m.\u001b[39;49m\u001b[43mindex\u001b[49m\u001b[38;5;241;43m.\u001b[39;49m\u001b[43mget_loc\u001b[49m\u001b[43m(\u001b[49m\u001b[43mlabel\u001b[49m\u001b[43m)\u001b[49m\n\u001b[0;32m   1070\u001b[0m \u001b[38;5;28;01mreturn\u001b[39;00m \u001b[38;5;28mself\u001b[39m\u001b[38;5;241m.\u001b[39mindex\u001b[38;5;241m.\u001b[39m_get_values_for_loc(\u001b[38;5;28mself\u001b[39m, loc, label)\n",
      "File \u001b[1;32m~\\anaconda3\\envs\\plotlyenv\\lib\\site-packages\\pandas\\core\\indexes\\base.py:3623\u001b[0m, in \u001b[0;36mIndex.get_loc\u001b[1;34m(self, key, method, tolerance)\u001b[0m\n\u001b[0;32m   3621\u001b[0m     \u001b[38;5;28;01mreturn\u001b[39;00m \u001b[38;5;28mself\u001b[39m\u001b[38;5;241m.\u001b[39m_engine\u001b[38;5;241m.\u001b[39mget_loc(casted_key)\n\u001b[0;32m   3622\u001b[0m \u001b[38;5;28;01mexcept\u001b[39;00m \u001b[38;5;167;01mKeyError\u001b[39;00m \u001b[38;5;28;01mas\u001b[39;00m err:\n\u001b[1;32m-> 3623\u001b[0m     \u001b[38;5;28;01mraise\u001b[39;00m \u001b[38;5;167;01mKeyError\u001b[39;00m(key) \u001b[38;5;28;01mfrom\u001b[39;00m \u001b[38;5;21;01merr\u001b[39;00m\n\u001b[0;32m   3624\u001b[0m \u001b[38;5;28;01mexcept\u001b[39;00m \u001b[38;5;167;01mTypeError\u001b[39;00m:\n\u001b[0;32m   3625\u001b[0m     \u001b[38;5;66;03m# If we have a listlike key, _check_indexing_error will raise\u001b[39;00m\n\u001b[0;32m   3626\u001b[0m     \u001b[38;5;66;03m#  InvalidIndexError. Otherwise we fall through and re-raise\u001b[39;00m\n\u001b[0;32m   3627\u001b[0m     \u001b[38;5;66;03m#  the TypeError.\u001b[39;00m\n\u001b[0;32m   3628\u001b[0m     \u001b[38;5;28mself\u001b[39m\u001b[38;5;241m.\u001b[39m_check_indexing_error(key)\n",
      "\u001b[1;31mKeyError\u001b[0m: 6871"
     ]
    }
   ],
   "source": [
    "az=[]\n",
    "for j in range(len(t)):\n",
    "    a=t.iloc[j+13:j:-1]\n",
    "    az.append(a)\n",
    "    \n",
    "an=[]\n",
    "for i in range(6864,6877):\n",
    "    an.append(t[i])\n",
    "\n",
    "for x in range(len(az)-13):\n",
    "    b=sum(az[x])\n",
    "    an.append(b)"
   ]
  },
  {
   "cell_type": "code",
   "execution_count": 359,
   "metadata": {},
   "outputs": [
    {
     "name": "stderr",
     "output_type": "stream",
     "text": [
      "C:\\Users\\ASUS\\AppData\\Local\\Temp\\ipykernel_9296\\2588150417.py:1: SettingWithCopyWarning: \n",
      "A value is trying to be set on a copy of a slice from a DataFrame.\n",
      "Try using .loc[row_indexer,col_indexer] = value instead\n",
      "\n",
      "See the caveats in the documentation: https://pandas.pydata.org/pandas-docs/stable/user_guide/indexing.html#returning-a-view-versus-a-copy\n",
      "  s['3M'] = f\n",
      "C:\\Users\\ASUS\\AppData\\Local\\Temp\\ipykernel_9296\\2588150417.py:2: SettingWithCopyWarning: \n",
      "A value is trying to be set on a copy of a slice from a DataFrame.\n",
      "Try using .loc[row_indexer,col_indexer] = value instead\n",
      "\n",
      "See the caveats in the documentation: https://pandas.pydata.org/pandas-docs/stable/user_guide/indexing.html#returning-a-view-versus-a-copy\n",
      "  s['Y'] = an\n"
     ]
    }
   ],
   "source": [
    "s['3M'] = f\n",
    "s['Y'] = an\n",
    "#s.to_csv(r'C:\\Users\\ASUS\\Desktop\\WHK\\practici\\Countries_ACLD\\Seychelles.csv')"
   ]
  },
  {
   "cell_type": "code",
   "execution_count": 406,
   "metadata": {},
   "outputs": [
    {
     "data": {
      "text/html": [
       "<div>\n",
       "<style scoped>\n",
       "    .dataframe tbody tr th:only-of-type {\n",
       "        vertical-align: middle;\n",
       "    }\n",
       "\n",
       "    .dataframe tbody tr th {\n",
       "        vertical-align: top;\n",
       "    }\n",
       "\n",
       "    .dataframe thead th {\n",
       "        text-align: right;\n",
       "    }\n",
       "</style>\n",
       "<table border=\"1\" class=\"dataframe\">\n",
       "  <thead>\n",
       "    <tr style=\"text-align: right;\">\n",
       "      <th></th>\n",
       "      <th>country</th>\n",
       "      <th>year</th>\n",
       "      <th>month</th>\n",
       "      <th>fatalities</th>\n",
       "    </tr>\n",
       "  </thead>\n",
       "  <tbody>\n",
       "    <tr>\n",
       "      <th>6871</th>\n",
       "      <td>Sierra Leone</td>\n",
       "      <td>2000</td>\n",
       "      <td>1</td>\n",
       "      <td>0</td>\n",
       "    </tr>\n",
       "    <tr>\n",
       "      <th>6872</th>\n",
       "      <td>Sierra Leone</td>\n",
       "      <td>2000</td>\n",
       "      <td>2</td>\n",
       "      <td>0</td>\n",
       "    </tr>\n",
       "    <tr>\n",
       "      <th>6873</th>\n",
       "      <td>Sierra Leone</td>\n",
       "      <td>2000</td>\n",
       "      <td>3</td>\n",
       "      <td>0</td>\n",
       "    </tr>\n",
       "    <tr>\n",
       "      <th>6874</th>\n",
       "      <td>Sierra Leone</td>\n",
       "      <td>2000</td>\n",
       "      <td>4</td>\n",
       "      <td>0</td>\n",
       "    </tr>\n",
       "    <tr>\n",
       "      <th>6875</th>\n",
       "      <td>Sierra Leone</td>\n",
       "      <td>2000</td>\n",
       "      <td>5</td>\n",
       "      <td>0</td>\n",
       "    </tr>\n",
       "    <tr>\n",
       "      <th>...</th>\n",
       "      <td>...</td>\n",
       "      <td>...</td>\n",
       "      <td>...</td>\n",
       "      <td>...</td>\n",
       "    </tr>\n",
       "    <tr>\n",
       "      <th>7042</th>\n",
       "      <td>Sierra Leone</td>\n",
       "      <td>2022</td>\n",
       "      <td>3</td>\n",
       "      <td>0</td>\n",
       "    </tr>\n",
       "    <tr>\n",
       "      <th>7043</th>\n",
       "      <td>Sierra Leone</td>\n",
       "      <td>2022</td>\n",
       "      <td>4</td>\n",
       "      <td>1</td>\n",
       "    </tr>\n",
       "    <tr>\n",
       "      <th>7044</th>\n",
       "      <td>Sierra Leone</td>\n",
       "      <td>2022</td>\n",
       "      <td>5</td>\n",
       "      <td>0</td>\n",
       "    </tr>\n",
       "    <tr>\n",
       "      <th>7045</th>\n",
       "      <td>Sierra Leone</td>\n",
       "      <td>2022</td>\n",
       "      <td>6</td>\n",
       "      <td>1</td>\n",
       "    </tr>\n",
       "    <tr>\n",
       "      <th>7046</th>\n",
       "      <td>Sierra Leone</td>\n",
       "      <td>2022</td>\n",
       "      <td>7</td>\n",
       "      <td>0</td>\n",
       "    </tr>\n",
       "  </tbody>\n",
       "</table>\n",
       "<p>176 rows × 4 columns</p>\n",
       "</div>"
      ],
      "text/plain": [
       "           country  year month fatalities\n",
       "6871  Sierra Leone  2000     1          0\n",
       "6872  Sierra Leone  2000     2          0\n",
       "6873  Sierra Leone  2000     3          0\n",
       "6874  Sierra Leone  2000     4          0\n",
       "6875  Sierra Leone  2000     5          0\n",
       "...            ...   ...   ...        ...\n",
       "7042  Sierra Leone  2022     3          0\n",
       "7043  Sierra Leone  2022     4          1\n",
       "7044  Sierra Leone  2022     5          0\n",
       "7045  Sierra Leone  2022     6          1\n",
       "7046  Sierra Leone  2022     7          0\n",
       "\n",
       "[176 rows x 4 columns]"
      ]
     },
     "execution_count": 406,
     "metadata": {},
     "output_type": "execute_result"
    }
   ],
   "source": [
    "s = dd[dd['country']=='Sierra Leone']\n",
    "\n",
    "t=s.fatalities\n",
    "t = t.astype(float)\n",
    "s"
   ]
  },
  {
   "cell_type": "code",
   "execution_count": 407,
   "metadata": {},
   "outputs": [],
   "source": [
    "f = []\n",
    "f.append(t[6871])\n",
    "f.append(t[6872])\n",
    "for i in range(6873,7047):\n",
    "   \n",
    "    result= t[i] + t[i-1] + t[i-2]\n",
    "    f.append( result)"
   ]
  },
  {
   "cell_type": "code",
   "execution_count": 409,
   "metadata": {},
   "outputs": [],
   "source": [
    "az=[]\n",
    "for j in range(len(t)):\n",
    "    a=t.iloc[j+13:j:-1]\n",
    "    az.append(a)\n",
    "    \n",
    "an=[]\n",
    "for i in range(6871,6884):\n",
    "    an.append(t[i])\n",
    "\n",
    "for x in range(len(az)-13):\n",
    "    b=sum(az[x])\n",
    "    an.append(b)"
   ]
  },
  {
   "cell_type": "code",
   "execution_count": 411,
   "metadata": {},
   "outputs": [
    {
     "name": "stderr",
     "output_type": "stream",
     "text": [
      "C:\\Users\\ASUS\\AppData\\Local\\Temp\\ipykernel_16188\\757766501.py:1: SettingWithCopyWarning: \n",
      "A value is trying to be set on a copy of a slice from a DataFrame.\n",
      "Try using .loc[row_indexer,col_indexer] = value instead\n",
      "\n",
      "See the caveats in the documentation: https://pandas.pydata.org/pandas-docs/stable/user_guide/indexing.html#returning-a-view-versus-a-copy\n",
      "  s['3M'] = f\n",
      "C:\\Users\\ASUS\\AppData\\Local\\Temp\\ipykernel_16188\\757766501.py:2: SettingWithCopyWarning: \n",
      "A value is trying to be set on a copy of a slice from a DataFrame.\n",
      "Try using .loc[row_indexer,col_indexer] = value instead\n",
      "\n",
      "See the caveats in the documentation: https://pandas.pydata.org/pandas-docs/stable/user_guide/indexing.html#returning-a-view-versus-a-copy\n",
      "  s['Y'] = an\n"
     ]
    }
   ],
   "source": [
    "s['3M'] = f\n",
    "s['Y'] = an\n",
    "s.to_csv(r'C:\\Users\\ASUS\\Desktop\\WHK\\practici\\adm_0_ACLED\\Sierra Leone.csv')"
   ]
  },
  {
   "cell_type": "code",
   "execution_count": 412,
   "metadata": {},
   "outputs": [
    {
     "data": {
      "text/html": [
       "<div>\n",
       "<style scoped>\n",
       "    .dataframe tbody tr th:only-of-type {\n",
       "        vertical-align: middle;\n",
       "    }\n",
       "\n",
       "    .dataframe tbody tr th {\n",
       "        vertical-align: top;\n",
       "    }\n",
       "\n",
       "    .dataframe thead th {\n",
       "        text-align: right;\n",
       "    }\n",
       "</style>\n",
       "<table border=\"1\" class=\"dataframe\">\n",
       "  <thead>\n",
       "    <tr style=\"text-align: right;\">\n",
       "      <th></th>\n",
       "      <th>country</th>\n",
       "      <th>year</th>\n",
       "      <th>month</th>\n",
       "      <th>fatalities</th>\n",
       "    </tr>\n",
       "  </thead>\n",
       "  <tbody>\n",
       "    <tr>\n",
       "      <th>7047</th>\n",
       "      <td>Somalia</td>\n",
       "      <td>2000</td>\n",
       "      <td>1</td>\n",
       "      <td>5</td>\n",
       "    </tr>\n",
       "    <tr>\n",
       "      <th>7048</th>\n",
       "      <td>Somalia</td>\n",
       "      <td>2000</td>\n",
       "      <td>2</td>\n",
       "      <td>0</td>\n",
       "    </tr>\n",
       "    <tr>\n",
       "      <th>7049</th>\n",
       "      <td>Somalia</td>\n",
       "      <td>2000</td>\n",
       "      <td>3</td>\n",
       "      <td>1</td>\n",
       "    </tr>\n",
       "    <tr>\n",
       "      <th>7050</th>\n",
       "      <td>Somalia</td>\n",
       "      <td>2000</td>\n",
       "      <td>4</td>\n",
       "      <td>0</td>\n",
       "    </tr>\n",
       "    <tr>\n",
       "      <th>7051</th>\n",
       "      <td>Somalia</td>\n",
       "      <td>2000</td>\n",
       "      <td>5</td>\n",
       "      <td>1</td>\n",
       "    </tr>\n",
       "    <tr>\n",
       "      <th>...</th>\n",
       "      <td>...</td>\n",
       "      <td>...</td>\n",
       "      <td>...</td>\n",
       "      <td>...</td>\n",
       "    </tr>\n",
       "    <tr>\n",
       "      <th>7312</th>\n",
       "      <td>Somalia</td>\n",
       "      <td>2022</td>\n",
       "      <td>3</td>\n",
       "      <td>484</td>\n",
       "    </tr>\n",
       "    <tr>\n",
       "      <th>7313</th>\n",
       "      <td>Somalia</td>\n",
       "      <td>2022</td>\n",
       "      <td>4</td>\n",
       "      <td>178</td>\n",
       "    </tr>\n",
       "    <tr>\n",
       "      <th>7314</th>\n",
       "      <td>Somalia</td>\n",
       "      <td>2022</td>\n",
       "      <td>5</td>\n",
       "      <td>255</td>\n",
       "    </tr>\n",
       "    <tr>\n",
       "      <th>7315</th>\n",
       "      <td>Somalia</td>\n",
       "      <td>2022</td>\n",
       "      <td>6</td>\n",
       "      <td>312</td>\n",
       "    </tr>\n",
       "    <tr>\n",
       "      <th>7316</th>\n",
       "      <td>Somalia</td>\n",
       "      <td>2022</td>\n",
       "      <td>7</td>\n",
       "      <td>86</td>\n",
       "    </tr>\n",
       "  </tbody>\n",
       "</table>\n",
       "<p>270 rows × 4 columns</p>\n",
       "</div>"
      ],
      "text/plain": [
       "      country  year month fatalities\n",
       "7047  Somalia  2000     1          5\n",
       "7048  Somalia  2000     2          0\n",
       "7049  Somalia  2000     3          1\n",
       "7050  Somalia  2000     4          0\n",
       "7051  Somalia  2000     5          1\n",
       "...       ...   ...   ...        ...\n",
       "7312  Somalia  2022     3        484\n",
       "7313  Somalia  2022     4        178\n",
       "7314  Somalia  2022     5        255\n",
       "7315  Somalia  2022     6        312\n",
       "7316  Somalia  2022     7         86\n",
       "\n",
       "[270 rows x 4 columns]"
      ]
     },
     "execution_count": 412,
     "metadata": {},
     "output_type": "execute_result"
    }
   ],
   "source": [
    "s = dd[dd['country']=='Somalia']\n",
    "\n",
    "t=s.fatalities\n",
    "t = t.astype(float)\n",
    "s"
   ]
  },
  {
   "cell_type": "code",
   "execution_count": 414,
   "metadata": {},
   "outputs": [],
   "source": [
    "f = []\n",
    "f.append(t[7047])\n",
    "f.append(t[7048])\n",
    "for i in range(7049,7317):\n",
    "   \n",
    "    result= t[i] + t[i-1] + t[i-2]\n",
    "    f.append( result)"
   ]
  },
  {
   "cell_type": "code",
   "execution_count": 415,
   "metadata": {},
   "outputs": [],
   "source": [
    "az=[]\n",
    "for j in range(len(t)):\n",
    "    a=t.iloc[j+13:j:-1]\n",
    "    az.append(a)\n",
    "    \n",
    "an=[]\n",
    "for i in range(7047,7060):\n",
    "    an.append(t[i])\n",
    "\n",
    "for x in range(len(az)-13):\n",
    "    b=sum(az[x])\n",
    "    an.append(b)"
   ]
  },
  {
   "cell_type": "code",
   "execution_count": 417,
   "metadata": {},
   "outputs": [
    {
     "name": "stderr",
     "output_type": "stream",
     "text": [
      "C:\\Users\\ASUS\\AppData\\Local\\Temp\\ipykernel_16188\\3137389007.py:1: SettingWithCopyWarning: \n",
      "A value is trying to be set on a copy of a slice from a DataFrame.\n",
      "Try using .loc[row_indexer,col_indexer] = value instead\n",
      "\n",
      "See the caveats in the documentation: https://pandas.pydata.org/pandas-docs/stable/user_guide/indexing.html#returning-a-view-versus-a-copy\n",
      "  s['3M'] = f\n",
      "C:\\Users\\ASUS\\AppData\\Local\\Temp\\ipykernel_16188\\3137389007.py:2: SettingWithCopyWarning: \n",
      "A value is trying to be set on a copy of a slice from a DataFrame.\n",
      "Try using .loc[row_indexer,col_indexer] = value instead\n",
      "\n",
      "See the caveats in the documentation: https://pandas.pydata.org/pandas-docs/stable/user_guide/indexing.html#returning-a-view-versus-a-copy\n",
      "  s['Y'] = an\n"
     ]
    }
   ],
   "source": [
    "s['3M'] = f\n",
    "s['Y'] = an\n",
    "s.to_csv(r'C:\\Users\\ASUS\\Desktop\\WHK\\practici\\adm_0_ACLED\\Somalia.csv')"
   ]
  },
  {
   "cell_type": "code",
   "execution_count": 418,
   "metadata": {},
   "outputs": [
    {
     "data": {
      "text/html": [
       "<div>\n",
       "<style scoped>\n",
       "    .dataframe tbody tr th:only-of-type {\n",
       "        vertical-align: middle;\n",
       "    }\n",
       "\n",
       "    .dataframe tbody tr th {\n",
       "        vertical-align: top;\n",
       "    }\n",
       "\n",
       "    .dataframe thead th {\n",
       "        text-align: right;\n",
       "    }\n",
       "</style>\n",
       "<table border=\"1\" class=\"dataframe\">\n",
       "  <thead>\n",
       "    <tr style=\"text-align: right;\">\n",
       "      <th></th>\n",
       "      <th>country</th>\n",
       "      <th>year</th>\n",
       "      <th>month</th>\n",
       "      <th>fatalities</th>\n",
       "    </tr>\n",
       "  </thead>\n",
       "  <tbody>\n",
       "    <tr>\n",
       "      <th>7317</th>\n",
       "      <td>South Africa</td>\n",
       "      <td>2000</td>\n",
       "      <td>1</td>\n",
       "      <td>7</td>\n",
       "    </tr>\n",
       "    <tr>\n",
       "      <th>7318</th>\n",
       "      <td>South Africa</td>\n",
       "      <td>2000</td>\n",
       "      <td>2</td>\n",
       "      <td>0</td>\n",
       "    </tr>\n",
       "    <tr>\n",
       "      <th>7319</th>\n",
       "      <td>South Africa</td>\n",
       "      <td>2000</td>\n",
       "      <td>3</td>\n",
       "      <td>0</td>\n",
       "    </tr>\n",
       "    <tr>\n",
       "      <th>7320</th>\n",
       "      <td>South Africa</td>\n",
       "      <td>2000</td>\n",
       "      <td>4</td>\n",
       "      <td>3</td>\n",
       "    </tr>\n",
       "    <tr>\n",
       "      <th>7321</th>\n",
       "      <td>South Africa</td>\n",
       "      <td>2000</td>\n",
       "      <td>5</td>\n",
       "      <td>2</td>\n",
       "    </tr>\n",
       "    <tr>\n",
       "      <th>...</th>\n",
       "      <td>...</td>\n",
       "      <td>...</td>\n",
       "      <td>...</td>\n",
       "      <td>...</td>\n",
       "    </tr>\n",
       "    <tr>\n",
       "      <th>7582</th>\n",
       "      <td>South Africa</td>\n",
       "      <td>2022</td>\n",
       "      <td>3</td>\n",
       "      <td>13</td>\n",
       "    </tr>\n",
       "    <tr>\n",
       "      <th>7583</th>\n",
       "      <td>South Africa</td>\n",
       "      <td>2022</td>\n",
       "      <td>4</td>\n",
       "      <td>27</td>\n",
       "    </tr>\n",
       "    <tr>\n",
       "      <th>7584</th>\n",
       "      <td>South Africa</td>\n",
       "      <td>2022</td>\n",
       "      <td>5</td>\n",
       "      <td>13</td>\n",
       "    </tr>\n",
       "    <tr>\n",
       "      <th>7585</th>\n",
       "      <td>South Africa</td>\n",
       "      <td>2022</td>\n",
       "      <td>6</td>\n",
       "      <td>32</td>\n",
       "    </tr>\n",
       "    <tr>\n",
       "      <th>7586</th>\n",
       "      <td>South Africa</td>\n",
       "      <td>2022</td>\n",
       "      <td>7</td>\n",
       "      <td>9</td>\n",
       "    </tr>\n",
       "  </tbody>\n",
       "</table>\n",
       "<p>270 rows × 4 columns</p>\n",
       "</div>"
      ],
      "text/plain": [
       "           country  year month fatalities\n",
       "7317  South Africa  2000     1          7\n",
       "7318  South Africa  2000     2          0\n",
       "7319  South Africa  2000     3          0\n",
       "7320  South Africa  2000     4          3\n",
       "7321  South Africa  2000     5          2\n",
       "...            ...   ...   ...        ...\n",
       "7582  South Africa  2022     3         13\n",
       "7583  South Africa  2022     4         27\n",
       "7584  South Africa  2022     5         13\n",
       "7585  South Africa  2022     6         32\n",
       "7586  South Africa  2022     7          9\n",
       "\n",
       "[270 rows x 4 columns]"
      ]
     },
     "execution_count": 418,
     "metadata": {},
     "output_type": "execute_result"
    }
   ],
   "source": [
    "s = dd[dd['country']=='South Africa']\n",
    "\n",
    "t=s.fatalities\n",
    "t = t.astype(float)\n",
    "s"
   ]
  },
  {
   "cell_type": "code",
   "execution_count": 419,
   "metadata": {},
   "outputs": [],
   "source": [
    "f = []\n",
    "f.append(t[7317])\n",
    "f.append(t[7318])\n",
    "for i in range(7319,7587):\n",
    "   \n",
    "    result= t[i] + t[i-1] + t[i-2]\n",
    "    f.append( result)"
   ]
  },
  {
   "cell_type": "code",
   "execution_count": 420,
   "metadata": {},
   "outputs": [],
   "source": [
    "az=[]\n",
    "for j in range(len(t)):\n",
    "    a=t.iloc[j+13:j:-1]\n",
    "    az.append(a)\n",
    "    \n",
    "an=[]\n",
    "for i in range(7317,7330):\n",
    "    an.append(t[i])\n",
    "\n",
    "for x in range(len(az)-13):\n",
    "    b=sum(az[x])\n",
    "    an.append(b)"
   ]
  },
  {
   "cell_type": "code",
   "execution_count": 422,
   "metadata": {},
   "outputs": [
    {
     "name": "stderr",
     "output_type": "stream",
     "text": [
      "C:\\Users\\ASUS\\AppData\\Local\\Temp\\ipykernel_16188\\1087018996.py:1: SettingWithCopyWarning: \n",
      "A value is trying to be set on a copy of a slice from a DataFrame.\n",
      "Try using .loc[row_indexer,col_indexer] = value instead\n",
      "\n",
      "See the caveats in the documentation: https://pandas.pydata.org/pandas-docs/stable/user_guide/indexing.html#returning-a-view-versus-a-copy\n",
      "  s['3M'] = f\n",
      "C:\\Users\\ASUS\\AppData\\Local\\Temp\\ipykernel_16188\\1087018996.py:2: SettingWithCopyWarning: \n",
      "A value is trying to be set on a copy of a slice from a DataFrame.\n",
      "Try using .loc[row_indexer,col_indexer] = value instead\n",
      "\n",
      "See the caveats in the documentation: https://pandas.pydata.org/pandas-docs/stable/user_guide/indexing.html#returning-a-view-versus-a-copy\n",
      "  s['Y'] = an\n"
     ]
    }
   ],
   "source": [
    "s['3M'] = f\n",
    "s['Y'] = an\n",
    "s.to_csv(r'C:\\Users\\ASUS\\Desktop\\WHK\\practici\\adm_0_ACLED\\South Africa.csv')"
   ]
  },
  {
   "cell_type": "code",
   "execution_count": 423,
   "metadata": {},
   "outputs": [
    {
     "data": {
      "text/html": [
       "<div>\n",
       "<style scoped>\n",
       "    .dataframe tbody tr th:only-of-type {\n",
       "        vertical-align: middle;\n",
       "    }\n",
       "\n",
       "    .dataframe tbody tr th {\n",
       "        vertical-align: top;\n",
       "    }\n",
       "\n",
       "    .dataframe thead th {\n",
       "        text-align: right;\n",
       "    }\n",
       "</style>\n",
       "<table border=\"1\" class=\"dataframe\">\n",
       "  <thead>\n",
       "    <tr style=\"text-align: right;\">\n",
       "      <th></th>\n",
       "      <th>country</th>\n",
       "      <th>year</th>\n",
       "      <th>month</th>\n",
       "      <th>fatalities</th>\n",
       "    </tr>\n",
       "  </thead>\n",
       "  <tbody>\n",
       "    <tr>\n",
       "      <th>7587</th>\n",
       "      <td>South Sudan</td>\n",
       "      <td>2011</td>\n",
       "      <td>5</td>\n",
       "      <td>0</td>\n",
       "    </tr>\n",
       "    <tr>\n",
       "      <th>7588</th>\n",
       "      <td>South Sudan</td>\n",
       "      <td>2011</td>\n",
       "      <td>7</td>\n",
       "      <td>1</td>\n",
       "    </tr>\n",
       "    <tr>\n",
       "      <th>7589</th>\n",
       "      <td>South Sudan</td>\n",
       "      <td>2011</td>\n",
       "      <td>8</td>\n",
       "      <td>2216</td>\n",
       "    </tr>\n",
       "    <tr>\n",
       "      <th>7590</th>\n",
       "      <td>South Sudan</td>\n",
       "      <td>2011</td>\n",
       "      <td>9</td>\n",
       "      <td>3</td>\n",
       "    </tr>\n",
       "    <tr>\n",
       "      <th>7591</th>\n",
       "      <td>South Sudan</td>\n",
       "      <td>2011</td>\n",
       "      <td>10</td>\n",
       "      <td>95</td>\n",
       "    </tr>\n",
       "    <tr>\n",
       "      <th>...</th>\n",
       "      <td>...</td>\n",
       "      <td>...</td>\n",
       "      <td>...</td>\n",
       "      <td>...</td>\n",
       "    </tr>\n",
       "    <tr>\n",
       "      <th>7716</th>\n",
       "      <td>South Sudan</td>\n",
       "      <td>2022</td>\n",
       "      <td>3</td>\n",
       "      <td>181</td>\n",
       "    </tr>\n",
       "    <tr>\n",
       "      <th>7717</th>\n",
       "      <td>South Sudan</td>\n",
       "      <td>2022</td>\n",
       "      <td>4</td>\n",
       "      <td>195</td>\n",
       "    </tr>\n",
       "    <tr>\n",
       "      <th>7718</th>\n",
       "      <td>South Sudan</td>\n",
       "      <td>2022</td>\n",
       "      <td>5</td>\n",
       "      <td>143</td>\n",
       "    </tr>\n",
       "    <tr>\n",
       "      <th>7719</th>\n",
       "      <td>South Sudan</td>\n",
       "      <td>2022</td>\n",
       "      <td>6</td>\n",
       "      <td>130</td>\n",
       "    </tr>\n",
       "    <tr>\n",
       "      <th>7720</th>\n",
       "      <td>South Sudan</td>\n",
       "      <td>2022</td>\n",
       "      <td>7</td>\n",
       "      <td>61</td>\n",
       "    </tr>\n",
       "  </tbody>\n",
       "</table>\n",
       "<p>134 rows × 4 columns</p>\n",
       "</div>"
      ],
      "text/plain": [
       "          country  year month fatalities\n",
       "7587  South Sudan  2011     5          0\n",
       "7588  South Sudan  2011     7          1\n",
       "7589  South Sudan  2011     8       2216\n",
       "7590  South Sudan  2011     9          3\n",
       "7591  South Sudan  2011    10         95\n",
       "...           ...   ...   ...        ...\n",
       "7716  South Sudan  2022     3        181\n",
       "7717  South Sudan  2022     4        195\n",
       "7718  South Sudan  2022     5        143\n",
       "7719  South Sudan  2022     6        130\n",
       "7720  South Sudan  2022     7         61\n",
       "\n",
       "[134 rows x 4 columns]"
      ]
     },
     "execution_count": 423,
     "metadata": {},
     "output_type": "execute_result"
    }
   ],
   "source": [
    "s = dd[dd['country']=='South Sudan']\n",
    "\n",
    "t=s.fatalities\n",
    "t = t.astype(float)\n",
    "s"
   ]
  },
  {
   "cell_type": "code",
   "execution_count": 424,
   "metadata": {},
   "outputs": [],
   "source": [
    "f = []\n",
    "f.append(t[7587])\n",
    "f.append(t[7588])\n",
    "for i in range(7589,7721):\n",
    "   \n",
    "    result= t[i] + t[i-1] + t[i-2]\n",
    "    f.append( result)"
   ]
  },
  {
   "cell_type": "code",
   "execution_count": 427,
   "metadata": {},
   "outputs": [],
   "source": [
    "az=[]\n",
    "for j in range(len(t)):\n",
    "    a=t.iloc[j+13:j:-1]\n",
    "    az.append(a)\n",
    "    \n",
    "an=[]\n",
    "for i in range(7587,7600):\n",
    "    an.append(t[i])\n",
    "\n",
    "for x in range(len(az)-13):\n",
    "    b=sum(az[x])\n",
    "    an.append(b)"
   ]
  },
  {
   "cell_type": "code",
   "execution_count": 429,
   "metadata": {},
   "outputs": [
    {
     "name": "stderr",
     "output_type": "stream",
     "text": [
      "C:\\Users\\ASUS\\AppData\\Local\\Temp\\ipykernel_16188\\2521023291.py:1: SettingWithCopyWarning: \n",
      "A value is trying to be set on a copy of a slice from a DataFrame.\n",
      "Try using .loc[row_indexer,col_indexer] = value instead\n",
      "\n",
      "See the caveats in the documentation: https://pandas.pydata.org/pandas-docs/stable/user_guide/indexing.html#returning-a-view-versus-a-copy\n",
      "  s['3M'] = f\n",
      "C:\\Users\\ASUS\\AppData\\Local\\Temp\\ipykernel_16188\\2521023291.py:2: SettingWithCopyWarning: \n",
      "A value is trying to be set on a copy of a slice from a DataFrame.\n",
      "Try using .loc[row_indexer,col_indexer] = value instead\n",
      "\n",
      "See the caveats in the documentation: https://pandas.pydata.org/pandas-docs/stable/user_guide/indexing.html#returning-a-view-versus-a-copy\n",
      "  s['Y'] = an\n"
     ]
    }
   ],
   "source": [
    "s['3M'] = f\n",
    "s['Y'] = an\n",
    "s.to_csv(r'C:\\Users\\ASUS\\Desktop\\WHK\\practici\\adm_0_ACLED\\South_Sudan.csv')"
   ]
  },
  {
   "cell_type": "code",
   "execution_count": 430,
   "metadata": {},
   "outputs": [
    {
     "data": {
      "text/html": [
       "<div>\n",
       "<style scoped>\n",
       "    .dataframe tbody tr th:only-of-type {\n",
       "        vertical-align: middle;\n",
       "    }\n",
       "\n",
       "    .dataframe tbody tr th {\n",
       "        vertical-align: top;\n",
       "    }\n",
       "\n",
       "    .dataframe thead th {\n",
       "        text-align: right;\n",
       "    }\n",
       "</style>\n",
       "<table border=\"1\" class=\"dataframe\">\n",
       "  <thead>\n",
       "    <tr style=\"text-align: right;\">\n",
       "      <th></th>\n",
       "      <th>country</th>\n",
       "      <th>year</th>\n",
       "      <th>month</th>\n",
       "      <th>fatalities</th>\n",
       "    </tr>\n",
       "  </thead>\n",
       "  <tbody>\n",
       "    <tr>\n",
       "      <th>7721</th>\n",
       "      <td>Sudan</td>\n",
       "      <td>2000</td>\n",
       "      <td>1</td>\n",
       "      <td>28</td>\n",
       "    </tr>\n",
       "    <tr>\n",
       "      <th>7722</th>\n",
       "      <td>Sudan</td>\n",
       "      <td>2000</td>\n",
       "      <td>2</td>\n",
       "      <td>83</td>\n",
       "    </tr>\n",
       "    <tr>\n",
       "      <th>7723</th>\n",
       "      <td>Sudan</td>\n",
       "      <td>2000</td>\n",
       "      <td>3</td>\n",
       "      <td>186</td>\n",
       "    </tr>\n",
       "    <tr>\n",
       "      <th>7724</th>\n",
       "      <td>Sudan</td>\n",
       "      <td>2000</td>\n",
       "      <td>4</td>\n",
       "      <td>125</td>\n",
       "    </tr>\n",
       "    <tr>\n",
       "      <th>7725</th>\n",
       "      <td>Sudan</td>\n",
       "      <td>2000</td>\n",
       "      <td>5</td>\n",
       "      <td>152</td>\n",
       "    </tr>\n",
       "    <tr>\n",
       "      <th>...</th>\n",
       "      <td>...</td>\n",
       "      <td>...</td>\n",
       "      <td>...</td>\n",
       "      <td>...</td>\n",
       "    </tr>\n",
       "    <tr>\n",
       "      <th>7987</th>\n",
       "      <td>Sudan</td>\n",
       "      <td>2022</td>\n",
       "      <td>3</td>\n",
       "      <td>166</td>\n",
       "    </tr>\n",
       "    <tr>\n",
       "      <th>7988</th>\n",
       "      <td>Sudan</td>\n",
       "      <td>2022</td>\n",
       "      <td>4</td>\n",
       "      <td>311</td>\n",
       "    </tr>\n",
       "    <tr>\n",
       "      <th>7989</th>\n",
       "      <td>Sudan</td>\n",
       "      <td>2022</td>\n",
       "      <td>5</td>\n",
       "      <td>73</td>\n",
       "    </tr>\n",
       "    <tr>\n",
       "      <th>7990</th>\n",
       "      <td>Sudan</td>\n",
       "      <td>2022</td>\n",
       "      <td>6</td>\n",
       "      <td>249</td>\n",
       "    </tr>\n",
       "    <tr>\n",
       "      <th>7991</th>\n",
       "      <td>Sudan</td>\n",
       "      <td>2022</td>\n",
       "      <td>7</td>\n",
       "      <td>15</td>\n",
       "    </tr>\n",
       "  </tbody>\n",
       "</table>\n",
       "<p>271 rows × 4 columns</p>\n",
       "</div>"
      ],
      "text/plain": [
       "     country  year month fatalities\n",
       "7721   Sudan  2000     1         28\n",
       "7722   Sudan  2000     2         83\n",
       "7723   Sudan  2000     3        186\n",
       "7724   Sudan  2000     4        125\n",
       "7725   Sudan  2000     5        152\n",
       "...      ...   ...   ...        ...\n",
       "7987   Sudan  2022     3        166\n",
       "7988   Sudan  2022     4        311\n",
       "7989   Sudan  2022     5         73\n",
       "7990   Sudan  2022     6        249\n",
       "7991   Sudan  2022     7         15\n",
       "\n",
       "[271 rows x 4 columns]"
      ]
     },
     "execution_count": 430,
     "metadata": {},
     "output_type": "execute_result"
    }
   ],
   "source": [
    "s = dd[dd['country']=='Sudan']\n",
    "\n",
    "t=s.fatalities\n",
    "t = t.astype(float)\n",
    "s"
   ]
  },
  {
   "cell_type": "code",
   "execution_count": 432,
   "metadata": {},
   "outputs": [],
   "source": [
    "f = []\n",
    "f.append(t[7721])\n",
    "f.append(t[7722])\n",
    "for i in range(7723,7992):\n",
    "   \n",
    "    result= t[i] + t[i-1] + t[i-2]\n",
    "    f.append( result)"
   ]
  },
  {
   "cell_type": "code",
   "execution_count": 433,
   "metadata": {},
   "outputs": [],
   "source": [
    "az=[]\n",
    "for j in range(len(t)):\n",
    "    a=t.iloc[j+13:j:-1]\n",
    "    az.append(a)\n",
    "    \n",
    "an=[]\n",
    "for i in range(7721,7734):\n",
    "    an.append(t[i])\n",
    "for x in range(len(az)-13):\n",
    "    b=sum(az[x])\n",
    "    an.append(b)"
   ]
  },
  {
   "cell_type": "code",
   "execution_count": 435,
   "metadata": {},
   "outputs": [
    {
     "name": "stderr",
     "output_type": "stream",
     "text": [
      "C:\\Users\\ASUS\\AppData\\Local\\Temp\\ipykernel_16188\\3895450954.py:1: SettingWithCopyWarning: \n",
      "A value is trying to be set on a copy of a slice from a DataFrame.\n",
      "Try using .loc[row_indexer,col_indexer] = value instead\n",
      "\n",
      "See the caveats in the documentation: https://pandas.pydata.org/pandas-docs/stable/user_guide/indexing.html#returning-a-view-versus-a-copy\n",
      "  s['3M'] = f\n",
      "C:\\Users\\ASUS\\AppData\\Local\\Temp\\ipykernel_16188\\3895450954.py:2: SettingWithCopyWarning: \n",
      "A value is trying to be set on a copy of a slice from a DataFrame.\n",
      "Try using .loc[row_indexer,col_indexer] = value instead\n",
      "\n",
      "See the caveats in the documentation: https://pandas.pydata.org/pandas-docs/stable/user_guide/indexing.html#returning-a-view-versus-a-copy\n",
      "  s['Y'] = an\n"
     ]
    }
   ],
   "source": [
    "s['3M'] = f\n",
    "s['Y'] = an\n",
    "s.to_csv(r'C:\\Users\\ASUS\\Desktop\\WHK\\practici\\adm_0_ACLED\\Sudan.csv')"
   ]
  },
  {
   "cell_type": "code",
   "execution_count": 436,
   "metadata": {},
   "outputs": [
    {
     "data": {
      "text/html": [
       "<div>\n",
       "<style scoped>\n",
       "    .dataframe tbody tr th:only-of-type {\n",
       "        vertical-align: middle;\n",
       "    }\n",
       "\n",
       "    .dataframe tbody tr th {\n",
       "        vertical-align: top;\n",
       "    }\n",
       "\n",
       "    .dataframe thead th {\n",
       "        text-align: right;\n",
       "    }\n",
       "</style>\n",
       "<table border=\"1\" class=\"dataframe\">\n",
       "  <thead>\n",
       "    <tr style=\"text-align: right;\">\n",
       "      <th></th>\n",
       "      <th>country</th>\n",
       "      <th>year</th>\n",
       "      <th>month</th>\n",
       "      <th>fatalities</th>\n",
       "    </tr>\n",
       "  </thead>\n",
       "  <tbody>\n",
       "    <tr>\n",
       "      <th>7992</th>\n",
       "      <td>Tanzania</td>\n",
       "      <td>2000</td>\n",
       "      <td>1</td>\n",
       "      <td>0</td>\n",
       "    </tr>\n",
       "    <tr>\n",
       "      <th>7993</th>\n",
       "      <td>Tanzania</td>\n",
       "      <td>2000</td>\n",
       "      <td>2</td>\n",
       "      <td>5</td>\n",
       "    </tr>\n",
       "    <tr>\n",
       "      <th>7994</th>\n",
       "      <td>Tanzania</td>\n",
       "      <td>2000</td>\n",
       "      <td>9</td>\n",
       "      <td>0</td>\n",
       "    </tr>\n",
       "    <tr>\n",
       "      <th>7995</th>\n",
       "      <td>Tanzania</td>\n",
       "      <td>2000</td>\n",
       "      <td>10</td>\n",
       "      <td>26</td>\n",
       "    </tr>\n",
       "    <tr>\n",
       "      <th>7996</th>\n",
       "      <td>Tanzania</td>\n",
       "      <td>2000</td>\n",
       "      <td>11</td>\n",
       "      <td>1</td>\n",
       "    </tr>\n",
       "    <tr>\n",
       "      <th>...</th>\n",
       "      <td>...</td>\n",
       "      <td>...</td>\n",
       "      <td>...</td>\n",
       "      <td>...</td>\n",
       "    </tr>\n",
       "    <tr>\n",
       "      <th>8196</th>\n",
       "      <td>Tanzania</td>\n",
       "      <td>2022</td>\n",
       "      <td>2</td>\n",
       "      <td>4</td>\n",
       "    </tr>\n",
       "    <tr>\n",
       "      <th>8197</th>\n",
       "      <td>Tanzania</td>\n",
       "      <td>2022</td>\n",
       "      <td>3</td>\n",
       "      <td>1</td>\n",
       "    </tr>\n",
       "    <tr>\n",
       "      <th>8198</th>\n",
       "      <td>Tanzania</td>\n",
       "      <td>2022</td>\n",
       "      <td>4</td>\n",
       "      <td>1</td>\n",
       "    </tr>\n",
       "    <tr>\n",
       "      <th>8199</th>\n",
       "      <td>Tanzania</td>\n",
       "      <td>2022</td>\n",
       "      <td>5</td>\n",
       "      <td>3</td>\n",
       "    </tr>\n",
       "    <tr>\n",
       "      <th>8200</th>\n",
       "      <td>Tanzania</td>\n",
       "      <td>2022</td>\n",
       "      <td>6</td>\n",
       "      <td>2</td>\n",
       "    </tr>\n",
       "  </tbody>\n",
       "</table>\n",
       "<p>209 rows × 4 columns</p>\n",
       "</div>"
      ],
      "text/plain": [
       "       country  year month fatalities\n",
       "7992  Tanzania  2000     1          0\n",
       "7993  Tanzania  2000     2          5\n",
       "7994  Tanzania  2000     9          0\n",
       "7995  Tanzania  2000    10         26\n",
       "7996  Tanzania  2000    11          1\n",
       "...        ...   ...   ...        ...\n",
       "8196  Tanzania  2022     2          4\n",
       "8197  Tanzania  2022     3          1\n",
       "8198  Tanzania  2022     4          1\n",
       "8199  Tanzania  2022     5          3\n",
       "8200  Tanzania  2022     6          2\n",
       "\n",
       "[209 rows x 4 columns]"
      ]
     },
     "execution_count": 436,
     "metadata": {},
     "output_type": "execute_result"
    }
   ],
   "source": [
    "s = dd[dd['country']=='Tanzania']\n",
    "\n",
    "t=s.fatalities\n",
    "t = t.astype(float)\n",
    "s"
   ]
  },
  {
   "cell_type": "code",
   "execution_count": 437,
   "metadata": {},
   "outputs": [],
   "source": [
    "f = []\n",
    "f.append(t[7992])\n",
    "f.append(t[7993])\n",
    "for i in range(7994,8201):\n",
    "   \n",
    "    result= t[i] + t[i-1] + t[i-2]\n",
    "    f.append( result)"
   ]
  },
  {
   "cell_type": "code",
   "execution_count": 438,
   "metadata": {},
   "outputs": [],
   "source": [
    "az=[]\n",
    "for j in range(len(t)):\n",
    "    a=t.iloc[j+13:j:-1]\n",
    "    az.append(a)\n",
    "    \n",
    "an=[]\n",
    "for i in range(7992,8005):\n",
    "    an.append(t[i])\n",
    "\n",
    "for x in range(len(az)-13):\n",
    "    b=sum(az[x])\n",
    "    an.append(b)"
   ]
  },
  {
   "cell_type": "code",
   "execution_count": 440,
   "metadata": {},
   "outputs": [
    {
     "name": "stderr",
     "output_type": "stream",
     "text": [
      "C:\\Users\\ASUS\\AppData\\Local\\Temp\\ipykernel_16188\\2126589731.py:1: SettingWithCopyWarning: \n",
      "A value is trying to be set on a copy of a slice from a DataFrame.\n",
      "Try using .loc[row_indexer,col_indexer] = value instead\n",
      "\n",
      "See the caveats in the documentation: https://pandas.pydata.org/pandas-docs/stable/user_guide/indexing.html#returning-a-view-versus-a-copy\n",
      "  s['3M'] = f\n",
      "C:\\Users\\ASUS\\AppData\\Local\\Temp\\ipykernel_16188\\2126589731.py:2: SettingWithCopyWarning: \n",
      "A value is trying to be set on a copy of a slice from a DataFrame.\n",
      "Try using .loc[row_indexer,col_indexer] = value instead\n",
      "\n",
      "See the caveats in the documentation: https://pandas.pydata.org/pandas-docs/stable/user_guide/indexing.html#returning-a-view-versus-a-copy\n",
      "  s['Y'] = an\n"
     ]
    }
   ],
   "source": [
    "s['3M'] = f\n",
    "s['Y'] = an\n",
    "s.to_csv(r'C:\\Users\\ASUS\\Desktop\\WHK\\practici\\adm_0_ACLED\\Tanzania.csv')"
   ]
  },
  {
   "cell_type": "code",
   "execution_count": 441,
   "metadata": {},
   "outputs": [
    {
     "data": {
      "text/html": [
       "<div>\n",
       "<style scoped>\n",
       "    .dataframe tbody tr th:only-of-type {\n",
       "        vertical-align: middle;\n",
       "    }\n",
       "\n",
       "    .dataframe tbody tr th {\n",
       "        vertical-align: top;\n",
       "    }\n",
       "\n",
       "    .dataframe thead th {\n",
       "        text-align: right;\n",
       "    }\n",
       "</style>\n",
       "<table border=\"1\" class=\"dataframe\">\n",
       "  <thead>\n",
       "    <tr style=\"text-align: right;\">\n",
       "      <th></th>\n",
       "      <th>country</th>\n",
       "      <th>year</th>\n",
       "      <th>month</th>\n",
       "      <th>fatalities</th>\n",
       "    </tr>\n",
       "  </thead>\n",
       "  <tbody>\n",
       "    <tr>\n",
       "      <th>8201</th>\n",
       "      <td>Togo</td>\n",
       "      <td>2000</td>\n",
       "      <td>3</td>\n",
       "      <td>1</td>\n",
       "    </tr>\n",
       "    <tr>\n",
       "      <th>8202</th>\n",
       "      <td>Togo</td>\n",
       "      <td>2001</td>\n",
       "      <td>2</td>\n",
       "      <td>0</td>\n",
       "    </tr>\n",
       "    <tr>\n",
       "      <th>8203</th>\n",
       "      <td>Togo</td>\n",
       "      <td>2001</td>\n",
       "      <td>6</td>\n",
       "      <td>0</td>\n",
       "    </tr>\n",
       "    <tr>\n",
       "      <th>8204</th>\n",
       "      <td>Togo</td>\n",
       "      <td>2001</td>\n",
       "      <td>8</td>\n",
       "      <td>0</td>\n",
       "    </tr>\n",
       "    <tr>\n",
       "      <th>8205</th>\n",
       "      <td>Togo</td>\n",
       "      <td>2002</td>\n",
       "      <td>2</td>\n",
       "      <td>0</td>\n",
       "    </tr>\n",
       "    <tr>\n",
       "      <th>...</th>\n",
       "      <td>...</td>\n",
       "      <td>...</td>\n",
       "      <td>...</td>\n",
       "      <td>...</td>\n",
       "    </tr>\n",
       "    <tr>\n",
       "      <th>8316</th>\n",
       "      <td>Togo</td>\n",
       "      <td>2021</td>\n",
       "      <td>10</td>\n",
       "      <td>1</td>\n",
       "    </tr>\n",
       "    <tr>\n",
       "      <th>8317</th>\n",
       "      <td>Togo</td>\n",
       "      <td>2021</td>\n",
       "      <td>11</td>\n",
       "      <td>0</td>\n",
       "    </tr>\n",
       "    <tr>\n",
       "      <th>8318</th>\n",
       "      <td>Togo</td>\n",
       "      <td>2022</td>\n",
       "      <td>4</td>\n",
       "      <td>0</td>\n",
       "    </tr>\n",
       "    <tr>\n",
       "      <th>8319</th>\n",
       "      <td>Togo</td>\n",
       "      <td>2022</td>\n",
       "      <td>5</td>\n",
       "      <td>8</td>\n",
       "    </tr>\n",
       "    <tr>\n",
       "      <th>8320</th>\n",
       "      <td>Togo</td>\n",
       "      <td>2022</td>\n",
       "      <td>6</td>\n",
       "      <td>1</td>\n",
       "    </tr>\n",
       "  </tbody>\n",
       "</table>\n",
       "<p>120 rows × 4 columns</p>\n",
       "</div>"
      ],
      "text/plain": [
       "     country  year month fatalities\n",
       "8201    Togo  2000     3          1\n",
       "8202    Togo  2001     2          0\n",
       "8203    Togo  2001     6          0\n",
       "8204    Togo  2001     8          0\n",
       "8205    Togo  2002     2          0\n",
       "...      ...   ...   ...        ...\n",
       "8316    Togo  2021    10          1\n",
       "8317    Togo  2021    11          0\n",
       "8318    Togo  2022     4          0\n",
       "8319    Togo  2022     5          8\n",
       "8320    Togo  2022     6          1\n",
       "\n",
       "[120 rows x 4 columns]"
      ]
     },
     "execution_count": 441,
     "metadata": {},
     "output_type": "execute_result"
    }
   ],
   "source": [
    "s = dd[dd['country']=='Togo']\n",
    "\n",
    "t=s.fatalities\n",
    "t = t.astype(float)\n",
    "s"
   ]
  },
  {
   "cell_type": "code",
   "execution_count": 442,
   "metadata": {},
   "outputs": [],
   "source": [
    "f = []\n",
    "f.append(t[8201])\n",
    "f.append(t[8202])\n",
    "for i in range(8203,8321):\n",
    "   \n",
    "    result= t[i] + t[i-1] + t[i-2]\n",
    "    f.append( result)"
   ]
  },
  {
   "cell_type": "code",
   "execution_count": 443,
   "metadata": {},
   "outputs": [],
   "source": [
    "az=[]\n",
    "for j in range(len(t)):\n",
    "    a=t.iloc[j+13:j:-1]\n",
    "    az.append(a)\n",
    "    \n",
    "an=[]\n",
    "for i in range(8201,8214):\n",
    "    an.append(t[i])\n",
    "\n",
    "for x in range(len(az)-13):\n",
    "    b=sum(az[x])\n",
    "    an.append(b)"
   ]
  },
  {
   "cell_type": "code",
   "execution_count": 445,
   "metadata": {},
   "outputs": [
    {
     "name": "stderr",
     "output_type": "stream",
     "text": [
      "C:\\Users\\ASUS\\AppData\\Local\\Temp\\ipykernel_16188\\553007296.py:1: SettingWithCopyWarning: \n",
      "A value is trying to be set on a copy of a slice from a DataFrame.\n",
      "Try using .loc[row_indexer,col_indexer] = value instead\n",
      "\n",
      "See the caveats in the documentation: https://pandas.pydata.org/pandas-docs/stable/user_guide/indexing.html#returning-a-view-versus-a-copy\n",
      "  s['3M'] = f\n",
      "C:\\Users\\ASUS\\AppData\\Local\\Temp\\ipykernel_16188\\553007296.py:2: SettingWithCopyWarning: \n",
      "A value is trying to be set on a copy of a slice from a DataFrame.\n",
      "Try using .loc[row_indexer,col_indexer] = value instead\n",
      "\n",
      "See the caveats in the documentation: https://pandas.pydata.org/pandas-docs/stable/user_guide/indexing.html#returning-a-view-versus-a-copy\n",
      "  s['Y'] = an\n"
     ]
    }
   ],
   "source": [
    "s['3M'] = f\n",
    "s['Y'] = an\n",
    "s.to_csv(r'C:\\Users\\ASUS\\Desktop\\WHK\\practici\\adm_0_ACLED\\Togo.csv')"
   ]
  },
  {
   "cell_type": "code",
   "execution_count": 446,
   "metadata": {},
   "outputs": [
    {
     "data": {
      "text/html": [
       "<div>\n",
       "<style scoped>\n",
       "    .dataframe tbody tr th:only-of-type {\n",
       "        vertical-align: middle;\n",
       "    }\n",
       "\n",
       "    .dataframe tbody tr th {\n",
       "        vertical-align: top;\n",
       "    }\n",
       "\n",
       "    .dataframe thead th {\n",
       "        text-align: right;\n",
       "    }\n",
       "</style>\n",
       "<table border=\"1\" class=\"dataframe\">\n",
       "  <thead>\n",
       "    <tr style=\"text-align: right;\">\n",
       "      <th></th>\n",
       "      <th>country</th>\n",
       "      <th>year</th>\n",
       "      <th>month</th>\n",
       "      <th>fatalities</th>\n",
       "    </tr>\n",
       "  </thead>\n",
       "  <tbody>\n",
       "    <tr>\n",
       "      <th>8321</th>\n",
       "      <td>Tunisia</td>\n",
       "      <td>2000</td>\n",
       "      <td>2</td>\n",
       "      <td>0</td>\n",
       "    </tr>\n",
       "    <tr>\n",
       "      <th>8322</th>\n",
       "      <td>Tunisia</td>\n",
       "      <td>2000</td>\n",
       "      <td>10</td>\n",
       "      <td>0</td>\n",
       "    </tr>\n",
       "    <tr>\n",
       "      <th>8323</th>\n",
       "      <td>Tunisia</td>\n",
       "      <td>2001</td>\n",
       "      <td>2</td>\n",
       "      <td>0</td>\n",
       "    </tr>\n",
       "    <tr>\n",
       "      <th>8324</th>\n",
       "      <td>Tunisia</td>\n",
       "      <td>2001</td>\n",
       "      <td>3</td>\n",
       "      <td>0</td>\n",
       "    </tr>\n",
       "    <tr>\n",
       "      <th>8325</th>\n",
       "      <td>Tunisia</td>\n",
       "      <td>2002</td>\n",
       "      <td>4</td>\n",
       "      <td>22</td>\n",
       "    </tr>\n",
       "    <tr>\n",
       "      <th>...</th>\n",
       "      <td>...</td>\n",
       "      <td>...</td>\n",
       "      <td>...</td>\n",
       "      <td>...</td>\n",
       "    </tr>\n",
       "    <tr>\n",
       "      <th>8484</th>\n",
       "      <td>Tunisia</td>\n",
       "      <td>2022</td>\n",
       "      <td>3</td>\n",
       "      <td>0</td>\n",
       "    </tr>\n",
       "    <tr>\n",
       "      <th>8485</th>\n",
       "      <td>Tunisia</td>\n",
       "      <td>2022</td>\n",
       "      <td>4</td>\n",
       "      <td>0</td>\n",
       "    </tr>\n",
       "    <tr>\n",
       "      <th>8486</th>\n",
       "      <td>Tunisia</td>\n",
       "      <td>2022</td>\n",
       "      <td>5</td>\n",
       "      <td>0</td>\n",
       "    </tr>\n",
       "    <tr>\n",
       "      <th>8487</th>\n",
       "      <td>Tunisia</td>\n",
       "      <td>2022</td>\n",
       "      <td>6</td>\n",
       "      <td>0</td>\n",
       "    </tr>\n",
       "    <tr>\n",
       "      <th>8488</th>\n",
       "      <td>Tunisia</td>\n",
       "      <td>2022</td>\n",
       "      <td>7</td>\n",
       "      <td>0</td>\n",
       "    </tr>\n",
       "  </tbody>\n",
       "</table>\n",
       "<p>168 rows × 4 columns</p>\n",
       "</div>"
      ],
      "text/plain": [
       "      country  year month fatalities\n",
       "8321  Tunisia  2000     2          0\n",
       "8322  Tunisia  2000    10          0\n",
       "8323  Tunisia  2001     2          0\n",
       "8324  Tunisia  2001     3          0\n",
       "8325  Tunisia  2002     4         22\n",
       "...       ...   ...   ...        ...\n",
       "8484  Tunisia  2022     3          0\n",
       "8485  Tunisia  2022     4          0\n",
       "8486  Tunisia  2022     5          0\n",
       "8487  Tunisia  2022     6          0\n",
       "8488  Tunisia  2022     7          0\n",
       "\n",
       "[168 rows x 4 columns]"
      ]
     },
     "execution_count": 446,
     "metadata": {},
     "output_type": "execute_result"
    }
   ],
   "source": [
    "s = dd[dd['country']=='Tunisia']\n",
    "\n",
    "t=s.fatalities\n",
    "t = t.astype(float)\n",
    "s"
   ]
  },
  {
   "cell_type": "code",
   "execution_count": 447,
   "metadata": {},
   "outputs": [],
   "source": [
    "f = []\n",
    "f.append(t[8321])\n",
    "f.append(t[8322])\n",
    "for i in range(8323,8489):\n",
    "   \n",
    "    result= t[i] + t[i-1] + t[i-2]\n",
    "    f.append( result)"
   ]
  },
  {
   "cell_type": "code",
   "execution_count": 448,
   "metadata": {},
   "outputs": [],
   "source": [
    "az=[]\n",
    "for j in range(len(t)):\n",
    "    a=t.iloc[j+13:j:-1]\n",
    "    az.append(a)\n",
    "    \n",
    "an=[]\n",
    "for i in range(8321,8334):\n",
    "    an.append(t[i])\n",
    "\n",
    "for x in range(len(az)-13):\n",
    "    b=sum(az[x])\n",
    "    an.append(b)"
   ]
  },
  {
   "cell_type": "code",
   "execution_count": 450,
   "metadata": {},
   "outputs": [
    {
     "name": "stderr",
     "output_type": "stream",
     "text": [
      "C:\\Users\\ASUS\\AppData\\Local\\Temp\\ipykernel_16188\\2608451956.py:1: SettingWithCopyWarning: \n",
      "A value is trying to be set on a copy of a slice from a DataFrame.\n",
      "Try using .loc[row_indexer,col_indexer] = value instead\n",
      "\n",
      "See the caveats in the documentation: https://pandas.pydata.org/pandas-docs/stable/user_guide/indexing.html#returning-a-view-versus-a-copy\n",
      "  s['3M'] = f\n",
      "C:\\Users\\ASUS\\AppData\\Local\\Temp\\ipykernel_16188\\2608451956.py:2: SettingWithCopyWarning: \n",
      "A value is trying to be set on a copy of a slice from a DataFrame.\n",
      "Try using .loc[row_indexer,col_indexer] = value instead\n",
      "\n",
      "See the caveats in the documentation: https://pandas.pydata.org/pandas-docs/stable/user_guide/indexing.html#returning-a-view-versus-a-copy\n",
      "  s['Y'] = an\n"
     ]
    }
   ],
   "source": [
    "s['3M'] = f\n",
    "s['Y'] = an\n",
    "s.to_csv(r'C:\\Users\\ASUS\\Desktop\\WHK\\practici\\adm_0_ACLED\\Tunisia.csv')"
   ]
  },
  {
   "cell_type": "code",
   "execution_count": 451,
   "metadata": {},
   "outputs": [
    {
     "data": {
      "text/html": [
       "<div>\n",
       "<style scoped>\n",
       "    .dataframe tbody tr th:only-of-type {\n",
       "        vertical-align: middle;\n",
       "    }\n",
       "\n",
       "    .dataframe tbody tr th {\n",
       "        vertical-align: top;\n",
       "    }\n",
       "\n",
       "    .dataframe thead th {\n",
       "        text-align: right;\n",
       "    }\n",
       "</style>\n",
       "<table border=\"1\" class=\"dataframe\">\n",
       "  <thead>\n",
       "    <tr style=\"text-align: right;\">\n",
       "      <th></th>\n",
       "      <th>country</th>\n",
       "      <th>year</th>\n",
       "      <th>month</th>\n",
       "      <th>fatalities</th>\n",
       "    </tr>\n",
       "  </thead>\n",
       "  <tbody>\n",
       "    <tr>\n",
       "      <th>8489</th>\n",
       "      <td>Uganda</td>\n",
       "      <td>2000</td>\n",
       "      <td>1</td>\n",
       "      <td>216</td>\n",
       "    </tr>\n",
       "    <tr>\n",
       "      <th>8490</th>\n",
       "      <td>Uganda</td>\n",
       "      <td>2000</td>\n",
       "      <td>2</td>\n",
       "      <td>109</td>\n",
       "    </tr>\n",
       "    <tr>\n",
       "      <th>8491</th>\n",
       "      <td>Uganda</td>\n",
       "      <td>2000</td>\n",
       "      <td>3</td>\n",
       "      <td>73</td>\n",
       "    </tr>\n",
       "    <tr>\n",
       "      <th>8492</th>\n",
       "      <td>Uganda</td>\n",
       "      <td>2000</td>\n",
       "      <td>4</td>\n",
       "      <td>132</td>\n",
       "    </tr>\n",
       "    <tr>\n",
       "      <th>8493</th>\n",
       "      <td>Uganda</td>\n",
       "      <td>2000</td>\n",
       "      <td>5</td>\n",
       "      <td>87</td>\n",
       "    </tr>\n",
       "    <tr>\n",
       "      <th>...</th>\n",
       "      <td>...</td>\n",
       "      <td>...</td>\n",
       "      <td>...</td>\n",
       "      <td>...</td>\n",
       "    </tr>\n",
       "    <tr>\n",
       "      <th>8754</th>\n",
       "      <td>Uganda</td>\n",
       "      <td>2022</td>\n",
       "      <td>3</td>\n",
       "      <td>67</td>\n",
       "    </tr>\n",
       "    <tr>\n",
       "      <th>8755</th>\n",
       "      <td>Uganda</td>\n",
       "      <td>2022</td>\n",
       "      <td>4</td>\n",
       "      <td>23</td>\n",
       "    </tr>\n",
       "    <tr>\n",
       "      <th>8756</th>\n",
       "      <td>Uganda</td>\n",
       "      <td>2022</td>\n",
       "      <td>5</td>\n",
       "      <td>25</td>\n",
       "    </tr>\n",
       "    <tr>\n",
       "      <th>8757</th>\n",
       "      <td>Uganda</td>\n",
       "      <td>2022</td>\n",
       "      <td>6</td>\n",
       "      <td>22</td>\n",
       "    </tr>\n",
       "    <tr>\n",
       "      <th>8758</th>\n",
       "      <td>Uganda</td>\n",
       "      <td>2022</td>\n",
       "      <td>7</td>\n",
       "      <td>5</td>\n",
       "    </tr>\n",
       "  </tbody>\n",
       "</table>\n",
       "<p>270 rows × 4 columns</p>\n",
       "</div>"
      ],
      "text/plain": [
       "     country  year month fatalities\n",
       "8489  Uganda  2000     1        216\n",
       "8490  Uganda  2000     2        109\n",
       "8491  Uganda  2000     3         73\n",
       "8492  Uganda  2000     4        132\n",
       "8493  Uganda  2000     5         87\n",
       "...      ...   ...   ...        ...\n",
       "8754  Uganda  2022     3         67\n",
       "8755  Uganda  2022     4         23\n",
       "8756  Uganda  2022     5         25\n",
       "8757  Uganda  2022     6         22\n",
       "8758  Uganda  2022     7          5\n",
       "\n",
       "[270 rows x 4 columns]"
      ]
     },
     "execution_count": 451,
     "metadata": {},
     "output_type": "execute_result"
    }
   ],
   "source": [
    "s = dd[dd['country']=='Uganda']\n",
    "\n",
    "t=s.fatalities\n",
    "t = t.astype(float)\n",
    "s"
   ]
  },
  {
   "cell_type": "code",
   "execution_count": 452,
   "metadata": {},
   "outputs": [],
   "source": [
    "f = []\n",
    "f.append(t[8489])\n",
    "f.append(t[8490])\n",
    "for i in range(8491,8759):\n",
    "   \n",
    "    result= t[i] + t[i-1] + t[i-2]\n",
    "    f.append( result)"
   ]
  },
  {
   "cell_type": "code",
   "execution_count": 453,
   "metadata": {},
   "outputs": [],
   "source": [
    "az=[]\n",
    "for j in range(len(t)):\n",
    "    a=t.iloc[j+13:j:-1]\n",
    "    az.append(a)\n",
    "    \n",
    "an=[]\n",
    "for i in range(8489,8502):\n",
    "    an.append(t[i])\n",
    "\n",
    "for x in range(len(az)-13):\n",
    "    b=sum(az[x])\n",
    "    an.append(b)"
   ]
  },
  {
   "cell_type": "code",
   "execution_count": 455,
   "metadata": {},
   "outputs": [
    {
     "name": "stderr",
     "output_type": "stream",
     "text": [
      "C:\\Users\\ASUS\\AppData\\Local\\Temp\\ipykernel_16188\\3553590539.py:1: SettingWithCopyWarning: \n",
      "A value is trying to be set on a copy of a slice from a DataFrame.\n",
      "Try using .loc[row_indexer,col_indexer] = value instead\n",
      "\n",
      "See the caveats in the documentation: https://pandas.pydata.org/pandas-docs/stable/user_guide/indexing.html#returning-a-view-versus-a-copy\n",
      "  s['3M'] = f\n",
      "C:\\Users\\ASUS\\AppData\\Local\\Temp\\ipykernel_16188\\3553590539.py:2: SettingWithCopyWarning: \n",
      "A value is trying to be set on a copy of a slice from a DataFrame.\n",
      "Try using .loc[row_indexer,col_indexer] = value instead\n",
      "\n",
      "See the caveats in the documentation: https://pandas.pydata.org/pandas-docs/stable/user_guide/indexing.html#returning-a-view-versus-a-copy\n",
      "  s['Y'] = an\n"
     ]
    }
   ],
   "source": [
    "s['3M'] = f\n",
    "s['Y'] = an\n",
    "s.to_csv(r'C:\\Users\\ASUS\\Desktop\\WHK\\practici\\adm_0_ACLED\\Uganda.csv')"
   ]
  },
  {
   "cell_type": "code",
   "execution_count": 456,
   "metadata": {},
   "outputs": [
    {
     "data": {
      "text/html": [
       "<div>\n",
       "<style scoped>\n",
       "    .dataframe tbody tr th:only-of-type {\n",
       "        vertical-align: middle;\n",
       "    }\n",
       "\n",
       "    .dataframe tbody tr th {\n",
       "        vertical-align: top;\n",
       "    }\n",
       "\n",
       "    .dataframe thead th {\n",
       "        text-align: right;\n",
       "    }\n",
       "</style>\n",
       "<table border=\"1\" class=\"dataframe\">\n",
       "  <thead>\n",
       "    <tr style=\"text-align: right;\">\n",
       "      <th></th>\n",
       "      <th>country</th>\n",
       "      <th>year</th>\n",
       "      <th>month</th>\n",
       "      <th>fatalities</th>\n",
       "    </tr>\n",
       "  </thead>\n",
       "  <tbody>\n",
       "    <tr>\n",
       "      <th>8759</th>\n",
       "      <td>Zambia</td>\n",
       "      <td>2000</td>\n",
       "      <td>1</td>\n",
       "      <td>0</td>\n",
       "    </tr>\n",
       "    <tr>\n",
       "      <th>8760</th>\n",
       "      <td>Zambia</td>\n",
       "      <td>2000</td>\n",
       "      <td>3</td>\n",
       "      <td>0</td>\n",
       "    </tr>\n",
       "    <tr>\n",
       "      <th>8761</th>\n",
       "      <td>Zambia</td>\n",
       "      <td>2000</td>\n",
       "      <td>4</td>\n",
       "      <td>2</td>\n",
       "    </tr>\n",
       "    <tr>\n",
       "      <th>8762</th>\n",
       "      <td>Zambia</td>\n",
       "      <td>2000</td>\n",
       "      <td>5</td>\n",
       "      <td>0</td>\n",
       "    </tr>\n",
       "    <tr>\n",
       "      <th>8763</th>\n",
       "      <td>Zambia</td>\n",
       "      <td>2000</td>\n",
       "      <td>6</td>\n",
       "      <td>0</td>\n",
       "    </tr>\n",
       "    <tr>\n",
       "      <th>...</th>\n",
       "      <td>...</td>\n",
       "      <td>...</td>\n",
       "      <td>...</td>\n",
       "      <td>...</td>\n",
       "    </tr>\n",
       "    <tr>\n",
       "      <th>8966</th>\n",
       "      <td>Zambia</td>\n",
       "      <td>2022</td>\n",
       "      <td>2</td>\n",
       "      <td>1</td>\n",
       "    </tr>\n",
       "    <tr>\n",
       "      <th>8967</th>\n",
       "      <td>Zambia</td>\n",
       "      <td>2022</td>\n",
       "      <td>3</td>\n",
       "      <td>1</td>\n",
       "    </tr>\n",
       "    <tr>\n",
       "      <th>8968</th>\n",
       "      <td>Zambia</td>\n",
       "      <td>2022</td>\n",
       "      <td>4</td>\n",
       "      <td>2</td>\n",
       "    </tr>\n",
       "    <tr>\n",
       "      <th>8969</th>\n",
       "      <td>Zambia</td>\n",
       "      <td>2022</td>\n",
       "      <td>5</td>\n",
       "      <td>0</td>\n",
       "    </tr>\n",
       "    <tr>\n",
       "      <th>8970</th>\n",
       "      <td>Zambia</td>\n",
       "      <td>2022</td>\n",
       "      <td>6</td>\n",
       "      <td>1</td>\n",
       "    </tr>\n",
       "  </tbody>\n",
       "</table>\n",
       "<p>212 rows × 4 columns</p>\n",
       "</div>"
      ],
      "text/plain": [
       "     country  year month fatalities\n",
       "8759  Zambia  2000     1          0\n",
       "8760  Zambia  2000     3          0\n",
       "8761  Zambia  2000     4          2\n",
       "8762  Zambia  2000     5          0\n",
       "8763  Zambia  2000     6          0\n",
       "...      ...   ...   ...        ...\n",
       "8966  Zambia  2022     2          1\n",
       "8967  Zambia  2022     3          1\n",
       "8968  Zambia  2022     4          2\n",
       "8969  Zambia  2022     5          0\n",
       "8970  Zambia  2022     6          1\n",
       "\n",
       "[212 rows x 4 columns]"
      ]
     },
     "execution_count": 456,
     "metadata": {},
     "output_type": "execute_result"
    }
   ],
   "source": [
    "s = dd[dd['country']=='Zambia']\n",
    "\n",
    "t=s.fatalities\n",
    "t = t.astype(float)\n",
    "s"
   ]
  },
  {
   "cell_type": "code",
   "execution_count": 457,
   "metadata": {},
   "outputs": [],
   "source": [
    "f = []\n",
    "f.append(t[8759])\n",
    "f.append(t[8760])\n",
    "for i in range(8761,8971):\n",
    "   \n",
    "    result= t[i] + t[i-1] + t[i-2]\n",
    "    f.append( result)"
   ]
  },
  {
   "cell_type": "code",
   "execution_count": 458,
   "metadata": {},
   "outputs": [],
   "source": [
    "az=[]\n",
    "for j in range(len(t)):\n",
    "    a=t.iloc[j+13:j:-1]\n",
    "    az.append(a)\n",
    "    \n",
    "an=[]\n",
    "for i in range(8759,8772):\n",
    "    an.append(t[i])\n",
    "\n",
    "for x in range(len(az)-13):\n",
    "    b=sum(az[x])\n",
    "    an.append(b)"
   ]
  },
  {
   "cell_type": "code",
   "execution_count": 460,
   "metadata": {},
   "outputs": [
    {
     "name": "stderr",
     "output_type": "stream",
     "text": [
      "C:\\Users\\ASUS\\AppData\\Local\\Temp\\ipykernel_16188\\2821412965.py:1: SettingWithCopyWarning: \n",
      "A value is trying to be set on a copy of a slice from a DataFrame.\n",
      "Try using .loc[row_indexer,col_indexer] = value instead\n",
      "\n",
      "See the caveats in the documentation: https://pandas.pydata.org/pandas-docs/stable/user_guide/indexing.html#returning-a-view-versus-a-copy\n",
      "  s['3M'] = f\n",
      "C:\\Users\\ASUS\\AppData\\Local\\Temp\\ipykernel_16188\\2821412965.py:2: SettingWithCopyWarning: \n",
      "A value is trying to be set on a copy of a slice from a DataFrame.\n",
      "Try using .loc[row_indexer,col_indexer] = value instead\n",
      "\n",
      "See the caveats in the documentation: https://pandas.pydata.org/pandas-docs/stable/user_guide/indexing.html#returning-a-view-versus-a-copy\n",
      "  s['Y'] = an\n"
     ]
    }
   ],
   "source": [
    "s['3M'] = f\n",
    "s['Y'] = an\n",
    "s.to_csv(r'C:\\Users\\ASUS\\Desktop\\WHK\\practici\\adm_0_ACLED\\Zambia.csv')"
   ]
  },
  {
   "cell_type": "code",
   "execution_count": 461,
   "metadata": {},
   "outputs": [
    {
     "data": {
      "text/html": [
       "<div>\n",
       "<style scoped>\n",
       "    .dataframe tbody tr th:only-of-type {\n",
       "        vertical-align: middle;\n",
       "    }\n",
       "\n",
       "    .dataframe tbody tr th {\n",
       "        vertical-align: top;\n",
       "    }\n",
       "\n",
       "    .dataframe thead th {\n",
       "        text-align: right;\n",
       "    }\n",
       "</style>\n",
       "<table border=\"1\" class=\"dataframe\">\n",
       "  <thead>\n",
       "    <tr style=\"text-align: right;\">\n",
       "      <th></th>\n",
       "      <th>country</th>\n",
       "      <th>year</th>\n",
       "      <th>month</th>\n",
       "      <th>fatalities</th>\n",
       "    </tr>\n",
       "  </thead>\n",
       "  <tbody>\n",
       "    <tr>\n",
       "      <th>8971</th>\n",
       "      <td>Zimbabwe</td>\n",
       "      <td>2000</td>\n",
       "      <td>1</td>\n",
       "      <td>0</td>\n",
       "    </tr>\n",
       "    <tr>\n",
       "      <th>8972</th>\n",
       "      <td>Zimbabwe</td>\n",
       "      <td>2000</td>\n",
       "      <td>2</td>\n",
       "      <td>1</td>\n",
       "    </tr>\n",
       "    <tr>\n",
       "      <th>8973</th>\n",
       "      <td>Zimbabwe</td>\n",
       "      <td>2000</td>\n",
       "      <td>3</td>\n",
       "      <td>2</td>\n",
       "    </tr>\n",
       "    <tr>\n",
       "      <th>8974</th>\n",
       "      <td>Zimbabwe</td>\n",
       "      <td>2000</td>\n",
       "      <td>4</td>\n",
       "      <td>12</td>\n",
       "    </tr>\n",
       "    <tr>\n",
       "      <th>8975</th>\n",
       "      <td>Zimbabwe</td>\n",
       "      <td>2000</td>\n",
       "      <td>5</td>\n",
       "      <td>3</td>\n",
       "    </tr>\n",
       "    <tr>\n",
       "      <th>...</th>\n",
       "      <td>...</td>\n",
       "      <td>...</td>\n",
       "      <td>...</td>\n",
       "      <td>...</td>\n",
       "    </tr>\n",
       "    <tr>\n",
       "      <th>9236</th>\n",
       "      <td>Zimbabwe</td>\n",
       "      <td>2022</td>\n",
       "      <td>3</td>\n",
       "      <td>2</td>\n",
       "    </tr>\n",
       "    <tr>\n",
       "      <th>9237</th>\n",
       "      <td>Zimbabwe</td>\n",
       "      <td>2022</td>\n",
       "      <td>4</td>\n",
       "      <td>4</td>\n",
       "    </tr>\n",
       "    <tr>\n",
       "      <th>9238</th>\n",
       "      <td>Zimbabwe</td>\n",
       "      <td>2022</td>\n",
       "      <td>5</td>\n",
       "      <td>0</td>\n",
       "    </tr>\n",
       "    <tr>\n",
       "      <th>9239</th>\n",
       "      <td>Zimbabwe</td>\n",
       "      <td>2022</td>\n",
       "      <td>6</td>\n",
       "      <td>2</td>\n",
       "    </tr>\n",
       "    <tr>\n",
       "      <th>9240</th>\n",
       "      <td>Zimbabwe</td>\n",
       "      <td>2022</td>\n",
       "      <td>7</td>\n",
       "      <td>0</td>\n",
       "    </tr>\n",
       "  </tbody>\n",
       "</table>\n",
       "<p>270 rows × 4 columns</p>\n",
       "</div>"
      ],
      "text/plain": [
       "       country  year month fatalities\n",
       "8971  Zimbabwe  2000     1          0\n",
       "8972  Zimbabwe  2000     2          1\n",
       "8973  Zimbabwe  2000     3          2\n",
       "8974  Zimbabwe  2000     4         12\n",
       "8975  Zimbabwe  2000     5          3\n",
       "...        ...   ...   ...        ...\n",
       "9236  Zimbabwe  2022     3          2\n",
       "9237  Zimbabwe  2022     4          4\n",
       "9238  Zimbabwe  2022     5          0\n",
       "9239  Zimbabwe  2022     6          2\n",
       "9240  Zimbabwe  2022     7          0\n",
       "\n",
       "[270 rows x 4 columns]"
      ]
     },
     "execution_count": 461,
     "metadata": {},
     "output_type": "execute_result"
    }
   ],
   "source": [
    "s = dd[dd['country']=='Zimbabwe']\n",
    "\n",
    "t=s.fatalities\n",
    "t = t.astype(float)\n",
    "s"
   ]
  },
  {
   "cell_type": "code",
   "execution_count": 462,
   "metadata": {},
   "outputs": [],
   "source": [
    "f = []\n",
    "f.append(t[8971])\n",
    "f.append(t[8972])\n",
    "for i in range(8973,9241):\n",
    "   \n",
    "    result= t[i] + t[i-1] + t[i-2]\n",
    "    f.append( result)"
   ]
  },
  {
   "cell_type": "code",
   "execution_count": 463,
   "metadata": {},
   "outputs": [],
   "source": [
    "az=[]\n",
    "for j in range(len(t)):\n",
    "    a=t.iloc[j+13:j:-1]\n",
    "    az.append(a)\n",
    "    \n",
    "an=[]\n",
    "for i in range(8971,8984):\n",
    "    an.append(t[i])\n",
    "\n",
    "for x in range(len(az)-13):\n",
    "    b=sum(az[x])\n",
    "    an.append(b)"
   ]
  },
  {
   "cell_type": "code",
   "execution_count": 465,
   "metadata": {},
   "outputs": [
    {
     "name": "stderr",
     "output_type": "stream",
     "text": [
      "C:\\Users\\ASUS\\AppData\\Local\\Temp\\ipykernel_16188\\64025673.py:1: SettingWithCopyWarning: \n",
      "A value is trying to be set on a copy of a slice from a DataFrame.\n",
      "Try using .loc[row_indexer,col_indexer] = value instead\n",
      "\n",
      "See the caveats in the documentation: https://pandas.pydata.org/pandas-docs/stable/user_guide/indexing.html#returning-a-view-versus-a-copy\n",
      "  s['3M'] = f\n",
      "C:\\Users\\ASUS\\AppData\\Local\\Temp\\ipykernel_16188\\64025673.py:2: SettingWithCopyWarning: \n",
      "A value is trying to be set on a copy of a slice from a DataFrame.\n",
      "Try using .loc[row_indexer,col_indexer] = value instead\n",
      "\n",
      "See the caveats in the documentation: https://pandas.pydata.org/pandas-docs/stable/user_guide/indexing.html#returning-a-view-versus-a-copy\n",
      "  s['Y'] = an\n"
     ]
    }
   ],
   "source": [
    "s['3M'] = f\n",
    "s['Y'] = an\n",
    "s.to_csv(r'C:\\Users\\ASUS\\Desktop\\WHK\\practici\\adm_0_ACLED\\Zimbabwe.csv')"
   ]
  },
  {
   "cell_type": "code",
   "execution_count": 466,
   "metadata": {},
   "outputs": [
    {
     "data": {
      "text/html": [
       "<div>\n",
       "<style scoped>\n",
       "    .dataframe tbody tr th:only-of-type {\n",
       "        vertical-align: middle;\n",
       "    }\n",
       "\n",
       "    .dataframe tbody tr th {\n",
       "        vertical-align: top;\n",
       "    }\n",
       "\n",
       "    .dataframe thead th {\n",
       "        text-align: right;\n",
       "    }\n",
       "</style>\n",
       "<table border=\"1\" class=\"dataframe\">\n",
       "  <thead>\n",
       "    <tr style=\"text-align: right;\">\n",
       "      <th></th>\n",
       "      <th>country</th>\n",
       "      <th>year</th>\n",
       "      <th>month</th>\n",
       "      <th>fatalities</th>\n",
       "    </tr>\n",
       "  </thead>\n",
       "  <tbody>\n",
       "    <tr>\n",
       "      <th>9241</th>\n",
       "      <td>eSwatini</td>\n",
       "      <td>2000</td>\n",
       "      <td>9</td>\n",
       "      <td>0</td>\n",
       "    </tr>\n",
       "    <tr>\n",
       "      <th>9242</th>\n",
       "      <td>eSwatini</td>\n",
       "      <td>2000</td>\n",
       "      <td>10</td>\n",
       "      <td>0</td>\n",
       "    </tr>\n",
       "    <tr>\n",
       "      <th>9243</th>\n",
       "      <td>eSwatini</td>\n",
       "      <td>2000</td>\n",
       "      <td>11</td>\n",
       "      <td>1</td>\n",
       "    </tr>\n",
       "    <tr>\n",
       "      <th>9244</th>\n",
       "      <td>eSwatini</td>\n",
       "      <td>2001</td>\n",
       "      <td>10</td>\n",
       "      <td>1</td>\n",
       "    </tr>\n",
       "    <tr>\n",
       "      <th>9245</th>\n",
       "      <td>eSwatini</td>\n",
       "      <td>2002</td>\n",
       "      <td>9</td>\n",
       "      <td>0</td>\n",
       "    </tr>\n",
       "    <tr>\n",
       "      <th>...</th>\n",
       "      <td>...</td>\n",
       "      <td>...</td>\n",
       "      <td>...</td>\n",
       "      <td>...</td>\n",
       "    </tr>\n",
       "    <tr>\n",
       "      <th>9354</th>\n",
       "      <td>eSwatini</td>\n",
       "      <td>2022</td>\n",
       "      <td>3</td>\n",
       "      <td>0</td>\n",
       "    </tr>\n",
       "    <tr>\n",
       "      <th>9355</th>\n",
       "      <td>eSwatini</td>\n",
       "      <td>2022</td>\n",
       "      <td>4</td>\n",
       "      <td>0</td>\n",
       "    </tr>\n",
       "    <tr>\n",
       "      <th>9356</th>\n",
       "      <td>eSwatini</td>\n",
       "      <td>2022</td>\n",
       "      <td>5</td>\n",
       "      <td>0</td>\n",
       "    </tr>\n",
       "    <tr>\n",
       "      <th>9357</th>\n",
       "      <td>eSwatini</td>\n",
       "      <td>2022</td>\n",
       "      <td>6</td>\n",
       "      <td>2</td>\n",
       "    </tr>\n",
       "    <tr>\n",
       "      <th>9358</th>\n",
       "      <td>eSwatini</td>\n",
       "      <td>2022</td>\n",
       "      <td>7</td>\n",
       "      <td>0</td>\n",
       "    </tr>\n",
       "  </tbody>\n",
       "</table>\n",
       "<p>118 rows × 4 columns</p>\n",
       "</div>"
      ],
      "text/plain": [
       "       country  year month fatalities\n",
       "9241  eSwatini  2000     9          0\n",
       "9242  eSwatini  2000    10          0\n",
       "9243  eSwatini  2000    11          1\n",
       "9244  eSwatini  2001    10          1\n",
       "9245  eSwatini  2002     9          0\n",
       "...        ...   ...   ...        ...\n",
       "9354  eSwatini  2022     3          0\n",
       "9355  eSwatini  2022     4          0\n",
       "9356  eSwatini  2022     5          0\n",
       "9357  eSwatini  2022     6          2\n",
       "9358  eSwatini  2022     7          0\n",
       "\n",
       "[118 rows x 4 columns]"
      ]
     },
     "execution_count": 466,
     "metadata": {},
     "output_type": "execute_result"
    }
   ],
   "source": [
    "s = dd[dd['country']=='eSwatini']\n",
    "\n",
    "t=s.fatalities\n",
    "t = t.astype(float)\n",
    "s"
   ]
  },
  {
   "cell_type": "code",
   "execution_count": 467,
   "metadata": {},
   "outputs": [],
   "source": [
    "f = []\n",
    "f.append(t[9241])\n",
    "f.append(t[9242])\n",
    "for i in range(9243,9359):\n",
    "   \n",
    "    result= t[i] + t[i-1] + t[i-2]\n",
    "    f.append( result)"
   ]
  },
  {
   "cell_type": "code",
   "execution_count": 468,
   "metadata": {},
   "outputs": [],
   "source": [
    "az=[]\n",
    "for j in range(len(t)):\n",
    "    a=t.iloc[j+13:j:-1]\n",
    "    az.append(a)\n",
    "    \n",
    "an=[]\n",
    "for i in range(9241,9254):\n",
    "    an.append(t[i])\n",
    "\n",
    "for x in range(len(az)-13):\n",
    "    b=sum(az[x])\n",
    "    an.append(b)"
   ]
  },
  {
   "cell_type": "code",
   "execution_count": 470,
   "metadata": {},
   "outputs": [
    {
     "name": "stderr",
     "output_type": "stream",
     "text": [
      "C:\\Users\\ASUS\\AppData\\Local\\Temp\\ipykernel_16188\\2619492711.py:1: SettingWithCopyWarning: \n",
      "A value is trying to be set on a copy of a slice from a DataFrame.\n",
      "Try using .loc[row_indexer,col_indexer] = value instead\n",
      "\n",
      "See the caveats in the documentation: https://pandas.pydata.org/pandas-docs/stable/user_guide/indexing.html#returning-a-view-versus-a-copy\n",
      "  s['3M'] = f\n",
      "C:\\Users\\ASUS\\AppData\\Local\\Temp\\ipykernel_16188\\2619492711.py:2: SettingWithCopyWarning: \n",
      "A value is trying to be set on a copy of a slice from a DataFrame.\n",
      "Try using .loc[row_indexer,col_indexer] = value instead\n",
      "\n",
      "See the caveats in the documentation: https://pandas.pydata.org/pandas-docs/stable/user_guide/indexing.html#returning-a-view-versus-a-copy\n",
      "  s['Y'] = an\n"
     ]
    }
   ],
   "source": [
    "s['3M'] = f\n",
    "s['Y'] = an\n",
    "s.to_csv(r'C:\\Users\\ASUS\\Desktop\\WHK\\practici\\adm_0_ACLED\\eSwatini.csv')"
   ]
  },
  {
   "cell_type": "code",
   "execution_count": null,
   "metadata": {},
   "outputs": [],
   "source": []
  }
 ],
 "metadata": {
  "kernelspec": {
   "display_name": "Python 3",
   "language": "python",
   "name": "python3"
  },
  "language_info": {
   "codemirror_mode": {
    "name": "ipython",
    "version": 3
   },
   "file_extension": ".py",
   "mimetype": "text/x-python",
   "name": "python",
   "nbconvert_exporter": "python",
   "pygments_lexer": "ipython3",
   "version": "3.8.5"
  }
 },
 "nbformat": 4,
 "nbformat_minor": 5
}

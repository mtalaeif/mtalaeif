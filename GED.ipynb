{
 "cells": [
  {
   "cell_type": "code",
   "execution_count": 1,
   "metadata": {},
   "outputs": [],
   "source": [
    "import pandas as pd"
   ]
  },
  {
   "cell_type": "code",
   "execution_count": 2,
   "metadata": {},
   "outputs": [
    {
     "data": {
      "text/plain": [
       "array(['Algeria', 'Angola', 'Benin', 'Botswana', 'Burkina Faso',\n",
       "       'Burundi', 'Cameroon', 'Central African Republic', 'Chad',\n",
       "       'Comoros', 'Congo', 'DR Congo (Zaire)', 'Djibouti', 'Eritrea',\n",
       "       'Ethiopia', 'Gambia', 'Ghana', 'Guinea', 'Guinea-Bissau',\n",
       "       'Ivory Coast', 'Kenya', 'Kingdom of eSwatini (Swaziland)',\n",
       "       'Lesotho', 'Liberia', 'Libya', 'Madagascar (Malagasy)', 'Mali',\n",
       "       'Mauritania', 'Morocco', 'Mozambique', 'Namibia', 'Niger',\n",
       "       'Nigeria', 'Rwanda', 'Senegal', 'Sierra Leone', 'Somalia',\n",
       "       'South Africa', 'South Sudan', 'Sudan', 'Tanzania', 'Togo',\n",
       "       'Tunisia', 'Uganda', 'Zambia', 'Zimbabwe (Rhodesia)'], dtype=object)"
      ]
     },
     "execution_count": 2,
     "metadata": {},
     "output_type": "execute_result"
    }
   ],
   "source": [
    "dd = pd.read_csv('df00.csv')\n",
    "dd.drop([0,1], axis=0, inplace=True)\n",
    "dd.rename(columns = {'Unnamed: 0':'country', 'Unnamed: 1' :'year', 'Unnamed: 2': 'month'}, inplace= True)\n",
    "dd.head()\n",
    "dd.country.unique()"
   ]
  },
  {
   "cell_type": "code",
   "execution_count": 4,
   "metadata": {},
   "outputs": [],
   "source": [
    "Angola = dd[dd['country']=='Angola']\n",
    "Algeria = dd[dd['country']=='Algeria']\n",
    "Benin = dd[dd['country']=='Benin']\n",
    "Botswana = dd[dd['country']=='Botswana']\n",
    "Burkina_Faso = dd[dd['country']=='Burkina Faso']\n",
    "Burundi = dd[dd['country']=='Burundi']\n",
    "Cameroon = dd[dd['country']=='Cameroon']\n",
    "Central_African_Republic = dd[dd['country']=='Central African Republic']\n",
    "Chad = dd[dd['country']=='Chad']\n",
    "Comoros = dd[dd['country']=='Comoros']\n",
    "Congo = dd[dd['country']=='Congo']\n",
    "DR_Congo = dd[dd['country']=='DR Congo (Zaire)']\n",
    "Djibouti = dd[dd['country']=='Djibouti']\n",
    "Eritrea = dd[dd['country']=='Eritrea']\n",
    "Ethiopia = dd[dd['country']=='Ethiopia']\n",
    "Gambia = dd[dd['country']=='Gambia']\n",
    "Ghana = dd[dd['country']=='Ghana']\n",
    "Guinea = dd[dd['country']=='Guinea']\n",
    "Guinea_Bissau = dd[dd['country']=='Guinea-Bissau']\n",
    "Ivory_Coast = dd[dd['country']=='Ivory Coast']\n",
    "Kenya = dd[dd['country']=='Kenya']\n",
    "Kingdom_of_eSwatini= dd[dd['country']=='Kingdom of eSwatini (Swaziland)']\n",
    "Lesotho = dd[dd['country']=='Lesotho']\n",
    "Liberia = dd[dd['country']=='Liberia']\n",
    "Libya = dd[dd['country']=='Libya']\n",
    "Madagascar= dd[dd['country']=='Madagascar (Malagasy)']\n",
    "Mali = dd[dd['country']=='Mali']\n",
    "Mauritania = dd[dd['country']=='Mauritania']\n",
    "Morocco = dd[dd['country']=='Morocco']\n",
    "Mozambique = dd[dd['country']=='Mozambique']\n",
    "Namibia = dd[dd['country']=='Namibia']\n",
    "Niger = dd[dd['country']=='Niger']\n",
    "Nigeria = dd[dd['country']=='Nigeria']\n",
    "Rwanda = dd[dd['country']=='Rwanda']\n",
    "Senegal = dd[dd['country']=='Senegal']\n",
    "Sierra_Leone = dd[dd['country']=='Sierra Leone']\n",
    "Somalia = dd[dd['country']=='Somalia']\n",
    "South_Africa = dd[dd['country']=='South Africa']\n",
    "South_Sudan = dd[dd['country']=='South Sudan']\n",
    "Sudan = dd[dd['country']=='Sudan']\n",
    "Tanzania = dd[dd['country']=='Tanzania']\n",
    "Togo = dd[dd['country']=='Togo']\n",
    "Tunisia = dd[dd['country']=='Tunisia']\n",
    "Uganda = dd[dd['country']=='Uganda']\n",
    "Zambia = dd[dd['country']=='Zambia']\n",
    "Zimbabwe = dd[dd['country']=='Zimbabwe (Rhodesia)']\n",
    "\n"
   ]
  },
  {
   "cell_type": "code",
   "execution_count": 148,
   "metadata": {},
   "outputs": [],
   "source": [
    "#angola.to_csv(r'C:\\Users\\ASUS\\Desktop\\WHK\\practici\\angola.csv')\n",
    "Zimbabwe.to_csv(r'C:\\Users\\ASUS\\Desktop\\WHK\\practici\\Zimbabwe.csv')\n",
    "Zambia.to_csv(r'C:\\Users\\ASUS\\Desktop\\WHK\\practici\\Zambia.csv')\n",
    "Uganda.to_csv(r'C:\\Users\\ASUS\\Desktop\\WHK\\practici\\Uganda.csv')\n",
    "Tunisia.to_csv(r'C:\\Users\\ASUS\\Desktop\\WHK\\practici\\Tunisia.csv')\n",
    "Togo.to_csv(r'C:\\Users\\ASUS\\Desktop\\WHK\\practici\\Togo.csv')\n",
    "Tanzania.to_csv(r'C:\\Users\\ASUS\\Desktop\\WHK\\practici\\Tanzania.csv')\n",
    "Sudan.to_csv(r'C:\\Users\\ASUS\\Desktop\\WHK\\practici\\Sudan.csv')\n",
    "South_Sudan.to_csv(r'C:\\Users\\ASUS\\Desktop\\WHK\\practici\\South_Sudan.csv')\n",
    "South_Africa.to_csv(r'C:\\Users\\ASUS\\Desktop\\WHK\\practici\\South_Africa.csv')\n",
    "Somalia.to_csv(r'C:\\Users\\ASUS\\Desktop\\WHK\\practici\\Somalia.csv')\n",
    "Sierra_Leone.to_csv(r'C:\\Users\\ASUS\\Desktop\\WHK\\practici\\Sierra_Leone.csv')\n",
    "Senegal.to_csv(r'C:\\Users\\ASUS\\Desktop\\WHK\\practici\\Senegal.csv')\n",
    "Rwanda.to_csv(r'C:\\Users\\ASUS\\Desktop\\WHK\\practici\\Rwanda.csv')\n",
    "Nigeria.to_csv(r'C:\\Users\\ASUS\\Desktop\\WHK\\practici\\Nigeria.csv')\n",
    "Niger.to_csv(r'C:\\Users\\ASUS\\Desktop\\WHK\\practici\\Niger.csv')\n",
    "Namibia.to_csv(r'C:\\Users\\ASUS\\Desktop\\WHK\\practici\\Namibia.csv')\n",
    "Mozambique.to_csv(r'C:\\Users\\ASUS\\Desktop\\WHK\\practici\\Mozambique.csv')\n",
    "Morocco.to_csv(r'C:\\Users\\ASUS\\Desktop\\WHK\\practici\\Morocco.csv')\n",
    "Mauritania.to_csv(r'C:\\Users\\ASUS\\Desktop\\WHK\\practici\\Mauritania.csv')\n",
    "Mali.to_csv(r'C:\\Users\\ASUS\\Desktop\\WHK\\practici\\Mali.csv')\n",
    "Madagascar.to_csv(r'C:\\Users\\ASUS\\Desktop\\WHK\\practici\\Madagascar.csv')\n",
    "Libya.to_csv(r'C:\\Users\\ASUS\\Desktop\\WHK\\practici\\Libya.csv')\n",
    "Liberia.to_csv(r'C:\\Users\\ASUS\\Desktop\\WHK\\practici\\Liberia.csv')\n",
    "Lesotho.to_csv(r'C:\\Users\\ASUS\\Desktop\\WHK\\practici\\Lesotho.csv')\n",
    "Kingdom_of_eSwatini.to_csv(r'C:\\Users\\ASUS\\Desktop\\WHK\\practici\\Kingdom_of_eSwatini.csv')\n",
    "Kenya.to_csv(r'C:\\Users\\ASUS\\Desktop\\WHK\\practici\\Kenya.csv')\n",
    "Ivory_Coast.to_csv(r'C:\\Users\\ASUS\\Desktop\\WHK\\practici\\Ivory_Coast.csv')\n",
    "Guinea_Bissau.to_csv(r'C:\\Users\\ASUS\\Desktop\\WHK\\practici\\Guinea_Bissau.csv')\n",
    "Guinea.to_csv(r'C:\\Users\\ASUS\\Desktop\\WHK\\practici\\Guinea.csv')\n",
    "Ghana.to_csv(r'C:\\Users\\ASUS\\Desktop\\WHK\\practici\\Ghana.csv')\n",
    "Gambia.to_csv(r'C:\\Users\\ASUS\\Desktop\\WHK\\practici\\Gambia.csv')\n",
    "Ethiopia.to_csv(r'C:\\Users\\ASUS\\Desktop\\WHK\\practici\\Ethiopia.csv')\n",
    "Eritrea.to_csv(r'C:\\Users\\ASUS\\Desktop\\WHK\\practici\\Eritrea.csv')\n",
    "Djibouti.to_csv(r'C:\\Users\\ASUS\\Desktop\\WHK\\practici\\Djibouti.csv')\n",
    "DR_Congo.to_csv(r'C:\\Users\\ASUS\\Desktop\\WHK\\practici\\DR_Congo.csv')\n",
    "Congo.to_csv(r'C:\\Users\\ASUS\\Desktop\\WHK\\practici\\Congo.csv')\n",
    "Comoros.to_csv(r'C:\\Users\\ASUS\\Desktop\\WHK\\practici\\Comoros.csv')\n",
    "Chad.to_csv(r'C:\\Users\\ASUS\\Desktop\\WHK\\practici\\Chad.csv')\n",
    "Central_African_Republic.to_csv(r'C:\\Users\\ASUS\\Desktop\\WHK\\practici\\Central_African_Republic.csv')\n",
    "Cameroon.to_csv(r'C:\\Users\\ASUS\\Desktop\\WHK\\practici\\Cameroon.csv')\n",
    "Burundi.to_csv(r'C:\\Users\\ASUS\\Desktop\\WHK\\practici\\Burundi.csv')\n",
    "Burkina_Faso.to_csv(r'C:\\Users\\ASUS\\Desktop\\WHK\\practici\\Burkina_Faso.csv')\n",
    "Botswana.to_csv(r'C:\\Users\\ASUS\\Desktop\\WHK\\practici\\Botswana.csv')\n",
    "Benin.to_csv(r'C:\\Users\\ASUS\\Desktop\\WHK\\practici\\Benin.csv')\n",
    "Algeria.to_csv(r'C:\\Users\\ASUS\\Desktop\\WHK\\practici\\Algeria.csv')\n"
   ]
  },
  {
   "cell_type": "markdown",
   "metadata": {},
   "source": [
    "# Countries_3M,Y\n"
   ]
  },
  {
   "cell_type": "code",
   "execution_count": 3,
   "metadata": {},
   "outputs": [
    {
     "data": {
      "text/html": [
       "<div>\n",
       "<style scoped>\n",
       "    .dataframe tbody tr th:only-of-type {\n",
       "        vertical-align: middle;\n",
       "    }\n",
       "\n",
       "    .dataframe tbody tr th {\n",
       "        vertical-align: top;\n",
       "    }\n",
       "\n",
       "    .dataframe thead th {\n",
       "        text-align: right;\n",
       "    }\n",
       "</style>\n",
       "<table border=\"1\" class=\"dataframe\">\n",
       "  <thead>\n",
       "    <tr style=\"text-align: right;\">\n",
       "      <th></th>\n",
       "      <th>country</th>\n",
       "      <th>year</th>\n",
       "      <th>month</th>\n",
       "      <th>best</th>\n",
       "    </tr>\n",
       "  </thead>\n",
       "  <tbody>\n",
       "    <tr>\n",
       "      <th>2</th>\n",
       "      <td>Algeria</td>\n",
       "      <td>1990</td>\n",
       "      <td>12</td>\n",
       "      <td>1</td>\n",
       "    </tr>\n",
       "    <tr>\n",
       "      <th>3</th>\n",
       "      <td>Algeria</td>\n",
       "      <td>1991</td>\n",
       "      <td>11</td>\n",
       "      <td>3</td>\n",
       "    </tr>\n",
       "    <tr>\n",
       "      <th>4</th>\n",
       "      <td>Algeria</td>\n",
       "      <td>1991</td>\n",
       "      <td>12</td>\n",
       "      <td>31</td>\n",
       "    </tr>\n",
       "    <tr>\n",
       "      <th>5</th>\n",
       "      <td>Algeria</td>\n",
       "      <td>1992</td>\n",
       "      <td>01</td>\n",
       "      <td>32</td>\n",
       "    </tr>\n",
       "    <tr>\n",
       "      <th>6</th>\n",
       "      <td>Algeria</td>\n",
       "      <td>1992</td>\n",
       "      <td>02</td>\n",
       "      <td>17</td>\n",
       "    </tr>\n",
       "    <tr>\n",
       "      <th>...</th>\n",
       "      <td>...</td>\n",
       "      <td>...</td>\n",
       "      <td>...</td>\n",
       "      <td>...</td>\n",
       "    </tr>\n",
       "    <tr>\n",
       "      <th>328</th>\n",
       "      <td>Algeria</td>\n",
       "      <td>2020</td>\n",
       "      <td>11</td>\n",
       "      <td>1</td>\n",
       "    </tr>\n",
       "    <tr>\n",
       "      <th>329</th>\n",
       "      <td>Algeria</td>\n",
       "      <td>2020</td>\n",
       "      <td>12</td>\n",
       "      <td>4</td>\n",
       "    </tr>\n",
       "    <tr>\n",
       "      <th>330</th>\n",
       "      <td>Algeria</td>\n",
       "      <td>2021</td>\n",
       "      <td>01</td>\n",
       "      <td>15</td>\n",
       "    </tr>\n",
       "    <tr>\n",
       "      <th>331</th>\n",
       "      <td>Algeria</td>\n",
       "      <td>2021</td>\n",
       "      <td>05</td>\n",
       "      <td>1</td>\n",
       "    </tr>\n",
       "    <tr>\n",
       "      <th>332</th>\n",
       "      <td>Algeria</td>\n",
       "      <td>2021</td>\n",
       "      <td>08</td>\n",
       "      <td>2</td>\n",
       "    </tr>\n",
       "  </tbody>\n",
       "</table>\n",
       "<p>331 rows × 4 columns</p>\n",
       "</div>"
      ],
      "text/plain": [
       "     country  year month best\n",
       "2    Algeria  1990    12    1\n",
       "3    Algeria  1991    11    3\n",
       "4    Algeria  1991    12   31\n",
       "5    Algeria  1992    01   32\n",
       "6    Algeria  1992    02   17\n",
       "..       ...   ...   ...  ...\n",
       "328  Algeria  2020    11    1\n",
       "329  Algeria  2020    12    4\n",
       "330  Algeria  2021    01   15\n",
       "331  Algeria  2021    05    1\n",
       "332  Algeria  2021    08    2\n",
       "\n",
       "[331 rows x 4 columns]"
      ]
     },
     "execution_count": 3,
     "metadata": {},
     "output_type": "execute_result"
    }
   ],
   "source": [
    "s = dd[dd['country']=='Algeria']\n",
    "p = s.best.count()\n",
    "t=s.best\n",
    "t = t.astype(float)\n",
    "s"
   ]
  },
  {
   "cell_type": "code",
   "execution_count": 4,
   "metadata": {},
   "outputs": [],
   "source": [
    "f = []\n",
    "f.append(t[2])\n",
    "f.append(t[3])\n",
    "for i in range(4,333):\n",
    "   \n",
    "    result= t[i] + t[i-1] + t[i-2]\n",
    "    f.append( result)\n",
    "    \n"
   ]
  },
  {
   "cell_type": "code",
   "execution_count": 21,
   "metadata": {},
   "outputs": [],
   "source": [
    "#Algeria.to_csv(r'C:\\Users\\ASUS\\Desktop\\WHK\\practici\\3M\\Algeria.csv'\n"
   ]
  },
  {
   "cell_type": "code",
   "execution_count": 5,
   "metadata": {},
   "outputs": [
    {
     "name": "stderr",
     "output_type": "stream",
     "text": [
      "C:\\Users\\ASUS\\AppData\\Local\\Temp\\ipykernel_12328\\2500475149.py:1: SettingWithCopyWarning: \n",
      "A value is trying to be set on a copy of a slice from a DataFrame.\n",
      "Try using .loc[row_indexer,col_indexer] = value instead\n",
      "\n",
      "See the caveats in the documentation: https://pandas.pydata.org/pandas-docs/stable/user_guide/indexing.html#returning-a-view-versus-a-copy\n",
      "  s['3M'] = f\n"
     ]
    }
   ],
   "source": [
    "s['3M'] = f\n",
    "\n",
    "\n",
    "#d = pd.DataFrame(f)\n",
    "#d.to_csv(r'C:\\Users\\ASUS\\Desktop\\WHK\\practici\\sum_algeria.csv')"
   ]
  },
  {
   "cell_type": "code",
   "execution_count": 6,
   "metadata": {},
   "outputs": [],
   "source": [
    "az=[]\n",
    "for j in range(len(t)):\n",
    "    a=t.iloc[j+13:j:-1]\n",
    "    az.append(a)\n",
    "    \n",
    "    \n",
    "an=[]\n",
    "for i in range(2,15):\n",
    "    an.append(t[i])    \n",
    "    \n",
    "    \n",
    "\n",
    "for x in range(len(az)-13):\n",
    "    b=sum(az[x])\n",
    "    an.append(b)\n",
    "    \n",
    "    \n",
    "    \n",
    "\n",
    "\n"
   ]
  },
  {
   "cell_type": "code",
   "execution_count": 10,
   "metadata": {},
   "outputs": [
    {
     "name": "stderr",
     "output_type": "stream",
     "text": [
      "C:\\Users\\ASUS\\AppData\\Local\\Temp\\ipykernel_12328\\2821326906.py:1: SettingWithCopyWarning: \n",
      "A value is trying to be set on a copy of a slice from a DataFrame.\n",
      "Try using .loc[row_indexer,col_indexer] = value instead\n",
      "\n",
      "See the caveats in the documentation: https://pandas.pydata.org/pandas-docs/stable/user_guide/indexing.html#returning-a-view-versus-a-copy\n",
      "  s['Y'] = an\n"
     ]
    }
   ],
   "source": [
    "s['Y'] = an\n",
    "\n",
    "s.to_csv(r'C:\\Users\\ASUS\\Desktop\\WHK\\practici\\adm_0_GED\\Algeria.csv')"
   ]
  },
  {
   "cell_type": "code",
   "execution_count": 11,
   "metadata": {},
   "outputs": [],
   "source": [
    "s = dd[dd['country']=='Angola']\n",
    "p = s.best.count()\n",
    "t=s.best\n",
    "t = t.astype(float)\n"
   ]
  },
  {
   "cell_type": "code",
   "execution_count": 12,
   "metadata": {},
   "outputs": [],
   "source": [
    "f = []\n",
    "f.append(t[333])\n",
    "f.append(t[334])\n",
    "for i in range(335,598):\n",
    "   \n",
    "    result= t[i] + t[i-1] + t[i-2]\n",
    "    f.append( result)"
   ]
  },
  {
   "cell_type": "code",
   "execution_count": 13,
   "metadata": {},
   "outputs": [],
   "source": [
    "az=[]\n",
    "for j in range(len(t)):\n",
    "    a=t.iloc[j+13:j:-1]\n",
    "    az.append(a)\n",
    "    \n",
    "    \n",
    "an=[]\n",
    "for i in range(333,346):\n",
    "    an.append(t[i])    \n",
    "    \n",
    "    \n",
    "\n",
    "for x in range(len(az)-13):\n",
    "    b=sum(az[x])\n",
    "    an.append(b)"
   ]
  },
  {
   "cell_type": "code",
   "execution_count": 16,
   "metadata": {},
   "outputs": [
    {
     "name": "stderr",
     "output_type": "stream",
     "text": [
      "C:\\Users\\ASUS\\AppData\\Local\\Temp\\ipykernel_12328\\3504174326.py:1: SettingWithCopyWarning: \n",
      "A value is trying to be set on a copy of a slice from a DataFrame.\n",
      "Try using .loc[row_indexer,col_indexer] = value instead\n",
      "\n",
      "See the caveats in the documentation: https://pandas.pydata.org/pandas-docs/stable/user_guide/indexing.html#returning-a-view-versus-a-copy\n",
      "  s['3M'] = f\n",
      "C:\\Users\\ASUS\\AppData\\Local\\Temp\\ipykernel_12328\\3504174326.py:2: SettingWithCopyWarning: \n",
      "A value is trying to be set on a copy of a slice from a DataFrame.\n",
      "Try using .loc[row_indexer,col_indexer] = value instead\n",
      "\n",
      "See the caveats in the documentation: https://pandas.pydata.org/pandas-docs/stable/user_guide/indexing.html#returning-a-view-versus-a-copy\n",
      "  s['Y'] = an\n"
     ]
    }
   ],
   "source": [
    "s['3M'] = f\n",
    "s['Y'] = an\n",
    "s.to_csv(r'C:\\Users\\ASUS\\Desktop\\WHK\\practici\\adm_0_GED\\Angola.csv')\n",
    "#Angola.to_csv(r'C:\\Users\\ASUS\\Desktop\\WHK\\practici\\3M\\Angola.csv')"
   ]
  },
  {
   "cell_type": "code",
   "execution_count": 19,
   "metadata": {},
   "outputs": [],
   "source": [
    "s = dd[dd['country']=='Zimbabwe (Rhodesia)']\n",
    "p = s.best.count()\n",
    "t=s.best\n",
    "t = t.astype(float)"
   ]
  },
  {
   "cell_type": "code",
   "execution_count": 20,
   "metadata": {},
   "outputs": [],
   "source": [
    "f = []\n",
    "f.append(t[5194])\n",
    "f.append(t[5195])\n",
    "for i in range(5196,5221):\n",
    "   \n",
    "    result= t[i] + t[i-1] + t[i-2]\n",
    "    f.append( result)"
   ]
  },
  {
   "cell_type": "code",
   "execution_count": 21,
   "metadata": {},
   "outputs": [],
   "source": [
    "az=[]\n",
    "for j in range(len(t)):\n",
    "    a=t.iloc[j+13:j:-1]\n",
    "    az.append(a)\n",
    "    \n",
    "    \n",
    "an=[]\n",
    "for i in range(5194,5207):\n",
    "    an.append(t[i])    \n",
    "    \n",
    "    \n",
    "\n",
    "for x in range(len(az)-13):\n",
    "    b=sum(az[x])\n",
    "    an.append(b)"
   ]
  },
  {
   "cell_type": "code",
   "execution_count": 24,
   "metadata": {},
   "outputs": [
    {
     "name": "stderr",
     "output_type": "stream",
     "text": [
      "C:\\Users\\ASUS\\AppData\\Local\\Temp\\ipykernel_12328\\3247458110.py:1: SettingWithCopyWarning: \n",
      "A value is trying to be set on a copy of a slice from a DataFrame.\n",
      "Try using .loc[row_indexer,col_indexer] = value instead\n",
      "\n",
      "See the caveats in the documentation: https://pandas.pydata.org/pandas-docs/stable/user_guide/indexing.html#returning-a-view-versus-a-copy\n",
      "  s['3M'] = f\n",
      "C:\\Users\\ASUS\\AppData\\Local\\Temp\\ipykernel_12328\\3247458110.py:2: SettingWithCopyWarning: \n",
      "A value is trying to be set on a copy of a slice from a DataFrame.\n",
      "Try using .loc[row_indexer,col_indexer] = value instead\n",
      "\n",
      "See the caveats in the documentation: https://pandas.pydata.org/pandas-docs/stable/user_guide/indexing.html#returning-a-view-versus-a-copy\n",
      "  s['Y'] = an\n"
     ]
    }
   ],
   "source": [
    "s['3M'] = f\n",
    "s['Y'] = an\n",
    "s.to_csv(r'C:\\Users\\ASUS\\Desktop\\WHK\\practici\\adm_0_GED\\Zimbabwe.csv')\n",
    "#Zimbabwe.to_csv(r'C:\\Users\\ASUS\\Desktop\\WHK\\practici\\3M\\Zimbabwe.csv')"
   ]
  },
  {
   "cell_type": "code",
   "execution_count": 32,
   "metadata": {},
   "outputs": [],
   "source": [
    "s = dd[dd['country']=='Zambia']\n",
    "p = s.best.count()\n",
    "t=s.best\n",
    "t = t.astype(float)\n"
   ]
  },
  {
   "cell_type": "code",
   "execution_count": 29,
   "metadata": {},
   "outputs": [],
   "source": [
    "f = []\n",
    "f.append(t[5185])\n",
    "f.append(t[5186])\n",
    "for i in range(5187,5194):\n",
    "   \n",
    "    result= t[i] + t[i-1] + t[i-2]\n",
    "    f.append( result)"
   ]
  },
  {
   "cell_type": "code",
   "execution_count": 30,
   "metadata": {},
   "outputs": [
    {
     "ename": "KeyError",
     "evalue": "5194",
     "output_type": "error",
     "traceback": [
      "\u001b[1;31m---------------------------------------------------------------------------\u001b[0m",
      "\u001b[1;31mKeyError\u001b[0m                                  Traceback (most recent call last)",
      "File \u001b[1;32m~\\anaconda3\\envs\\plotlyenv\\lib\\site-packages\\pandas\\core\\indexes\\base.py:3621\u001b[0m, in \u001b[0;36mIndex.get_loc\u001b[1;34m(self, key, method, tolerance)\u001b[0m\n\u001b[0;32m   3620\u001b[0m \u001b[38;5;28;01mtry\u001b[39;00m:\n\u001b[1;32m-> 3621\u001b[0m     \u001b[38;5;28;01mreturn\u001b[39;00m \u001b[38;5;28;43mself\u001b[39;49m\u001b[38;5;241;43m.\u001b[39;49m\u001b[43m_engine\u001b[49m\u001b[38;5;241;43m.\u001b[39;49m\u001b[43mget_loc\u001b[49m\u001b[43m(\u001b[49m\u001b[43mcasted_key\u001b[49m\u001b[43m)\u001b[49m\n\u001b[0;32m   3622\u001b[0m \u001b[38;5;28;01mexcept\u001b[39;00m \u001b[38;5;167;01mKeyError\u001b[39;00m \u001b[38;5;28;01mas\u001b[39;00m err:\n",
      "File \u001b[1;32m~\\anaconda3\\envs\\plotlyenv\\lib\\site-packages\\pandas\\_libs\\index.pyx:136\u001b[0m, in \u001b[0;36mpandas._libs.index.IndexEngine.get_loc\u001b[1;34m()\u001b[0m\n",
      "File \u001b[1;32m~\\anaconda3\\envs\\plotlyenv\\lib\\site-packages\\pandas\\_libs\\index.pyx:163\u001b[0m, in \u001b[0;36mpandas._libs.index.IndexEngine.get_loc\u001b[1;34m()\u001b[0m\n",
      "File \u001b[1;32mpandas\\_libs\\hashtable_class_helper.pxi:2131\u001b[0m, in \u001b[0;36mpandas._libs.hashtable.Int64HashTable.get_item\u001b[1;34m()\u001b[0m\n",
      "File \u001b[1;32mpandas\\_libs\\hashtable_class_helper.pxi:2140\u001b[0m, in \u001b[0;36mpandas._libs.hashtable.Int64HashTable.get_item\u001b[1;34m()\u001b[0m\n",
      "\u001b[1;31mKeyError\u001b[0m: 5194",
      "\nThe above exception was the direct cause of the following exception:\n",
      "\u001b[1;31mKeyError\u001b[0m                                  Traceback (most recent call last)",
      "Input \u001b[1;32mIn [30]\u001b[0m, in \u001b[0;36m<cell line: 8>\u001b[1;34m()\u001b[0m\n\u001b[0;32m      7\u001b[0m an\u001b[38;5;241m=\u001b[39m[]\n\u001b[0;32m      8\u001b[0m \u001b[38;5;28;01mfor\u001b[39;00m i \u001b[38;5;129;01min\u001b[39;00m \u001b[38;5;28mrange\u001b[39m(\u001b[38;5;241m5185\u001b[39m,\u001b[38;5;241m5198\u001b[39m):\n\u001b[1;32m----> 9\u001b[0m     an\u001b[38;5;241m.\u001b[39mappend(\u001b[43mt\u001b[49m\u001b[43m[\u001b[49m\u001b[43mi\u001b[49m\u001b[43m]\u001b[49m)    \n\u001b[0;32m     13\u001b[0m \u001b[38;5;28;01mfor\u001b[39;00m x \u001b[38;5;129;01min\u001b[39;00m \u001b[38;5;28mrange\u001b[39m(\u001b[38;5;28mlen\u001b[39m(az)\u001b[38;5;241m-\u001b[39m\u001b[38;5;241m13\u001b[39m):\n\u001b[0;32m     14\u001b[0m     b\u001b[38;5;241m=\u001b[39m\u001b[38;5;28msum\u001b[39m(az[x])\n",
      "File \u001b[1;32m~\\anaconda3\\envs\\plotlyenv\\lib\\site-packages\\pandas\\core\\series.py:958\u001b[0m, in \u001b[0;36mSeries.__getitem__\u001b[1;34m(self, key)\u001b[0m\n\u001b[0;32m    955\u001b[0m     \u001b[38;5;28;01mreturn\u001b[39;00m \u001b[38;5;28mself\u001b[39m\u001b[38;5;241m.\u001b[39m_values[key]\n\u001b[0;32m    957\u001b[0m \u001b[38;5;28;01melif\u001b[39;00m key_is_scalar:\n\u001b[1;32m--> 958\u001b[0m     \u001b[38;5;28;01mreturn\u001b[39;00m \u001b[38;5;28;43mself\u001b[39;49m\u001b[38;5;241;43m.\u001b[39;49m\u001b[43m_get_value\u001b[49m\u001b[43m(\u001b[49m\u001b[43mkey\u001b[49m\u001b[43m)\u001b[49m\n\u001b[0;32m    960\u001b[0m \u001b[38;5;28;01mif\u001b[39;00m is_hashable(key):\n\u001b[0;32m    961\u001b[0m     \u001b[38;5;66;03m# Otherwise index.get_value will raise InvalidIndexError\u001b[39;00m\n\u001b[0;32m    962\u001b[0m     \u001b[38;5;28;01mtry\u001b[39;00m:\n\u001b[0;32m    963\u001b[0m         \u001b[38;5;66;03m# For labels that don't resolve as scalars like tuples and frozensets\u001b[39;00m\n",
      "File \u001b[1;32m~\\anaconda3\\envs\\plotlyenv\\lib\\site-packages\\pandas\\core\\series.py:1069\u001b[0m, in \u001b[0;36mSeries._get_value\u001b[1;34m(self, label, takeable)\u001b[0m\n\u001b[0;32m   1066\u001b[0m     \u001b[38;5;28;01mreturn\u001b[39;00m \u001b[38;5;28mself\u001b[39m\u001b[38;5;241m.\u001b[39m_values[label]\n\u001b[0;32m   1068\u001b[0m \u001b[38;5;66;03m# Similar to Index.get_value, but we do not fall back to positional\u001b[39;00m\n\u001b[1;32m-> 1069\u001b[0m loc \u001b[38;5;241m=\u001b[39m \u001b[38;5;28;43mself\u001b[39;49m\u001b[38;5;241;43m.\u001b[39;49m\u001b[43mindex\u001b[49m\u001b[38;5;241;43m.\u001b[39;49m\u001b[43mget_loc\u001b[49m\u001b[43m(\u001b[49m\u001b[43mlabel\u001b[49m\u001b[43m)\u001b[49m\n\u001b[0;32m   1070\u001b[0m \u001b[38;5;28;01mreturn\u001b[39;00m \u001b[38;5;28mself\u001b[39m\u001b[38;5;241m.\u001b[39mindex\u001b[38;5;241m.\u001b[39m_get_values_for_loc(\u001b[38;5;28mself\u001b[39m, loc, label)\n",
      "File \u001b[1;32m~\\anaconda3\\envs\\plotlyenv\\lib\\site-packages\\pandas\\core\\indexes\\base.py:3623\u001b[0m, in \u001b[0;36mIndex.get_loc\u001b[1;34m(self, key, method, tolerance)\u001b[0m\n\u001b[0;32m   3621\u001b[0m     \u001b[38;5;28;01mreturn\u001b[39;00m \u001b[38;5;28mself\u001b[39m\u001b[38;5;241m.\u001b[39m_engine\u001b[38;5;241m.\u001b[39mget_loc(casted_key)\n\u001b[0;32m   3622\u001b[0m \u001b[38;5;28;01mexcept\u001b[39;00m \u001b[38;5;167;01mKeyError\u001b[39;00m \u001b[38;5;28;01mas\u001b[39;00m err:\n\u001b[1;32m-> 3623\u001b[0m     \u001b[38;5;28;01mraise\u001b[39;00m \u001b[38;5;167;01mKeyError\u001b[39;00m(key) \u001b[38;5;28;01mfrom\u001b[39;00m \u001b[38;5;21;01merr\u001b[39;00m\n\u001b[0;32m   3624\u001b[0m \u001b[38;5;28;01mexcept\u001b[39;00m \u001b[38;5;167;01mTypeError\u001b[39;00m:\n\u001b[0;32m   3625\u001b[0m     \u001b[38;5;66;03m# If we have a listlike key, _check_indexing_error will raise\u001b[39;00m\n\u001b[0;32m   3626\u001b[0m     \u001b[38;5;66;03m#  InvalidIndexError. Otherwise we fall through and re-raise\u001b[39;00m\n\u001b[0;32m   3627\u001b[0m     \u001b[38;5;66;03m#  the TypeError.\u001b[39;00m\n\u001b[0;32m   3628\u001b[0m     \u001b[38;5;28mself\u001b[39m\u001b[38;5;241m.\u001b[39m_check_indexing_error(key)\n",
      "\u001b[1;31mKeyError\u001b[0m: 5194"
     ]
    }
   ],
   "source": [
    "az=[]\n",
    "for j in range(len(t)):\n",
    "    a=t.iloc[j+13:j:-1]\n",
    "    az.append(a)\n",
    "    \n",
    "    \n",
    "an=[]\n",
    "for i in range(5185,5198):\n",
    "    an.append(t[i])    \n",
    "    \n",
    "    \n",
    "\n",
    "for x in range(len(az)-13):\n",
    "    b=sum(az[x])\n",
    "    an.append(b)"
   ]
  },
  {
   "cell_type": "code",
   "execution_count": 97,
   "metadata": {},
   "outputs": [
    {
     "name": "stderr",
     "output_type": "stream",
     "text": [
      "C:\\Users\\ASUS\\AppData\\Local\\Temp\\ipykernel_13976\\1005184435.py:1: SettingWithCopyWarning: \n",
      "A value is trying to be set on a copy of a slice from a DataFrame.\n",
      "Try using .loc[row_indexer,col_indexer] = value instead\n",
      "\n",
      "See the caveats in the documentation: https://pandas.pydata.org/pandas-docs/stable/user_guide/indexing.html#returning-a-view-versus-a-copy\n",
      "  Zambia['3M'] = f\n",
      "C:\\Users\\ASUS\\AppData\\Local\\Temp\\ipykernel_13976\\1005184435.py:2: SettingWithCopyWarning: \n",
      "A value is trying to be set on a copy of a slice from a DataFrame.\n",
      "Try using .loc[row_indexer,col_indexer] = value instead\n",
      "\n",
      "See the caveats in the documentation: https://pandas.pydata.org/pandas-docs/stable/user_guide/indexing.html#returning-a-view-versus-a-copy\n",
      "  Zambia['Y'] = abb\n"
     ]
    }
   ],
   "source": [
    "Za['3M'] = f\n",
    "Zambia['Y'] = abb\n",
    "Zambia.to_csv(r'C:\\Users\\ASUS\\Desktop\\WHK\\practici\\adm_0_GED\\Zimbabwe.csv')\n",
    "#Zambia.to_csv(r'C:\\Users\\ASUS\\Desktop\\WHK\\practici\\3M\\Zambia.csv')"
   ]
  },
  {
   "cell_type": "code",
   "execution_count": 35,
   "metadata": {},
   "outputs": [],
   "source": [
    "s = dd[dd['country']=='Uganda']\n",
    "p = s.best.count()\n",
    "t=s.best\n",
    "t = t.astype(float)\n"
   ]
  },
  {
   "cell_type": "code",
   "execution_count": 36,
   "metadata": {},
   "outputs": [],
   "source": [
    "f = []\n",
    "f.append(t[4991])\n",
    "f.append(t[4992])\n",
    "for i in range(4993,5185):\n",
    "   \n",
    "    result= t[i] + t[i-1] + t[i-2]\n",
    "    f.append( result)"
   ]
  },
  {
   "cell_type": "code",
   "execution_count": 37,
   "metadata": {},
   "outputs": [],
   "source": [
    "az=[]\n",
    "for j in range(len(t)):\n",
    "    a=t.iloc[j+13:j:-1]\n",
    "    az.append(a)\n",
    "    \n",
    "    \n",
    "an=[]\n",
    "for i in range(4991,5004):\n",
    "    an.append(t[i])    \n",
    "    \n",
    "    \n",
    "\n",
    "for x in range(len(az)-13):\n",
    "    b=sum(az[x])\n",
    "    an.append(b)"
   ]
  },
  {
   "cell_type": "code",
   "execution_count": 41,
   "metadata": {},
   "outputs": [
    {
     "name": "stderr",
     "output_type": "stream",
     "text": [
      "C:\\Users\\ASUS\\AppData\\Local\\Temp\\ipykernel_12328\\1117135623.py:1: SettingWithCopyWarning: \n",
      "A value is trying to be set on a copy of a slice from a DataFrame.\n",
      "Try using .loc[row_indexer,col_indexer] = value instead\n",
      "\n",
      "See the caveats in the documentation: https://pandas.pydata.org/pandas-docs/stable/user_guide/indexing.html#returning-a-view-versus-a-copy\n",
      "  s['3M'] = f\n",
      "C:\\Users\\ASUS\\AppData\\Local\\Temp\\ipykernel_12328\\1117135623.py:2: SettingWithCopyWarning: \n",
      "A value is trying to be set on a copy of a slice from a DataFrame.\n",
      "Try using .loc[row_indexer,col_indexer] = value instead\n",
      "\n",
      "See the caveats in the documentation: https://pandas.pydata.org/pandas-docs/stable/user_guide/indexing.html#returning-a-view-versus-a-copy\n",
      "  s['Y'] = an\n"
     ]
    }
   ],
   "source": [
    "s['3M'] = f\n",
    "s['Y'] = an\n",
    "\n",
    "s.to_csv(r'C:\\Users\\ASUS\\Desktop\\WHK\\practici\\adm_0_GED\\Uganda.csv')\n",
    "#Uganda.to_csv(r'C:\\Users\\ASUS\\Desktop\\WHK\\practici\\3M\\Uganda.csv')\n",
    "\n"
   ]
  },
  {
   "cell_type": "code",
   "execution_count": 42,
   "metadata": {},
   "outputs": [],
   "source": [
    "s = dd[dd['country']=='Tunisia']\n",
    "p = s.best.count()\n",
    "t=s.best\n",
    "t = t.astype(float)\n",
    "\n"
   ]
  },
  {
   "cell_type": "code",
   "execution_count": 43,
   "metadata": {},
   "outputs": [],
   "source": [
    "f = []\n",
    "f.append(t[4921])\n",
    "f.append(t[4922])\n",
    "for i in range(4923,4991):\n",
    "   \n",
    "    result= t[i] + t[i-1] + t[i-2]\n",
    "    f.append( result)"
   ]
  },
  {
   "cell_type": "code",
   "execution_count": 44,
   "metadata": {},
   "outputs": [],
   "source": [
    "az=[]\n",
    "for j in range(len(t)):\n",
    "    a=t.iloc[j+13:j:-1]\n",
    "    az.append(a)\n",
    "    \n",
    "    \n",
    "an=[]\n",
    "for i in range(4921,4934):\n",
    "    an.append(t[i])    \n",
    "    \n",
    "    \n",
    "\n",
    "for x in range(len(az)-13):\n",
    "    b=sum(az[x])\n",
    "    an.append(b)"
   ]
  },
  {
   "cell_type": "code",
   "execution_count": 45,
   "metadata": {},
   "outputs": [
    {
     "name": "stderr",
     "output_type": "stream",
     "text": [
      "C:\\Users\\ASUS\\AppData\\Local\\Temp\\ipykernel_12328\\1270963180.py:1: SettingWithCopyWarning: \n",
      "A value is trying to be set on a copy of a slice from a DataFrame.\n",
      "Try using .loc[row_indexer,col_indexer] = value instead\n",
      "\n",
      "See the caveats in the documentation: https://pandas.pydata.org/pandas-docs/stable/user_guide/indexing.html#returning-a-view-versus-a-copy\n",
      "  s['3M'] = f\n",
      "C:\\Users\\ASUS\\AppData\\Local\\Temp\\ipykernel_12328\\1270963180.py:2: SettingWithCopyWarning: \n",
      "A value is trying to be set on a copy of a slice from a DataFrame.\n",
      "Try using .loc[row_indexer,col_indexer] = value instead\n",
      "\n",
      "See the caveats in the documentation: https://pandas.pydata.org/pandas-docs/stable/user_guide/indexing.html#returning-a-view-versus-a-copy\n",
      "  s['Y'] = an\n"
     ]
    }
   ],
   "source": [
    "s['3M'] = f\n",
    "s['Y'] = an\n",
    "s.to_csv(r'C:\\Users\\ASUS\\Desktop\\WHK\\practici\\adm_0_GED\\Tunisia.csv')\n",
    "#Tunisia.to_csv(r'C:\\Users\\ASUS\\Desktop\\WHK\\practici\\3M\\Tunisia.csv')"
   ]
  },
  {
   "cell_type": "code",
   "execution_count": 51,
   "metadata": {},
   "outputs": [],
   "source": [
    "s = dd[dd['country']=='Togo']\n",
    "p = s.best.count()\n",
    "t=s.best\n",
    "t = t.astype(float)\n"
   ]
  },
  {
   "cell_type": "code",
   "execution_count": 52,
   "metadata": {},
   "outputs": [],
   "source": [
    "f = []\n",
    "f.append(t[4909])\n",
    "f.append(t[4910])\n",
    "for i in range(4911,4921):\n",
    "   \n",
    "    result= t[i] + t[i-1] + t[i-2]\n",
    "    f.append( result)"
   ]
  },
  {
   "cell_type": "code",
   "execution_count": 60,
   "metadata": {},
   "outputs": [
    {
     "ename": "KeyError",
     "evalue": "4909",
     "output_type": "error",
     "traceback": [
      "\u001b[1;31m---------------------------------------------------------------------------\u001b[0m",
      "\u001b[1;31mKeyError\u001b[0m                                  Traceback (most recent call last)",
      "File \u001b[1;32m~\\anaconda3\\envs\\plotlyenv\\lib\\site-packages\\pandas\\core\\indexes\\base.py:3621\u001b[0m, in \u001b[0;36mIndex.get_loc\u001b[1;34m(self, key, method, tolerance)\u001b[0m\n\u001b[0;32m   3620\u001b[0m \u001b[38;5;28;01mtry\u001b[39;00m:\n\u001b[1;32m-> 3621\u001b[0m     \u001b[38;5;28;01mreturn\u001b[39;00m \u001b[38;5;28;43mself\u001b[39;49m\u001b[38;5;241;43m.\u001b[39;49m\u001b[43m_engine\u001b[49m\u001b[38;5;241;43m.\u001b[39;49m\u001b[43mget_loc\u001b[49m\u001b[43m(\u001b[49m\u001b[43mcasted_key\u001b[49m\u001b[43m)\u001b[49m\n\u001b[0;32m   3622\u001b[0m \u001b[38;5;28;01mexcept\u001b[39;00m \u001b[38;5;167;01mKeyError\u001b[39;00m \u001b[38;5;28;01mas\u001b[39;00m err:\n",
      "File \u001b[1;32m~\\anaconda3\\envs\\plotlyenv\\lib\\site-packages\\pandas\\_libs\\index.pyx:136\u001b[0m, in \u001b[0;36mpandas._libs.index.IndexEngine.get_loc\u001b[1;34m()\u001b[0m\n",
      "File \u001b[1;32m~\\anaconda3\\envs\\plotlyenv\\lib\\site-packages\\pandas\\_libs\\index.pyx:163\u001b[0m, in \u001b[0;36mpandas._libs.index.IndexEngine.get_loc\u001b[1;34m()\u001b[0m\n",
      "File \u001b[1;32mpandas\\_libs\\hashtable_class_helper.pxi:2131\u001b[0m, in \u001b[0;36mpandas._libs.hashtable.Int64HashTable.get_item\u001b[1;34m()\u001b[0m\n",
      "File \u001b[1;32mpandas\\_libs\\hashtable_class_helper.pxi:2140\u001b[0m, in \u001b[0;36mpandas._libs.hashtable.Int64HashTable.get_item\u001b[1;34m()\u001b[0m\n",
      "\u001b[1;31mKeyError\u001b[0m: 4909",
      "\nThe above exception was the direct cause of the following exception:\n",
      "\u001b[1;31mKeyError\u001b[0m                                  Traceback (most recent call last)",
      "Input \u001b[1;32mIn [60]\u001b[0m, in \u001b[0;36m<cell line: 8>\u001b[1;34m()\u001b[0m\n\u001b[0;32m      7\u001b[0m an\u001b[38;5;241m=\u001b[39m[]\n\u001b[0;32m      8\u001b[0m \u001b[38;5;28;01mfor\u001b[39;00m i \u001b[38;5;129;01min\u001b[39;00m \u001b[38;5;28mrange\u001b[39m(\u001b[38;5;241m4909\u001b[39m,\u001b[38;5;241m4921\u001b[39m):\n\u001b[1;32m----> 9\u001b[0m     an\u001b[38;5;241m.\u001b[39mappend(\u001b[43mt\u001b[49m\u001b[43m[\u001b[49m\u001b[43mi\u001b[49m\u001b[43m]\u001b[49m)    \n\u001b[0;32m     13\u001b[0m \u001b[38;5;28;01mfor\u001b[39;00m x \u001b[38;5;129;01min\u001b[39;00m \u001b[38;5;28mrange\u001b[39m(\u001b[38;5;28mlen\u001b[39m(az)\u001b[38;5;241m-\u001b[39m\u001b[38;5;241m13\u001b[39m):\n\u001b[0;32m     14\u001b[0m     b\u001b[38;5;241m=\u001b[39m\u001b[38;5;28msum\u001b[39m(az[x])\n",
      "File \u001b[1;32m~\\anaconda3\\envs\\plotlyenv\\lib\\site-packages\\pandas\\core\\series.py:958\u001b[0m, in \u001b[0;36mSeries.__getitem__\u001b[1;34m(self, key)\u001b[0m\n\u001b[0;32m    955\u001b[0m     \u001b[38;5;28;01mreturn\u001b[39;00m \u001b[38;5;28mself\u001b[39m\u001b[38;5;241m.\u001b[39m_values[key]\n\u001b[0;32m    957\u001b[0m \u001b[38;5;28;01melif\u001b[39;00m key_is_scalar:\n\u001b[1;32m--> 958\u001b[0m     \u001b[38;5;28;01mreturn\u001b[39;00m \u001b[38;5;28;43mself\u001b[39;49m\u001b[38;5;241;43m.\u001b[39;49m\u001b[43m_get_value\u001b[49m\u001b[43m(\u001b[49m\u001b[43mkey\u001b[49m\u001b[43m)\u001b[49m\n\u001b[0;32m    960\u001b[0m \u001b[38;5;28;01mif\u001b[39;00m is_hashable(key):\n\u001b[0;32m    961\u001b[0m     \u001b[38;5;66;03m# Otherwise index.get_value will raise InvalidIndexError\u001b[39;00m\n\u001b[0;32m    962\u001b[0m     \u001b[38;5;28;01mtry\u001b[39;00m:\n\u001b[0;32m    963\u001b[0m         \u001b[38;5;66;03m# For labels that don't resolve as scalars like tuples and frozensets\u001b[39;00m\n",
      "File \u001b[1;32m~\\anaconda3\\envs\\plotlyenv\\lib\\site-packages\\pandas\\core\\series.py:1069\u001b[0m, in \u001b[0;36mSeries._get_value\u001b[1;34m(self, label, takeable)\u001b[0m\n\u001b[0;32m   1066\u001b[0m     \u001b[38;5;28;01mreturn\u001b[39;00m \u001b[38;5;28mself\u001b[39m\u001b[38;5;241m.\u001b[39m_values[label]\n\u001b[0;32m   1068\u001b[0m \u001b[38;5;66;03m# Similar to Index.get_value, but we do not fall back to positional\u001b[39;00m\n\u001b[1;32m-> 1069\u001b[0m loc \u001b[38;5;241m=\u001b[39m \u001b[38;5;28;43mself\u001b[39;49m\u001b[38;5;241;43m.\u001b[39;49m\u001b[43mindex\u001b[49m\u001b[38;5;241;43m.\u001b[39;49m\u001b[43mget_loc\u001b[49m\u001b[43m(\u001b[49m\u001b[43mlabel\u001b[49m\u001b[43m)\u001b[49m\n\u001b[0;32m   1070\u001b[0m \u001b[38;5;28;01mreturn\u001b[39;00m \u001b[38;5;28mself\u001b[39m\u001b[38;5;241m.\u001b[39mindex\u001b[38;5;241m.\u001b[39m_get_values_for_loc(\u001b[38;5;28mself\u001b[39m, loc, label)\n",
      "File \u001b[1;32m~\\anaconda3\\envs\\plotlyenv\\lib\\site-packages\\pandas\\core\\indexes\\base.py:3623\u001b[0m, in \u001b[0;36mIndex.get_loc\u001b[1;34m(self, key, method, tolerance)\u001b[0m\n\u001b[0;32m   3621\u001b[0m     \u001b[38;5;28;01mreturn\u001b[39;00m \u001b[38;5;28mself\u001b[39m\u001b[38;5;241m.\u001b[39m_engine\u001b[38;5;241m.\u001b[39mget_loc(casted_key)\n\u001b[0;32m   3622\u001b[0m \u001b[38;5;28;01mexcept\u001b[39;00m \u001b[38;5;167;01mKeyError\u001b[39;00m \u001b[38;5;28;01mas\u001b[39;00m err:\n\u001b[1;32m-> 3623\u001b[0m     \u001b[38;5;28;01mraise\u001b[39;00m \u001b[38;5;167;01mKeyError\u001b[39;00m(key) \u001b[38;5;28;01mfrom\u001b[39;00m \u001b[38;5;21;01merr\u001b[39;00m\n\u001b[0;32m   3624\u001b[0m \u001b[38;5;28;01mexcept\u001b[39;00m \u001b[38;5;167;01mTypeError\u001b[39;00m:\n\u001b[0;32m   3625\u001b[0m     \u001b[38;5;66;03m# If we have a listlike key, _check_indexing_error will raise\u001b[39;00m\n\u001b[0;32m   3626\u001b[0m     \u001b[38;5;66;03m#  InvalidIndexError. Otherwise we fall through and re-raise\u001b[39;00m\n\u001b[0;32m   3627\u001b[0m     \u001b[38;5;66;03m#  the TypeError.\u001b[39;00m\n\u001b[0;32m   3628\u001b[0m     \u001b[38;5;28mself\u001b[39m\u001b[38;5;241m.\u001b[39m_check_indexing_error(key)\n",
      "\u001b[1;31mKeyError\u001b[0m: 4909"
     ]
    }
   ],
   "source": [
    "az=[]\n",
    "for j in range(len(t)):\n",
    "    a=t.iloc[j+13:j:-1]\n",
    "    az.append(a)\n",
    "    \n",
    "    \n",
    "an=[]\n",
    "for i in range(4909,4921):\n",
    "    an.append(t[i])    \n",
    "    \n",
    "    \n",
    "\n",
    "for x in range(len(az)-13):\n",
    "    b=sum(az[x])\n",
    "    an.append(b)"
   ]
  },
  {
   "cell_type": "code",
   "execution_count": 56,
   "metadata": {},
   "outputs": [
    {
     "name": "stderr",
     "output_type": "stream",
     "text": [
      "C:\\Users\\ASUS\\AppData\\Local\\Temp\\ipykernel_12328\\2738923471.py:1: SettingWithCopyWarning: \n",
      "A value is trying to be set on a copy of a slice from a DataFrame.\n",
      "Try using .loc[row_indexer,col_indexer] = value instead\n",
      "\n",
      "See the caveats in the documentation: https://pandas.pydata.org/pandas-docs/stable/user_guide/indexing.html#returning-a-view-versus-a-copy\n",
      "  s['3M'] = f\n",
      "C:\\Users\\ASUS\\AppData\\Local\\Temp\\ipykernel_12328\\2738923471.py:2: SettingWithCopyWarning: \n",
      "A value is trying to be set on a copy of a slice from a DataFrame.\n",
      "Try using .loc[row_indexer,col_indexer] = value instead\n",
      "\n",
      "See the caveats in the documentation: https://pandas.pydata.org/pandas-docs/stable/user_guide/indexing.html#returning-a-view-versus-a-copy\n",
      "  s['Y'] = an\n"
     ]
    }
   ],
   "source": [
    "s['3M'] = f\n",
    "s['Y'] = an\n",
    "s.to_csv(r'C:\\Users\\ASUS\\Desktop\\WHK\\practici\\adm_0_GED\\Togo.csv')\n",
    "#Togo.to_csv(r'C:\\Users\\ASUS\\Desktop\\WHK\\practici\\3M\\Togo.csv')\n"
   ]
  },
  {
   "cell_type": "code",
   "execution_count": 63,
   "metadata": {},
   "outputs": [
    {
     "data": {
      "text/plain": [
       "4892     1.0\n",
       "4893    10.0\n",
       "4894    10.0\n",
       "4895     0.0\n",
       "4896    37.0\n",
       "4897     3.0\n",
       "4898     1.0\n",
       "4899     1.0\n",
       "4900     6.0\n",
       "4901    41.0\n",
       "4902     2.0\n",
       "4903     0.0\n",
       "4904     5.0\n",
       "4905     4.0\n",
       "4906     1.0\n",
       "4907     5.0\n",
       "4908    11.0\n",
       "Name: best, dtype: float64"
      ]
     },
     "execution_count": 63,
     "metadata": {},
     "output_type": "execute_result"
    }
   ],
   "source": [
    "s = dd[dd['country']=='Tanzania']\n",
    "p = s.best.count()\n",
    "t=s.best\n",
    "t = t.astype(float)\n",
    "t"
   ]
  },
  {
   "cell_type": "code",
   "execution_count": 62,
   "metadata": {},
   "outputs": [],
   "source": [
    "f = []\n",
    "f.append(t[4892])\n",
    "f.append(t[4893])\n",
    "for i in range(4894,4909):\n",
    "   \n",
    "    result= t[i] + t[i-1] + t[i-2]\n",
    "    f.append( result)"
   ]
  },
  {
   "cell_type": "code",
   "execution_count": 64,
   "metadata": {},
   "outputs": [],
   "source": [
    "az=[]\n",
    "for j in range(len(t)):\n",
    "    a=t.iloc[j+13:j:-1]\n",
    "    az.append(a)\n",
    "    \n",
    "    \n",
    "an=[]\n",
    "for i in range(4892,4905):\n",
    "    an.append(t[i])    \n",
    "    \n",
    "    \n",
    "\n",
    "for x in range(len(az)-13):\n",
    "    b=sum(az[x])\n",
    "    an.append(b)"
   ]
  },
  {
   "cell_type": "code",
   "execution_count": 65,
   "metadata": {},
   "outputs": [
    {
     "name": "stderr",
     "output_type": "stream",
     "text": [
      "C:\\Users\\ASUS\\AppData\\Local\\Temp\\ipykernel_12328\\4263771066.py:1: SettingWithCopyWarning: \n",
      "A value is trying to be set on a copy of a slice from a DataFrame.\n",
      "Try using .loc[row_indexer,col_indexer] = value instead\n",
      "\n",
      "See the caveats in the documentation: https://pandas.pydata.org/pandas-docs/stable/user_guide/indexing.html#returning-a-view-versus-a-copy\n",
      "  s['3M'] = f\n",
      "C:\\Users\\ASUS\\AppData\\Local\\Temp\\ipykernel_12328\\4263771066.py:2: SettingWithCopyWarning: \n",
      "A value is trying to be set on a copy of a slice from a DataFrame.\n",
      "Try using .loc[row_indexer,col_indexer] = value instead\n",
      "\n",
      "See the caveats in the documentation: https://pandas.pydata.org/pandas-docs/stable/user_guide/indexing.html#returning-a-view-versus-a-copy\n",
      "  s['Y'] = an\n"
     ]
    }
   ],
   "source": [
    "s['3M'] = f\n",
    "s['Y'] = an\n",
    "s.to_csv(r'C:\\Users\\ASUS\\Desktop\\WHK\\practici\\adm_0_GED\\Tanzania.csv')\n",
    "#Tanzania.to_csv(r'C:\\Users\\ASUS\\Desktop\\WHK\\practici\\3M\\Tanzania.csv')\n"
   ]
  },
  {
   "cell_type": "code",
   "execution_count": 66,
   "metadata": {},
   "outputs": [],
   "source": [
    "s = dd[dd['country']=='Sudan']\n",
    "p = s.best.count()\n",
    "t=s.best\n",
    "t = t.astype(float)"
   ]
  },
  {
   "cell_type": "code",
   "execution_count": 67,
   "metadata": {},
   "outputs": [],
   "source": [
    "f = []\n",
    "f.append(t[4512])\n",
    "f.append(t[4513])\n",
    "for i in range(4514,4892):\n",
    "   \n",
    "    result= t[i] + t[i-1] + t[i-2]\n",
    "    f.append( result)"
   ]
  },
  {
   "cell_type": "code",
   "execution_count": 68,
   "metadata": {},
   "outputs": [],
   "source": [
    "az=[]\n",
    "for j in range(len(t)):\n",
    "    a=t.iloc[j+13:j:-1]\n",
    "    az.append(a)\n",
    "    \n",
    "    \n",
    "an=[]\n",
    "for i in range(4512,4525):\n",
    "    an.append(t[i])    \n",
    "    \n",
    "    \n",
    "\n",
    "for x in range(len(az)-13):\n",
    "    b=sum(az[x])\n",
    "    an.append(b)"
   ]
  },
  {
   "cell_type": "code",
   "execution_count": 70,
   "metadata": {},
   "outputs": [
    {
     "name": "stderr",
     "output_type": "stream",
     "text": [
      "C:\\Users\\ASUS\\AppData\\Local\\Temp\\ipykernel_12328\\1639527026.py:1: SettingWithCopyWarning: \n",
      "A value is trying to be set on a copy of a slice from a DataFrame.\n",
      "Try using .loc[row_indexer,col_indexer] = value instead\n",
      "\n",
      "See the caveats in the documentation: https://pandas.pydata.org/pandas-docs/stable/user_guide/indexing.html#returning-a-view-versus-a-copy\n",
      "  s['3M'] = f\n",
      "C:\\Users\\ASUS\\AppData\\Local\\Temp\\ipykernel_12328\\1639527026.py:2: SettingWithCopyWarning: \n",
      "A value is trying to be set on a copy of a slice from a DataFrame.\n",
      "Try using .loc[row_indexer,col_indexer] = value instead\n",
      "\n",
      "See the caveats in the documentation: https://pandas.pydata.org/pandas-docs/stable/user_guide/indexing.html#returning-a-view-versus-a-copy\n",
      "  s['Y'] = an\n"
     ]
    }
   ],
   "source": [
    "s['3M'] = f\n",
    "s['Y'] = an\n",
    "s.to_csv(r'C:\\Users\\ASUS\\Desktop\\WHK\\practici\\adm_0_GED\\Sudan.csv')\n",
    "#Sudan.to_csv(r'C:\\Users\\ASUS\\Desktop\\WHK\\practici\\3M\\Sudan.csv')\n"
   ]
  },
  {
   "cell_type": "code",
   "execution_count": 71,
   "metadata": {},
   "outputs": [],
   "source": [
    "s = dd[dd['country']=='South Sudan']\n",
    "p = s.best.count()\n",
    "t=s.best\n",
    "t = t.astype(float)"
   ]
  },
  {
   "cell_type": "code",
   "execution_count": 72,
   "metadata": {},
   "outputs": [],
   "source": [
    "f = []\n",
    "f.append(t[4395])\n",
    "f.append(t[4396])\n",
    "for i in range(4397,4512):\n",
    "   \n",
    "    result= t[i] + t[i-1] + t[i-2]\n",
    "    f.append( result)"
   ]
  },
  {
   "cell_type": "code",
   "execution_count": 73,
   "metadata": {},
   "outputs": [],
   "source": [
    "az=[]\n",
    "for j in range(len(t)):\n",
    "    a=t.iloc[j+13:j:-1]\n",
    "    az.append(a)\n",
    "    \n",
    "    \n",
    "an=[]\n",
    "for i in range(4395,4408):\n",
    "    an.append(t[i])    \n",
    "    \n",
    "    \n",
    "\n",
    "for x in range(len(az)-13):\n",
    "    b=sum(az[x])\n",
    "    an.append(b)"
   ]
  },
  {
   "cell_type": "code",
   "execution_count": 74,
   "metadata": {},
   "outputs": [
    {
     "name": "stderr",
     "output_type": "stream",
     "text": [
      "C:\\Users\\ASUS\\AppData\\Local\\Temp\\ipykernel_12328\\3788742249.py:1: SettingWithCopyWarning: \n",
      "A value is trying to be set on a copy of a slice from a DataFrame.\n",
      "Try using .loc[row_indexer,col_indexer] = value instead\n",
      "\n",
      "See the caveats in the documentation: https://pandas.pydata.org/pandas-docs/stable/user_guide/indexing.html#returning-a-view-versus-a-copy\n",
      "  s['3M'] = f\n",
      "C:\\Users\\ASUS\\AppData\\Local\\Temp\\ipykernel_12328\\3788742249.py:2: SettingWithCopyWarning: \n",
      "A value is trying to be set on a copy of a slice from a DataFrame.\n",
      "Try using .loc[row_indexer,col_indexer] = value instead\n",
      "\n",
      "See the caveats in the documentation: https://pandas.pydata.org/pandas-docs/stable/user_guide/indexing.html#returning-a-view-versus-a-copy\n",
      "  s['Y'] = an\n"
     ]
    }
   ],
   "source": [
    "s['3M'] = f\n",
    "s['Y'] = an\n",
    "s.to_csv(r'C:\\Users\\ASUS\\Desktop\\WHK\\practici\\adm_0_GED\\South_Sudan.csv')\n",
    "#South_Sudan.to_csv(r'C:\\Users\\ASUS\\Desktop\\WHK\\practici\\3M\\South_Sudan.csv')\n"
   ]
  },
  {
   "cell_type": "code",
   "execution_count": 75,
   "metadata": {},
   "outputs": [],
   "source": [
    "s = dd[dd['country']=='Somalia']\n",
    "p = s.best.count()\n",
    "t=s.best\n",
    "t = t.astype(float)\n"
   ]
  },
  {
   "cell_type": "code",
   "execution_count": 76,
   "metadata": {},
   "outputs": [],
   "source": [
    "f = []\n",
    "f.append(t[3912])\n",
    "f.append(t[3913])\n",
    "for i in range(3914,4264):\n",
    "   \n",
    "    result= t[i] + t[i-1] + t[i-2]\n",
    "    f.append( result)"
   ]
  },
  {
   "cell_type": "code",
   "execution_count": 77,
   "metadata": {},
   "outputs": [],
   "source": [
    "az=[]\n",
    "for j in range(len(t)):\n",
    "    a=t.iloc[j+13:j:-1]\n",
    "    az.append(a)\n",
    "    \n",
    "    \n",
    "an=[]\n",
    "for i in range(3912,3925):\n",
    "    an.append(t[i])    \n",
    "    \n",
    "    \n",
    "\n",
    "for x in range(len(az)-13):\n",
    "    b=sum(az[x])\n",
    "    an.append(b)"
   ]
  },
  {
   "cell_type": "code",
   "execution_count": 78,
   "metadata": {},
   "outputs": [
    {
     "name": "stderr",
     "output_type": "stream",
     "text": [
      "C:\\Users\\ASUS\\AppData\\Local\\Temp\\ipykernel_12328\\776357998.py:1: SettingWithCopyWarning: \n",
      "A value is trying to be set on a copy of a slice from a DataFrame.\n",
      "Try using .loc[row_indexer,col_indexer] = value instead\n",
      "\n",
      "See the caveats in the documentation: https://pandas.pydata.org/pandas-docs/stable/user_guide/indexing.html#returning-a-view-versus-a-copy\n",
      "  s['3M'] = f\n",
      "C:\\Users\\ASUS\\AppData\\Local\\Temp\\ipykernel_12328\\776357998.py:2: SettingWithCopyWarning: \n",
      "A value is trying to be set on a copy of a slice from a DataFrame.\n",
      "Try using .loc[row_indexer,col_indexer] = value instead\n",
      "\n",
      "See the caveats in the documentation: https://pandas.pydata.org/pandas-docs/stable/user_guide/indexing.html#returning-a-view-versus-a-copy\n",
      "  s['Y'] = an\n"
     ]
    }
   ],
   "source": [
    "s['3M'] = f\n",
    "s['Y'] = an\n",
    "s.to_csv(r'C:\\Users\\ASUS\\Desktop\\WHK\\practici\\adm_0_GED\\Somalia.csv')\n",
    "#Somalia.to_csv(r'C:\\Users\\ASUS\\Desktop\\WHK\\practici\\3M\\Somalia.csv')\n"
   ]
  },
  {
   "cell_type": "code",
   "execution_count": 79,
   "metadata": {},
   "outputs": [],
   "source": [
    "s = dd[dd['country']=='Sierra Leone']\n",
    "p = s.best.count()\n",
    "t=s.best\n",
    "t = t.astype(float)\n"
   ]
  },
  {
   "cell_type": "code",
   "execution_count": 80,
   "metadata": {},
   "outputs": [],
   "source": [
    "f = []\n",
    "f.append(t[3790])\n",
    "f.append(t[3790])\n",
    "for i in range(3792,3912):\n",
    "   \n",
    "    result= t[i] + t[i-1] + t[i-2]\n",
    "    f.append( result)"
   ]
  },
  {
   "cell_type": "code",
   "execution_count": 81,
   "metadata": {},
   "outputs": [],
   "source": [
    "az=[]\n",
    "for j in range(len(t)):\n",
    "    a=t.iloc[j+13:j:-1]\n",
    "    az.append(a)\n",
    "    \n",
    "    \n",
    "an=[]\n",
    "for i in range(3790,3803):\n",
    "    an.append(t[i])    \n",
    "    \n",
    "    \n",
    "\n",
    "for x in range(len(az)-13):\n",
    "    b=sum(az[x])\n",
    "    an.append(b)"
   ]
  },
  {
   "cell_type": "code",
   "execution_count": 82,
   "metadata": {},
   "outputs": [
    {
     "name": "stderr",
     "output_type": "stream",
     "text": [
      "C:\\Users\\ASUS\\AppData\\Local\\Temp\\ipykernel_12328\\3849499606.py:1: SettingWithCopyWarning: \n",
      "A value is trying to be set on a copy of a slice from a DataFrame.\n",
      "Try using .loc[row_indexer,col_indexer] = value instead\n",
      "\n",
      "See the caveats in the documentation: https://pandas.pydata.org/pandas-docs/stable/user_guide/indexing.html#returning-a-view-versus-a-copy\n",
      "  s['3M'] = f\n",
      "C:\\Users\\ASUS\\AppData\\Local\\Temp\\ipykernel_12328\\3849499606.py:2: SettingWithCopyWarning: \n",
      "A value is trying to be set on a copy of a slice from a DataFrame.\n",
      "Try using .loc[row_indexer,col_indexer] = value instead\n",
      "\n",
      "See the caveats in the documentation: https://pandas.pydata.org/pandas-docs/stable/user_guide/indexing.html#returning-a-view-versus-a-copy\n",
      "  s['Y'] = an\n"
     ]
    }
   ],
   "source": [
    "s['3M'] = f\n",
    "s['Y'] = an\n",
    "s.to_csv(r'C:\\Users\\ASUS\\Desktop\\WHK\\practici\\adm_0_GED\\Sierra_Leone.csv')\n",
    "#Sierra_Leone.to_csv(r'C:\\Users\\ASUS\\Desktop\\WHK\\practici\\3M\\Sierra_Leone.csv')\n"
   ]
  },
  {
   "cell_type": "code",
   "execution_count": 83,
   "metadata": {},
   "outputs": [],
   "source": [
    "s = dd[dd['country']=='Senegal']\n",
    "p = s.best.count()\n",
    "t=s.best\n",
    "t = t.astype(float)\n"
   ]
  },
  {
   "cell_type": "code",
   "execution_count": 84,
   "metadata": {},
   "outputs": [],
   "source": [
    "f = []\n",
    "f.append(t[3661])\n",
    "f.append(t[3662])\n",
    "for i in range(3663,3790):\n",
    "   \n",
    "    result= t[i] + t[i-1] + t[i-2]\n",
    "    f.append( result)"
   ]
  },
  {
   "cell_type": "code",
   "execution_count": 85,
   "metadata": {},
   "outputs": [],
   "source": [
    "az=[]\n",
    "for j in range(len(t)):\n",
    "    a=t.iloc[j+13:j:-1]\n",
    "    az.append(a)\n",
    "    \n",
    "    \n",
    "an=[]\n",
    "for i in range(3661,3674):\n",
    "    an.append(t[i])    \n",
    "    \n",
    "    \n",
    "\n",
    "for x in range(len(az)-13):\n",
    "    b=sum(az[x])\n",
    "    an.append(b)"
   ]
  },
  {
   "cell_type": "code",
   "execution_count": 86,
   "metadata": {},
   "outputs": [
    {
     "name": "stderr",
     "output_type": "stream",
     "text": [
      "C:\\Users\\ASUS\\AppData\\Local\\Temp\\ipykernel_12328\\1289059678.py:1: SettingWithCopyWarning: \n",
      "A value is trying to be set on a copy of a slice from a DataFrame.\n",
      "Try using .loc[row_indexer,col_indexer] = value instead\n",
      "\n",
      "See the caveats in the documentation: https://pandas.pydata.org/pandas-docs/stable/user_guide/indexing.html#returning-a-view-versus-a-copy\n",
      "  s['3M'] = f\n",
      "C:\\Users\\ASUS\\AppData\\Local\\Temp\\ipykernel_12328\\1289059678.py:2: SettingWithCopyWarning: \n",
      "A value is trying to be set on a copy of a slice from a DataFrame.\n",
      "Try using .loc[row_indexer,col_indexer] = value instead\n",
      "\n",
      "See the caveats in the documentation: https://pandas.pydata.org/pandas-docs/stable/user_guide/indexing.html#returning-a-view-versus-a-copy\n",
      "  s['Y'] = an\n"
     ]
    }
   ],
   "source": [
    "s['3M'] = f\n",
    "s['Y'] = an\n",
    "s.to_csv(r'C:\\Users\\ASUS\\Desktop\\WHK\\practici\\adm_0_GED\\Senegal.csv')\n",
    "#Senegal.to_csv(r'C:\\Users\\ASUS\\Desktop\\WHK\\practici\\3M\\Senegal.csv')\n"
   ]
  },
  {
   "cell_type": "code",
   "execution_count": 87,
   "metadata": {},
   "outputs": [],
   "source": [
    "s = dd[dd['country']=='Rwanda']\n",
    "p = s.best.count()\n",
    "t=s.best\n",
    "t = t.astype(float)"
   ]
  },
  {
   "cell_type": "code",
   "execution_count": 88,
   "metadata": {},
   "outputs": [],
   "source": [
    "f = []\n",
    "f.append(t[3566])\n",
    "f.append(t[3567])\n",
    "for i in range(3568,3661):\n",
    "   \n",
    "    result= t[i] + t[i-1] + t[i-2]\n",
    "    f.append( result)"
   ]
  },
  {
   "cell_type": "code",
   "execution_count": 89,
   "metadata": {},
   "outputs": [],
   "source": [
    "az=[]\n",
    "for j in range(len(t)):\n",
    "    a=t.iloc[j+13:j:-1]\n",
    "    az.append(a)\n",
    "    \n",
    "    \n",
    "an=[]\n",
    "for i in range(3566,3579):\n",
    "    an.append(t[i])    \n",
    "    \n",
    "    \n",
    "\n",
    "for x in range(len(az)-13):\n",
    "    b=sum(az[x])\n",
    "    an.append(b)"
   ]
  },
  {
   "cell_type": "code",
   "execution_count": 91,
   "metadata": {},
   "outputs": [
    {
     "name": "stderr",
     "output_type": "stream",
     "text": [
      "C:\\Users\\ASUS\\AppData\\Local\\Temp\\ipykernel_12328\\438902371.py:1: SettingWithCopyWarning: \n",
      "A value is trying to be set on a copy of a slice from a DataFrame.\n",
      "Try using .loc[row_indexer,col_indexer] = value instead\n",
      "\n",
      "See the caveats in the documentation: https://pandas.pydata.org/pandas-docs/stable/user_guide/indexing.html#returning-a-view-versus-a-copy\n",
      "  s['3M'] = f\n",
      "C:\\Users\\ASUS\\AppData\\Local\\Temp\\ipykernel_12328\\438902371.py:2: SettingWithCopyWarning: \n",
      "A value is trying to be set on a copy of a slice from a DataFrame.\n",
      "Try using .loc[row_indexer,col_indexer] = value instead\n",
      "\n",
      "See the caveats in the documentation: https://pandas.pydata.org/pandas-docs/stable/user_guide/indexing.html#returning-a-view-versus-a-copy\n",
      "  s['Y'] = an\n"
     ]
    }
   ],
   "source": [
    "s['3M'] = f\n",
    "s['Y'] = an\n",
    "s.to_csv(r'C:\\Users\\ASUS\\Desktop\\WHK\\practici\\adm_0_GED\\Rwanda.csv')\n",
    "#Rwanda.to_csv(r'C:\\Users\\ASUS\\Desktop\\WHK\\practici\\3M\\Rwanda.csv')\n"
   ]
  },
  {
   "cell_type": "code",
   "execution_count": 92,
   "metadata": {},
   "outputs": [],
   "source": [
    "s = dd[dd['country']=='Nigeria']\n",
    "p = s.best.count()\n",
    "t=s.best\n",
    "t = t.astype(float)"
   ]
  },
  {
   "cell_type": "code",
   "execution_count": 93,
   "metadata": {},
   "outputs": [],
   "source": [
    "f = []\n",
    "f.append(t[3271])\n",
    "f.append(t[3272])\n",
    "for i in range(3273,3566):\n",
    "   \n",
    "    result= t[i] + t[i-1] + t[i-2]\n",
    "    f.append( result)"
   ]
  },
  {
   "cell_type": "code",
   "execution_count": 94,
   "metadata": {},
   "outputs": [],
   "source": [
    "az=[]\n",
    "for j in range(len(t)):\n",
    "    a=t.iloc[j+13:j:-1]\n",
    "    az.append(a)\n",
    "    \n",
    "    \n",
    "an=[]\n",
    "for i in range(3271,3284):\n",
    "    an.append(t[i])    \n",
    "    \n",
    "    \n",
    "\n",
    "for x in range(len(az)-13):\n",
    "    b=sum(az[x])\n",
    "    an.append(b)"
   ]
  },
  {
   "cell_type": "code",
   "execution_count": 96,
   "metadata": {},
   "outputs": [
    {
     "name": "stderr",
     "output_type": "stream",
     "text": [
      "C:\\Users\\ASUS\\AppData\\Local\\Temp\\ipykernel_12328\\440254633.py:1: SettingWithCopyWarning: \n",
      "A value is trying to be set on a copy of a slice from a DataFrame.\n",
      "Try using .loc[row_indexer,col_indexer] = value instead\n",
      "\n",
      "See the caveats in the documentation: https://pandas.pydata.org/pandas-docs/stable/user_guide/indexing.html#returning-a-view-versus-a-copy\n",
      "  s['3M'] = f\n",
      "C:\\Users\\ASUS\\AppData\\Local\\Temp\\ipykernel_12328\\440254633.py:2: SettingWithCopyWarning: \n",
      "A value is trying to be set on a copy of a slice from a DataFrame.\n",
      "Try using .loc[row_indexer,col_indexer] = value instead\n",
      "\n",
      "See the caveats in the documentation: https://pandas.pydata.org/pandas-docs/stable/user_guide/indexing.html#returning-a-view-versus-a-copy\n",
      "  s['Y'] = an\n"
     ]
    }
   ],
   "source": [
    "s['3M'] = f\n",
    "s['Y'] = an\n",
    "s.to_csv(r'C:\\Users\\ASUS\\Desktop\\WHK\\practici\\adm_0_GED\\Nigeria.csv')\n",
    "#Nigeria.to_csv(r'C:\\Users\\ASUS\\Desktop\\WHK\\practici\\3M\\Nigeria.csv')\n"
   ]
  },
  {
   "cell_type": "code",
   "execution_count": 97,
   "metadata": {},
   "outputs": [],
   "source": [
    "s = dd[dd['country']=='Niger']\n",
    "p = s.best.count()\n",
    "t=s.best\n",
    "t = t.astype(float)"
   ]
  },
  {
   "cell_type": "code",
   "execution_count": 98,
   "metadata": {},
   "outputs": [],
   "source": [
    "f = []\n",
    "f.append(t[3145])\n",
    "f.append(t[3146])\n",
    "for i in range(3147,3271):\n",
    "   \n",
    "    result= t[i] + t[i-1] + t[i-2]\n",
    "    f.append( result)"
   ]
  },
  {
   "cell_type": "code",
   "execution_count": 99,
   "metadata": {},
   "outputs": [],
   "source": [
    "az=[]\n",
    "for j in range(len(t)):\n",
    "    a=t.iloc[j+13:j:-1]\n",
    "    az.append(a)\n",
    "    \n",
    "    \n",
    "an=[]\n",
    "for i in range(3145,3158):\n",
    "    an.append(t[i])    \n",
    "    \n",
    "    \n",
    "\n",
    "for x in range(len(az)-13):\n",
    "    b=sum(az[x])\n",
    "    an.append(b)"
   ]
  },
  {
   "cell_type": "code",
   "execution_count": 101,
   "metadata": {},
   "outputs": [
    {
     "name": "stderr",
     "output_type": "stream",
     "text": [
      "C:\\Users\\ASUS\\AppData\\Local\\Temp\\ipykernel_12328\\2168423706.py:1: SettingWithCopyWarning: \n",
      "A value is trying to be set on a copy of a slice from a DataFrame.\n",
      "Try using .loc[row_indexer,col_indexer] = value instead\n",
      "\n",
      "See the caveats in the documentation: https://pandas.pydata.org/pandas-docs/stable/user_guide/indexing.html#returning-a-view-versus-a-copy\n",
      "  s['3M'] = f\n",
      "C:\\Users\\ASUS\\AppData\\Local\\Temp\\ipykernel_12328\\2168423706.py:2: SettingWithCopyWarning: \n",
      "A value is trying to be set on a copy of a slice from a DataFrame.\n",
      "Try using .loc[row_indexer,col_indexer] = value instead\n",
      "\n",
      "See the caveats in the documentation: https://pandas.pydata.org/pandas-docs/stable/user_guide/indexing.html#returning-a-view-versus-a-copy\n",
      "  s['Y'] = an\n"
     ]
    }
   ],
   "source": [
    "s['3M'] = f\n",
    "s['Y'] = an\n",
    "s.to_csv(r'C:\\Users\\ASUS\\Desktop\\WHK\\practici\\adm_0_GED\\Niger.csv')\n",
    "#Niger.to_csv(r'C:\\Users\\ASUS\\Desktop\\WHK\\practici\\3M\\Niger.csv')\n"
   ]
  },
  {
   "cell_type": "code",
   "execution_count": 102,
   "metadata": {},
   "outputs": [],
   "source": [
    "s = dd[dd['country']=='Namibia']\n",
    "p = s.best.count()\n",
    "t=s.best\n",
    "t = t.astype(float)"
   ]
  },
  {
   "cell_type": "code",
   "execution_count": 103,
   "metadata": {},
   "outputs": [],
   "source": [
    "f = []\n",
    "f.append(t[3132])\n",
    "f.append(t[3133])\n",
    "for i in range(3134,3145):\n",
    "   \n",
    "    result= t[i] + t[i-1] + t[i-2]\n",
    "    f.append( result)"
   ]
  },
  {
   "cell_type": "code",
   "execution_count": 104,
   "metadata": {},
   "outputs": [],
   "source": [
    "az=[]\n",
    "for j in range(len(t)):\n",
    "    a=t.iloc[j+13:j:-1]\n",
    "    az.append(a)\n",
    "    \n",
    "    \n",
    "an=[]\n",
    "for i in range(3132,3145):\n",
    "    an.append(t[i])    \n",
    "    \n",
    "    \n",
    "\n",
    "for x in range(len(az)-13):\n",
    "    b=sum(az[x])\n",
    "    an.append(b)"
   ]
  },
  {
   "cell_type": "code",
   "execution_count": 106,
   "metadata": {},
   "outputs": [
    {
     "name": "stderr",
     "output_type": "stream",
     "text": [
      "C:\\Users\\ASUS\\AppData\\Local\\Temp\\ipykernel_12328\\1029096110.py:1: SettingWithCopyWarning: \n",
      "A value is trying to be set on a copy of a slice from a DataFrame.\n",
      "Try using .loc[row_indexer,col_indexer] = value instead\n",
      "\n",
      "See the caveats in the documentation: https://pandas.pydata.org/pandas-docs/stable/user_guide/indexing.html#returning-a-view-versus-a-copy\n",
      "  s['3M'] = f\n",
      "C:\\Users\\ASUS\\AppData\\Local\\Temp\\ipykernel_12328\\1029096110.py:2: SettingWithCopyWarning: \n",
      "A value is trying to be set on a copy of a slice from a DataFrame.\n",
      "Try using .loc[row_indexer,col_indexer] = value instead\n",
      "\n",
      "See the caveats in the documentation: https://pandas.pydata.org/pandas-docs/stable/user_guide/indexing.html#returning-a-view-versus-a-copy\n",
      "  s['Y'] = an\n"
     ]
    }
   ],
   "source": [
    "s['3M'] = f\n",
    "s['Y'] = an\n",
    "s.to_csv(r'C:\\Users\\ASUS\\Desktop\\WHK\\practici\\adm_0_GED\\Namibia.csv')\n",
    "#Namibia.to_csv(r'C:\\Users\\ASUS\\Desktop\\WHK\\practici\\3M\\Namibia.csv')"
   ]
  },
  {
   "cell_type": "code",
   "execution_count": 107,
   "metadata": {},
   "outputs": [],
   "source": [
    "s = dd[dd['country']=='Mozambique']\n",
    "p = s.best.count()\n",
    "t=s.best\n",
    "t = t.astype(float)"
   ]
  },
  {
   "cell_type": "code",
   "execution_count": 108,
   "metadata": {},
   "outputs": [],
   "source": [
    "f = []\n",
    "f.append(t[3004])\n",
    "f.append(t[3005])\n",
    "for i in range(3006,3132):\n",
    "   \n",
    "    result= t[i] + t[i-1] + t[i-2]\n",
    "    f.append( result)"
   ]
  },
  {
   "cell_type": "code",
   "execution_count": 109,
   "metadata": {},
   "outputs": [],
   "source": [
    "az=[]\n",
    "for j in range(len(t)):\n",
    "    a=t.iloc[j+13:j:-1]\n",
    "    az.append(a)\n",
    "    \n",
    "    \n",
    "an=[]\n",
    "for i in range(3004,3017):\n",
    "    an.append(t[i])    \n",
    "    \n",
    "    \n",
    "\n",
    "for x in range(len(az)-13):\n",
    "    b=sum(az[x])\n",
    "    an.append(b)"
   ]
  },
  {
   "cell_type": "code",
   "execution_count": 111,
   "metadata": {},
   "outputs": [
    {
     "name": "stderr",
     "output_type": "stream",
     "text": [
      "C:\\Users\\ASUS\\AppData\\Local\\Temp\\ipykernel_12328\\3301290405.py:1: SettingWithCopyWarning: \n",
      "A value is trying to be set on a copy of a slice from a DataFrame.\n",
      "Try using .loc[row_indexer,col_indexer] = value instead\n",
      "\n",
      "See the caveats in the documentation: https://pandas.pydata.org/pandas-docs/stable/user_guide/indexing.html#returning-a-view-versus-a-copy\n",
      "  s['3M'] = f\n",
      "C:\\Users\\ASUS\\AppData\\Local\\Temp\\ipykernel_12328\\3301290405.py:2: SettingWithCopyWarning: \n",
      "A value is trying to be set on a copy of a slice from a DataFrame.\n",
      "Try using .loc[row_indexer,col_indexer] = value instead\n",
      "\n",
      "See the caveats in the documentation: https://pandas.pydata.org/pandas-docs/stable/user_guide/indexing.html#returning-a-view-versus-a-copy\n",
      "  s['Y'] = an\n"
     ]
    }
   ],
   "source": [
    "s['3M'] = f\n",
    "s['Y'] = an\n",
    "s.to_csv(r'C:\\Users\\ASUS\\Desktop\\WHK\\practici\\adm_0_GED\\Mozambique.csv')\n",
    "#Mozambique.to_csv(r'C:\\Users\\ASUS\\Desktop\\WHK\\practici\\3M\\Mozambique.csv')\n"
   ]
  },
  {
   "cell_type": "code",
   "execution_count": 118,
   "metadata": {},
   "outputs": [
    {
     "data": {
      "text/plain": [
       "2993      4.0\n",
       "2994      4.0\n",
       "2995     25.0\n",
       "2996    174.0\n",
       "2997     19.0\n",
       "2998     33.0\n",
       "2999      1.0\n",
       "3000      2.0\n",
       "3001      0.0\n",
       "3002      3.0\n",
       "3003      3.0\n",
       "Name: best, dtype: float64"
      ]
     },
     "execution_count": 118,
     "metadata": {},
     "output_type": "execute_result"
    }
   ],
   "source": [
    "s = dd[dd['country']=='Morocco']\n",
    "p = s.best.count()\n",
    "t=s.best\n",
    "t = t.astype(float)\n",
    "t"
   ]
  },
  {
   "cell_type": "code",
   "execution_count": 115,
   "metadata": {},
   "outputs": [],
   "source": [
    "f = []\n",
    "f.append(t[2993])\n",
    "f.append(t[2994])\n",
    "for i in range(2995,3004):\n",
    "   \n",
    "    result= t[i] + t[i-1] + t[i-2]\n",
    "    f.append( result)"
   ]
  },
  {
   "cell_type": "code",
   "execution_count": 85,
   "metadata": {},
   "outputs": [
    {
     "name": "stderr",
     "output_type": "stream",
     "text": [
      "C:\\Users\\ASUS\\AppData\\Local\\Temp\\ipykernel_2232\\1138970692.py:1: SettingWithCopyWarning: \n",
      "A value is trying to be set on a copy of a slice from a DataFrame.\n",
      "Try using .loc[row_indexer,col_indexer] = value instead\n",
      "\n",
      "See the caveats in the documentation: https://pandas.pydata.org/pandas-docs/stable/user_guide/indexing.html#returning-a-view-versus-a-copy\n",
      "  Morocco['3M'] = f\n",
      "C:\\Users\\ASUS\\AppData\\Local\\Temp\\ipykernel_2232\\1138970692.py:2: SettingWithCopyWarning: \n",
      "A value is trying to be set on a copy of a slice from a DataFrame.\n",
      "Try using .loc[row_indexer,col_indexer] = value instead\n",
      "\n",
      "See the caveats in the documentation: https://pandas.pydata.org/pandas-docs/stable/user_guide/indexing.html#returning-a-view-versus-a-copy\n",
      "  Morocco['Y'] = abb\n"
     ]
    }
   ],
   "source": [
    "Morocco['3M'] = f\n",
    "Morocco['Y'] = abb\n",
    "Morocco.to_csv(r'C:\\Users\\ASUS\\Desktop\\WHK\\practici\\Y\\Morocco.csv')\n",
    "#Morocco.to_csv(r'C:\\Users\\ASUS\\Desktop\\WHK\\practici\\3M\\Morocco.csv')\n"
   ]
  },
  {
   "cell_type": "code",
   "execution_count": 122,
   "metadata": {},
   "outputs": [],
   "source": [
    "s = dd[dd['country']=='Mauritania']\n",
    "p = s.best.count()\n",
    "t=s.best\n",
    "t = t.astype(float)\n"
   ]
  },
  {
   "cell_type": "code",
   "execution_count": 120,
   "metadata": {},
   "outputs": [],
   "source": [
    "f = []\n",
    "f.append(t[2973])\n",
    "f.append(t[2974])\n",
    "for i in range(2975,2993):\n",
    "   \n",
    "    result= t[i] + t[i-1] + t[i-2]\n",
    "    f.append( result)"
   ]
  },
  {
   "cell_type": "code",
   "execution_count": 123,
   "metadata": {},
   "outputs": [],
   "source": [
    "az=[]\n",
    "for j in range(len(t)):\n",
    "    a=t.iloc[j+13:j:-1]\n",
    "    az.append(a)\n",
    "    \n",
    "    \n",
    "an=[]\n",
    "for i in range(2973,2986):\n",
    "    an.append(t[i])    \n",
    "    \n",
    "    \n",
    "\n",
    "for x in range(len(az)-13):\n",
    "    b=sum(az[x])\n",
    "    an.append(b)"
   ]
  },
  {
   "cell_type": "code",
   "execution_count": 124,
   "metadata": {},
   "outputs": [
    {
     "name": "stderr",
     "output_type": "stream",
     "text": [
      "C:\\Users\\ASUS\\AppData\\Local\\Temp\\ipykernel_12328\\2253485869.py:1: SettingWithCopyWarning: \n",
      "A value is trying to be set on a copy of a slice from a DataFrame.\n",
      "Try using .loc[row_indexer,col_indexer] = value instead\n",
      "\n",
      "See the caveats in the documentation: https://pandas.pydata.org/pandas-docs/stable/user_guide/indexing.html#returning-a-view-versus-a-copy\n",
      "  s['3M'] = f\n",
      "C:\\Users\\ASUS\\AppData\\Local\\Temp\\ipykernel_12328\\2253485869.py:2: SettingWithCopyWarning: \n",
      "A value is trying to be set on a copy of a slice from a DataFrame.\n",
      "Try using .loc[row_indexer,col_indexer] = value instead\n",
      "\n",
      "See the caveats in the documentation: https://pandas.pydata.org/pandas-docs/stable/user_guide/indexing.html#returning-a-view-versus-a-copy\n",
      "  s['Y'] = an\n"
     ]
    }
   ],
   "source": [
    "s['3M'] = f\n",
    "s['Y'] = an\n",
    "s.to_csv(r'C:\\Users\\ASUS\\Desktop\\WHK\\practici\\adm_0_GED\\Mauritania.csv')\n",
    "#Mauritania.to_csv(r'C:\\Users\\ASUS\\Desktop\\WHK\\practici\\3M\\Mauritania.csv')\n"
   ]
  },
  {
   "cell_type": "code",
   "execution_count": 125,
   "metadata": {},
   "outputs": [],
   "source": [
    "s = dd[dd['country']=='Mali']\n",
    "p = s.best.count()\n",
    "t=s.best\n",
    "t = t.astype(float)"
   ]
  },
  {
   "cell_type": "code",
   "execution_count": 126,
   "metadata": {},
   "outputs": [],
   "source": [
    "f = []\n",
    "f.append(t[2806])\n",
    "f.append(t[2807])\n",
    "for i in range(2808,2973):\n",
    "   \n",
    "    result= t[i] + t[i-1] + t[i-2]\n",
    "    f.append( result)"
   ]
  },
  {
   "cell_type": "code",
   "execution_count": 128,
   "metadata": {},
   "outputs": [],
   "source": [
    "az=[]\n",
    "for j in range(len(t)):\n",
    "    a=t.iloc[j+13:j:-1]\n",
    "    az.append(a)\n",
    "    \n",
    "    \n",
    "an=[]\n",
    "for i in range(2806,2819):\n",
    "    an.append(t[i])    \n",
    "    \n",
    "    \n",
    "\n",
    "for x in range(len(az)-13):\n",
    "    b=sum(az[x])\n",
    "    an.append(b)"
   ]
  },
  {
   "cell_type": "code",
   "execution_count": 129,
   "metadata": {},
   "outputs": [
    {
     "name": "stderr",
     "output_type": "stream",
     "text": [
      "C:\\Users\\ASUS\\AppData\\Local\\Temp\\ipykernel_12328\\786227762.py:1: SettingWithCopyWarning: \n",
      "A value is trying to be set on a copy of a slice from a DataFrame.\n",
      "Try using .loc[row_indexer,col_indexer] = value instead\n",
      "\n",
      "See the caveats in the documentation: https://pandas.pydata.org/pandas-docs/stable/user_guide/indexing.html#returning-a-view-versus-a-copy\n",
      "  s['3M'] = f\n",
      "C:\\Users\\ASUS\\AppData\\Local\\Temp\\ipykernel_12328\\786227762.py:2: SettingWithCopyWarning: \n",
      "A value is trying to be set on a copy of a slice from a DataFrame.\n",
      "Try using .loc[row_indexer,col_indexer] = value instead\n",
      "\n",
      "See the caveats in the documentation: https://pandas.pydata.org/pandas-docs/stable/user_guide/indexing.html#returning-a-view-versus-a-copy\n",
      "  s['Y'] = an\n"
     ]
    }
   ],
   "source": [
    "s['3M'] = f\n",
    "s['Y'] = an\n",
    "s.to_csv(r'C:\\Users\\ASUS\\Desktop\\WHK\\practici\\adm_0_GED\\Mali.csv')\n",
    "#Mali.to_csv(r'C:\\Users\\ASUS\\Desktop\\WHK\\practici\\3M\\Mali.csv')\n"
   ]
  },
  {
   "cell_type": "code",
   "execution_count": 130,
   "metadata": {},
   "outputs": [],
   "source": [
    "s = dd[dd['country']=='Madagascar (Malagasy)']\n",
    "p = s.best.count()\n",
    "t=s.best\n",
    "t = t.astype(float)"
   ]
  },
  {
   "cell_type": "code",
   "execution_count": 131,
   "metadata": {},
   "outputs": [],
   "source": [
    "f = []\n",
    "f.append(t[2790])\n",
    "f.append(t[2791])\n",
    "for i in range(2792,2806):\n",
    "   \n",
    "    result= t[i] + t[i-1] + t[i-2]\n",
    "    f.append( result)"
   ]
  },
  {
   "cell_type": "code",
   "execution_count": 132,
   "metadata": {},
   "outputs": [],
   "source": [
    "az=[]\n",
    "for j in range(len(t)):\n",
    "    a=t.iloc[j+13:j:-1]\n",
    "    az.append(a)\n",
    "    \n",
    "    \n",
    "an=[]\n",
    "for i in range(2790,2803):\n",
    "    an.append(t[i])    \n",
    "    \n",
    "    \n",
    "\n",
    "for x in range(len(az)-13):\n",
    "    b=sum(az[x])\n",
    "    an.append(b)"
   ]
  },
  {
   "cell_type": "code",
   "execution_count": 134,
   "metadata": {},
   "outputs": [
    {
     "name": "stderr",
     "output_type": "stream",
     "text": [
      "C:\\Users\\ASUS\\AppData\\Local\\Temp\\ipykernel_12328\\112804450.py:1: SettingWithCopyWarning: \n",
      "A value is trying to be set on a copy of a slice from a DataFrame.\n",
      "Try using .loc[row_indexer,col_indexer] = value instead\n",
      "\n",
      "See the caveats in the documentation: https://pandas.pydata.org/pandas-docs/stable/user_guide/indexing.html#returning-a-view-versus-a-copy\n",
      "  s['3M'] = f\n",
      "C:\\Users\\ASUS\\AppData\\Local\\Temp\\ipykernel_12328\\112804450.py:2: SettingWithCopyWarning: \n",
      "A value is trying to be set on a copy of a slice from a DataFrame.\n",
      "Try using .loc[row_indexer,col_indexer] = value instead\n",
      "\n",
      "See the caveats in the documentation: https://pandas.pydata.org/pandas-docs/stable/user_guide/indexing.html#returning-a-view-versus-a-copy\n",
      "  s['Y'] = an\n"
     ]
    }
   ],
   "source": [
    "s['3M'] = f\n",
    "s['Y'] = an\n",
    "s.to_csv(r'C:\\Users\\ASUS\\Desktop\\WHK\\practici\\adm_0_GED\\Madagascar.csv')\n",
    "#Madagascar.to_csv(r'C:\\Users\\ASUS\\Desktop\\WHK\\practici\\3M\\Madagascar.csv')\n"
   ]
  },
  {
   "cell_type": "code",
   "execution_count": 135,
   "metadata": {},
   "outputs": [],
   "source": [
    "s = dd[dd['country']=='Libya']\n",
    "p = s.best.count()\n",
    "t=s.best\n",
    "t = t.astype(float)"
   ]
  },
  {
   "cell_type": "code",
   "execution_count": 136,
   "metadata": {},
   "outputs": [],
   "source": [
    "f = []\n",
    "f.append(t[2685])\n",
    "f.append(t[2686])\n",
    "for i in range(2687,2790):\n",
    "   \n",
    "    result= t[i] + t[i-1] + t[i-2]\n",
    "    f.append( result)"
   ]
  },
  {
   "cell_type": "code",
   "execution_count": 137,
   "metadata": {},
   "outputs": [],
   "source": [
    "az=[]\n",
    "for j in range(len(t)):\n",
    "    a=t.iloc[j+13:j:-1]\n",
    "    az.append(a)\n",
    "    \n",
    "    \n",
    "an=[]\n",
    "for i in range(2685,2698):\n",
    "    an.append(t[i])    \n",
    "    \n",
    "    \n",
    "\n",
    "for x in range(len(az)-13):\n",
    "    b=sum(az[x])\n",
    "    an.append(b)"
   ]
  },
  {
   "cell_type": "code",
   "execution_count": 139,
   "metadata": {},
   "outputs": [
    {
     "name": "stderr",
     "output_type": "stream",
     "text": [
      "C:\\Users\\ASUS\\AppData\\Local\\Temp\\ipykernel_12328\\761112297.py:1: SettingWithCopyWarning: \n",
      "A value is trying to be set on a copy of a slice from a DataFrame.\n",
      "Try using .loc[row_indexer,col_indexer] = value instead\n",
      "\n",
      "See the caveats in the documentation: https://pandas.pydata.org/pandas-docs/stable/user_guide/indexing.html#returning-a-view-versus-a-copy\n",
      "  s['3M'] = f\n",
      "C:\\Users\\ASUS\\AppData\\Local\\Temp\\ipykernel_12328\\761112297.py:2: SettingWithCopyWarning: \n",
      "A value is trying to be set on a copy of a slice from a DataFrame.\n",
      "Try using .loc[row_indexer,col_indexer] = value instead\n",
      "\n",
      "See the caveats in the documentation: https://pandas.pydata.org/pandas-docs/stable/user_guide/indexing.html#returning-a-view-versus-a-copy\n",
      "  s['Y'] = an\n"
     ]
    }
   ],
   "source": [
    "s['3M'] = f\n",
    "s['Y'] = an\n",
    "s.to_csv(r'C:\\Users\\ASUS\\Desktop\\WHK\\practici\\adm_0_GED\\Libya.csv')\n",
    "#Libya.to_csv(r'C:\\Users\\ASUS\\Desktop\\WHK\\practici\\3M\\Libya.csv')\n"
   ]
  },
  {
   "cell_type": "code",
   "execution_count": 140,
   "metadata": {},
   "outputs": [],
   "source": [
    "s = dd[dd['country']=='Liberia']\n",
    "p = s.best.count()\n",
    "t=s.best\n",
    "t = t.astype(float)"
   ]
  },
  {
   "cell_type": "code",
   "execution_count": 141,
   "metadata": {},
   "outputs": [],
   "source": [
    "f = []\n",
    "f.append(t[2572])\n",
    "f.append(t[2573])\n",
    "for i in range(2574,2685):\n",
    "   \n",
    "    result= t[i] + t[i-1] + t[i-2]\n",
    "    f.append( result)"
   ]
  },
  {
   "cell_type": "code",
   "execution_count": 142,
   "metadata": {},
   "outputs": [],
   "source": [
    "az=[]\n",
    "for j in range(len(t)):\n",
    "    a=t.iloc[j+13:j:-1]\n",
    "    az.append(a)\n",
    "    \n",
    "    \n",
    "an=[]\n",
    "for i in range(2572,2585):\n",
    "    an.append(t[i])    \n",
    "    \n",
    "    \n",
    "\n",
    "for x in range(len(az)-13):\n",
    "    b=sum(az[x])\n",
    "    an.append(b)"
   ]
  },
  {
   "cell_type": "code",
   "execution_count": 144,
   "metadata": {},
   "outputs": [
    {
     "name": "stderr",
     "output_type": "stream",
     "text": [
      "C:\\Users\\ASUS\\AppData\\Local\\Temp\\ipykernel_12328\\478079379.py:1: SettingWithCopyWarning: \n",
      "A value is trying to be set on a copy of a slice from a DataFrame.\n",
      "Try using .loc[row_indexer,col_indexer] = value instead\n",
      "\n",
      "See the caveats in the documentation: https://pandas.pydata.org/pandas-docs/stable/user_guide/indexing.html#returning-a-view-versus-a-copy\n",
      "  s['3M'] = f\n",
      "C:\\Users\\ASUS\\AppData\\Local\\Temp\\ipykernel_12328\\478079379.py:2: SettingWithCopyWarning: \n",
      "A value is trying to be set on a copy of a slice from a DataFrame.\n",
      "Try using .loc[row_indexer,col_indexer] = value instead\n",
      "\n",
      "See the caveats in the documentation: https://pandas.pydata.org/pandas-docs/stable/user_guide/indexing.html#returning-a-view-versus-a-copy\n",
      "  s['Y'] = an\n"
     ]
    }
   ],
   "source": [
    "s['3M'] = f\n",
    "s['Y'] = an\n",
    "s.to_csv(r'C:\\Users\\ASUS\\Desktop\\WHK\\practici\\adm_0_GED\\Liberia.csv')\n",
    "#Liberia.to_csv(r'C:\\Users\\ASUS\\Desktop\\WHK\\practici\\3M\\Liberia.csv')\n"
   ]
  },
  {
   "cell_type": "code",
   "execution_count": 145,
   "metadata": {},
   "outputs": [],
   "source": [
    "s = dd[dd['country']=='Kingdom of eSwatini (Swaziland)']\n",
    "p = s.best.count()\n",
    "t=s.best\n",
    "t = t.astype(float)"
   ]
  },
  {
   "cell_type": "code",
   "execution_count": 146,
   "metadata": {},
   "outputs": [],
   "source": [
    "f = []\n",
    "f.append(t[2564])\n",
    "f.append(t[2565])\n",
    "for i in range(2566,2571):\n",
    "   \n",
    "    result= t[i] + t[i-1] + t[i-2]\n",
    "    f.append( result)"
   ]
  },
  {
   "cell_type": "code",
   "execution_count": 152,
   "metadata": {},
   "outputs": [
    {
     "ename": "KeyError",
     "evalue": "2564",
     "output_type": "error",
     "traceback": [
      "\u001b[1;31m---------------------------------------------------------------------------\u001b[0m",
      "\u001b[1;31mKeyError\u001b[0m                                  Traceback (most recent call last)",
      "File \u001b[1;32m~\\anaconda3\\envs\\plotlyenv\\lib\\site-packages\\pandas\\core\\indexes\\base.py:3621\u001b[0m, in \u001b[0;36mIndex.get_loc\u001b[1;34m(self, key, method, tolerance)\u001b[0m\n\u001b[0;32m   3620\u001b[0m \u001b[38;5;28;01mtry\u001b[39;00m:\n\u001b[1;32m-> 3621\u001b[0m     \u001b[38;5;28;01mreturn\u001b[39;00m \u001b[38;5;28;43mself\u001b[39;49m\u001b[38;5;241;43m.\u001b[39;49m\u001b[43m_engine\u001b[49m\u001b[38;5;241;43m.\u001b[39;49m\u001b[43mget_loc\u001b[49m\u001b[43m(\u001b[49m\u001b[43mcasted_key\u001b[49m\u001b[43m)\u001b[49m\n\u001b[0;32m   3622\u001b[0m \u001b[38;5;28;01mexcept\u001b[39;00m \u001b[38;5;167;01mKeyError\u001b[39;00m \u001b[38;5;28;01mas\u001b[39;00m err:\n",
      "File \u001b[1;32m~\\anaconda3\\envs\\plotlyenv\\lib\\site-packages\\pandas\\_libs\\index.pyx:136\u001b[0m, in \u001b[0;36mpandas._libs.index.IndexEngine.get_loc\u001b[1;34m()\u001b[0m\n",
      "File \u001b[1;32m~\\anaconda3\\envs\\plotlyenv\\lib\\site-packages\\pandas\\_libs\\index.pyx:163\u001b[0m, in \u001b[0;36mpandas._libs.index.IndexEngine.get_loc\u001b[1;34m()\u001b[0m\n",
      "File \u001b[1;32mpandas\\_libs\\hashtable_class_helper.pxi:2131\u001b[0m, in \u001b[0;36mpandas._libs.hashtable.Int64HashTable.get_item\u001b[1;34m()\u001b[0m\n",
      "File \u001b[1;32mpandas\\_libs\\hashtable_class_helper.pxi:2140\u001b[0m, in \u001b[0;36mpandas._libs.hashtable.Int64HashTable.get_item\u001b[1;34m()\u001b[0m\n",
      "\u001b[1;31mKeyError\u001b[0m: 2564",
      "\nThe above exception was the direct cause of the following exception:\n",
      "\u001b[1;31mKeyError\u001b[0m                                  Traceback (most recent call last)",
      "Input \u001b[1;32mIn [152]\u001b[0m, in \u001b[0;36m<cell line: 8>\u001b[1;34m()\u001b[0m\n\u001b[0;32m      7\u001b[0m an\u001b[38;5;241m=\u001b[39m[]\n\u001b[0;32m      8\u001b[0m \u001b[38;5;28;01mfor\u001b[39;00m i \u001b[38;5;129;01min\u001b[39;00m \u001b[38;5;28mrange\u001b[39m(\u001b[38;5;241m2564\u001b[39m,\u001b[38;5;241m2577\u001b[39m):\n\u001b[1;32m----> 9\u001b[0m     an\u001b[38;5;241m.\u001b[39mappend(\u001b[43mt\u001b[49m\u001b[43m[\u001b[49m\u001b[43mi\u001b[49m\u001b[43m]\u001b[49m)    \n\u001b[0;32m     13\u001b[0m \u001b[38;5;28;01mfor\u001b[39;00m x \u001b[38;5;129;01min\u001b[39;00m \u001b[38;5;28mrange\u001b[39m(\u001b[38;5;28mlen\u001b[39m(az)\u001b[38;5;241m-\u001b[39m\u001b[38;5;241m13\u001b[39m):\n\u001b[0;32m     14\u001b[0m     b\u001b[38;5;241m=\u001b[39m\u001b[38;5;28msum\u001b[39m(az[x])\n",
      "File \u001b[1;32m~\\anaconda3\\envs\\plotlyenv\\lib\\site-packages\\pandas\\core\\series.py:958\u001b[0m, in \u001b[0;36mSeries.__getitem__\u001b[1;34m(self, key)\u001b[0m\n\u001b[0;32m    955\u001b[0m     \u001b[38;5;28;01mreturn\u001b[39;00m \u001b[38;5;28mself\u001b[39m\u001b[38;5;241m.\u001b[39m_values[key]\n\u001b[0;32m    957\u001b[0m \u001b[38;5;28;01melif\u001b[39;00m key_is_scalar:\n\u001b[1;32m--> 958\u001b[0m     \u001b[38;5;28;01mreturn\u001b[39;00m \u001b[38;5;28;43mself\u001b[39;49m\u001b[38;5;241;43m.\u001b[39;49m\u001b[43m_get_value\u001b[49m\u001b[43m(\u001b[49m\u001b[43mkey\u001b[49m\u001b[43m)\u001b[49m\n\u001b[0;32m    960\u001b[0m \u001b[38;5;28;01mif\u001b[39;00m is_hashable(key):\n\u001b[0;32m    961\u001b[0m     \u001b[38;5;66;03m# Otherwise index.get_value will raise InvalidIndexError\u001b[39;00m\n\u001b[0;32m    962\u001b[0m     \u001b[38;5;28;01mtry\u001b[39;00m:\n\u001b[0;32m    963\u001b[0m         \u001b[38;5;66;03m# For labels that don't resolve as scalars like tuples and frozensets\u001b[39;00m\n",
      "File \u001b[1;32m~\\anaconda3\\envs\\plotlyenv\\lib\\site-packages\\pandas\\core\\series.py:1069\u001b[0m, in \u001b[0;36mSeries._get_value\u001b[1;34m(self, label, takeable)\u001b[0m\n\u001b[0;32m   1066\u001b[0m     \u001b[38;5;28;01mreturn\u001b[39;00m \u001b[38;5;28mself\u001b[39m\u001b[38;5;241m.\u001b[39m_values[label]\n\u001b[0;32m   1068\u001b[0m \u001b[38;5;66;03m# Similar to Index.get_value, but we do not fall back to positional\u001b[39;00m\n\u001b[1;32m-> 1069\u001b[0m loc \u001b[38;5;241m=\u001b[39m \u001b[38;5;28;43mself\u001b[39;49m\u001b[38;5;241;43m.\u001b[39;49m\u001b[43mindex\u001b[49m\u001b[38;5;241;43m.\u001b[39;49m\u001b[43mget_loc\u001b[49m\u001b[43m(\u001b[49m\u001b[43mlabel\u001b[49m\u001b[43m)\u001b[49m\n\u001b[0;32m   1070\u001b[0m \u001b[38;5;28;01mreturn\u001b[39;00m \u001b[38;5;28mself\u001b[39m\u001b[38;5;241m.\u001b[39mindex\u001b[38;5;241m.\u001b[39m_get_values_for_loc(\u001b[38;5;28mself\u001b[39m, loc, label)\n",
      "File \u001b[1;32m~\\anaconda3\\envs\\plotlyenv\\lib\\site-packages\\pandas\\core\\indexes\\base.py:3623\u001b[0m, in \u001b[0;36mIndex.get_loc\u001b[1;34m(self, key, method, tolerance)\u001b[0m\n\u001b[0;32m   3621\u001b[0m     \u001b[38;5;28;01mreturn\u001b[39;00m \u001b[38;5;28mself\u001b[39m\u001b[38;5;241m.\u001b[39m_engine\u001b[38;5;241m.\u001b[39mget_loc(casted_key)\n\u001b[0;32m   3622\u001b[0m \u001b[38;5;28;01mexcept\u001b[39;00m \u001b[38;5;167;01mKeyError\u001b[39;00m \u001b[38;5;28;01mas\u001b[39;00m err:\n\u001b[1;32m-> 3623\u001b[0m     \u001b[38;5;28;01mraise\u001b[39;00m \u001b[38;5;167;01mKeyError\u001b[39;00m(key) \u001b[38;5;28;01mfrom\u001b[39;00m \u001b[38;5;21;01merr\u001b[39;00m\n\u001b[0;32m   3624\u001b[0m \u001b[38;5;28;01mexcept\u001b[39;00m \u001b[38;5;167;01mTypeError\u001b[39;00m:\n\u001b[0;32m   3625\u001b[0m     \u001b[38;5;66;03m# If we have a listlike key, _check_indexing_error will raise\u001b[39;00m\n\u001b[0;32m   3626\u001b[0m     \u001b[38;5;66;03m#  InvalidIndexError. Otherwise we fall through and re-raise\u001b[39;00m\n\u001b[0;32m   3627\u001b[0m     \u001b[38;5;66;03m#  the TypeError.\u001b[39;00m\n\u001b[0;32m   3628\u001b[0m     \u001b[38;5;28mself\u001b[39m\u001b[38;5;241m.\u001b[39m_check_indexing_error(key)\n",
      "\u001b[1;31mKeyError\u001b[0m: 2564"
     ]
    }
   ],
   "source": [
    "az=[]\n",
    "for j in range(len(t)):\n",
    "    a=t.iloc[j+13:j:-1]\n",
    "    az.append(a)\n",
    "    \n",
    "    \n",
    "an=[]\n",
    "for i in range(2564,2577):\n",
    "    an.append(t[i])    \n",
    "    \n",
    "    \n",
    "\n",
    "for x in range(len(az)-13):\n",
    "    b=sum(az[x])\n",
    "    an.append(b)"
   ]
  },
  {
   "cell_type": "code",
   "execution_count": 149,
   "metadata": {},
   "outputs": [
    {
     "name": "stderr",
     "output_type": "stream",
     "text": [
      "C:\\Users\\ASUS\\AppData\\Local\\Temp\\ipykernel_12328\\4042004301.py:1: SettingWithCopyWarning: \n",
      "A value is trying to be set on a copy of a slice from a DataFrame.\n",
      "Try using .loc[row_indexer,col_indexer] = value instead\n",
      "\n",
      "See the caveats in the documentation: https://pandas.pydata.org/pandas-docs/stable/user_guide/indexing.html#returning-a-view-versus-a-copy\n",
      "  s['3M'] = f\n",
      "C:\\Users\\ASUS\\AppData\\Local\\Temp\\ipykernel_12328\\4042004301.py:2: SettingWithCopyWarning: \n",
      "A value is trying to be set on a copy of a slice from a DataFrame.\n",
      "Try using .loc[row_indexer,col_indexer] = value instead\n",
      "\n",
      "See the caveats in the documentation: https://pandas.pydata.org/pandas-docs/stable/user_guide/indexing.html#returning-a-view-versus-a-copy\n",
      "  s['Y'] = an\n"
     ]
    }
   ],
   "source": [
    "s['3M'] = f\n",
    "s['Y'] = an\n",
    "s.to_csv(r'C:\\Users\\ASUS\\Desktop\\WHK\\practici\\adm_0_GED\\eSwatini.csv')\n",
    "#Kingdom_of_eSwatini.to_csv(r'C:\\Users\\ASUS\\Desktop\\WHK\\practici\\3M\\Kingdom_of_eSwatini.csv')\n"
   ]
  },
  {
   "cell_type": "code",
   "execution_count": 150,
   "metadata": {},
   "outputs": [],
   "source": [
    "s = dd[dd['country']=='Kenya']\n",
    "p = s.best.count()\n",
    "t=s.best\n",
    "t = t.astype(float)"
   ]
  },
  {
   "cell_type": "code",
   "execution_count": 151,
   "metadata": {},
   "outputs": [],
   "source": [
    "f = []\n",
    "f.append(t[2313])\n",
    "f.append(t[2314])\n",
    "for i in range(2315,2564):\n",
    "   \n",
    "    result= t[i] + t[i-1] + t[i-2]\n",
    "    f.append( result)"
   ]
  },
  {
   "cell_type": "code",
   "execution_count": 153,
   "metadata": {},
   "outputs": [],
   "source": [
    "az=[]\n",
    "for j in range(len(t)):\n",
    "    a=t.iloc[j+13:j:-1]\n",
    "    az.append(a)\n",
    "    \n",
    "    \n",
    "an=[]\n",
    "for i in range(2313,2326):\n",
    "    an.append(t[i])    \n",
    "    \n",
    "    \n",
    "\n",
    "for x in range(len(az)-13):\n",
    "    b=sum(az[x])\n",
    "    an.append(b)"
   ]
  },
  {
   "cell_type": "code",
   "execution_count": 154,
   "metadata": {},
   "outputs": [
    {
     "name": "stderr",
     "output_type": "stream",
     "text": [
      "C:\\Users\\ASUS\\AppData\\Local\\Temp\\ipykernel_12328\\2635729663.py:1: SettingWithCopyWarning: \n",
      "A value is trying to be set on a copy of a slice from a DataFrame.\n",
      "Try using .loc[row_indexer,col_indexer] = value instead\n",
      "\n",
      "See the caveats in the documentation: https://pandas.pydata.org/pandas-docs/stable/user_guide/indexing.html#returning-a-view-versus-a-copy\n",
      "  s['3M'] = f\n",
      "C:\\Users\\ASUS\\AppData\\Local\\Temp\\ipykernel_12328\\2635729663.py:2: SettingWithCopyWarning: \n",
      "A value is trying to be set on a copy of a slice from a DataFrame.\n",
      "Try using .loc[row_indexer,col_indexer] = value instead\n",
      "\n",
      "See the caveats in the documentation: https://pandas.pydata.org/pandas-docs/stable/user_guide/indexing.html#returning-a-view-versus-a-copy\n",
      "  s['Y'] = an\n"
     ]
    }
   ],
   "source": [
    "s['3M'] = f\n",
    "s['Y'] = an\n",
    "s.to_csv(r'C:\\Users\\ASUS\\Desktop\\WHK\\practici\\adm_0_GED\\Kenya.csv')\n",
    "#Kenya.to_csv(r'C:\\Users\\ASUS\\Desktop\\WHK\\practici\\3M\\Kenya.csv')"
   ]
  },
  {
   "cell_type": "code",
   "execution_count": 155,
   "metadata": {},
   "outputs": [],
   "source": [
    "s = dd[dd['country']=='Ivory Coast']\n",
    "p = s.best.count()\n",
    "t=s.best\n",
    "t = t.astype(float)"
   ]
  },
  {
   "cell_type": "code",
   "execution_count": 156,
   "metadata": {},
   "outputs": [],
   "source": [
    "f = []\n",
    "f.append(t[2235])\n",
    "f.append(t[2236])\n",
    "for i in range(2237,2313):\n",
    "   \n",
    "    result= t[i] + t[i-1] + t[i-2]\n",
    "    f.append( result)"
   ]
  },
  {
   "cell_type": "code",
   "execution_count": 160,
   "metadata": {},
   "outputs": [],
   "source": [
    "az=[]\n",
    "for j in range(len(t)):\n",
    "    a=t.iloc[j+13:j:-1]\n",
    "    az.append(a)\n",
    "    \n",
    "    \n",
    "an=[]\n",
    "for i in range(2235,2248):\n",
    "    an.append(t[i])    \n",
    "    \n",
    "    \n",
    "\n",
    "for x in range(len(az)-13):\n",
    "    b=sum(az[x])\n",
    "    an.append(b)"
   ]
  },
  {
   "cell_type": "code",
   "execution_count": 161,
   "metadata": {},
   "outputs": [
    {
     "name": "stderr",
     "output_type": "stream",
     "text": [
      "C:\\Users\\ASUS\\AppData\\Local\\Temp\\ipykernel_12328\\806294563.py:1: SettingWithCopyWarning: \n",
      "A value is trying to be set on a copy of a slice from a DataFrame.\n",
      "Try using .loc[row_indexer,col_indexer] = value instead\n",
      "\n",
      "See the caveats in the documentation: https://pandas.pydata.org/pandas-docs/stable/user_guide/indexing.html#returning-a-view-versus-a-copy\n",
      "  s['3M'] = f\n",
      "C:\\Users\\ASUS\\AppData\\Local\\Temp\\ipykernel_12328\\806294563.py:2: SettingWithCopyWarning: \n",
      "A value is trying to be set on a copy of a slice from a DataFrame.\n",
      "Try using .loc[row_indexer,col_indexer] = value instead\n",
      "\n",
      "See the caveats in the documentation: https://pandas.pydata.org/pandas-docs/stable/user_guide/indexing.html#returning-a-view-versus-a-copy\n",
      "  s['Y'] = an\n"
     ]
    }
   ],
   "source": [
    "s['3M'] = f\n",
    "s['Y'] = an\n",
    "s.to_csv(r'C:\\Users\\ASUS\\Desktop\\WHK\\practici\\adm_0_GED\\Ivory_Coast.csv')\n",
    "#Ivory_Coast.to_csv(r'C:\\Users\\ASUS\\Desktop\\WHK\\practici\\3M\\Ivory_Coast.csv')\n"
   ]
  },
  {
   "cell_type": "code",
   "execution_count": 168,
   "metadata": {},
   "outputs": [],
   "source": [
    "s = dd[dd['country']=='Guinea-Bissau']\n",
    "p = s.best.count()\n",
    "t=s.best\n",
    "t = t.astype(float)\n"
   ]
  },
  {
   "cell_type": "code",
   "execution_count": 165,
   "metadata": {},
   "outputs": [],
   "source": [
    "f = []\n",
    "f.append(t[2227])\n",
    "f.append(t[2228])\n",
    "for i in range(2229,2235):\n",
    "   \n",
    "    result= t[i] + t[i-1] + t[i-2]\n",
    "    f.append( result)"
   ]
  },
  {
   "cell_type": "code",
   "execution_count": 169,
   "metadata": {},
   "outputs": [],
   "source": [
    "az=[]\n",
    "for j in range(len(t)):\n",
    "    a=t.iloc[j+13:j:-1]\n",
    "    az.append(a)\n",
    "    \n",
    "    \n",
    "an=[]\n",
    "for i in range(2227,2235):\n",
    "    an.append(t[i])    \n",
    "    \n",
    "    \n",
    "\n",
    "for x in range(len(az)-13):\n",
    "    b=sum(az[x])\n",
    "    an.append(b)"
   ]
  },
  {
   "cell_type": "code",
   "execution_count": 171,
   "metadata": {},
   "outputs": [
    {
     "name": "stderr",
     "output_type": "stream",
     "text": [
      "C:\\Users\\ASUS\\AppData\\Local\\Temp\\ipykernel_12328\\2490955826.py:1: SettingWithCopyWarning: \n",
      "A value is trying to be set on a copy of a slice from a DataFrame.\n",
      "Try using .loc[row_indexer,col_indexer] = value instead\n",
      "\n",
      "See the caveats in the documentation: https://pandas.pydata.org/pandas-docs/stable/user_guide/indexing.html#returning-a-view-versus-a-copy\n",
      "  s['3M'] = f\n",
      "C:\\Users\\ASUS\\AppData\\Local\\Temp\\ipykernel_12328\\2490955826.py:2: SettingWithCopyWarning: \n",
      "A value is trying to be set on a copy of a slice from a DataFrame.\n",
      "Try using .loc[row_indexer,col_indexer] = value instead\n",
      "\n",
      "See the caveats in the documentation: https://pandas.pydata.org/pandas-docs/stable/user_guide/indexing.html#returning-a-view-versus-a-copy\n",
      "  s['Y'] = an\n"
     ]
    }
   ],
   "source": [
    "s['3M'] = f\n",
    "s['Y'] = an\n",
    "s.to_csv(r'C:\\Users\\ASUS\\Desktop\\WHK\\practici\\adm_0_GED\\Guinea_Bissau.csv')\n",
    "#Guinea_Bissau.to_csv(r'C:\\Users\\ASUS\\Desktop\\WHK\\practici\\3M\\Guinea_Bissau.csv')\n"
   ]
  },
  {
   "cell_type": "code",
   "execution_count": 174,
   "metadata": {},
   "outputs": [],
   "source": [
    "s = dd[dd['country']=='Guinea']\n",
    "p = s.best.count()\n",
    "t=s.best\n",
    "t = t.astype(float)"
   ]
  },
  {
   "cell_type": "code",
   "execution_count": 175,
   "metadata": {},
   "outputs": [],
   "source": [
    "f = []\n",
    "f.append(t[2196])\n",
    "f.append(t[2197])\n",
    "for i in range(2198,2227):\n",
    "   \n",
    "    result= t[i] + t[i-1] + t[i-2]\n",
    "    f.append( result)"
   ]
  },
  {
   "cell_type": "code",
   "execution_count": 179,
   "metadata": {},
   "outputs": [],
   "source": [
    "az=[]\n",
    "for j in range(len(t)):\n",
    "    a=t.iloc[j+13:j:-1]\n",
    "    az.append(a)\n",
    "    \n",
    "    \n",
    "an=[]\n",
    "for i in range(2196,2209):\n",
    "    an.append(t[i])    \n",
    "    \n",
    "    \n",
    "\n",
    "for x in range(len(az)-13):\n",
    "    b=sum(az[x])\n",
    "    an.append(b)"
   ]
  },
  {
   "cell_type": "code",
   "execution_count": 180,
   "metadata": {},
   "outputs": [
    {
     "name": "stderr",
     "output_type": "stream",
     "text": [
      "C:\\Users\\ASUS\\AppData\\Local\\Temp\\ipykernel_12328\\456937704.py:1: SettingWithCopyWarning: \n",
      "A value is trying to be set on a copy of a slice from a DataFrame.\n",
      "Try using .loc[row_indexer,col_indexer] = value instead\n",
      "\n",
      "See the caveats in the documentation: https://pandas.pydata.org/pandas-docs/stable/user_guide/indexing.html#returning-a-view-versus-a-copy\n",
      "  s['3M'] = f\n",
      "C:\\Users\\ASUS\\AppData\\Local\\Temp\\ipykernel_12328\\456937704.py:2: SettingWithCopyWarning: \n",
      "A value is trying to be set on a copy of a slice from a DataFrame.\n",
      "Try using .loc[row_indexer,col_indexer] = value instead\n",
      "\n",
      "See the caveats in the documentation: https://pandas.pydata.org/pandas-docs/stable/user_guide/indexing.html#returning-a-view-versus-a-copy\n",
      "  s['Y'] = an\n"
     ]
    }
   ],
   "source": [
    "s['3M'] = f\n",
    "s['Y'] = an\n",
    "s.to_csv(r'C:\\Users\\ASUS\\Desktop\\WHK\\practici\\adm_0_GED\\Guinea.csv')\n",
    "#Guinea.to_csv(r'C:\\Users\\ASUS\\Desktop\\WHK\\practici\\3M\\Guinea.csv')\n"
   ]
  },
  {
   "cell_type": "code",
   "execution_count": 183,
   "metadata": {},
   "outputs": [],
   "source": [
    "s = dd[dd['country']=='Ghana']\n",
    "p = s.best.count()\n",
    "t=s.best\n",
    "t = t.astype(float)"
   ]
  },
  {
   "cell_type": "code",
   "execution_count": 184,
   "metadata": {},
   "outputs": [],
   "source": [
    "f = []\n",
    "f.append(t[2176])\n",
    "f.append(t[2177])\n",
    "for i in range(2178,2196):\n",
    "   \n",
    "    result= t[i] + t[i-1] + t[i-2]\n",
    "    f.append( result)"
   ]
  },
  {
   "cell_type": "code",
   "execution_count": 185,
   "metadata": {},
   "outputs": [],
   "source": [
    "az=[]\n",
    "for j in range(len(t)):\n",
    "    a=t.iloc[j+13:j:-1]\n",
    "    az.append(a)\n",
    "    \n",
    "    \n",
    "an=[]\n",
    "for i in range(2176,2189):\n",
    "    an.append(t[i])    \n",
    "    \n",
    "    \n",
    "\n",
    "for x in range(len(az)-13):\n",
    "    b=sum(az[x])\n",
    "    an.append(b)"
   ]
  },
  {
   "cell_type": "code",
   "execution_count": 186,
   "metadata": {},
   "outputs": [
    {
     "name": "stderr",
     "output_type": "stream",
     "text": [
      "C:\\Users\\ASUS\\AppData\\Local\\Temp\\ipykernel_12328\\2353092514.py:1: SettingWithCopyWarning: \n",
      "A value is trying to be set on a copy of a slice from a DataFrame.\n",
      "Try using .loc[row_indexer,col_indexer] = value instead\n",
      "\n",
      "See the caveats in the documentation: https://pandas.pydata.org/pandas-docs/stable/user_guide/indexing.html#returning-a-view-versus-a-copy\n",
      "  s['3M'] = f\n",
      "C:\\Users\\ASUS\\AppData\\Local\\Temp\\ipykernel_12328\\2353092514.py:2: SettingWithCopyWarning: \n",
      "A value is trying to be set on a copy of a slice from a DataFrame.\n",
      "Try using .loc[row_indexer,col_indexer] = value instead\n",
      "\n",
      "See the caveats in the documentation: https://pandas.pydata.org/pandas-docs/stable/user_guide/indexing.html#returning-a-view-versus-a-copy\n",
      "  s['Y']  = an\n"
     ]
    }
   ],
   "source": [
    "s['3M'] = f\n",
    "s['Y']  = an\n",
    "s.to_csv(r'C:\\Users\\ASUS\\Desktop\\WHK\\practici\\adm_0_GED\\Ghana.csv')\n",
    "#Ghana.to_csv(r'C:\\Users\\ASUS\\Desktop\\WHK\\practici\\3M\\Ghana.csv')\n"
   ]
  },
  {
   "cell_type": "code",
   "execution_count": 197,
   "metadata": {},
   "outputs": [],
   "source": [
    "s = dd[dd['country']=='Gambia']\n",
    "p = s.best.count()\n",
    "t=s.best\n",
    "t = t.astype(float)\n"
   ]
  },
  {
   "cell_type": "code",
   "execution_count": 190,
   "metadata": {},
   "outputs": [],
   "source": [
    "f = []\n",
    "f.append(t[2171])\n",
    "f.append(t[2172])\n",
    "for i in range(2173,2176):\n",
    "   \n",
    "    result= t[i] + t[i-1] + t[i-2]\n",
    "    f.append( result)"
   ]
  },
  {
   "cell_type": "code",
   "execution_count": 194,
   "metadata": {},
   "outputs": [],
   "source": [
    "az=[]\n",
    "for j in range(len(t)):\n",
    "    a=t.iloc[j+13:j:-1]\n",
    "    az.append(a)\n",
    "    \n",
    "    \n",
    "an=[]\n",
    "for i in range(2171,2176):\n",
    "    an.append(t[i])    \n",
    "    \n",
    "    \n",
    "\n",
    "for x in range(len(az)-13):\n",
    "    b=sum(az[x])\n",
    "    an.append(b)"
   ]
  },
  {
   "cell_type": "code",
   "execution_count": 195,
   "metadata": {},
   "outputs": [
    {
     "name": "stderr",
     "output_type": "stream",
     "text": [
      "C:\\Users\\ASUS\\AppData\\Local\\Temp\\ipykernel_12328\\1186539727.py:1: SettingWithCopyWarning: \n",
      "A value is trying to be set on a copy of a slice from a DataFrame.\n",
      "Try using .loc[row_indexer,col_indexer] = value instead\n",
      "\n",
      "See the caveats in the documentation: https://pandas.pydata.org/pandas-docs/stable/user_guide/indexing.html#returning-a-view-versus-a-copy\n",
      "  s['3M'] = f\n",
      "C:\\Users\\ASUS\\AppData\\Local\\Temp\\ipykernel_12328\\1186539727.py:2: SettingWithCopyWarning: \n",
      "A value is trying to be set on a copy of a slice from a DataFrame.\n",
      "Try using .loc[row_indexer,col_indexer] = value instead\n",
      "\n",
      "See the caveats in the documentation: https://pandas.pydata.org/pandas-docs/stable/user_guide/indexing.html#returning-a-view-versus-a-copy\n",
      "  s['Y'] = an\n"
     ]
    }
   ],
   "source": [
    "s['3M'] = f\n",
    "s['Y'] = an\n",
    "s.to_csv(r'C:\\Users\\ASUS\\Desktop\\WHK\\practici\\adm_0_GED\\Gambia.csv')\n",
    "#Gambia.to_csv(r'C:\\Users\\ASUS\\Desktop\\WHK\\practici\\3M\\Gambia.csv')\n"
   ]
  },
  {
   "cell_type": "code",
   "execution_count": 200,
   "metadata": {},
   "outputs": [],
   "source": [
    "s = dd[dd['country']=='Ethiopia']\n",
    "p = s.best.count()\n",
    "t=s.best\n",
    "t = t.astype(float)"
   ]
  },
  {
   "cell_type": "code",
   "execution_count": 201,
   "metadata": {},
   "outputs": [],
   "source": [
    "f = []\n",
    "f.append(t[1854])\n",
    "f.append(t[1855])\n",
    "for i in range(1856,2171):\n",
    "   \n",
    "    result= t[i] + t[i-1] + t[i-2]\n",
    "    f.append( result)"
   ]
  },
  {
   "cell_type": "code",
   "execution_count": 202,
   "metadata": {},
   "outputs": [],
   "source": [
    "az=[]\n",
    "for j in range(len(t)):\n",
    "    a=t.iloc[j+13:j:-1]\n",
    "    az.append(a)\n",
    "    \n",
    "    \n",
    "an=[]\n",
    "for i in range(1854,1867):\n",
    "    an.append(t[i])    \n",
    "    \n",
    "    \n",
    "\n",
    "for x in range(len(az)-13):\n",
    "    b=sum(az[x])\n",
    "    an.append(b)"
   ]
  },
  {
   "cell_type": "code",
   "execution_count": 203,
   "metadata": {},
   "outputs": [
    {
     "name": "stderr",
     "output_type": "stream",
     "text": [
      "C:\\Users\\ASUS\\AppData\\Local\\Temp\\ipykernel_12328\\1660409099.py:1: SettingWithCopyWarning: \n",
      "A value is trying to be set on a copy of a slice from a DataFrame.\n",
      "Try using .loc[row_indexer,col_indexer] = value instead\n",
      "\n",
      "See the caveats in the documentation: https://pandas.pydata.org/pandas-docs/stable/user_guide/indexing.html#returning-a-view-versus-a-copy\n",
      "  s['3M'] = f\n",
      "C:\\Users\\ASUS\\AppData\\Local\\Temp\\ipykernel_12328\\1660409099.py:2: SettingWithCopyWarning: \n",
      "A value is trying to be set on a copy of a slice from a DataFrame.\n",
      "Try using .loc[row_indexer,col_indexer] = value instead\n",
      "\n",
      "See the caveats in the documentation: https://pandas.pydata.org/pandas-docs/stable/user_guide/indexing.html#returning-a-view-versus-a-copy\n",
      "  s['Y'] = an\n"
     ]
    }
   ],
   "source": [
    "s['3M'] = f\n",
    "s['Y'] = an\n",
    "s.to_csv(r'C:\\Users\\ASUS\\Desktop\\WHK\\practici\\adm_0_GED\\Ethiopia.csv')\n",
    "#Ethiopia.to_csv(r'C:\\Users\\ASUS\\Desktop\\WHK\\practici\\3M\\Ethiopia.csv')\n"
   ]
  },
  {
   "cell_type": "code",
   "execution_count": 204,
   "metadata": {},
   "outputs": [],
   "source": [
    "s = dd[dd['country']=='Eritrea']\n",
    "p = s.best.count()\n",
    "t=s.best\n",
    "t = t.astype(float)"
   ]
  },
  {
   "cell_type": "code",
   "execution_count": 205,
   "metadata": {},
   "outputs": [],
   "source": [
    "f = []\n",
    "f.append(t[1834])\n",
    "f.append(t[1835])\n",
    "for i in range(1836,1854):\n",
    "   \n",
    "    result= t[i] + t[i-1] + t[i-2]\n",
    "    f.append( result)"
   ]
  },
  {
   "cell_type": "code",
   "execution_count": 206,
   "metadata": {},
   "outputs": [],
   "source": [
    "az=[]\n",
    "for j in range(len(t)):\n",
    "    a=t.iloc[j+13:j:-1]\n",
    "    az.append(a)\n",
    "    \n",
    "    \n",
    "an=[]\n",
    "for i in range(1834,1847):\n",
    "    an.append(t[i])    \n",
    "    \n",
    "    \n",
    "\n",
    "for x in range(len(az)-13):\n",
    "    b=sum(az[x])\n",
    "    an.append(b)"
   ]
  },
  {
   "cell_type": "code",
   "execution_count": 207,
   "metadata": {},
   "outputs": [
    {
     "name": "stderr",
     "output_type": "stream",
     "text": [
      "C:\\Users\\ASUS\\AppData\\Local\\Temp\\ipykernel_12328\\2197655404.py:1: SettingWithCopyWarning: \n",
      "A value is trying to be set on a copy of a slice from a DataFrame.\n",
      "Try using .loc[row_indexer,col_indexer] = value instead\n",
      "\n",
      "See the caveats in the documentation: https://pandas.pydata.org/pandas-docs/stable/user_guide/indexing.html#returning-a-view-versus-a-copy\n",
      "  s['3M'] = f\n",
      "C:\\Users\\ASUS\\AppData\\Local\\Temp\\ipykernel_12328\\2197655404.py:2: SettingWithCopyWarning: \n",
      "A value is trying to be set on a copy of a slice from a DataFrame.\n",
      "Try using .loc[row_indexer,col_indexer] = value instead\n",
      "\n",
      "See the caveats in the documentation: https://pandas.pydata.org/pandas-docs/stable/user_guide/indexing.html#returning-a-view-versus-a-copy\n",
      "  s['Y'] = an\n"
     ]
    }
   ],
   "source": [
    "s['3M'] = f\n",
    "s['Y'] = an\n",
    "s.to_csv(r'C:\\Users\\ASUS\\Desktop\\WHK\\practici\\adm_0_GED\\Eritrea.csv')\n",
    "#Eritrea.to_csv(r'C:\\Users\\ASUS\\Desktop\\WHK\\practici\\3M\\Eritrea.csv')\n"
   ]
  },
  {
   "cell_type": "code",
   "execution_count": 208,
   "metadata": {},
   "outputs": [],
   "source": [
    "s = dd[dd['country']=='Djibouti']\n",
    "p = s.best.count()\n",
    "t=s.best\n",
    "t = t.astype(float)"
   ]
  },
  {
   "cell_type": "code",
   "execution_count": 209,
   "metadata": {},
   "outputs": [],
   "source": [
    "f = []\n",
    "f.append(t[1804])\n",
    "f.append(t[1805])\n",
    "for i in range(1806,1834):\n",
    "   \n",
    "    result= t[i] + t[i-1] + t[i-2]\n",
    "    f.append( result)"
   ]
  },
  {
   "cell_type": "code",
   "execution_count": 210,
   "metadata": {},
   "outputs": [],
   "source": [
    "az=[]\n",
    "for j in range(len(t)):\n",
    "    a=t.iloc[j+13:j:-1]\n",
    "    az.append(a)\n",
    "    \n",
    "    \n",
    "an=[]\n",
    "for i in range(1804,1817):\n",
    "    an.append(t[i])    \n",
    "    \n",
    "    \n",
    "\n",
    "for x in range(len(az)-13):\n",
    "    b=sum(az[x])\n",
    "    an.append(b)"
   ]
  },
  {
   "cell_type": "code",
   "execution_count": 212,
   "metadata": {},
   "outputs": [
    {
     "name": "stderr",
     "output_type": "stream",
     "text": [
      "C:\\Users\\ASUS\\AppData\\Local\\Temp\\ipykernel_12328\\2256680505.py:1: SettingWithCopyWarning: \n",
      "A value is trying to be set on a copy of a slice from a DataFrame.\n",
      "Try using .loc[row_indexer,col_indexer] = value instead\n",
      "\n",
      "See the caveats in the documentation: https://pandas.pydata.org/pandas-docs/stable/user_guide/indexing.html#returning-a-view-versus-a-copy\n",
      "  s['3M'] = f\n",
      "C:\\Users\\ASUS\\AppData\\Local\\Temp\\ipykernel_12328\\2256680505.py:2: SettingWithCopyWarning: \n",
      "A value is trying to be set on a copy of a slice from a DataFrame.\n",
      "Try using .loc[row_indexer,col_indexer] = value instead\n",
      "\n",
      "See the caveats in the documentation: https://pandas.pydata.org/pandas-docs/stable/user_guide/indexing.html#returning-a-view-versus-a-copy\n",
      "  s['Y'] = an\n"
     ]
    }
   ],
   "source": [
    "s['3M'] = f\n",
    "s['Y'] = an\n",
    "s.to_csv(r'C:\\Users\\ASUS\\Desktop\\WHK\\practici\\adm_0_GED\\Djibouti.csv')\n",
    "#Djibouti.to_csv(r'C:\\Users\\ASUS\\Desktop\\WHK\\practici\\3M\\Djibouti.csv')\n"
   ]
  },
  {
   "cell_type": "code",
   "execution_count": 213,
   "metadata": {},
   "outputs": [],
   "source": [
    "s = dd[dd['country']=='DR Congo (Zaire)']\n",
    "p = s.best.count()\n",
    "t=s.best\n",
    "t = t.astype(float)"
   ]
  },
  {
   "cell_type": "code",
   "execution_count": 214,
   "metadata": {},
   "outputs": [],
   "source": [
    "f = []\n",
    "f.append(t[1461])\n",
    "f.append(t[1462])\n",
    "for i in range(1463,1804):\n",
    "   \n",
    "    result= t[i] + t[i-1] + t[i-2]\n",
    "    f.append( result)"
   ]
  },
  {
   "cell_type": "code",
   "execution_count": 215,
   "metadata": {},
   "outputs": [],
   "source": [
    "az=[]\n",
    "for j in range(len(t)):\n",
    "    a=t.iloc[j+13:j:-1]\n",
    "    az.append(a)\n",
    "    \n",
    "    \n",
    "an=[]\n",
    "for i in range(1461,1474):\n",
    "    an.append(t[i])    \n",
    "    \n",
    "    \n",
    "\n",
    "for x in range(len(az)-13):\n",
    "    b=sum(az[x])\n",
    "    an.append(b)"
   ]
  },
  {
   "cell_type": "code",
   "execution_count": 216,
   "metadata": {},
   "outputs": [
    {
     "name": "stderr",
     "output_type": "stream",
     "text": [
      "C:\\Users\\ASUS\\AppData\\Local\\Temp\\ipykernel_12328\\3736161200.py:1: SettingWithCopyWarning: \n",
      "A value is trying to be set on a copy of a slice from a DataFrame.\n",
      "Try using .loc[row_indexer,col_indexer] = value instead\n",
      "\n",
      "See the caveats in the documentation: https://pandas.pydata.org/pandas-docs/stable/user_guide/indexing.html#returning-a-view-versus-a-copy\n",
      "  s['3M'] = f\n",
      "C:\\Users\\ASUS\\AppData\\Local\\Temp\\ipykernel_12328\\3736161200.py:2: SettingWithCopyWarning: \n",
      "A value is trying to be set on a copy of a slice from a DataFrame.\n",
      "Try using .loc[row_indexer,col_indexer] = value instead\n",
      "\n",
      "See the caveats in the documentation: https://pandas.pydata.org/pandas-docs/stable/user_guide/indexing.html#returning-a-view-versus-a-copy\n",
      "  s['Y'] = an\n"
     ]
    }
   ],
   "source": [
    "s['3M'] = f\n",
    "s['Y'] = an\n",
    "s.to_csv(r'C:\\Users\\ASUS\\Desktop\\WHK\\practici\\adm_0_GED\\DR_Congo.csv')\n",
    "#DR_Congo.to_csv(r'C:\\Users\\ASUS\\Desktop\\WHK\\practici\\3M\\DR_Congo.csv')\n"
   ]
  },
  {
   "cell_type": "code",
   "execution_count": 217,
   "metadata": {},
   "outputs": [],
   "source": [
    "s = dd[dd['country']=='Congo']\n",
    "p = s.best.count()\n",
    "t=s.best\n",
    "t = t.astype(float)"
   ]
  },
  {
   "cell_type": "code",
   "execution_count": 218,
   "metadata": {},
   "outputs": [],
   "source": [
    "f = []\n",
    "f.append(t[1395])\n",
    "f.append(t[1396])\n",
    "for i in range(1397,1461):\n",
    "   \n",
    "    result= t[i] + t[i-1] + t[i-2]\n",
    "    f.append( result)"
   ]
  },
  {
   "cell_type": "code",
   "execution_count": 219,
   "metadata": {},
   "outputs": [],
   "source": [
    "az=[]\n",
    "for j in range(len(t)):\n",
    "    a=t.iloc[j+13:j:-1]\n",
    "    az.append(a)\n",
    "    \n",
    "    \n",
    "an=[]\n",
    "for i in range(1395,1408):\n",
    "    an.append(t[i])    \n",
    "    \n",
    "    \n",
    "\n",
    "for x in range(len(az)-13):\n",
    "    b=sum(az[x])\n",
    "    an.append(b)"
   ]
  },
  {
   "cell_type": "code",
   "execution_count": 221,
   "metadata": {},
   "outputs": [
    {
     "name": "stderr",
     "output_type": "stream",
     "text": [
      "C:\\Users\\ASUS\\AppData\\Local\\Temp\\ipykernel_12328\\399638083.py:1: SettingWithCopyWarning: \n",
      "A value is trying to be set on a copy of a slice from a DataFrame.\n",
      "Try using .loc[row_indexer,col_indexer] = value instead\n",
      "\n",
      "See the caveats in the documentation: https://pandas.pydata.org/pandas-docs/stable/user_guide/indexing.html#returning-a-view-versus-a-copy\n",
      "  s['3M'] = f\n",
      "C:\\Users\\ASUS\\AppData\\Local\\Temp\\ipykernel_12328\\399638083.py:2: SettingWithCopyWarning: \n",
      "A value is trying to be set on a copy of a slice from a DataFrame.\n",
      "Try using .loc[row_indexer,col_indexer] = value instead\n",
      "\n",
      "See the caveats in the documentation: https://pandas.pydata.org/pandas-docs/stable/user_guide/indexing.html#returning-a-view-versus-a-copy\n",
      "  s['Y'] = an\n"
     ]
    }
   ],
   "source": [
    "s['3M'] = f\n",
    "s['Y'] = an\n",
    "s.to_csv(r'C:\\Users\\ASUS\\Desktop\\WHK\\practici\\adm_0_GED\\Congo.csv')\n",
    "#Congo.to_csv(r'C:\\Users\\ASUS\\Desktop\\WHK\\practici\\3M\\Congo.csv')\n"
   ]
  },
  {
   "cell_type": "code",
   "execution_count": 225,
   "metadata": {},
   "outputs": [],
   "source": [
    "s = dd[dd['country']=='Comoros']\n",
    "p = s.best.count()\n",
    "t=s.best\n",
    "t = t.astype(float)\n"
   ]
  },
  {
   "cell_type": "code",
   "execution_count": 226,
   "metadata": {},
   "outputs": [],
   "source": [
    "f = []\n",
    "f.append(t[1392])\n",
    "f.append(t[1393])\n",
    "for i in range(1394,1395):\n",
    "   \n",
    "    result= t[i] + t[i-1] + t[i-2]\n",
    "    f.append( result)"
   ]
  },
  {
   "cell_type": "code",
   "execution_count": 227,
   "metadata": {},
   "outputs": [],
   "source": [
    "az=[]\n",
    "for j in range(len(t)):\n",
    "    a=t.iloc[j+13:j:-1]\n",
    "    az.append(a)\n",
    "    \n",
    "    \n",
    "an=[]\n",
    "for i in range(1392,1395):\n",
    "    an.append(t[i])    \n",
    "    \n",
    "    \n",
    "\n",
    "for x in range(len(az)-13):\n",
    "    b=sum(az[x])\n",
    "    an.append(b)"
   ]
  },
  {
   "cell_type": "code",
   "execution_count": 228,
   "metadata": {},
   "outputs": [
    {
     "name": "stderr",
     "output_type": "stream",
     "text": [
      "C:\\Users\\ASUS\\AppData\\Local\\Temp\\ipykernel_12328\\817377237.py:1: SettingWithCopyWarning: \n",
      "A value is trying to be set on a copy of a slice from a DataFrame.\n",
      "Try using .loc[row_indexer,col_indexer] = value instead\n",
      "\n",
      "See the caveats in the documentation: https://pandas.pydata.org/pandas-docs/stable/user_guide/indexing.html#returning-a-view-versus-a-copy\n",
      "  s['3M'] = f\n",
      "C:\\Users\\ASUS\\AppData\\Local\\Temp\\ipykernel_12328\\817377237.py:2: SettingWithCopyWarning: \n",
      "A value is trying to be set on a copy of a slice from a DataFrame.\n",
      "Try using .loc[row_indexer,col_indexer] = value instead\n",
      "\n",
      "See the caveats in the documentation: https://pandas.pydata.org/pandas-docs/stable/user_guide/indexing.html#returning-a-view-versus-a-copy\n",
      "  s['Y'] =an\n"
     ]
    }
   ],
   "source": [
    "s['3M'] = f\n",
    "s['Y'] =an\n",
    "s.to_csv(r'C:\\Users\\ASUS\\Desktop\\WHK\\practici\\adm_0_GED\\Comoros.csv')\n",
    "#Comoros.to_csv(r'C:\\Users\\ASUS\\Desktop\\WHK\\practici\\3M\\Comoros.csv')\n"
   ]
  },
  {
   "cell_type": "code",
   "execution_count": 230,
   "metadata": {},
   "outputs": [],
   "source": [
    "s = dd[dd['country']=='Chad']\n",
    "p = s.best.count()\n",
    "t=s.best\n",
    "t = t.astype(float)"
   ]
  },
  {
   "cell_type": "code",
   "execution_count": 231,
   "metadata": {},
   "outputs": [],
   "source": [
    "f = []\n",
    "f.append(t[1228])\n",
    "f.append(t[1229])\n",
    "for i in range(1230,1392):\n",
    "   \n",
    "    result= t[i] + t[i-1] + t[i-2]\n",
    "    f.append( result)"
   ]
  },
  {
   "cell_type": "code",
   "execution_count": 232,
   "metadata": {},
   "outputs": [],
   "source": [
    "az=[]\n",
    "for j in range(len(t)):\n",
    "    a=t.iloc[j+13:j:-1]\n",
    "    az.append(a)\n",
    "    \n",
    "    \n",
    "an=[]\n",
    "for i in range(1228,1241):\n",
    "    an.append(t[i])    \n",
    "    \n",
    "    \n",
    "\n",
    "for x in range(len(az)-13):\n",
    "    b=sum(az[x])\n",
    "    an.append(b)"
   ]
  },
  {
   "cell_type": "code",
   "execution_count": 233,
   "metadata": {},
   "outputs": [
    {
     "name": "stderr",
     "output_type": "stream",
     "text": [
      "C:\\Users\\ASUS\\AppData\\Local\\Temp\\ipykernel_12328\\1197313431.py:1: SettingWithCopyWarning: \n",
      "A value is trying to be set on a copy of a slice from a DataFrame.\n",
      "Try using .loc[row_indexer,col_indexer] = value instead\n",
      "\n",
      "See the caveats in the documentation: https://pandas.pydata.org/pandas-docs/stable/user_guide/indexing.html#returning-a-view-versus-a-copy\n",
      "  s['3M'] = f\n",
      "C:\\Users\\ASUS\\AppData\\Local\\Temp\\ipykernel_12328\\1197313431.py:2: SettingWithCopyWarning: \n",
      "A value is trying to be set on a copy of a slice from a DataFrame.\n",
      "Try using .loc[row_indexer,col_indexer] = value instead\n",
      "\n",
      "See the caveats in the documentation: https://pandas.pydata.org/pandas-docs/stable/user_guide/indexing.html#returning-a-view-versus-a-copy\n",
      "  s['Y'] = an\n"
     ]
    }
   ],
   "source": [
    "s['3M'] = f\n",
    "s['Y'] = an\n",
    "s.to_csv(r'C:\\Users\\ASUS\\Desktop\\WHK\\practici\\adm_0_GED\\Chad.csv')\n",
    "#Chad.to_csv(r'C:\\Users\\ASUS\\Desktop\\WHK\\practici\\3M\\Chad.csv')\n"
   ]
  },
  {
   "cell_type": "code",
   "execution_count": 234,
   "metadata": {},
   "outputs": [],
   "source": [
    "s = dd[dd['country']=='Central African Republic']\n",
    "p = s.best.count()\n",
    "t=s.best\n",
    "t = t.astype(float)"
   ]
  },
  {
   "cell_type": "code",
   "execution_count": 235,
   "metadata": {},
   "outputs": [],
   "source": [
    "f = []\n",
    "f.append(t[1040])\n",
    "f.append(t[1041])\n",
    "for i in range(1042,1228):\n",
    "   \n",
    "    result= t[i] + t[i-1] + t[i-2]\n",
    "    f.append( result)"
   ]
  },
  {
   "cell_type": "code",
   "execution_count": 236,
   "metadata": {},
   "outputs": [],
   "source": [
    "az=[]\n",
    "for j in range(len(t)):\n",
    "    a=t.iloc[j+13:j:-1]\n",
    "    az.append(a)\n",
    "    \n",
    "    \n",
    "an=[]\n",
    "for i in range(1040,1053):\n",
    "    an.append(t[i])    \n",
    "    \n",
    "    \n",
    "\n",
    "for x in range(len(az)-13):\n",
    "    b=sum(az[x])\n",
    "    an.append(b)"
   ]
  },
  {
   "cell_type": "code",
   "execution_count": 238,
   "metadata": {},
   "outputs": [
    {
     "name": "stderr",
     "output_type": "stream",
     "text": [
      "C:\\Users\\ASUS\\AppData\\Local\\Temp\\ipykernel_12328\\1546614577.py:1: SettingWithCopyWarning: \n",
      "A value is trying to be set on a copy of a slice from a DataFrame.\n",
      "Try using .loc[row_indexer,col_indexer] = value instead\n",
      "\n",
      "See the caveats in the documentation: https://pandas.pydata.org/pandas-docs/stable/user_guide/indexing.html#returning-a-view-versus-a-copy\n",
      "  s['3M'] = f\n",
      "C:\\Users\\ASUS\\AppData\\Local\\Temp\\ipykernel_12328\\1546614577.py:2: SettingWithCopyWarning: \n",
      "A value is trying to be set on a copy of a slice from a DataFrame.\n",
      "Try using .loc[row_indexer,col_indexer] = value instead\n",
      "\n",
      "See the caveats in the documentation: https://pandas.pydata.org/pandas-docs/stable/user_guide/indexing.html#returning-a-view-versus-a-copy\n",
      "  s['Y'] = an\n"
     ]
    }
   ],
   "source": [
    "s['3M'] = f\n",
    "s['Y'] = an\n",
    "s.to_csv(r'C:\\Users\\ASUS\\Desktop\\WHK\\practici\\adm_0_GED\\Central_African_Republic.csv')\n",
    "#Central_African_Republic.to_csv(r'C:\\Users\\ASUS\\Desktop\\WHK\\practici\\3M\\Central_African_Republic.csv')\n"
   ]
  },
  {
   "cell_type": "code",
   "execution_count": 239,
   "metadata": {},
   "outputs": [],
   "source": [
    "s = dd[dd['country']=='Cameroon']\n",
    "p = s.best.count()\n",
    "t=s.best\n",
    "t = t.astype(float)"
   ]
  },
  {
   "cell_type": "code",
   "execution_count": 240,
   "metadata": {},
   "outputs": [],
   "source": [
    "f = []\n",
    "f.append(t[917])\n",
    "f.append(t[918])\n",
    "for i in range(919,1040):\n",
    "   \n",
    "    result= t[i] + t[i-1] + t[i-2]\n",
    "    f.append( result)"
   ]
  },
  {
   "cell_type": "code",
   "execution_count": 242,
   "metadata": {},
   "outputs": [],
   "source": [
    "az=[]\n",
    "for j in range(len(t)):\n",
    "    a=t.iloc[j+13:j:-1]\n",
    "    az.append(a)\n",
    "    \n",
    "    \n",
    "an=[]\n",
    "for i in range(917,930):\n",
    "    an.append(t[i])    \n",
    "    \n",
    "    \n",
    "\n",
    "for x in range(len(az)-13):\n",
    "    b=sum(az[x])\n",
    "    an.append(b)"
   ]
  },
  {
   "cell_type": "code",
   "execution_count": 243,
   "metadata": {},
   "outputs": [
    {
     "name": "stderr",
     "output_type": "stream",
     "text": [
      "C:\\Users\\ASUS\\AppData\\Local\\Temp\\ipykernel_12328\\870900827.py:1: SettingWithCopyWarning: \n",
      "A value is trying to be set on a copy of a slice from a DataFrame.\n",
      "Try using .loc[row_indexer,col_indexer] = value instead\n",
      "\n",
      "See the caveats in the documentation: https://pandas.pydata.org/pandas-docs/stable/user_guide/indexing.html#returning-a-view-versus-a-copy\n",
      "  s['3M'] = f\n",
      "C:\\Users\\ASUS\\AppData\\Local\\Temp\\ipykernel_12328\\870900827.py:2: SettingWithCopyWarning: \n",
      "A value is trying to be set on a copy of a slice from a DataFrame.\n",
      "Try using .loc[row_indexer,col_indexer] = value instead\n",
      "\n",
      "See the caveats in the documentation: https://pandas.pydata.org/pandas-docs/stable/user_guide/indexing.html#returning-a-view-versus-a-copy\n",
      "  s['Y'] = an\n"
     ]
    }
   ],
   "source": [
    "s['3M'] = f\n",
    "s['Y'] = an\n",
    "s.to_csv(r'C:\\Users\\ASUS\\Desktop\\WHK\\practici\\adm_0_GED\\Cameroon.csv')\n",
    "#Cameroon.to_csv(r'C:\\Users\\ASUS\\Desktop\\WHK\\practici\\3M\\Cameroon.csv')\n"
   ]
  },
  {
   "cell_type": "code",
   "execution_count": 244,
   "metadata": {},
   "outputs": [],
   "source": [
    "s = dd[dd['country']=='Burundi']\n",
    "p = s.best.count()\n",
    "t=s.best\n",
    "t = t.astype(float)"
   ]
  },
  {
   "cell_type": "code",
   "execution_count": 245,
   "metadata": {},
   "outputs": [],
   "source": [
    "f = []\n",
    "f.append(t[658])\n",
    "f.append(t[659])\n",
    "for i in range(660,917):\n",
    "   \n",
    "    result= t[i] + t[i-1] + t[i-2]\n",
    "    f.append( result)"
   ]
  },
  {
   "cell_type": "code",
   "execution_count": 246,
   "metadata": {},
   "outputs": [],
   "source": [
    "az=[]\n",
    "for j in range(len(t)):\n",
    "    a=t.iloc[j+13:j:-1]\n",
    "    az.append(a)\n",
    "    \n",
    "    \n",
    "an=[]\n",
    "for i in range(658,671):\n",
    "    an.append(t[i])    \n",
    "    \n",
    "    \n",
    "\n",
    "for x in range(len(az)-13):\n",
    "    b=sum(az[x])\n",
    "    an.append(b)"
   ]
  },
  {
   "cell_type": "code",
   "execution_count": 247,
   "metadata": {},
   "outputs": [
    {
     "name": "stderr",
     "output_type": "stream",
     "text": [
      "C:\\Users\\ASUS\\AppData\\Local\\Temp\\ipykernel_12328\\2930127722.py:1: SettingWithCopyWarning: \n",
      "A value is trying to be set on a copy of a slice from a DataFrame.\n",
      "Try using .loc[row_indexer,col_indexer] = value instead\n",
      "\n",
      "See the caveats in the documentation: https://pandas.pydata.org/pandas-docs/stable/user_guide/indexing.html#returning-a-view-versus-a-copy\n",
      "  s['3M'] = f\n",
      "C:\\Users\\ASUS\\AppData\\Local\\Temp\\ipykernel_12328\\2930127722.py:2: SettingWithCopyWarning: \n",
      "A value is trying to be set on a copy of a slice from a DataFrame.\n",
      "Try using .loc[row_indexer,col_indexer] = value instead\n",
      "\n",
      "See the caveats in the documentation: https://pandas.pydata.org/pandas-docs/stable/user_guide/indexing.html#returning-a-view-versus-a-copy\n",
      "  s['Y'] = an\n"
     ]
    }
   ],
   "source": [
    "s['3M'] = f\n",
    "s['Y'] = an\n",
    "s.to_csv(r'C:\\Users\\ASUS\\Desktop\\WHK\\practici\\adm_0_GED\\Burundi.csv')\n",
    "#Burundi.to_csv(r'C:\\Users\\ASUS\\Desktop\\WHK\\practici\\3M\\Burundi.csv')\n"
   ]
  },
  {
   "cell_type": "code",
   "execution_count": 248,
   "metadata": {},
   "outputs": [],
   "source": [
    "s = dd[dd['country']=='Burkina Faso']\n",
    "p = s.best.count()\n",
    "t=s.best\n",
    "t = t.astype(float)"
   ]
  },
  {
   "cell_type": "code",
   "execution_count": 249,
   "metadata": {},
   "outputs": [],
   "source": [
    "f = []\n",
    "f.append(t[600])\n",
    "f.append(t[601])\n",
    "for i in range(602,658):\n",
    "   \n",
    "    result= t[i] + t[i-1] + t[i-2]\n",
    "    f.append( result)"
   ]
  },
  {
   "cell_type": "code",
   "execution_count": 250,
   "metadata": {},
   "outputs": [],
   "source": [
    "az=[]\n",
    "for j in range(len(t)):\n",
    "    a=t.iloc[j+13:j:-1]\n",
    "    az.append(a)\n",
    "    \n",
    "    \n",
    "an=[]\n",
    "for i in range(600,613):\n",
    "    an.append(t[i])    \n",
    "    \n",
    "    \n",
    "\n",
    "for x in range(len(az)-13):\n",
    "    b=sum(az[x])\n",
    "    an.append(b)"
   ]
  },
  {
   "cell_type": "code",
   "execution_count": 251,
   "metadata": {},
   "outputs": [
    {
     "name": "stderr",
     "output_type": "stream",
     "text": [
      "C:\\Users\\ASUS\\AppData\\Local\\Temp\\ipykernel_12328\\4071607894.py:1: SettingWithCopyWarning: \n",
      "A value is trying to be set on a copy of a slice from a DataFrame.\n",
      "Try using .loc[row_indexer,col_indexer] = value instead\n",
      "\n",
      "See the caveats in the documentation: https://pandas.pydata.org/pandas-docs/stable/user_guide/indexing.html#returning-a-view-versus-a-copy\n",
      "  s['3M'] = f\n",
      "C:\\Users\\ASUS\\AppData\\Local\\Temp\\ipykernel_12328\\4071607894.py:2: SettingWithCopyWarning: \n",
      "A value is trying to be set on a copy of a slice from a DataFrame.\n",
      "Try using .loc[row_indexer,col_indexer] = value instead\n",
      "\n",
      "See the caveats in the documentation: https://pandas.pydata.org/pandas-docs/stable/user_guide/indexing.html#returning-a-view-versus-a-copy\n",
      "  s['Y'] = an\n"
     ]
    }
   ],
   "source": [
    "s['3M'] = f\n",
    "s['Y'] = an\n",
    "s.to_csv(r'C:\\Users\\ASUS\\Desktop\\WHK\\practici\\adm_0_GED\\Burkina_Faso.csv')\n",
    "#Burkina_Faso.to_csv(r'C:\\Users\\ASUS\\Desktop\\WHK\\practici\\3M\\Burkina_Faso.csv')\n"
   ]
  },
  {
   "cell_type": "code",
   "execution_count": 89,
   "metadata": {},
   "outputs": [
    {
     "name": "stderr",
     "output_type": "stream",
     "text": [
      "C:\\Users\\ASUS\\AppData\\Local\\Temp\\ipykernel_2852\\2552402161.py:1: DtypeWarning: Columns (47) have mixed types. Specify dtype option on import or set low_memory=False.\n",
      "  dg = pd.read_csv('GEDEvent_v22_1.csv')\n",
      "C:\\Users\\ASUS\\AppData\\Local\\Temp\\ipykernel_2852\\2552402161.py:7: SettingWithCopyWarning: \n",
      "A value is trying to be set on a copy of a slice from a DataFrame.\n",
      "Try using .loc[row_indexer,col_indexer] = value instead\n",
      "\n",
      "See the caveats in the documentation: https://pandas.pydata.org/pandas-docs/stable/user_guide/indexing.html#returning-a-view-versus-a-copy\n",
      "  f_african[['year','month','day']]= f_african['date_start'].str.split('-', expand=True)\n",
      "C:\\Users\\ASUS\\AppData\\Local\\Temp\\ipykernel_2852\\2552402161.py:7: SettingWithCopyWarning: \n",
      "A value is trying to be set on a copy of a slice from a DataFrame.\n",
      "Try using .loc[row_indexer,col_indexer] = value instead\n",
      "\n",
      "See the caveats in the documentation: https://pandas.pydata.org/pandas-docs/stable/user_guide/indexing.html#returning-a-view-versus-a-copy\n",
      "  f_african[['year','month','day']]= f_african['date_start'].str.split('-', expand=True)\n",
      "C:\\Users\\ASUS\\AppData\\Local\\Temp\\ipykernel_2852\\2552402161.py:7: SettingWithCopyWarning: \n",
      "A value is trying to be set on a copy of a slice from a DataFrame.\n",
      "Try using .loc[row_indexer,col_indexer] = value instead\n",
      "\n",
      "See the caveats in the documentation: https://pandas.pydata.org/pandas-docs/stable/user_guide/indexing.html#returning-a-view-versus-a-copy\n",
      "  f_african[['year','month','day']]= f_african['date_start'].str.split('-', expand=True)\n"
     ]
    }
   ],
   "source": [
    "dg = pd.read_csv('GEDEvent_v22_1.csv')\n",
    "f_data_list=['Africa']\n",
    "f_african = dg[dg.region.isin(f_data_list)]\n",
    "\n",
    "\n",
    "f_african['date_start'].str.split('-', expand=True)\n",
    "f_african[['year','month','day']]= f_african['date_start'].str.split('-', expand=True)"
   ]
  },
  {
   "cell_type": "code",
   "execution_count": 95,
   "metadata": {},
   "outputs": [],
   "source": [
    "df_ff=f_african.groupby(['country','adm_1','year', 'month']).agg({'best':['sum']})\n",
    "\n",
    "#df_f.sort_values(by=['date_start'], axis=0, ascending=True)\n",
    "df_ff.to_csv(r'C:\\Users\\ASUS\\Desktop\\WHK\\practici\\df_ff.csv')"
   ]
  },
  {
   "cell_type": "code",
   "execution_count": 164,
   "metadata": {},
   "outputs": [],
   "source": [
    "df_2f=f_african.groupby(['country','adm_2','year', 'month']).agg({'best':['sum']})\n",
    "df_2f.to_csv(r'C:\\Users\\ASUS\\Desktop\\WHK\\practici\\df_2f.csv')"
   ]
  },
  {
   "cell_type": "code",
   "execution_count": 169,
   "metadata": {},
   "outputs": [],
   "source": [
    "dc2 = pd.read_csv('df_2f.csv')\n",
    "dc2.rename(columns = {'Unnamed: 0':'country', 'Unnamed: 1' :'adm_2', 'Unnamed: 2': 'year', 'Unnamed: 3': 'month'}, inplace= True)\n",
    "dc2.drop([0,1], axis=0, inplace=True)\n"
   ]
  },
  {
   "cell_type": "markdown",
   "metadata": {},
   "source": [
    "# Admin_2"
   ]
  },
  {
   "cell_type": "code",
   "execution_count": 173,
   "metadata": {},
   "outputs": [],
   "source": [
    "s = dcc[dcc['country']=='Angola']\n",
    "s=f_african.groupby(['year','month', 'adm_2']).agg({'best':['sum']})\n",
    "s['country'] = 'Angola'\n",
    "s.to_csv(r'C:\\Users\\ASUS\\Desktop\\WHK\\practici\\Adm_2_GED\\Angola.csv')"
   ]
  },
  {
   "cell_type": "code",
   "execution_count": 174,
   "metadata": {},
   "outputs": [],
   "source": [
    "s = dcc[dcc['country']=='Algeria']\n",
    "s=f_african.groupby(['year','month', 'adm_2']).agg({'best':['sum']})\n",
    "s['country'] = 'Algeria'\n",
    "s.to_csv(r'C:\\Users\\ASUS\\Desktop\\WHK\\practici\\Adm_2_GED\\Algeria.csv')"
   ]
  },
  {
   "cell_type": "code",
   "execution_count": 175,
   "metadata": {},
   "outputs": [],
   "source": [
    "s = dcc[dcc['country']=='Benin']\n",
    "s=f_african.groupby(['year','month', 'adm_2']).agg({'best':['sum']})\n",
    "s['country'] = 'Benin'\n",
    "s.to_csv(r'C:\\Users\\ASUS\\Desktop\\WHK\\practici\\Adm_2_GED\\Benin.csv')"
   ]
  },
  {
   "cell_type": "code",
   "execution_count": 176,
   "metadata": {},
   "outputs": [],
   "source": [
    "s = dcc[dcc['country']=='Botswana']\n",
    "s=f_african.groupby(['year','month', 'adm_2']).agg({'best':['sum']})\n",
    "s['country'] = 'Botswana'\n",
    "s.to_csv(r'C:\\Users\\ASUS\\Desktop\\WHK\\practici\\Adm_2_GED\\Botswana.csv')"
   ]
  },
  {
   "cell_type": "code",
   "execution_count": 177,
   "metadata": {},
   "outputs": [],
   "source": [
    "s = dcc[dcc['country']=='Burkina Faso']\n",
    "s=f_african.groupby(['year','month', 'adm_2']).agg({'best':['sum']})\n",
    "s['country'] = 'Burkina_Faso'\n",
    "s.to_csv(r'C:\\Users\\ASUS\\Desktop\\WHK\\practici\\Adm_2_GED\\Burkina_Faso.csv')"
   ]
  },
  {
   "cell_type": "code",
   "execution_count": 178,
   "metadata": {},
   "outputs": [],
   "source": [
    "s = dcc[dcc['country']=='Burundi']\n",
    "s=f_african.groupby(['year','month', 'adm_2']).agg({'best':['sum']})\n",
    "s['country'] = 'Burundi'\n",
    "s.to_csv(r'C:\\Users\\ASUS\\Desktop\\WHK\\practici\\Adm_2_GED\\Burundi.csv')"
   ]
  },
  {
   "cell_type": "code",
   "execution_count": 179,
   "metadata": {},
   "outputs": [],
   "source": [
    "s = dcc[dcc['country']=='Cameroon']\n",
    "s=f_african.groupby(['year','month', 'adm_2']).agg({'best':['sum']})\n",
    "s['country'] = 'Cameroon'\n",
    "s.to_csv(r'C:\\Users\\ASUS\\Desktop\\WHK\\practici\\Adm_2_GED\\Cameroon.csv')"
   ]
  },
  {
   "cell_type": "code",
   "execution_count": 180,
   "metadata": {},
   "outputs": [],
   "source": [
    "s = dcc[dcc['country']=='Central African Republic']\n",
    "s=f_african.groupby(['year','month', 'adm_2']).agg({'best':['sum']})\n",
    "s['country'] = 'Central_African_Republic'\n",
    "s.to_csv(r'C:\\Users\\ASUS\\Desktop\\WHK\\practici\\Adm_2_GED\\Central_African_Republic.csv')"
   ]
  },
  {
   "cell_type": "code",
   "execution_count": 181,
   "metadata": {},
   "outputs": [],
   "source": [
    "s = dcc[dcc['country']=='Chad']\n",
    "s=f_african.groupby(['year','month', 'adm_2']).agg({'best':['sum']})\n",
    "s['country'] = 'Chad'\n",
    "s.to_csv(r'C:\\Users\\ASUS\\Desktop\\WHK\\practici\\Adm_2_GED\\Chad.csv')"
   ]
  },
  {
   "cell_type": "code",
   "execution_count": 182,
   "metadata": {},
   "outputs": [],
   "source": [
    "s = dcc[dcc['country']=='Comoros']\n",
    "s=f_african.groupby(['year','month', 'adm_2']).agg({'best':['sum']})\n",
    "s['country'] = 'Comoros'\n",
    "s.to_csv(r'C:\\Users\\ASUS\\Desktop\\WHK\\practici\\Adm_2_GED\\Comoros.csv')"
   ]
  },
  {
   "cell_type": "code",
   "execution_count": 183,
   "metadata": {},
   "outputs": [],
   "source": [
    "s = dcc[dcc['country']=='Congo']\n",
    "s=f_african.groupby(['year','month', 'adm_2']).agg({'best':['sum']})\n",
    "s['country'] = 'Congo'\n",
    "s.to_csv(r'C:\\Users\\ASUS\\Desktop\\WHK\\practici\\Adm_2_GED\\Congo.csv')"
   ]
  },
  {
   "cell_type": "code",
   "execution_count": 184,
   "metadata": {},
   "outputs": [],
   "source": [
    "s = dcc[dcc['country']=='DR Congo (Zaire)']\n",
    "s=f_african.groupby(['year','month', 'adm_2']).agg({'best':['sum']})\n",
    "s['country'] = 'DR_Congo'\n",
    "s.to_csv(r'C:\\Users\\ASUS\\Desktop\\WHK\\practici\\Adm_2_GED\\DR_Congo.csv')"
   ]
  },
  {
   "cell_type": "code",
   "execution_count": 185,
   "metadata": {},
   "outputs": [],
   "source": [
    "s = dcc[dcc['country']=='Djibouti']\n",
    "s=f_african.groupby(['year','month', 'adm_2']).agg({'best':['sum']})\n",
    "s['country'] = 'Djibouti'\n",
    "s.to_csv(r'C:\\Users\\ASUS\\Desktop\\WHK\\practici\\Adm_2_GED\\Djibouti.csv')"
   ]
  },
  {
   "cell_type": "code",
   "execution_count": 186,
   "metadata": {},
   "outputs": [],
   "source": [
    "s = dcc[dcc['country']=='Eritrea']\n",
    "s=f_african.groupby(['year','month', 'adm_2']).agg({'best':['sum']})\n",
    "s['country'] = 'Eritrea'\n",
    "s.to_csv(r'C:\\Users\\ASUS\\Desktop\\WHK\\practici\\Adm_2_GED\\Eritrea.csv')"
   ]
  },
  {
   "cell_type": "code",
   "execution_count": 187,
   "metadata": {},
   "outputs": [],
   "source": [
    "s = dcc[dcc['country']=='Ethiopia']\n",
    "s=f_african.groupby(['year','month', 'adm_2']).agg({'best':['sum']})\n",
    "s['country'] = 'Ethiopia'\n",
    "s.to_csv(r'C:\\Users\\ASUS\\Desktop\\WHK\\practici\\Adm_2_GED\\Ethiopia.csv')"
   ]
  },
  {
   "cell_type": "code",
   "execution_count": null,
   "metadata": {},
   "outputs": [],
   "source": [
    "s = dcc[dcc['country']=='Gambia']\n",
    "s=f_african.groupby(['year','month', 'adm_2']).agg({'best':['sum']})\n",
    "s['country'] = 'Gambia'\n",
    "s.to_csv(r'C:\\Users\\ASUS\\Desktop\\WHK\\practici\\Adm_2_GED\\Gambia.csv')"
   ]
  },
  {
   "cell_type": "code",
   "execution_count": 188,
   "metadata": {},
   "outputs": [],
   "source": [
    "s = dcc[dcc['country']=='Ghana']\n",
    "s=f_african.groupby(['year','month', 'adm_2']).agg({'best':['sum']})\n",
    "s['country'] = 'Ghana'\n",
    "s.to_csv(r'C:\\Users\\ASUS\\Desktop\\WHK\\practici\\Adm_2_GED\\Ghana.csv')"
   ]
  },
  {
   "cell_type": "code",
   "execution_count": 189,
   "metadata": {},
   "outputs": [],
   "source": [
    "s = dcc[dcc['country']=='Guinea']\n",
    "s=f_african.groupby(['year','month', 'adm_2']).agg({'best':['sum']})\n",
    "s['country'] = 'Guinea'\n",
    "s.to_csv(r'C:\\Users\\ASUS\\Desktop\\WHK\\practici\\Adm_2_GED\\Guinea.csv')"
   ]
  },
  {
   "cell_type": "code",
   "execution_count": 190,
   "metadata": {},
   "outputs": [],
   "source": [
    "s = dcc[dcc['country']=='Guinea-Bissau']\n",
    "s=f_african.groupby(['year','month', 'adm_2']).agg({'best':['sum']})\n",
    "s['country'] = 'Guinea_Bissau'\n",
    "s.to_csv(r'C:\\Users\\ASUS\\Desktop\\WHK\\practici\\Adm_2_GED\\Guinea_Bissau.csv')"
   ]
  },
  {
   "cell_type": "code",
   "execution_count": 191,
   "metadata": {},
   "outputs": [],
   "source": [
    "s = dcc[dcc['country']=='Ivory Coast']\n",
    "s=f_african.groupby(['year','month', 'adm_2']).agg({'best':['sum']})\n",
    "s['country'] = 'Ivory_Coast'\n",
    "s.to_csv(r'C:\\Users\\ASUS\\Desktop\\WHK\\practici\\Adm_2_GED\\Ivory_Coast.csv')"
   ]
  },
  {
   "cell_type": "code",
   "execution_count": 192,
   "metadata": {},
   "outputs": [],
   "source": [
    "s = dcc[dcc['country']=='Kenya']\n",
    "s=f_african.groupby(['year','month', 'adm_2']).agg({'best':['sum']})\n",
    "s['country'] = 'Kenya'\n",
    "s.to_csv(r'C:\\Users\\ASUS\\Desktop\\WHK\\practici\\Adm_2_GED\\Kenya.csv')"
   ]
  },
  {
   "cell_type": "code",
   "execution_count": 193,
   "metadata": {},
   "outputs": [],
   "source": [
    "s = dcc[dcc['country']=='Kingdom of eSwatini (Swaziland)']\n",
    "s=f_african.groupby(['year','month', 'adm_2']).agg({'best':['sum']})\n",
    "s['country'] = 'Kingdom_of_eSwatini'\n",
    "s.to_csv(r'C:\\Users\\ASUS\\Desktop\\WHK\\practici\\Adm_2_GED\\Kingdom_of_eSwatini.csv')"
   ]
  },
  {
   "cell_type": "code",
   "execution_count": 194,
   "metadata": {},
   "outputs": [],
   "source": [
    "s = dcc[dcc['country']=='Lesotho']\n",
    "s=f_african.groupby(['year','month', 'adm_2']).agg({'best':['sum']})\n",
    "s['country'] = 'Lesotho'\n",
    "s.to_csv(r'C:\\Users\\ASUS\\Desktop\\WHK\\practici\\Adm_2_GED\\Lesotho.csv')"
   ]
  },
  {
   "cell_type": "code",
   "execution_count": 195,
   "metadata": {},
   "outputs": [],
   "source": [
    "s = dcc[dcc['country']=='Liberia']\n",
    "s=f_african.groupby(['year','month', 'adm_2']).agg({'best':['sum']})\n",
    "s['country'] = 'Liberia'\n",
    "s.to_csv(r'C:\\Users\\ASUS\\Desktop\\WHK\\practici\\Adm_2_GED\\Liberia.csv')"
   ]
  },
  {
   "cell_type": "code",
   "execution_count": 196,
   "metadata": {},
   "outputs": [],
   "source": [
    "s = dcc[dcc['country']=='Libya']\n",
    "s=f_african.groupby(['year','month', 'adm_2']).agg({'best':['sum']})\n",
    "s['country'] = 'Libya'\n",
    "s.to_csv(r'C:\\Users\\ASUS\\Desktop\\WHK\\practici\\Adm_2_GED\\Libya.csv')"
   ]
  },
  {
   "cell_type": "code",
   "execution_count": 197,
   "metadata": {},
   "outputs": [],
   "source": [
    "s = dcc[dcc['country']=='Madagascar (Malagasy)']\n",
    "s=f_african.groupby(['year','month', 'adm_2']).agg({'best':['sum']})\n",
    "s['country'] = 'Madagascar'\n",
    "s.to_csv(r'C:\\Users\\ASUS\\Desktop\\WHK\\practici\\Adm_2_GED\\Madagascar.csv')"
   ]
  },
  {
   "cell_type": "code",
   "execution_count": 198,
   "metadata": {},
   "outputs": [],
   "source": [
    "s = dcc[dcc['country']=='Mali']\n",
    "s=f_african.groupby(['year','month', 'adm_2']).agg({'best':['sum']})\n",
    "s['country'] = 'Mali'\n",
    "s.to_csv(r'C:\\Users\\ASUS\\Desktop\\WHK\\practici\\Adm_2_GED\\Mali.csv')"
   ]
  },
  {
   "cell_type": "code",
   "execution_count": 199,
   "metadata": {},
   "outputs": [],
   "source": [
    "s = dcc[dcc['country']=='Mauritania']\n",
    "s=f_african.groupby(['year','month', 'adm_2']).agg({'best':['sum']})\n",
    "s['country'] = 'Mauritania'\n",
    "s.to_csv(r'C:\\Users\\ASUS\\Desktop\\WHK\\practici\\Adm_2_GED\\Mauritania.csv')"
   ]
  },
  {
   "cell_type": "code",
   "execution_count": 201,
   "metadata": {},
   "outputs": [],
   "source": [
    "s = dcc[dcc['country']=='Morocco']\n",
    "s=f_african.groupby(['year','month', 'adm_2']).agg({'best':['sum']})\n",
    "s['country'] = 'Morocco'\n",
    "s.to_csv(r'C:\\Users\\ASUS\\Desktop\\WHK\\practici\\Adm_2_GED\\Morocco.csv')"
   ]
  },
  {
   "cell_type": "code",
   "execution_count": 202,
   "metadata": {},
   "outputs": [],
   "source": [
    "s = dcc[dcc['country']=='Mozambique']\n",
    "s=f_african.groupby(['year','month', 'adm_2']).agg({'best':['sum']})\n",
    "s['country'] = 'Mozambique'\n",
    "s.to_csv(r'C:\\Users\\ASUS\\Desktop\\WHK\\practici\\Adm_2_GED\\Mozambique.csv')"
   ]
  },
  {
   "cell_type": "code",
   "execution_count": 203,
   "metadata": {},
   "outputs": [],
   "source": [
    "s = dcc[dcc['country']=='Namibia']\n",
    "s=f_african.groupby(['year','month', 'adm_2']).agg({'best':['sum']})\n",
    "s['country'] = 'Namibia'\n",
    "s.to_csv(r'C:\\Users\\ASUS\\Desktop\\WHK\\practici\\Adm_2_GED\\Namibia.csv')"
   ]
  },
  {
   "cell_type": "code",
   "execution_count": 204,
   "metadata": {},
   "outputs": [],
   "source": [
    "s = dcc[dcc['country']=='Niger']\n",
    "s=f_african.groupby(['year','month', 'adm_2']).agg({'best':['sum']})\n",
    "s['country'] = 'Niger'\n",
    "s.to_csv(r'C:\\Users\\ASUS\\Desktop\\WHK\\practici\\Adm_2_GED\\Niger.csv')"
   ]
  },
  {
   "cell_type": "code",
   "execution_count": 205,
   "metadata": {},
   "outputs": [],
   "source": [
    "s = dcc[dcc['country']=='Nigeria']\n",
    "s=f_african.groupby(['year','month', 'adm_2']).agg({'best':['sum']})\n",
    "s['country'] = 'Nigeria'\n",
    "s.to_csv(r'C:\\Users\\ASUS\\Desktop\\WHK\\practici\\Adm_2_GED\\Nigeria.csv')"
   ]
  },
  {
   "cell_type": "code",
   "execution_count": 206,
   "metadata": {},
   "outputs": [],
   "source": [
    "s = dcc[dcc['country']=='Rwanda']\n",
    "s=f_african.groupby(['year','month', 'adm_2']).agg({'best':['sum']})\n",
    "s['country'] = 'Rwanda'\n",
    "s.to_csv(r'C:\\Users\\ASUS\\Desktop\\WHK\\practici\\Adm_2_GED\\Rwanda.csv')"
   ]
  },
  {
   "cell_type": "code",
   "execution_count": 207,
   "metadata": {},
   "outputs": [],
   "source": [
    "s = dcc[dcc['country']=='Senegal']\n",
    "s=f_african.groupby(['year','month', 'adm_2']).agg({'best':['sum']})\n",
    "s['country'] = 'Senegal'\n",
    "s.to_csv(r'C:\\Users\\ASUS\\Desktop\\WHK\\practici\\Adm_2_GED\\Senegal.csv')"
   ]
  },
  {
   "cell_type": "code",
   "execution_count": 208,
   "metadata": {},
   "outputs": [],
   "source": [
    "s = dcc[dcc['country']=='Sierra Leone']\n",
    "s=f_african.groupby(['year','month', 'adm_2']).agg({'best':['sum']})\n",
    "s['country'] = 'Sierra_Leone'\n",
    "s.to_csv(r'C:\\Users\\ASUS\\Desktop\\WHK\\practici\\Adm_2_GED\\Sierra_Leone.csv')"
   ]
  },
  {
   "cell_type": "code",
   "execution_count": 209,
   "metadata": {},
   "outputs": [],
   "source": [
    "s = dcc[dcc['country']=='Somalia']\n",
    "s=f_african.groupby(['year','month', 'adm_2']).agg({'best':['sum']})\n",
    "s['country'] = 'Somalia'\n",
    "s.to_csv(r'C:\\Users\\ASUS\\Desktop\\WHK\\practici\\Adm_2_GED\\Somalia.csv')"
   ]
  },
  {
   "cell_type": "code",
   "execution_count": 210,
   "metadata": {},
   "outputs": [],
   "source": [
    "s = dcc[dcc['country']=='South Africa']\n",
    "s=f_african.groupby(['year','month', 'adm_2']).agg({'best':['sum']})\n",
    "s['country'] = 'South_Africa'\n",
    "s.to_csv(r'C:\\Users\\ASUS\\Desktop\\WHK\\practici\\Adm_2_GED\\South_Africa.csv')"
   ]
  },
  {
   "cell_type": "code",
   "execution_count": 211,
   "metadata": {},
   "outputs": [],
   "source": [
    "s = dcc[dcc['country']=='South Sudan']\n",
    "s=f_african.groupby(['year','month', 'adm_2']).agg({'best':['sum']})\n",
    "s['country'] = 'South_Sudan'\n",
    "s.to_csv(r'C:\\Users\\ASUS\\Desktop\\WHK\\practici\\Adm_2_GED\\South_Sudan.csv')"
   ]
  },
  {
   "cell_type": "code",
   "execution_count": 212,
   "metadata": {},
   "outputs": [],
   "source": [
    "s = dcc[dcc['country']=='Sudan']\n",
    "s=f_african.groupby(['year','month', 'adm_2']).agg({'best':['sum']})\n",
    "s['country'] = 'Sudan'\n",
    "s.to_csv(r'C:\\Users\\ASUS\\Desktop\\WHK\\practici\\Adm_2_GED\\Sudan.csv')"
   ]
  },
  {
   "cell_type": "code",
   "execution_count": 213,
   "metadata": {},
   "outputs": [],
   "source": [
    "s = dcc[dcc['country']=='Tanzania']\n",
    "s=f_african.groupby(['year','month', 'adm_2']).agg({'best':['sum']})\n",
    "s['country'] = 'Tanzania'\n",
    "s.to_csv(r'C:\\Users\\ASUS\\Desktop\\WHK\\practici\\Adm_2_GED\\Tanzania.csv')"
   ]
  },
  {
   "cell_type": "code",
   "execution_count": 214,
   "metadata": {},
   "outputs": [],
   "source": [
    "s = dcc[dcc['country']=='Togo']\n",
    "s=f_african.groupby(['year','month', 'adm_2']).agg({'best':['sum']})\n",
    "s['country'] = 'Togo'\n",
    "s.to_csv(r'C:\\Users\\ASUS\\Desktop\\WHK\\practici\\Adm_2_GED\\Togo.csv')"
   ]
  },
  {
   "cell_type": "code",
   "execution_count": 215,
   "metadata": {},
   "outputs": [],
   "source": [
    "s = dcc[dcc['country']=='Tunisia']\n",
    "s=f_african.groupby(['year','month', 'adm_2']).agg({'best':['sum']})\n",
    "s['country'] = 'Tunisia'\n",
    "s.to_csv(r'C:\\Users\\ASUS\\Desktop\\WHK\\practici\\Adm_2_GED\\Tunisia.csv')"
   ]
  },
  {
   "cell_type": "code",
   "execution_count": 216,
   "metadata": {},
   "outputs": [],
   "source": [
    "s = dcc[dcc['country']=='Uganda']\n",
    "s=f_african.groupby(['year','month', 'adm_2']).agg({'best':['sum']})\n",
    "s['country'] = 'Uganda'\n",
    "s.to_csv(r'C:\\Users\\ASUS\\Desktop\\WHK\\practici\\Adm_2_GED\\Uganda.csv')"
   ]
  },
  {
   "cell_type": "code",
   "execution_count": 217,
   "metadata": {},
   "outputs": [],
   "source": [
    "s = dcc[dcc['country']=='Zambia']\n",
    "s=f_african.groupby(['year','month', 'adm_2']).agg({'best':['sum']})\n",
    "s['country'] = 'Zambia'\n",
    "s.to_csv(r'C:\\Users\\ASUS\\Desktop\\WHK\\practici\\Adm_2_GED\\Zambia.csv')"
   ]
  },
  {
   "cell_type": "code",
   "execution_count": 218,
   "metadata": {},
   "outputs": [],
   "source": [
    "s = dcc[dcc['country']=='Zimbabwe (Rhodesia)']\n",
    "s=f_african.groupby(['year','month', 'adm_2']).agg({'best':['sum']})\n",
    "s['country'] = 'Zimbabwe'\n",
    "s.to_csv(r'C:\\Users\\ASUS\\Desktop\\WHK\\practici\\Adm_2_GED\\Zimbabwe.csv')"
   ]
  },
  {
   "cell_type": "markdown",
   "metadata": {},
   "source": [
    "# admin_1"
   ]
  },
  {
   "cell_type": "code",
   "execution_count": 103,
   "metadata": {},
   "outputs": [],
   "source": [
    "dcc = pd.read_csv('df_ff.csv')\n",
    "\n",
    "dcc.rename(columns = {'Unnamed: 0':'country', 'Unnamed: 1' :'adm_1', 'Unnamed: 2': 'year', 'Unnamed: 3': 'month'}, inplace= True)\n",
    "dcc.drop([0,1], axis=0, inplace=True)\n"
   ]
  },
  {
   "cell_type": "code",
   "execution_count": 112,
   "metadata": {},
   "outputs": [],
   "source": [
    "s = dcc[dcc['country']=='Angola']\n",
    "s=f_african.groupby(['year','month', 'adm_1']).agg({'best':['sum']})\n",
    "s['country'] = 'Angola'\n",
    "\n",
    "#s.to_csv(r'C:\\Users\\ASUS\\Desktop\\WHK\\practici\\Adm_1_GED\\Angola.csv')"
   ]
  },
  {
   "cell_type": "code",
   "execution_count": null,
   "metadata": {},
   "outputs": [],
   "source": [
    "s = dcc[dcc['country']=='Angola']\n",
    "s=f_african.groupby(['year','month', 'adm_1']).agg({'best':['sum']})\n",
    "s['country'] = 'Angola'\n",
    "\n",
    "#s.to_csv(r'C:\\Users\\ASUS\\Desktop\\WHK\\practici\\Adm_1_GED\\Angola.csv')"
   ]
  },
  {
   "cell_type": "code",
   "execution_count": 163,
   "metadata": {},
   "outputs": [],
   "source": [
    "s = dcc[dcc['country']=='Zimbabwe (Rhodesia)']\n",
    "s=f_african.groupby(['year','month', 'adm_1']).agg({'best':['sum']})\n",
    "s['country'] = 'Zimbabwe'\n",
    "\n",
    "s.to_csv(r'C:\\Users\\ASUS\\Desktop\\WHK\\practici\\Adm_1_GED\\Zimbabwe.csv')"
   ]
  },
  {
   "cell_type": "code",
   "execution_count": 162,
   "metadata": {},
   "outputs": [],
   "source": [
    "s = dcc[dcc['country']=='Zambia']\n",
    "s=f_african.groupby(['year','month', 'adm_1']).agg({'best':['sum']})\n",
    "s['country'] = 'Zambia'\n",
    "\n",
    "s.to_csv(r'C:\\Users\\ASUS\\Desktop\\WHK\\practici\\Adm_1_GED\\Zambia.csv')"
   ]
  },
  {
   "cell_type": "code",
   "execution_count": 161,
   "metadata": {},
   "outputs": [],
   "source": [
    "s = dcc[dcc['country']=='Uganda']\n",
    "s=f_african.groupby(['year','month', 'adm_1']).agg({'best':['sum']})\n",
    "s['country'] = 'Uganda'\n",
    "\n",
    "s.to_csv(r'C:\\Users\\ASUS\\Desktop\\WHK\\practici\\Adm_1_GED\\Uganda.csv')"
   ]
  },
  {
   "cell_type": "code",
   "execution_count": 160,
   "metadata": {},
   "outputs": [],
   "source": [
    "s = dcc[dcc['country']=='Tunisia']\n",
    "s=f_african.groupby(['year','month', 'adm_1']).agg({'best':['sum']})\n",
    "s['country'] = 'Tunisia'\n",
    "\n",
    "s.to_csv(r'C:\\Users\\ASUS\\Desktop\\WHK\\practici\\Adm_1_GED\\Tunisia.csv')"
   ]
  },
  {
   "cell_type": "code",
   "execution_count": 153,
   "metadata": {},
   "outputs": [],
   "source": [
    "s = dcc[dcc['country']=='Togo']\n",
    "s=f_african.groupby(['year','month', 'adm_1']).agg({'best':['sum']})\n",
    "s['country'] = 'Togo'\n",
    "\n",
    "s.to_csv(r'C:\\Users\\ASUS\\Desktop\\WHK\\practici\\Adm_1_GED\\Togo.csv')"
   ]
  },
  {
   "cell_type": "code",
   "execution_count": 154,
   "metadata": {},
   "outputs": [],
   "source": [
    "s = dcc[dcc['country']=='Tanzania']\n",
    "s=f_african.groupby(['year','month', 'adm_1']).agg({'best':['sum']})\n",
    "s['country'] = 'Tanzania'\n",
    "\n",
    "s.to_csv(r'C:\\Users\\ASUS\\Desktop\\WHK\\practici\\Adm_1_GED\\Tanzania.csv')"
   ]
  },
  {
   "cell_type": "code",
   "execution_count": 155,
   "metadata": {},
   "outputs": [],
   "source": [
    "s = dcc[dcc['country']=='Sudan']\n",
    "s=f_african.groupby(['year','month', 'adm_1']).agg({'best':['sum']})\n",
    "s['country'] = 'Sudan'\n",
    "\n",
    "s.to_csv(r'C:\\Users\\ASUS\\Desktop\\WHK\\practici\\Adm_1_GED\\Sudan.csv')"
   ]
  },
  {
   "cell_type": "code",
   "execution_count": 156,
   "metadata": {},
   "outputs": [],
   "source": [
    "s = dcc[dcc['country']=='South Sudan']\n",
    "s=f_african.groupby(['year','month', 'adm_1']).agg({'best':['sum']})\n",
    "s['country'] = 'South_Sudan'\n",
    "\n",
    "s.to_csv(r'C:\\Users\\ASUS\\Desktop\\WHK\\practici\\Adm_1_GED\\South_Sudan.csv')"
   ]
  },
  {
   "cell_type": "code",
   "execution_count": 157,
   "metadata": {},
   "outputs": [],
   "source": [
    "s = dcc[dcc['country']=='South Africa']\n",
    "s=f_african.groupby(['year','month', 'adm_1']).agg({'best':['sum']})\n",
    "s['country'] = 'South_Africa'\n",
    "\n",
    "s.to_csv(r'C:\\Users\\ASUS\\Desktop\\WHK\\practici\\Adm_1_GED\\South_Africa.csv')"
   ]
  },
  {
   "cell_type": "code",
   "execution_count": 158,
   "metadata": {},
   "outputs": [],
   "source": [
    "s = dcc[dcc['country']=='Somalia']\n",
    "s=f_african.groupby(['year','month', 'adm_1']).agg({'best':['sum']})\n",
    "s['country'] = 'Somalia'\n",
    "\n",
    "s.to_csv(r'C:\\Users\\ASUS\\Desktop\\WHK\\practici\\Adm_1_GED\\Somalia.csv')"
   ]
  },
  {
   "cell_type": "code",
   "execution_count": 159,
   "metadata": {},
   "outputs": [],
   "source": [
    "s = dcc[dcc['country']=='Sierra Leone']\n",
    "s=f_african.groupby(['year','month', 'adm_1']).agg({'best':['sum']})\n",
    "s['country'] = 'Sierra_Leone'\n",
    "\n",
    "s.to_csv(r'C:\\Users\\ASUS\\Desktop\\WHK\\practici\\Adm_1_GED\\Sierra_Leone.csv')"
   ]
  },
  {
   "cell_type": "code",
   "execution_count": 146,
   "metadata": {},
   "outputs": [],
   "source": [
    "s = dcc[dcc['country']=='Senegal']\n",
    "s=f_african.groupby(['year','month', 'adm_1']).agg({'best':['sum']})\n",
    "s['country'] = 'Senegal'\n",
    "\n",
    "s.to_csv(r'C:\\Users\\ASUS\\Desktop\\WHK\\practici\\Adm_1_GED\\Senegal.csv')"
   ]
  },
  {
   "cell_type": "code",
   "execution_count": 145,
   "metadata": {},
   "outputs": [],
   "source": [
    "s = dcc[dcc['country']=='Rwanda']\n",
    "s=f_african.groupby(['year','month', 'adm_1']).agg({'best':['sum']})\n",
    "s['country'] = 'Rwanda'\n",
    "\n",
    "s.to_csv(r'C:\\Users\\ASUS\\Desktop\\WHK\\practici\\Adm_1_GED\\Rwanda.csv')"
   ]
  },
  {
   "cell_type": "code",
   "execution_count": 144,
   "metadata": {},
   "outputs": [],
   "source": [
    "s = dcc[dcc['country']=='Nigeria']\n",
    "s=f_african.groupby(['year','month', 'adm_1']).agg({'best':['sum']})\n",
    "s['country'] = 'Nigeria'\n",
    "\n",
    "s.to_csv(r'C:\\Users\\ASUS\\Desktop\\WHK\\practici\\Adm_1_GED\\Nigeria.csv')"
   ]
  },
  {
   "cell_type": "code",
   "execution_count": 143,
   "metadata": {},
   "outputs": [],
   "source": [
    "s = dcc[dcc['country']=='Niger']\n",
    "s=f_african.groupby(['year','month', 'adm_1']).agg({'best':['sum']})\n",
    "s['country'] = 'Niger'\n",
    "\n",
    "s.to_csv(r'C:\\Users\\ASUS\\Desktop\\WHK\\practici\\Adm_1_GED\\Niger.csv')"
   ]
  },
  {
   "cell_type": "code",
   "execution_count": 142,
   "metadata": {},
   "outputs": [],
   "source": [
    "s = dcc[dcc['country']=='Namibia']\n",
    "s=f_african.groupby(['year','month', 'adm_1']).agg({'best':['sum']})\n",
    "s['country'] = 'Namibia'\n",
    "\n",
    "s.to_csv(r'C:\\Users\\ASUS\\Desktop\\WHK\\practici\\Adm_1_GED\\Namibia.csv')"
   ]
  },
  {
   "cell_type": "code",
   "execution_count": 141,
   "metadata": {},
   "outputs": [],
   "source": [
    "s = dcc[dcc['country']=='Mozambique']\n",
    "s=f_african.groupby(['year','month', 'adm_1']).agg({'best':['sum']})\n",
    "s['country'] = 'Mozambique'\n",
    "\n",
    "s.to_csv(r'C:\\Users\\ASUS\\Desktop\\WHK\\practici\\Adm_1_GED\\Mozambique.csv')"
   ]
  },
  {
   "cell_type": "code",
   "execution_count": 140,
   "metadata": {},
   "outputs": [],
   "source": [
    "s = dcc[dcc['country']=='Morocco']\n",
    "s=f_african.groupby(['year','month', 'adm_1']).agg({'best':['sum']})\n",
    "s['country'] = 'Morocco'\n",
    "\n",
    "s.to_csv(r'C:\\Users\\ASUS\\Desktop\\WHK\\practici\\Adm_1_GED\\Morocco.csv')"
   ]
  },
  {
   "cell_type": "code",
   "execution_count": 139,
   "metadata": {},
   "outputs": [],
   "source": [
    "s = dcc[dcc['country']=='Mauritania']\n",
    "s=f_african.groupby(['year','month', 'adm_1']).agg({'best':['sum']})\n",
    "s['country'] = 'Mauritania'\n",
    "\n",
    "s.to_csv(r'C:\\Users\\ASUS\\Desktop\\WHK\\practici\\Adm_1_GED\\Mauritania.csv')"
   ]
  },
  {
   "cell_type": "code",
   "execution_count": 138,
   "metadata": {},
   "outputs": [],
   "source": [
    "s = dcc[dcc['country']=='Mali']\n",
    "s=f_african.groupby(['year','month', 'adm_1']).agg({'best':['sum']})\n",
    "s['country'] = 'Mali'\n",
    "\n",
    "s.to_csv(r'C:\\Users\\ASUS\\Desktop\\WHK\\practici\\Adm_1_GED\\Mali.csv')"
   ]
  },
  {
   "cell_type": "code",
   "execution_count": 137,
   "metadata": {},
   "outputs": [],
   "source": [
    "s = dcc[dcc['country']=='Madagascar (Malagasy)']\n",
    "s=f_african.groupby(['year','month', 'adm_1']).agg({'best':['sum']})\n",
    "s['country'] = 'Madagascar'\n",
    "\n",
    "s.to_csv(r'C:\\Users\\ASUS\\Desktop\\WHK\\practici\\Adm_1_GED\\Madagascar.csv')"
   ]
  },
  {
   "cell_type": "code",
   "execution_count": 136,
   "metadata": {},
   "outputs": [],
   "source": [
    "s = dcc[dcc['country']=='Libya']\n",
    "s=f_african.groupby(['year','month', 'adm_1']).agg({'best':['sum']})\n",
    "s['country'] = 'Libya'\n",
    "\n",
    "s.to_csv(r'C:\\Users\\ASUS\\Desktop\\WHK\\practici\\Adm_1_GED\\Libya.csv')"
   ]
  },
  {
   "cell_type": "code",
   "execution_count": 135,
   "metadata": {},
   "outputs": [],
   "source": [
    "s = dcc[dcc['country']=='Liberia']\n",
    "s=f_african.groupby(['year','month', 'adm_1']).agg({'best':['sum']})\n",
    "s['country'] = 'Liberia'\n",
    "\n",
    "s.to_csv(r'C:\\Users\\ASUS\\Desktop\\WHK\\practici\\Adm_1_GED\\Liberia.csv')"
   ]
  },
  {
   "cell_type": "code",
   "execution_count": 134,
   "metadata": {},
   "outputs": [],
   "source": [
    "s = dcc[dcc['country']=='Lesotho']\n",
    "s=f_african.groupby(['year','month', 'adm_1']).agg({'best':['sum']})\n",
    "s['country'] = 'Lesotho'\n",
    "\n",
    "s.to_csv(r'C:\\Users\\ASUS\\Desktop\\WHK\\practici\\Adm_1_GED\\Lesotho.csv')"
   ]
  },
  {
   "cell_type": "code",
   "execution_count": 133,
   "metadata": {},
   "outputs": [],
   "source": [
    "s = dcc[dcc['country']=='Kingdom of eSwatini (Swaziland)']\n",
    "s=f_african.groupby(['year','month', 'adm_1']).agg({'best':['sum']})\n",
    "s['country'] = 'Kingdom_of_eSwatini'\n",
    "\n",
    "s.to_csv(r'C:\\Users\\ASUS\\Desktop\\WHK\\practici\\Adm_1_GED\\Kingdom_of_eSwatini.csv')"
   ]
  },
  {
   "cell_type": "code",
   "execution_count": 132,
   "metadata": {},
   "outputs": [],
   "source": [
    "s = dcc[dcc['country']=='Kenya']\n",
    "s=f_african.groupby(['year','month', 'adm_1']).agg({'best':['sum']})\n",
    "s['country'] = 'Kenya'\n",
    "\n",
    "s.to_csv(r'C:\\Users\\ASUS\\Desktop\\WHK\\practici\\Adm_1_GED\\Kenya.csv')"
   ]
  },
  {
   "cell_type": "code",
   "execution_count": 131,
   "metadata": {},
   "outputs": [],
   "source": [
    "s = dcc[dcc['country']=='Ivory Coast']\n",
    "s=f_african.groupby(['year','month', 'adm_1']).agg({'best':['sum']})\n",
    "s['country'] = 'Ivory_Coast'\n",
    "\n",
    "s.to_csv(r'C:\\Users\\ASUS\\Desktop\\WHK\\practici\\Adm_1_GED\\Ivory_Coast.csv')"
   ]
  },
  {
   "cell_type": "code",
   "execution_count": 130,
   "metadata": {},
   "outputs": [],
   "source": [
    "s = dcc[dcc['country']=='Guinea-Bissau']\n",
    "s=f_african.groupby(['year','month', 'adm_1']).agg({'best':['sum']})\n",
    "s['country'] = 'Guinea_Bissau'\n",
    "\n",
    "s.to_csv(r'C:\\Users\\ASUS\\Desktop\\WHK\\practici\\Adm_1_GED\\Guinea_Bissau.csv')"
   ]
  },
  {
   "cell_type": "code",
   "execution_count": 129,
   "metadata": {},
   "outputs": [],
   "source": [
    "s = dcc[dcc['country']=='Guinea']\n",
    "s=f_african.groupby(['year','month', 'adm_1']).agg({'best':['sum']})\n",
    "s['country'] = 'Guinea'\n",
    "\n",
    "s.to_csv(r'C:\\Users\\ASUS\\Desktop\\WHK\\practici\\Adm_1_GED\\Guinea.csv')"
   ]
  },
  {
   "cell_type": "code",
   "execution_count": 128,
   "metadata": {},
   "outputs": [],
   "source": [
    "s = dcc[dcc['country']=='Ghana']\n",
    "s=f_african.groupby(['year','month', 'adm_1']).agg({'best':['sum']})\n",
    "s['country'] = 'Ghana'\n",
    "\n",
    "s.to_csv(r'C:\\Users\\ASUS\\Desktop\\WHK\\practici\\Adm_1_GED\\Ghana.csv')"
   ]
  },
  {
   "cell_type": "code",
   "execution_count": 127,
   "metadata": {},
   "outputs": [],
   "source": [
    "s = dcc[dcc['country']=='Gambia']\n",
    "s=f_african.groupby(['year','month', 'adm_1']).agg({'best':['sum']})\n",
    "s['country'] = 'Gambia'\n",
    "\n",
    "s.to_csv(r'C:\\Users\\ASUS\\Desktop\\WHK\\practici\\Adm_1_GED\\Gambia.csv')"
   ]
  },
  {
   "cell_type": "code",
   "execution_count": 126,
   "metadata": {},
   "outputs": [],
   "source": [
    "s = dcc[dcc['country']=='Ethiopia']\n",
    "s=f_african.groupby(['year','month', 'adm_1']).agg({'best':['sum']})\n",
    "s['country'] = 'Ethiopia'\n",
    "\n",
    "s.to_csv(r'C:\\Users\\ASUS\\Desktop\\WHK\\practici\\Adm_1_GED\\Ethiopia.csv')"
   ]
  },
  {
   "cell_type": "code",
   "execution_count": 125,
   "metadata": {},
   "outputs": [],
   "source": [
    "s = dcc[dcc['country']=='Eritrea']\n",
    "s=f_african.groupby(['year','month', 'adm_1']).agg({'best':['sum']})\n",
    "s['country'] = 'Eritrea'\n",
    "\n",
    "s.to_csv(r'C:\\Users\\ASUS\\Desktop\\WHK\\practici\\Adm_1_GED\\Eritrea.csv')"
   ]
  },
  {
   "cell_type": "code",
   "execution_count": 124,
   "metadata": {},
   "outputs": [],
   "source": [
    "s = dcc[dcc['country']=='Djibouti']\n",
    "s=f_african.groupby(['year','month', 'adm_1']).agg({'best':['sum']})\n",
    "s['country'] = 'Djibouti'\n",
    "\n",
    "s.to_csv(r'C:\\Users\\ASUS\\Desktop\\WHK\\practici\\Adm_1_GED\\Djibouti.csv')"
   ]
  },
  {
   "cell_type": "code",
   "execution_count": 123,
   "metadata": {},
   "outputs": [],
   "source": [
    "s = dcc[dcc['country']=='DR Congo (Zaire)']\n",
    "s=f_african.groupby(['year','month', 'adm_1']).agg({'best':['sum']})\n",
    "s['country'] = 'DR_Congo'\n",
    "\n",
    "s.to_csv(r'C:\\Users\\ASUS\\Desktop\\WHK\\practici\\Adm_1_GED\\DR_Congo.csv')"
   ]
  },
  {
   "cell_type": "code",
   "execution_count": 122,
   "metadata": {},
   "outputs": [],
   "source": [
    "s = dcc[dcc['country']=='Congo']\n",
    "s=f_african.groupby(['year','month', 'adm_1']).agg({'best':['sum']})\n",
    "s['country'] = 'Congo'\n",
    "\n",
    "s.to_csv(r'C:\\Users\\ASUS\\Desktop\\WHK\\practici\\Adm_1_GED\\Congo.csv')"
   ]
  },
  {
   "cell_type": "code",
   "execution_count": 121,
   "metadata": {},
   "outputs": [],
   "source": [
    "s = dcc[dcc['country']=='Comoros']\n",
    "s=f_african.groupby(['year','month', 'adm_1']).agg({'best':['sum']})\n",
    "s['country'] = 'Comoros'\n",
    "\n",
    "s.to_csv(r'C:\\Users\\ASUS\\Desktop\\WHK\\practici\\Adm_1_GED\\Comoros.csv')"
   ]
  },
  {
   "cell_type": "code",
   "execution_count": 120,
   "metadata": {},
   "outputs": [],
   "source": [
    "s = dcc[dcc['country']=='Chad']\n",
    "s=f_african.groupby(['year','month', 'adm_1']).agg({'best':['sum']})\n",
    "s['country'] = 'Chad'\n",
    "\n",
    "s.to_csv(r'C:\\Users\\ASUS\\Desktop\\WHK\\practici\\Adm_1_GED\\Chad.csv')"
   ]
  },
  {
   "cell_type": "code",
   "execution_count": 119,
   "metadata": {},
   "outputs": [],
   "source": [
    "s = dcc[dcc['country']=='Central African Republic']\n",
    "s=f_african.groupby(['year','month', 'adm_1']).agg({'best':['sum']})\n",
    "s['country'] = 'Central_African_Republic'\n",
    "\n",
    "s.to_csv(r'C:\\Users\\ASUS\\Desktop\\WHK\\practici\\Adm_1_GED\\Central_African_Republic.csv')"
   ]
  },
  {
   "cell_type": "code",
   "execution_count": 118,
   "metadata": {},
   "outputs": [],
   "source": [
    "s = dcc[dcc['country']=='Cameroon']\n",
    "s=f_african.groupby(['year','month', 'adm_1']).agg({'best':['sum']})\n",
    "s['country'] = 'Cameroon'\n",
    "\n",
    "s.to_csv(r'C:\\Users\\ASUS\\Desktop\\WHK\\practici\\Adm_1_GED\\Cameroon.csv')"
   ]
  },
  {
   "cell_type": "code",
   "execution_count": 117,
   "metadata": {},
   "outputs": [],
   "source": [
    "s = dcc[dcc['country']=='Burundi']\n",
    "s=f_african.groupby(['year','month', 'adm_1']).agg({'best':['sum']})\n",
    "s['country'] = 'Burundi'\n",
    "\n",
    "s.to_csv(r'C:\\Users\\ASUS\\Desktop\\WHK\\practici\\Adm_1_GED\\Burundi.csv')"
   ]
  },
  {
   "cell_type": "code",
   "execution_count": 116,
   "metadata": {},
   "outputs": [],
   "source": [
    "s = dcc[dcc['country']=='Burkina Faso']\n",
    "s=f_african.groupby(['year','month', 'adm_1']).agg({'best':['sum']})\n",
    "s['country'] = 'Burkina_Faso'\n",
    "\n",
    "s.to_csv(r'C:\\Users\\ASUS\\Desktop\\WHK\\practici\\Adm_1_GED\\Burkina_Faso.csv')"
   ]
  },
  {
   "cell_type": "code",
   "execution_count": 115,
   "metadata": {},
   "outputs": [],
   "source": [
    "s = dcc[dcc['country']=='Botswana']\n",
    "s=f_african.groupby(['year','month', 'adm_1']).agg({'best':['sum']})\n",
    "s['country'] = 'Botswana'\n",
    "\n",
    "#s.to_csv(r'C:\\Users\\ASUS\\Desktop\\WHK\\practici\\Adm_1_GED\\Botswana.csv')"
   ]
  },
  {
   "cell_type": "code",
   "execution_count": 114,
   "metadata": {},
   "outputs": [],
   "source": [
    "s = dcc[dcc['country']=='Benin']\n",
    "s=f_african.groupby(['year','month', 'adm_1']).agg({'best':['sum']})\n",
    "s['country'] = 'Benin'\n",
    "\n",
    "s.to_csv(r'C:\\Users\\ASUS\\Desktop\\WHK\\practici\\Adm_1_GED\\Benin.csv')"
   ]
  },
  {
   "cell_type": "code",
   "execution_count": 113,
   "metadata": {},
   "outputs": [],
   "source": [
    "s = dcc[dcc['country']=='Algeria']\n",
    "s=f_african.groupby(['year','month', 'adm_1']).agg({'best':['sum']})\n",
    "s['country'] = 'Algeria'\n",
    "\n",
    "s.to_csv(r'C:\\Users\\ASUS\\Desktop\\WHK\\practici\\Adm_1_GED\\Algeria.csv')"
   ]
  },
  {
   "cell_type": "code",
   "execution_count": null,
   "metadata": {},
   "outputs": [],
   "source": [
    "#s.to_csv(r'C:\\Users\\ASUS\\Desktop\\WHK\\practici\\Adm_1_GED\\Angola.csv')"
   ]
  }
 ],
 "metadata": {
  "kernelspec": {
   "display_name": "Python 3",
   "language": "python",
   "name": "python3"
  },
  "language_info": {
   "codemirror_mode": {
    "name": "ipython",
    "version": 3
   },
   "file_extension": ".py",
   "mimetype": "text/x-python",
   "name": "python",
   "nbconvert_exporter": "python",
   "pygments_lexer": "ipython3",
   "version": "3.8.5"
  }
 },
 "nbformat": 4,
 "nbformat_minor": 5
}

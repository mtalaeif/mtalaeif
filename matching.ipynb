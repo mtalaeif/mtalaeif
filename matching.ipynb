{
 "cells": [
  {
   "cell_type": "code",
   "execution_count": 302,
   "id": "58b1b912",
   "metadata": {},
   "outputs": [],
   "source": [
    "import pandas as pd\n",
    "df = pd.read_csv('pend-gdis-1960-2018-disasterlocations.csv')"
   ]
  },
  {
   "cell_type": "code",
   "execution_count": 303,
   "id": "f84b0d19",
   "metadata": {},
   "outputs": [
    {
     "data": {
      "text/html": [
       "<div>\n",
       "<style scoped>\n",
       "    .dataframe tbody tr th:only-of-type {\n",
       "        vertical-align: middle;\n",
       "    }\n",
       "\n",
       "    .dataframe tbody tr th {\n",
       "        vertical-align: top;\n",
       "    }\n",
       "\n",
       "    .dataframe thead th {\n",
       "        text-align: right;\n",
       "    }\n",
       "</style>\n",
       "<table border=\"1\" class=\"dataframe\">\n",
       "  <thead>\n",
       "    <tr style=\"text-align: right;\">\n",
       "      <th></th>\n",
       "      <th>id</th>\n",
       "      <th>country</th>\n",
       "      <th>iso3</th>\n",
       "      <th>gwno</th>\n",
       "      <th>year</th>\n",
       "      <th>geo_id</th>\n",
       "      <th>geolocation</th>\n",
       "      <th>level</th>\n",
       "      <th>adm1</th>\n",
       "      <th>adm2</th>\n",
       "      <th>adm3</th>\n",
       "      <th>location</th>\n",
       "      <th>historical</th>\n",
       "      <th>hist_country</th>\n",
       "      <th>disastertype</th>\n",
       "      <th>disasterno</th>\n",
       "      <th>latitude</th>\n",
       "      <th>longitude</th>\n",
       "    </tr>\n",
       "  </thead>\n",
       "  <tbody>\n",
       "    <tr>\n",
       "      <th>2</th>\n",
       "      <td>175</td>\n",
       "      <td>Angola</td>\n",
       "      <td>AGO</td>\n",
       "      <td>540.0</td>\n",
       "      <td>2001</td>\n",
       "      <td>760</td>\n",
       "      <td>Onjiva</td>\n",
       "      <td>3</td>\n",
       "      <td>Cunene</td>\n",
       "      <td>Cuanhama</td>\n",
       "      <td>Onjiva</td>\n",
       "      <td>Onjiva</td>\n",
       "      <td>0</td>\n",
       "      <td>NaN</td>\n",
       "      <td>flood</td>\n",
       "      <td>2001-0146</td>\n",
       "      <td>-17.093484</td>\n",
       "      <td>15.665758</td>\n",
       "    </tr>\n",
       "    <tr>\n",
       "      <th>3</th>\n",
       "      <td>187</td>\n",
       "      <td>Angola</td>\n",
       "      <td>AGO</td>\n",
       "      <td>540.0</td>\n",
       "      <td>2009</td>\n",
       "      <td>710</td>\n",
       "      <td>Evale</td>\n",
       "      <td>3</td>\n",
       "      <td>Cunene</td>\n",
       "      <td>Cuanhama</td>\n",
       "      <td>Evale</td>\n",
       "      <td>Evale</td>\n",
       "      <td>0</td>\n",
       "      <td>NaN</td>\n",
       "      <td>flood</td>\n",
       "      <td>2009-0092</td>\n",
       "      <td>-16.531533</td>\n",
       "      <td>15.773987</td>\n",
       "    </tr>\n",
       "    <tr>\n",
       "      <th>4</th>\n",
       "      <td>187</td>\n",
       "      <td>Angola</td>\n",
       "      <td>AGO</td>\n",
       "      <td>540.0</td>\n",
       "      <td>2009</td>\n",
       "      <td>749</td>\n",
       "      <td>Mupa</td>\n",
       "      <td>3</td>\n",
       "      <td>Cunene</td>\n",
       "      <td>Cuvelai</td>\n",
       "      <td>Mupa</td>\n",
       "      <td>Mupa</td>\n",
       "      <td>0</td>\n",
       "      <td>NaN</td>\n",
       "      <td>flood</td>\n",
       "      <td>2009-0092</td>\n",
       "      <td>-16.200065</td>\n",
       "      <td>15.844189</td>\n",
       "    </tr>\n",
       "    <tr>\n",
       "      <th>5</th>\n",
       "      <td>187</td>\n",
       "      <td>Angola</td>\n",
       "      <td>AGO</td>\n",
       "      <td>540.0</td>\n",
       "      <td>2009</td>\n",
       "      <td>761</td>\n",
       "      <td>Onjiva</td>\n",
       "      <td>3</td>\n",
       "      <td>Cunene</td>\n",
       "      <td>Cuanhama</td>\n",
       "      <td>Onjiva</td>\n",
       "      <td>Onjiva</td>\n",
       "      <td>0</td>\n",
       "      <td>NaN</td>\n",
       "      <td>flood</td>\n",
       "      <td>2009-0092</td>\n",
       "      <td>-17.093484</td>\n",
       "      <td>15.665758</td>\n",
       "    </tr>\n",
       "    <tr>\n",
       "      <th>6</th>\n",
       "      <td>189</td>\n",
       "      <td>Angola</td>\n",
       "      <td>AGO</td>\n",
       "      <td>540.0</td>\n",
       "      <td>2010</td>\n",
       "      <td>711</td>\n",
       "      <td>Evale</td>\n",
       "      <td>3</td>\n",
       "      <td>Cunene</td>\n",
       "      <td>Cuanhama</td>\n",
       "      <td>Evale</td>\n",
       "      <td>Evale</td>\n",
       "      <td>0</td>\n",
       "      <td>NaN</td>\n",
       "      <td>flood</td>\n",
       "      <td>2010-0105</td>\n",
       "      <td>-16.531533</td>\n",
       "      <td>15.773987</td>\n",
       "    </tr>\n",
       "    <tr>\n",
       "      <th>...</th>\n",
       "      <td>...</td>\n",
       "      <td>...</td>\n",
       "      <td>...</td>\n",
       "      <td>...</td>\n",
       "      <td>...</td>\n",
       "      <td>...</td>\n",
       "      <td>...</td>\n",
       "      <td>...</td>\n",
       "      <td>...</td>\n",
       "      <td>...</td>\n",
       "      <td>...</td>\n",
       "      <td>...</td>\n",
       "      <td>...</td>\n",
       "      <td>...</td>\n",
       "      <td>...</td>\n",
       "      <td>...</td>\n",
       "      <td>...</td>\n",
       "      <td>...</td>\n",
       "    </tr>\n",
       "    <tr>\n",
       "      <th>39941</th>\n",
       "      <td>05-821</td>\n",
       "      <td>South Sudan</td>\n",
       "      <td>SUD</td>\n",
       "      <td>625.0</td>\n",
       "      <td>2009</td>\n",
       "      <td>45246</td>\n",
       "      <td>Warab</td>\n",
       "      <td>2</td>\n",
       "      <td>Warap</td>\n",
       "      <td>Warab</td>\n",
       "      <td>NaN</td>\n",
       "      <td>Warab provinces</td>\n",
       "      <td>1</td>\n",
       "      <td>Sudan</td>\n",
       "      <td>drought</td>\n",
       "      <td>2009-9633</td>\n",
       "      <td>8.167473</td>\n",
       "      <td>28.696650</td>\n",
       "    </tr>\n",
       "    <tr>\n",
       "      <th>39942</th>\n",
       "      <td>05-821</td>\n",
       "      <td>South Sudan</td>\n",
       "      <td>SUD</td>\n",
       "      <td>625.0</td>\n",
       "      <td>2009</td>\n",
       "      <td>45247</td>\n",
       "      <td>Jungoli</td>\n",
       "      <td>1</td>\n",
       "      <td>Jungoli</td>\n",
       "      <td>NaN</td>\n",
       "      <td>NaN</td>\n",
       "      <td>Jonglei</td>\n",
       "      <td>1</td>\n",
       "      <td>Sudan</td>\n",
       "      <td>drought</td>\n",
       "      <td>2009-9633</td>\n",
       "      <td>7.378793</td>\n",
       "      <td>32.327646</td>\n",
       "    </tr>\n",
       "    <tr>\n",
       "      <th>39943</th>\n",
       "      <td>05-821</td>\n",
       "      <td>South Sudan</td>\n",
       "      <td>SUD</td>\n",
       "      <td>625.0</td>\n",
       "      <td>2009</td>\n",
       "      <td>45248</td>\n",
       "      <td>Upper Nile</td>\n",
       "      <td>1</td>\n",
       "      <td>Upper Nile</td>\n",
       "      <td>NaN</td>\n",
       "      <td>NaN</td>\n",
       "      <td>Upper Nile</td>\n",
       "      <td>1</td>\n",
       "      <td>Sudan</td>\n",
       "      <td>drought</td>\n",
       "      <td>2009-9633</td>\n",
       "      <td>9.888036</td>\n",
       "      <td>32.795899</td>\n",
       "    </tr>\n",
       "    <tr>\n",
       "      <th>39944</th>\n",
       "      <td>05-821</td>\n",
       "      <td>South Sudan</td>\n",
       "      <td>SUD</td>\n",
       "      <td>625.0</td>\n",
       "      <td>2009</td>\n",
       "      <td>45249</td>\n",
       "      <td>West Bahr-al-Ghazal</td>\n",
       "      <td>1</td>\n",
       "      <td>West Bahr-al-Ghazal</td>\n",
       "      <td>NaN</td>\n",
       "      <td>NaN</td>\n",
       "      <td>Northern Bahr Ghazal</td>\n",
       "      <td>1</td>\n",
       "      <td>Sudan</td>\n",
       "      <td>drought</td>\n",
       "      <td>2009-9633</td>\n",
       "      <td>8.248650</td>\n",
       "      <td>26.099769</td>\n",
       "    </tr>\n",
       "    <tr>\n",
       "      <th>39945</th>\n",
       "      <td>05-844</td>\n",
       "      <td>South Sudan</td>\n",
       "      <td>SUD</td>\n",
       "      <td>625.0</td>\n",
       "      <td>1990</td>\n",
       "      <td>45250</td>\n",
       "      <td>West Bahr-al-Ghazal</td>\n",
       "      <td>1</td>\n",
       "      <td>West Bahr-al-Ghazal</td>\n",
       "      <td>NaN</td>\n",
       "      <td>NaN</td>\n",
       "      <td>Bar El Ghazal Province</td>\n",
       "      <td>1</td>\n",
       "      <td>Sudan</td>\n",
       "      <td>drought</td>\n",
       "      <td>1990-9289</td>\n",
       "      <td>8.248650</td>\n",
       "      <td>26.099769</td>\n",
       "    </tr>\n",
       "  </tbody>\n",
       "</table>\n",
       "<p>4184 rows × 18 columns</p>\n",
       "</div>"
      ],
      "text/plain": [
       "           id      country iso3   gwno  year  geo_id          geolocation  \\\n",
       "2         175       Angola  AGO  540.0  2001     760               Onjiva   \n",
       "3         187       Angola  AGO  540.0  2009     710                Evale   \n",
       "4         187       Angola  AGO  540.0  2009     749                 Mupa   \n",
       "5         187       Angola  AGO  540.0  2009     761               Onjiva   \n",
       "6         189       Angola  AGO  540.0  2010     711                Evale   \n",
       "...       ...          ...  ...    ...   ...     ...                  ...   \n",
       "39941  05-821  South Sudan  SUD  625.0  2009   45246                Warab   \n",
       "39942  05-821  South Sudan  SUD  625.0  2009   45247              Jungoli   \n",
       "39943  05-821  South Sudan  SUD  625.0  2009   45248           Upper Nile   \n",
       "39944  05-821  South Sudan  SUD  625.0  2009   45249  West Bahr-al-Ghazal   \n",
       "39945  05-844  South Sudan  SUD  625.0  1990   45250  West Bahr-al-Ghazal   \n",
       "\n",
       "       level                 adm1      adm2    adm3                location  \\\n",
       "2          3               Cunene  Cuanhama  Onjiva                  Onjiva   \n",
       "3          3               Cunene  Cuanhama   Evale                   Evale   \n",
       "4          3               Cunene   Cuvelai    Mupa                    Mupa   \n",
       "5          3               Cunene  Cuanhama  Onjiva                  Onjiva   \n",
       "6          3               Cunene  Cuanhama   Evale                   Evale   \n",
       "...      ...                  ...       ...     ...                     ...   \n",
       "39941      2                Warap     Warab     NaN         Warab provinces   \n",
       "39942      1              Jungoli       NaN     NaN                 Jonglei   \n",
       "39943      1           Upper Nile       NaN     NaN              Upper Nile   \n",
       "39944      1  West Bahr-al-Ghazal       NaN     NaN    Northern Bahr Ghazal   \n",
       "39945      1  West Bahr-al-Ghazal       NaN     NaN  Bar El Ghazal Province   \n",
       "\n",
       "       historical hist_country disastertype disasterno   latitude  longitude  \n",
       "2               0          NaN        flood  2001-0146 -17.093484  15.665758  \n",
       "3               0          NaN        flood  2009-0092 -16.531533  15.773987  \n",
       "4               0          NaN        flood  2009-0092 -16.200065  15.844189  \n",
       "5               0          NaN        flood  2009-0092 -17.093484  15.665758  \n",
       "6               0          NaN        flood  2010-0105 -16.531533  15.773987  \n",
       "...           ...          ...          ...        ...        ...        ...  \n",
       "39941           1        Sudan      drought  2009-9633   8.167473  28.696650  \n",
       "39942           1        Sudan      drought  2009-9633   7.378793  32.327646  \n",
       "39943           1        Sudan      drought  2009-9633   9.888036  32.795899  \n",
       "39944           1        Sudan      drought  2009-9633   8.248650  26.099769  \n",
       "39945           1        Sudan      drought  1990-9289   8.248650  26.099769  \n",
       "\n",
       "[4184 rows x 18 columns]"
      ]
     },
     "execution_count": 303,
     "metadata": {},
     "output_type": "execute_result"
    }
   ],
   "source": [
    "data_list = ['Algeria','Angola','Benin','Botswana','Burkina Faso','Burundi','Cameroon','Central African Republic','Chad',\n",
    "            'Comoros','Congo','DR Congo (Zaire)','Djibouti','Eritrea','Ethiopia','Gambia','Ghana','Guinea',\n",
    "            'Guinea-Bissau','Ivory Coast','Kenya','Kingdom of eSwatini (Swaziland)','Lesotho','Liberia','Libya','Madagascar (Malagasy)','Algeria',\n",
    "            'Mauritania','Morocco','Mozambique','Namibia','Niger','Nigeria','Rwanda','Senegal','Sierra Leone',\n",
    "            'Mali','Somalia','South Africa','South Sudan','Sudan','Tanzania','Togo','Tunisia','Uganda','Zambia','Zimbabwe (Rhodesia)']\n",
    "\n",
    "\n",
    "dff = df.country.isin(data_list)\n",
    "dff = df[df.country.isin(data_list)]\n",
    "dff"
   ]
  },
  {
   "cell_type": "code",
   "execution_count": 304,
   "id": "d2e72289",
   "metadata": {},
   "outputs": [],
   "source": [
    "da = dff[dff['country']=='Angola']\n",
    "da2 = da[da['year']>=2007]\n"
   ]
  },
  {
   "cell_type": "code",
   "execution_count": 306,
   "id": "c555edca",
   "metadata": {},
   "outputs": [],
   "source": [
    "dan = pd.read_csv('Angola.csv')\n",
    "listt = dan.location.unique()\n",
    "\n",
    "dam = da2[da2.location.isin(listt)]\n",
    "\n",
    "dam.to_csv(r'C:\\Users\\ASUS\\Desktop\\WHK\\practici\\ACLED_LOC\\2007\\Angola.csv')"
   ]
  },
  {
   "cell_type": "code",
   "execution_count": null,
   "id": "8cf10026",
   "metadata": {},
   "outputs": [],
   "source": []
  },
  {
   "cell_type": "code",
   "execution_count": 307,
   "id": "57023354",
   "metadata": {},
   "outputs": [],
   "source": [
    "da = dff[dff['country']=='Algeria']\n",
    "da2 = da[da['year']>=2007]\n",
    "\n"
   ]
  },
  {
   "cell_type": "code",
   "execution_count": 308,
   "id": "b25600ef",
   "metadata": {},
   "outputs": [],
   "source": [
    "dal = pd.read_csv('Algeria.csv')\n",
    "list_al = dal.location.unique()\n",
    "daal = da2[da2.location.isin(list_al)]\n",
    "daal.to_csv(r'C:\\Users\\ASUS\\Desktop\\WHK\\practici\\ACLED_LOC\\2007\\Algeria.csv')"
   ]
  },
  {
   "cell_type": "code",
   "execution_count": null,
   "id": "01d93196",
   "metadata": {},
   "outputs": [],
   "source": []
  },
  {
   "cell_type": "code",
   "execution_count": 309,
   "id": "dd03ad2c",
   "metadata": {},
   "outputs": [],
   "source": [
    "da = dff[dff['country']=='Benin']\n",
    "da2 = da[da['year']>=2007]\n"
   ]
  },
  {
   "cell_type": "code",
   "execution_count": 310,
   "id": "039d4842",
   "metadata": {},
   "outputs": [],
   "source": [
    "dab = pd.read_csv('Benin.csv')\n",
    "list_b = dab.location.unique()\n",
    "dabe = da2[da2.location.isin(list_b)]\n",
    "dabe.to_csv(r'C:\\Users\\ASUS\\Desktop\\WHK\\practici\\ACLED_LOC\\2007\\Benin.csv')"
   ]
  },
  {
   "cell_type": "code",
   "execution_count": null,
   "id": "55b4c819",
   "metadata": {},
   "outputs": [],
   "source": []
  },
  {
   "cell_type": "code",
   "execution_count": 311,
   "id": "ade8876d",
   "metadata": {},
   "outputs": [],
   "source": [
    "da = dff[dff['country']=='Burkina Faso']\n",
    "da2 = da[da['year']>=2007]\n"
   ]
  },
  {
   "cell_type": "code",
   "execution_count": 312,
   "id": "f80a7b06",
   "metadata": {},
   "outputs": [],
   "source": [
    "dabb = pd.read_csv('Burkina Faso.csv')\n",
    "list_bor = dabb.location.unique()\n",
    "mat_bor = da2[da2.location.isin(list_bor)]\n",
    "mat_bor.to_csv(r'C:\\Users\\ASUS\\Desktop\\WHK\\practici\\ACLED_LOC\\2007\\Burkina Faso.csv')"
   ]
  },
  {
   "cell_type": "code",
   "execution_count": null,
   "id": "51aee355",
   "metadata": {},
   "outputs": [],
   "source": []
  },
  {
   "cell_type": "code",
   "execution_count": 313,
   "id": "9fa50324",
   "metadata": {},
   "outputs": [],
   "source": [
    "da = dff[dff['country']=='Burundi']\n",
    "da2 = da[da['year']>=2007]\n"
   ]
  },
  {
   "cell_type": "code",
   "execution_count": 314,
   "id": "6d35adf3",
   "metadata": {},
   "outputs": [],
   "source": [
    "dabur = pd.read_csv('Burundi.csv')\n",
    "list_bour = dabur.location.unique()\n",
    "mat_bour = da2[da2.location.isin(list_bour)]\n",
    "mat_bour.to_csv(r'C:\\Users\\ASUS\\Desktop\\WHK\\practici\\ACLED_LOC\\2007\\Burundi.csv')"
   ]
  },
  {
   "cell_type": "code",
   "execution_count": null,
   "id": "907bcf06",
   "metadata": {},
   "outputs": [],
   "source": []
  },
  {
   "cell_type": "code",
   "execution_count": 315,
   "id": "aa35f9a4",
   "metadata": {},
   "outputs": [],
   "source": [
    "da = dff[dff['country']=='Cameroon']\n",
    "da2 = da[da['year']>=2007]\n",
    "\n"
   ]
  },
  {
   "cell_type": "code",
   "execution_count": 316,
   "id": "d52a5171",
   "metadata": {},
   "outputs": [],
   "source": [
    "dacam = pd.read_csv('Cameroon.csv')\n",
    "list_cam = dacam.location.unique()\n",
    "mat_cam = da2[da2.location.isin(list_cam)]\n",
    "mat_cam.to_csv(r'C:\\Users\\ASUS\\Desktop\\WHK\\practici\\ACLED_LOC\\2007\\Cameroon.csv')"
   ]
  },
  {
   "cell_type": "code",
   "execution_count": null,
   "id": "d348461c",
   "metadata": {},
   "outputs": [],
   "source": []
  },
  {
   "cell_type": "code",
   "execution_count": 317,
   "id": "550fdd8a",
   "metadata": {},
   "outputs": [],
   "source": [
    "da = dff[dff['country']=='Central African Republic']\n",
    "da2 = da[da['year']>=2007]\n"
   ]
  },
  {
   "cell_type": "code",
   "execution_count": 318,
   "id": "2c7097be",
   "metadata": {},
   "outputs": [],
   "source": [
    "daafc = pd.read_csv('Central_African_Republic.csv')\n",
    "list_afc = daafc.location.unique()\n",
    "mat_afc = da2[da2.location.isin(list_afc)]\n",
    "mat_afc.to_csv(r'C:\\Users\\ASUS\\Desktop\\WHK\\practici\\ACLED_LOC\\2007\\Central_African_Republic.csv')"
   ]
  },
  {
   "cell_type": "code",
   "execution_count": null,
   "id": "29008222",
   "metadata": {},
   "outputs": [],
   "source": []
  },
  {
   "cell_type": "code",
   "execution_count": 319,
   "id": "aa5025f8",
   "metadata": {},
   "outputs": [],
   "source": [
    "da = dff[dff['country']=='Chad']\n",
    "da2 = da[da['year']>=2007]\n"
   ]
  },
  {
   "cell_type": "code",
   "execution_count": 320,
   "id": "ea99ee77",
   "metadata": {},
   "outputs": [],
   "source": [
    "dach = pd.read_csv('Chad.csv')\n",
    "list_ach = dach.location.unique()\n",
    "mat_ach = da2[da2.location.isin(list_ach)]\n",
    "mat_ach.to_csv(r'C:\\Users\\ASUS\\Desktop\\WHK\\practici\\ACLED_LOC\\2007\\Chad.csv')"
   ]
  },
  {
   "cell_type": "code",
   "execution_count": null,
   "id": "76196383",
   "metadata": {},
   "outputs": [],
   "source": []
  },
  {
   "cell_type": "code",
   "execution_count": 321,
   "id": "ddf8899a",
   "metadata": {},
   "outputs": [],
   "source": [
    "da = dff[dff['country']=='Comoros']\n",
    "da2 = da[da['year']>=2007]\n",
    "\n"
   ]
  },
  {
   "cell_type": "code",
   "execution_count": 322,
   "id": "93d48520",
   "metadata": {},
   "outputs": [],
   "source": [
    "dacom = pd.read_csv('Comoros.csv')\n",
    "list_com = dacom.location.unique()\n",
    "mat_com = da2[da2.location.isin(list_com)]\n",
    "mat_com.to_csv(r'C:\\Users\\ASUS\\Desktop\\WHK\\practici\\ACLED_LOC\\2007\\Comoros.csv')"
   ]
  },
  {
   "cell_type": "code",
   "execution_count": null,
   "id": "74246cf9",
   "metadata": {},
   "outputs": [],
   "source": []
  },
  {
   "cell_type": "code",
   "execution_count": 323,
   "id": "c6373403",
   "metadata": {},
   "outputs": [],
   "source": [
    "da = dff[dff['country']=='Djibouti']\n",
    "da2 = da[da['year']>=2007]\n"
   ]
  },
  {
   "cell_type": "code",
   "execution_count": 324,
   "id": "4b94b9aa",
   "metadata": {},
   "outputs": [],
   "source": [
    "dadji = pd.read_csv('Djibouti.csv')\n",
    "list_dj = dadji.location.unique()\n",
    "mat_dj = da2[da2.location.isin(list_dj)]\n",
    "mat_dj.to_csv(r'C:\\Users\\ASUS\\Desktop\\WHK\\practici\\ACLED_LOC\\2007\\Djibouti.csv')"
   ]
  },
  {
   "cell_type": "code",
   "execution_count": null,
   "id": "eead231c",
   "metadata": {},
   "outputs": [],
   "source": []
  },
  {
   "cell_type": "code",
   "execution_count": 325,
   "id": "e3e40b27",
   "metadata": {},
   "outputs": [],
   "source": [
    "da = dff[dff['country']=='Eritrea']\n",
    "da2 = da[da['year']>=2007]\n"
   ]
  },
  {
   "cell_type": "code",
   "execution_count": 326,
   "id": "1cf0826c",
   "metadata": {},
   "outputs": [],
   "source": [
    "dader = pd.read_csv('Eritrea.csv')\n",
    "list_der = dader.location.unique()\n",
    "mat_der = da2[da2.location.isin(list_der)]\n",
    "mat_der.to_csv(r'C:\\Users\\ASUS\\Desktop\\WHK\\practici\\ACLED_LOC\\2007\\Eritrea.csv')"
   ]
  },
  {
   "cell_type": "code",
   "execution_count": null,
   "id": "c1bcd24c",
   "metadata": {},
   "outputs": [],
   "source": []
  },
  {
   "cell_type": "code",
   "execution_count": 327,
   "id": "0af782ff",
   "metadata": {},
   "outputs": [],
   "source": [
    "da = dff[dff['country']=='Ethiopia']\n",
    "da2 = da[da['year']>=2007]\n"
   ]
  },
  {
   "cell_type": "code",
   "execution_count": 328,
   "id": "fb615b4e",
   "metadata": {},
   "outputs": [],
   "source": [
    "dadeth = pd.read_csv('Ethiopia.csv')\n",
    "list_deth = dadeth.location.unique()\n",
    "mat_deth = da2[da2.location.isin(list_deth)]\n",
    "mat_deth.to_csv(r'C:\\Users\\ASUS\\Desktop\\WHK\\practici\\ACLED_LOC\\2007\\Ethiopia.csv')"
   ]
  },
  {
   "cell_type": "code",
   "execution_count": null,
   "id": "42d3b47c",
   "metadata": {},
   "outputs": [],
   "source": []
  },
  {
   "cell_type": "code",
   "execution_count": 329,
   "id": "856ab410",
   "metadata": {},
   "outputs": [],
   "source": [
    "da = dff[dff['country']=='Gambia']\n",
    "da2 = da[da['year']>=2007]\n"
   ]
  },
  {
   "cell_type": "code",
   "execution_count": 330,
   "id": "9250c332",
   "metadata": {},
   "outputs": [],
   "source": [
    "dadga = pd.read_csv('Gambia.csv')\n",
    "list_dga = dadga.location.unique()\n",
    "mat_dga = da2[da2.location.isin(list_dga)]\n",
    "mat_dga.to_csv(r'C:\\Users\\ASUS\\Desktop\\WHK\\practici\\ACLED_LOC\\2007\\Gambia.csv')"
   ]
  },
  {
   "cell_type": "code",
   "execution_count": null,
   "id": "ee282ae9",
   "metadata": {},
   "outputs": [],
   "source": []
  },
  {
   "cell_type": "code",
   "execution_count": 331,
   "id": "a57e8c54",
   "metadata": {},
   "outputs": [],
   "source": [
    "da = dff[dff['country']=='Ghana']\n",
    "da2 = da[da['year']>=2007]\n"
   ]
  },
  {
   "cell_type": "code",
   "execution_count": 332,
   "id": "2f8e8237",
   "metadata": {},
   "outputs": [],
   "source": [
    "dagh = pd.read_csv('Ghana.csv')\n",
    "list_dgh = dagh.location.unique()\n",
    "mat_dgh = da2[da2.location.isin(list_dgh)]\n",
    "mat_dgh.to_csv(r'C:\\Users\\ASUS\\Desktop\\WHK\\practici\\ACLED_LOC\\2007\\Ghana.csv')"
   ]
  },
  {
   "cell_type": "code",
   "execution_count": null,
   "id": "d2864bf4",
   "metadata": {},
   "outputs": [],
   "source": []
  },
  {
   "cell_type": "code",
   "execution_count": 340,
   "id": "abb0c3da",
   "metadata": {},
   "outputs": [],
   "source": [
    "da = dff[dff['country']=='Guinea']\n",
    "da2 = da[da['year']>=2007]\n"
   ]
  },
  {
   "cell_type": "code",
   "execution_count": 341,
   "id": "2f14a943",
   "metadata": {},
   "outputs": [],
   "source": [
    "dagu = pd.read_csv('Guinea.csv')\n",
    "list_dgu = dagu.location.unique()\n",
    "mat_dgu = da2[da2.location.isin(list_dgu)]\n",
    "mat_dgu.to_csv(r'C:\\Users\\ASUS\\Desktop\\WHK\\practici\\ACLED_LOC\\2007\\Guinea.csv')"
   ]
  },
  {
   "cell_type": "code",
   "execution_count": null,
   "id": "67121476",
   "metadata": {},
   "outputs": [],
   "source": []
  },
  {
   "cell_type": "code",
   "execution_count": 342,
   "id": "3b254d68",
   "metadata": {},
   "outputs": [],
   "source": [
    "da = dff[dff['country']=='Guinea-Bissau']\n",
    "da2 = da[da['year']>=2007]\n"
   ]
  },
  {
   "cell_type": "code",
   "execution_count": 343,
   "id": "f3cb6a96",
   "metadata": {},
   "outputs": [],
   "source": [
    "dagub = pd.read_csv('Guinea-Bissau.csv')\n",
    "list_dgub = dagub.location.unique()\n",
    "mat_dgub = da2[da2.location.isin(list_dgub)]\n",
    "mat_dgub.to_csv(r'C:\\Users\\ASUS\\Desktop\\WHK\\practici\\ACLED_LOC\\2007\\Guinea-Bissau.csv')"
   ]
  },
  {
   "cell_type": "code",
   "execution_count": null,
   "id": "4bbcbd55",
   "metadata": {},
   "outputs": [],
   "source": []
  },
  {
   "cell_type": "code",
   "execution_count": 344,
   "id": "9936cbcc",
   "metadata": {},
   "outputs": [],
   "source": [
    "da = dff[dff['country']=='Kenya']\n",
    "da2 = da[da['year']>=2007]\n"
   ]
  },
  {
   "cell_type": "code",
   "execution_count": 345,
   "id": "36c56106",
   "metadata": {},
   "outputs": [],
   "source": [
    "daken = pd.read_csv('Kenya.csv')\n",
    "list_daken = daken.location.unique()\n",
    "mat_dake = da2[da2.location.isin(list_daken)]\n",
    "mat_dake.to_csv(r'C:\\Users\\ASUS\\Desktop\\WHK\\practici\\ACLED_LOC\\2007\\Kenya.csv')"
   ]
  },
  {
   "cell_type": "code",
   "execution_count": null,
   "id": "e9ef7e57",
   "metadata": {},
   "outputs": [],
   "source": []
  },
  {
   "cell_type": "code",
   "execution_count": 346,
   "id": "1b00e5d8",
   "metadata": {},
   "outputs": [],
   "source": [
    "da = dff[dff['country']=='Lesotho']\n",
    "da2 = da[da['year']>=2007]\n"
   ]
  },
  {
   "cell_type": "code",
   "execution_count": 347,
   "id": "01252940",
   "metadata": {},
   "outputs": [],
   "source": [
    "dales = pd.read_csv('Lesotho.csv')\n",
    "list_les= dales.location.unique()\n",
    "mat_dales = da2[da2.location.isin(list_les)]\n",
    "mat_dales.to_csv(r'C:\\Users\\ASUS\\Desktop\\WHK\\practici\\ACLED_LOC\\2007\\Lesotho.csv')"
   ]
  },
  {
   "cell_type": "code",
   "execution_count": null,
   "id": "680152e7",
   "metadata": {},
   "outputs": [],
   "source": []
  },
  {
   "cell_type": "code",
   "execution_count": 348,
   "id": "40b85f5f",
   "metadata": {},
   "outputs": [],
   "source": [
    "da = dff[dff['country']=='Liberia']\n",
    "da2 = da[da['year']>=2007]\n"
   ]
  },
  {
   "cell_type": "code",
   "execution_count": 349,
   "id": "c7583a14",
   "metadata": {},
   "outputs": [],
   "source": [
    "dalib = pd.read_csv('Liberia.csv')\n",
    "list_lib= dalib.location.unique()\n",
    "mat_dalib = da2[da2.location.isin(list_lib)]\n",
    "mat_dalib.to_csv(r'C:\\Users\\ASUS\\Desktop\\WHK\\practici\\ACLED_LOC\\2007\\Liberia.csv')"
   ]
  },
  {
   "cell_type": "code",
   "execution_count": null,
   "id": "4dd1eabd",
   "metadata": {},
   "outputs": [],
   "source": []
  },
  {
   "cell_type": "code",
   "execution_count": 350,
   "id": "d65608a9",
   "metadata": {},
   "outputs": [],
   "source": [
    "da = dff[dff['country']=='Mauritania']\n",
    "da2 = da[da['year']>=2007]\n"
   ]
  },
  {
   "cell_type": "code",
   "execution_count": 351,
   "id": "805320e6",
   "metadata": {},
   "outputs": [],
   "source": [
    "damu = pd.read_csv('Mauritania.csv')\n",
    "list_mau= damu.location.unique()\n",
    "mat_mau = da2[da2.location.isin(list_mau)]\n",
    "\n",
    "mat_mau.to_csv(r'C:\\Users\\ASUS\\Desktop\\WHK\\practici\\ACLED_LOC\\2007\\Mauritania.csv')"
   ]
  },
  {
   "cell_type": "code",
   "execution_count": null,
   "id": "62726e46",
   "metadata": {},
   "outputs": [],
   "source": []
  },
  {
   "cell_type": "code",
   "execution_count": 352,
   "id": "70eaddab",
   "metadata": {},
   "outputs": [],
   "source": [
    "da = dff[dff['country']=='Morocco']\n",
    "da2 = da[da['year']>=2007]\n",
    "\n"
   ]
  },
  {
   "cell_type": "code",
   "execution_count": 353,
   "id": "91c49a19",
   "metadata": {},
   "outputs": [],
   "source": [
    "damo = pd.read_csv('Morocco.csv')\n",
    "list_mor= damo.location.unique()\n",
    "mat_mor= da2[da2.location.isin(list_mor)]\n",
    "mat_mor.to_csv(r'C:\\Users\\ASUS\\Desktop\\WHK\\practici\\ACLED_LOC\\2007\\Morocco.csv')"
   ]
  },
  {
   "cell_type": "code",
   "execution_count": null,
   "id": "2c6e5194",
   "metadata": {},
   "outputs": [],
   "source": []
  },
  {
   "cell_type": "code",
   "execution_count": 354,
   "id": "979d3237",
   "metadata": {},
   "outputs": [],
   "source": [
    "da = dff[dff['country']=='Mozambique']\n",
    "da2 = da[da['year']>=2007]\n"
   ]
  },
  {
   "cell_type": "code",
   "execution_count": 355,
   "id": "cbc4d452",
   "metadata": {},
   "outputs": [],
   "source": [
    "damoz = pd.read_csv('Mozambique.csv')\n",
    "list_moz= damoz.location.unique()\n",
    "mat_moz= da2[da2.location.isin(list_moz)]\n",
    "mat_moz.to_csv(r'C:\\Users\\ASUS\\Desktop\\WHK\\practici\\ACLED_LOC\\2007\\Mozambique.csv')"
   ]
  },
  {
   "cell_type": "code",
   "execution_count": null,
   "id": "fcf2011f",
   "metadata": {},
   "outputs": [],
   "source": []
  },
  {
   "cell_type": "code",
   "execution_count": 356,
   "id": "a9346458",
   "metadata": {},
   "outputs": [],
   "source": [
    "da = dff[dff['country']=='Namibia']\n",
    "da2 = da[da['year']>=2007]\n"
   ]
  },
  {
   "cell_type": "code",
   "execution_count": 357,
   "id": "5ce6d817",
   "metadata": {},
   "outputs": [],
   "source": [
    "dnam = pd.read_csv('Namibia.csv')\n",
    "list_dnam= dnam.location.unique()\n",
    "mat_nam= da2[da2.location.isin(list_dnam)]\n",
    "mat_nam.to_csv(r'C:\\Users\\ASUS\\Desktop\\WHK\\practici\\ACLED_LOC\\2007\\Namibia.csv')"
   ]
  },
  {
   "cell_type": "code",
   "execution_count": null,
   "id": "d3a7c052",
   "metadata": {},
   "outputs": [],
   "source": []
  },
  {
   "cell_type": "code",
   "execution_count": 358,
   "id": "c18fa75e",
   "metadata": {},
   "outputs": [],
   "source": [
    "da = dff[dff['country']=='Niger']\n",
    "da2 = da[da['year']>=2007]\n"
   ]
  },
  {
   "cell_type": "code",
   "execution_count": 359,
   "id": "f9e46de4",
   "metadata": {},
   "outputs": [],
   "source": [
    "dnig = pd.read_csv('Niger.csv')\n",
    "list_nig= dnig.location.unique()\n",
    "mat_nig= da2[da2.location.isin(list_nig)]\n",
    "mat_nig.to_csv(r'C:\\Users\\ASUS\\Desktop\\WHK\\practici\\ACLED_LOC\\2007\\Niger.csv')"
   ]
  },
  {
   "cell_type": "code",
   "execution_count": null,
   "id": "9303453a",
   "metadata": {},
   "outputs": [],
   "source": []
  },
  {
   "cell_type": "code",
   "execution_count": 360,
   "id": "9d596b97",
   "metadata": {},
   "outputs": [],
   "source": [
    "da = dff[dff['country']=='Nigeria']\n",
    "da2 = da[da['year']>=2007]\n",
    "\n"
   ]
  },
  {
   "cell_type": "code",
   "execution_count": 361,
   "id": "51187836",
   "metadata": {},
   "outputs": [],
   "source": [
    "dnige = pd.read_csv('Nigeria.csv')\n",
    "list_nige= dnige.location.unique()\n",
    "mat_nige= da2[da2.location.isin(list_nige)]\n",
    "mat_nige.to_csv(r'C:\\Users\\ASUS\\Desktop\\WHK\\practici\\ACLED_LOC\\2007\\Nigeria.csv')"
   ]
  },
  {
   "cell_type": "code",
   "execution_count": null,
   "id": "0d840186",
   "metadata": {},
   "outputs": [],
   "source": []
  },
  {
   "cell_type": "code",
   "execution_count": 364,
   "id": "4a054bb5",
   "metadata": {},
   "outputs": [],
   "source": [
    "da = dff[dff['country']=='Rwanda']\n",
    "da2 = da[da['year']>=2007]\n",
    "\n"
   ]
  },
  {
   "cell_type": "code",
   "execution_count": 365,
   "id": "db31757d",
   "metadata": {},
   "outputs": [],
   "source": [
    "drwa = pd.read_csv('Rwanda.csv')\n",
    "list_rwa= drwa.location.unique()\n",
    "mat_rwa= da2[da2.location.isin(list_rwa)]\n",
    "mat_rwa.to_csv(r'C:\\Users\\ASUS\\Desktop\\WHK\\practici\\ACLED_LOC\\2007\\Rwanda.csv')"
   ]
  },
  {
   "cell_type": "code",
   "execution_count": null,
   "id": "82e65ffb",
   "metadata": {},
   "outputs": [],
   "source": []
  },
  {
   "cell_type": "code",
   "execution_count": 366,
   "id": "d33b2538",
   "metadata": {},
   "outputs": [],
   "source": [
    "da = dff[dff['country']=='Senegal']\n",
    "da2 = da[da['year']>=2007]\n"
   ]
  },
  {
   "cell_type": "code",
   "execution_count": 367,
   "id": "71490628",
   "metadata": {},
   "outputs": [],
   "source": [
    "dsen = pd.read_csv('Senegal.csv')\n",
    "list_sen= dsen.location.unique()\n",
    "mat_sen= da2[da2.location.isin(list_sen)]\n",
    "mat_sen.to_csv(r'C:\\Users\\ASUS\\Desktop\\WHK\\practici\\ACLED_LOC\\2007\\Senegal.csv')"
   ]
  },
  {
   "cell_type": "code",
   "execution_count": null,
   "id": "13b8efb4",
   "metadata": {},
   "outputs": [],
   "source": []
  },
  {
   "cell_type": "code",
   "execution_count": 368,
   "id": "b93dc4c9",
   "metadata": {},
   "outputs": [],
   "source": [
    "da = dff[dff['country']=='Sierra Leone']\n",
    "da2 = da[da['year']>=2007]\n"
   ]
  },
  {
   "cell_type": "code",
   "execution_count": 369,
   "id": "73e870b6",
   "metadata": {},
   "outputs": [],
   "source": [
    "dsie = pd.read_csv('Sierra Leone.csv')\n",
    "list_sie= dsie.location.unique()\n",
    "mat_sie= da2[da2.location.isin(list_sie)]\n",
    "mat_sie.to_csv(r'C:\\Users\\ASUS\\Desktop\\WHK\\practici\\ACLED_LOC\\2007\\Sierra Leone.csv')"
   ]
  },
  {
   "cell_type": "code",
   "execution_count": null,
   "id": "c9b1172b",
   "metadata": {},
   "outputs": [],
   "source": []
  },
  {
   "cell_type": "code",
   "execution_count": 376,
   "id": "4fd8a202",
   "metadata": {},
   "outputs": [],
   "source": [
    "da = dff[dff['country']=='Mali']\n",
    "da2 = da[da['year']>=2007]\n"
   ]
  },
  {
   "cell_type": "code",
   "execution_count": 378,
   "id": "0e1e0736",
   "metadata": {},
   "outputs": [],
   "source": [
    "dmal = pd.read_csv('Mali.csv')\n",
    "list_mal= dmal.location.unique()\n",
    "mat_mal= da2[da2.location.isin(list_mal)]\n",
    "\n",
    "#mat_mal.to_csv(r'C:\\Users\\ASUS\\Desktop\\WHK\\practici\\ACLED_LOC\\2007\\Mali.csv')"
   ]
  },
  {
   "cell_type": "code",
   "execution_count": null,
   "id": "da786387",
   "metadata": {},
   "outputs": [],
   "source": []
  },
  {
   "cell_type": "code",
   "execution_count": 379,
   "id": "edda5a1d",
   "metadata": {},
   "outputs": [],
   "source": [
    "da = dff[dff['country']=='Somalia']\n",
    "da2 = da[da['year']>=2007]\n"
   ]
  },
  {
   "cell_type": "code",
   "execution_count": 380,
   "id": "db38a0ad",
   "metadata": {},
   "outputs": [],
   "source": [
    "dsom = pd.read_csv('Somalia.csv')\n",
    "list_som= dsom.location.unique()\n",
    "mat_som= da2[da2.location.isin(list_som)]\n",
    "mat_som.to_csv(r'C:\\Users\\ASUS\\Desktop\\WHK\\practici\\ACLED_LOC\\2007\\Somalia.csv')"
   ]
  },
  {
   "cell_type": "code",
   "execution_count": null,
   "id": "3da98136",
   "metadata": {},
   "outputs": [],
   "source": []
  },
  {
   "cell_type": "code",
   "execution_count": 381,
   "id": "d0ed7f96",
   "metadata": {},
   "outputs": [],
   "source": [
    "da = dff[dff['country']=='South Africa']\n",
    "da2 = da[da['year']>=2007]\n",
    "\n"
   ]
  },
  {
   "cell_type": "code",
   "execution_count": 382,
   "id": "a3fc83c4",
   "metadata": {},
   "outputs": [],
   "source": [
    "dsaf = pd.read_csv('South Africa.csv')\n",
    "list_saf= dsaf.location.unique()\n",
    "mat_saf= da2[da2.location.isin(list_saf)]\n",
    "mat_saf.to_csv(r'C:\\Users\\ASUS\\Desktop\\WHK\\practici\\ACLED_LOC\\2007\\South Africa.csv')"
   ]
  },
  {
   "cell_type": "code",
   "execution_count": null,
   "id": "43d3856b",
   "metadata": {},
   "outputs": [],
   "source": []
  },
  {
   "cell_type": "code",
   "execution_count": 383,
   "id": "30528c34",
   "metadata": {},
   "outputs": [],
   "source": [
    "da = dff[dff['country']=='South Sudan']\n",
    "da2 = da[da['year']>=2007]\n"
   ]
  },
  {
   "cell_type": "code",
   "execution_count": 384,
   "id": "0085cc70",
   "metadata": {},
   "outputs": [],
   "source": [
    "dssud = pd.read_csv('South_Sudan.csv')\n",
    "list_ssud= dssud.location.unique()\n",
    "mat_sssud= da2[da2.location.isin(list_ssud)]\n",
    "mat_sssud.to_csv(r'C:\\Users\\ASUS\\Desktop\\WHK\\practici\\ACLED_LOC\\2007\\South_Sudan.csv')"
   ]
  },
  {
   "cell_type": "code",
   "execution_count": null,
   "id": "f89771f1",
   "metadata": {},
   "outputs": [],
   "source": []
  },
  {
   "cell_type": "code",
   "execution_count": 385,
   "id": "1dd25c6f",
   "metadata": {},
   "outputs": [],
   "source": [
    "da = dff[dff['country']=='Sudan']\n",
    "da2 = da[da['year']>=2007]\n"
   ]
  },
  {
   "cell_type": "code",
   "execution_count": 386,
   "id": "b74a0b3e",
   "metadata": {},
   "outputs": [],
   "source": [
    "dsud = pd.read_csv('Sudan.csv')\n",
    "list_sud= dsud.location.unique()\n",
    "mat_s= da2[da2.location.isin(list_sud)]\n",
    "mat_s.to_csv(r'C:\\Users\\ASUS\\Desktop\\WHK\\practici\\ACLED_LOC\\2007\\Sudan.csv')"
   ]
  },
  {
   "cell_type": "code",
   "execution_count": null,
   "id": "6cbcdfad",
   "metadata": {},
   "outputs": [],
   "source": []
  },
  {
   "cell_type": "code",
   "execution_count": 387,
   "id": "5c6fb4ed",
   "metadata": {},
   "outputs": [],
   "source": [
    "da = dff[dff['country']=='Tanzania']\n",
    "da2 = da[da['year']>=2007]\n",
    "\n"
   ]
  },
  {
   "cell_type": "code",
   "execution_count": 388,
   "id": "e661339b",
   "metadata": {},
   "outputs": [],
   "source": [
    "dtan = pd.read_csv('Tanzania.csv')\n",
    "list_tan= dtan.location.unique()\n",
    "mat_tan= da2[da2.location.isin(list_tan)]\n",
    "mat_tan.to_csv(r'C:\\Users\\ASUS\\Desktop\\WHK\\practici\\ACLED_LOC\\2007\\Tanzania.csv')"
   ]
  },
  {
   "cell_type": "code",
   "execution_count": null,
   "id": "bfc6ad28",
   "metadata": {},
   "outputs": [],
   "source": []
  },
  {
   "cell_type": "code",
   "execution_count": 389,
   "id": "df2d0e92",
   "metadata": {},
   "outputs": [],
   "source": [
    "da = dff[dff['country']=='Togo']\n",
    "da2 = da[da['year']>=2007]\n"
   ]
  },
  {
   "cell_type": "code",
   "execution_count": 390,
   "id": "8241c9ba",
   "metadata": {},
   "outputs": [],
   "source": [
    "dtog = pd.read_csv('Togo.csv')\n",
    "list_tog= dtog.location.unique()\n",
    "mat_tog= da2[da2.location.isin(list_tog)]\n",
    "mat_tog.to_csv(r'C:\\Users\\ASUS\\Desktop\\WHK\\practici\\ACLED_LOC\\2007\\Togo.csv')"
   ]
  },
  {
   "cell_type": "code",
   "execution_count": null,
   "id": "0edf2699",
   "metadata": {},
   "outputs": [],
   "source": []
  },
  {
   "cell_type": "code",
   "execution_count": 391,
   "id": "66b9ea75",
   "metadata": {},
   "outputs": [],
   "source": [
    "da = dff[dff['country']=='Tunisia']\n",
    "da2 = da[da['year']>=2007]\n"
   ]
  },
  {
   "cell_type": "code",
   "execution_count": 392,
   "id": "ca5cf979",
   "metadata": {},
   "outputs": [],
   "source": [
    "dtun = pd.read_csv('Tunisia.csv')\n",
    "list_tun= dtun.location.unique()\n",
    "mat_tun= da2[da2.location.isin(list_tun)]\n",
    "mat_tun.to_csv(r'C:\\Users\\ASUS\\Desktop\\WHK\\practici\\ACLED_LOC\\2007\\Tunisia.csv')"
   ]
  },
  {
   "cell_type": "code",
   "execution_count": null,
   "id": "4d3387b6",
   "metadata": {},
   "outputs": [],
   "source": []
  },
  {
   "cell_type": "code",
   "execution_count": 393,
   "id": "18f3e660",
   "metadata": {},
   "outputs": [],
   "source": [
    "da = dff[dff['country']=='Uganda']\n",
    "da2 = da[da['year']>=2007]\n"
   ]
  },
  {
   "cell_type": "code",
   "execution_count": 394,
   "id": "7cc21bfe",
   "metadata": {},
   "outputs": [],
   "source": [
    "dug = pd.read_csv('Uganda.csv')\n",
    "list_ug= dug.location.unique()\n",
    "mat_ug= da2[da2.location.isin(list_ug)]\n",
    "mat_ug.to_csv(r'C:\\Users\\ASUS\\Desktop\\WHK\\practici\\ACLED_LOC\\2007\\Uganda.csv')"
   ]
  },
  {
   "cell_type": "code",
   "execution_count": null,
   "id": "bedc48f4",
   "metadata": {},
   "outputs": [],
   "source": []
  },
  {
   "cell_type": "code",
   "execution_count": 395,
   "id": "d08a9a6c",
   "metadata": {},
   "outputs": [],
   "source": [
    "da = dff[dff['country']=='Zambia']\n",
    "da2 = da[da['year']>=2007]\n",
    "\n"
   ]
  },
  {
   "cell_type": "code",
   "execution_count": 396,
   "id": "8d42f4b5",
   "metadata": {},
   "outputs": [],
   "source": [
    "dzam = pd.read_csv('Zambia.csv')\n",
    "list_zam= dzam.location.unique()\n",
    "mat_zam= da2[da2.location.isin(list_zam)]\n",
    "mat_zam.to_csv(r'C:\\Users\\ASUS\\Desktop\\WHK\\practici\\ACLED_LOC\\2007\\Zambia.csv')"
   ]
  },
  {
   "cell_type": "code",
   "execution_count": null,
   "id": "45f6b82c",
   "metadata": {},
   "outputs": [],
   "source": []
  },
  {
   "cell_type": "code",
   "execution_count": null,
   "id": "2b7d54b8",
   "metadata": {},
   "outputs": [],
   "source": []
  },
  {
   "cell_type": "code",
   "execution_count": null,
   "id": "3289119a",
   "metadata": {},
   "outputs": [],
   "source": []
  },
  {
   "cell_type": "code",
   "execution_count": null,
   "id": "7768ec9d",
   "metadata": {},
   "outputs": [],
   "source": []
  },
  {
   "cell_type": "code",
   "execution_count": null,
   "id": "53216c9a",
   "metadata": {},
   "outputs": [],
   "source": []
  },
  {
   "cell_type": "code",
   "execution_count": null,
   "id": "40439b84",
   "metadata": {},
   "outputs": [],
   "source": []
  },
  {
   "cell_type": "code",
   "execution_count": null,
   "id": "47058bcf",
   "metadata": {},
   "outputs": [],
   "source": []
  },
  {
   "cell_type": "code",
   "execution_count": null,
   "id": "418f0689",
   "metadata": {},
   "outputs": [],
   "source": []
  }
 ],
 "metadata": {
  "kernelspec": {
   "display_name": "Python 3 (ipykernel)",
   "language": "python",
   "name": "python3"
  },
  "language_info": {
   "codemirror_mode": {
    "name": "ipython",
    "version": 3
   },
   "file_extension": ".py",
   "mimetype": "text/x-python",
   "name": "python",
   "nbconvert_exporter": "python",
   "pygments_lexer": "ipython3",
   "version": "3.10.4"
  }
 },
 "nbformat": 4,
 "nbformat_minor": 5
}

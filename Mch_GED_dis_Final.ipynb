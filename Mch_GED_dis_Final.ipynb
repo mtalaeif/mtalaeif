{
 "cells": [
  {
   "cell_type": "code",
   "execution_count": 1,
   "metadata": {},
   "outputs": [],
   "source": [
    "import pandas as pd\n",
    "df = pd.read_csv('pend-gdis-1960-2018-disasterlocations.csv')\n",
    "\n",
    "Country_list=['Algeria','Angola','Benin','Botswana','Burkina Faso','Burundi','Cameroon','Central African Republic','Chad',\n",
    "            'Comoros','Congo','DR Congo (Zaire)','Djibouti','Eritrea','Ethiopia','Gambia','Ghana','Guinea',\n",
    "            'Guinea-Bissau','Ivory Coast','Kenya','Kingdom of eSwatini (Swaziland)','Lesotho','Liberia','Libya','Madagascar (Malagasy)','Algeria',\n",
    "            'Mauritania','Morocco','Mozambique','Namibia','Niger','Nigeria','Rwanda','Senegal','Sierra Leone',\n",
    "            'Mali','Somalia','South Africa','South Sudan','Sudan','Tanzania','Togo','Tunisia','Uganda','Zambia','Zimbabwe (Rhodesia)']"
   ]
  },
  {
   "cell_type": "code",
   "execution_count": 5,
   "metadata": {},
   "outputs": [
    {
     "data": {
      "text/html": [
       "<div>\n",
       "<style scoped>\n",
       "    .dataframe tbody tr th:only-of-type {\n",
       "        vertical-align: middle;\n",
       "    }\n",
       "\n",
       "    .dataframe tbody tr th {\n",
       "        vertical-align: top;\n",
       "    }\n",
       "\n",
       "    .dataframe thead th {\n",
       "        text-align: right;\n",
       "    }\n",
       "</style>\n",
       "<table border=\"1\" class=\"dataframe\">\n",
       "  <thead>\n",
       "    <tr style=\"text-align: right;\">\n",
       "      <th></th>\n",
       "      <th>id</th>\n",
       "      <th>country</th>\n",
       "      <th>iso3</th>\n",
       "      <th>gwno</th>\n",
       "      <th>year</th>\n",
       "      <th>geo_id</th>\n",
       "      <th>geolocation</th>\n",
       "      <th>level</th>\n",
       "      <th>adm1</th>\n",
       "      <th>adm2</th>\n",
       "      <th>adm3</th>\n",
       "      <th>location</th>\n",
       "      <th>historical</th>\n",
       "      <th>hist_country</th>\n",
       "      <th>disastertype</th>\n",
       "      <th>disasterno</th>\n",
       "      <th>latitude</th>\n",
       "      <th>longitude</th>\n",
       "    </tr>\n",
       "  </thead>\n",
       "  <tbody>\n",
       "    <tr>\n",
       "      <th>2</th>\n",
       "      <td>175</td>\n",
       "      <td>Angola</td>\n",
       "      <td>AGO</td>\n",
       "      <td>540.0</td>\n",
       "      <td>2001</td>\n",
       "      <td>760</td>\n",
       "      <td>Onjiva</td>\n",
       "      <td>3</td>\n",
       "      <td>Cunene</td>\n",
       "      <td>Cuanhama</td>\n",
       "      <td>Onjiva</td>\n",
       "      <td>Onjiva</td>\n",
       "      <td>0</td>\n",
       "      <td>NaN</td>\n",
       "      <td>flood</td>\n",
       "      <td>2001-0146</td>\n",
       "      <td>-17.093484</td>\n",
       "      <td>15.665758</td>\n",
       "    </tr>\n",
       "    <tr>\n",
       "      <th>3</th>\n",
       "      <td>187</td>\n",
       "      <td>Angola</td>\n",
       "      <td>AGO</td>\n",
       "      <td>540.0</td>\n",
       "      <td>2009</td>\n",
       "      <td>710</td>\n",
       "      <td>Evale</td>\n",
       "      <td>3</td>\n",
       "      <td>Cunene</td>\n",
       "      <td>Cuanhama</td>\n",
       "      <td>Evale</td>\n",
       "      <td>Evale</td>\n",
       "      <td>0</td>\n",
       "      <td>NaN</td>\n",
       "      <td>flood</td>\n",
       "      <td>2009-0092</td>\n",
       "      <td>-16.531533</td>\n",
       "      <td>15.773987</td>\n",
       "    </tr>\n",
       "    <tr>\n",
       "      <th>4</th>\n",
       "      <td>187</td>\n",
       "      <td>Angola</td>\n",
       "      <td>AGO</td>\n",
       "      <td>540.0</td>\n",
       "      <td>2009</td>\n",
       "      <td>749</td>\n",
       "      <td>Mupa</td>\n",
       "      <td>3</td>\n",
       "      <td>Cunene</td>\n",
       "      <td>Cuvelai</td>\n",
       "      <td>Mupa</td>\n",
       "      <td>Mupa</td>\n",
       "      <td>0</td>\n",
       "      <td>NaN</td>\n",
       "      <td>flood</td>\n",
       "      <td>2009-0092</td>\n",
       "      <td>-16.200065</td>\n",
       "      <td>15.844189</td>\n",
       "    </tr>\n",
       "    <tr>\n",
       "      <th>5</th>\n",
       "      <td>187</td>\n",
       "      <td>Angola</td>\n",
       "      <td>AGO</td>\n",
       "      <td>540.0</td>\n",
       "      <td>2009</td>\n",
       "      <td>761</td>\n",
       "      <td>Onjiva</td>\n",
       "      <td>3</td>\n",
       "      <td>Cunene</td>\n",
       "      <td>Cuanhama</td>\n",
       "      <td>Onjiva</td>\n",
       "      <td>Onjiva</td>\n",
       "      <td>0</td>\n",
       "      <td>NaN</td>\n",
       "      <td>flood</td>\n",
       "      <td>2009-0092</td>\n",
       "      <td>-17.093484</td>\n",
       "      <td>15.665758</td>\n",
       "    </tr>\n",
       "    <tr>\n",
       "      <th>6</th>\n",
       "      <td>189</td>\n",
       "      <td>Angola</td>\n",
       "      <td>AGO</td>\n",
       "      <td>540.0</td>\n",
       "      <td>2010</td>\n",
       "      <td>711</td>\n",
       "      <td>Evale</td>\n",
       "      <td>3</td>\n",
       "      <td>Cunene</td>\n",
       "      <td>Cuanhama</td>\n",
       "      <td>Evale</td>\n",
       "      <td>Evale</td>\n",
       "      <td>0</td>\n",
       "      <td>NaN</td>\n",
       "      <td>flood</td>\n",
       "      <td>2010-0105</td>\n",
       "      <td>-16.531533</td>\n",
       "      <td>15.773987</td>\n",
       "    </tr>\n",
       "    <tr>\n",
       "      <th>...</th>\n",
       "      <td>...</td>\n",
       "      <td>...</td>\n",
       "      <td>...</td>\n",
       "      <td>...</td>\n",
       "      <td>...</td>\n",
       "      <td>...</td>\n",
       "      <td>...</td>\n",
       "      <td>...</td>\n",
       "      <td>...</td>\n",
       "      <td>...</td>\n",
       "      <td>...</td>\n",
       "      <td>...</td>\n",
       "      <td>...</td>\n",
       "      <td>...</td>\n",
       "      <td>...</td>\n",
       "      <td>...</td>\n",
       "      <td>...</td>\n",
       "      <td>...</td>\n",
       "    </tr>\n",
       "    <tr>\n",
       "      <th>39941</th>\n",
       "      <td>05-821</td>\n",
       "      <td>South Sudan</td>\n",
       "      <td>SUD</td>\n",
       "      <td>625.0</td>\n",
       "      <td>2009</td>\n",
       "      <td>45246</td>\n",
       "      <td>Warab</td>\n",
       "      <td>2</td>\n",
       "      <td>Warap</td>\n",
       "      <td>Warab</td>\n",
       "      <td>NaN</td>\n",
       "      <td>Warab provinces</td>\n",
       "      <td>1</td>\n",
       "      <td>Sudan</td>\n",
       "      <td>drought</td>\n",
       "      <td>2009-9633</td>\n",
       "      <td>8.167473</td>\n",
       "      <td>28.696650</td>\n",
       "    </tr>\n",
       "    <tr>\n",
       "      <th>39942</th>\n",
       "      <td>05-821</td>\n",
       "      <td>South Sudan</td>\n",
       "      <td>SUD</td>\n",
       "      <td>625.0</td>\n",
       "      <td>2009</td>\n",
       "      <td>45247</td>\n",
       "      <td>Jungoli</td>\n",
       "      <td>1</td>\n",
       "      <td>Jungoli</td>\n",
       "      <td>NaN</td>\n",
       "      <td>NaN</td>\n",
       "      <td>Jonglei</td>\n",
       "      <td>1</td>\n",
       "      <td>Sudan</td>\n",
       "      <td>drought</td>\n",
       "      <td>2009-9633</td>\n",
       "      <td>7.378793</td>\n",
       "      <td>32.327646</td>\n",
       "    </tr>\n",
       "    <tr>\n",
       "      <th>39943</th>\n",
       "      <td>05-821</td>\n",
       "      <td>South Sudan</td>\n",
       "      <td>SUD</td>\n",
       "      <td>625.0</td>\n",
       "      <td>2009</td>\n",
       "      <td>45248</td>\n",
       "      <td>Upper Nile</td>\n",
       "      <td>1</td>\n",
       "      <td>Upper Nile</td>\n",
       "      <td>NaN</td>\n",
       "      <td>NaN</td>\n",
       "      <td>Upper Nile</td>\n",
       "      <td>1</td>\n",
       "      <td>Sudan</td>\n",
       "      <td>drought</td>\n",
       "      <td>2009-9633</td>\n",
       "      <td>9.888036</td>\n",
       "      <td>32.795899</td>\n",
       "    </tr>\n",
       "    <tr>\n",
       "      <th>39944</th>\n",
       "      <td>05-821</td>\n",
       "      <td>South Sudan</td>\n",
       "      <td>SUD</td>\n",
       "      <td>625.0</td>\n",
       "      <td>2009</td>\n",
       "      <td>45249</td>\n",
       "      <td>West Bahr-al-Ghazal</td>\n",
       "      <td>1</td>\n",
       "      <td>West Bahr-al-Ghazal</td>\n",
       "      <td>NaN</td>\n",
       "      <td>NaN</td>\n",
       "      <td>Northern Bahr Ghazal</td>\n",
       "      <td>1</td>\n",
       "      <td>Sudan</td>\n",
       "      <td>drought</td>\n",
       "      <td>2009-9633</td>\n",
       "      <td>8.248650</td>\n",
       "      <td>26.099769</td>\n",
       "    </tr>\n",
       "    <tr>\n",
       "      <th>39945</th>\n",
       "      <td>05-844</td>\n",
       "      <td>South Sudan</td>\n",
       "      <td>SUD</td>\n",
       "      <td>625.0</td>\n",
       "      <td>1990</td>\n",
       "      <td>45250</td>\n",
       "      <td>West Bahr-al-Ghazal</td>\n",
       "      <td>1</td>\n",
       "      <td>West Bahr-al-Ghazal</td>\n",
       "      <td>NaN</td>\n",
       "      <td>NaN</td>\n",
       "      <td>Bar El Ghazal Province</td>\n",
       "      <td>1</td>\n",
       "      <td>Sudan</td>\n",
       "      <td>drought</td>\n",
       "      <td>1990-9289</td>\n",
       "      <td>8.248650</td>\n",
       "      <td>26.099769</td>\n",
       "    </tr>\n",
       "  </tbody>\n",
       "</table>\n",
       "<p>4184 rows × 18 columns</p>\n",
       "</div>"
      ],
      "text/plain": [
       "           id      country iso3   gwno  year  geo_id          geolocation  \\\n",
       "2         175       Angola  AGO  540.0  2001     760               Onjiva   \n",
       "3         187       Angola  AGO  540.0  2009     710                Evale   \n",
       "4         187       Angola  AGO  540.0  2009     749                 Mupa   \n",
       "5         187       Angola  AGO  540.0  2009     761               Onjiva   \n",
       "6         189       Angola  AGO  540.0  2010     711                Evale   \n",
       "...       ...          ...  ...    ...   ...     ...                  ...   \n",
       "39941  05-821  South Sudan  SUD  625.0  2009   45246                Warab   \n",
       "39942  05-821  South Sudan  SUD  625.0  2009   45247              Jungoli   \n",
       "39943  05-821  South Sudan  SUD  625.0  2009   45248           Upper Nile   \n",
       "39944  05-821  South Sudan  SUD  625.0  2009   45249  West Bahr-al-Ghazal   \n",
       "39945  05-844  South Sudan  SUD  625.0  1990   45250  West Bahr-al-Ghazal   \n",
       "\n",
       "       level                 adm1      adm2    adm3                location  \\\n",
       "2          3               Cunene  Cuanhama  Onjiva                  Onjiva   \n",
       "3          3               Cunene  Cuanhama   Evale                   Evale   \n",
       "4          3               Cunene   Cuvelai    Mupa                    Mupa   \n",
       "5          3               Cunene  Cuanhama  Onjiva                  Onjiva   \n",
       "6          3               Cunene  Cuanhama   Evale                   Evale   \n",
       "...      ...                  ...       ...     ...                     ...   \n",
       "39941      2                Warap     Warab     NaN         Warab provinces   \n",
       "39942      1              Jungoli       NaN     NaN                 Jonglei   \n",
       "39943      1           Upper Nile       NaN     NaN              Upper Nile   \n",
       "39944      1  West Bahr-al-Ghazal       NaN     NaN    Northern Bahr Ghazal   \n",
       "39945      1  West Bahr-al-Ghazal       NaN     NaN  Bar El Ghazal Province   \n",
       "\n",
       "       historical hist_country disastertype disasterno   latitude  longitude  \n",
       "2               0          NaN        flood  2001-0146 -17.093484  15.665758  \n",
       "3               0          NaN        flood  2009-0092 -16.531533  15.773987  \n",
       "4               0          NaN        flood  2009-0092 -16.200065  15.844189  \n",
       "5               0          NaN        flood  2009-0092 -17.093484  15.665758  \n",
       "6               0          NaN        flood  2010-0105 -16.531533  15.773987  \n",
       "...           ...          ...          ...        ...        ...        ...  \n",
       "39941           1        Sudan      drought  2009-9633   8.167473  28.696650  \n",
       "39942           1        Sudan      drought  2009-9633   7.378793  32.327646  \n",
       "39943           1        Sudan      drought  2009-9633   9.888036  32.795899  \n",
       "39944           1        Sudan      drought  2009-9633   8.248650  26.099769  \n",
       "39945           1        Sudan      drought  1990-9289   8.248650  26.099769  \n",
       "\n",
       "[4184 rows x 18 columns]"
      ]
     },
     "execution_count": 5,
     "metadata": {},
     "output_type": "execute_result"
    }
   ],
   "source": [
    "dff = df[df.country.isin(Country_list)]\n",
    "dff"
   ]
  },
  {
   "cell_type": "code",
   "execution_count": 6,
   "metadata": {},
   "outputs": [
    {
     "data": {
      "text/html": [
       "<div>\n",
       "<style scoped>\n",
       "    .dataframe tbody tr th:only-of-type {\n",
       "        vertical-align: middle;\n",
       "    }\n",
       "\n",
       "    .dataframe tbody tr th {\n",
       "        vertical-align: top;\n",
       "    }\n",
       "\n",
       "    .dataframe thead th {\n",
       "        text-align: right;\n",
       "    }\n",
       "</style>\n",
       "<table border=\"1\" class=\"dataframe\">\n",
       "  <thead>\n",
       "    <tr style=\"text-align: right;\">\n",
       "      <th></th>\n",
       "      <th>year</th>\n",
       "      <th>month</th>\n",
       "      <th>country</th>\n",
       "      <th>adm_1</th>\n",
       "      <th>adm_2</th>\n",
       "      <th>best</th>\n",
       "    </tr>\n",
       "  </thead>\n",
       "  <tbody>\n",
       "    <tr>\n",
       "      <th>2</th>\n",
       "      <td>1989</td>\n",
       "      <td>01</td>\n",
       "      <td>Angola</td>\n",
       "      <td>Benguela province</td>\n",
       "      <td>Ganda municipality</td>\n",
       "      <td>1</td>\n",
       "    </tr>\n",
       "    <tr>\n",
       "      <th>3</th>\n",
       "      <td>1989</td>\n",
       "      <td>01</td>\n",
       "      <td>Angola</td>\n",
       "      <td>Cabinda province</td>\n",
       "      <td>Belize municipality</td>\n",
       "      <td>0</td>\n",
       "    </tr>\n",
       "    <tr>\n",
       "      <th>4</th>\n",
       "      <td>1989</td>\n",
       "      <td>01</td>\n",
       "      <td>Angola</td>\n",
       "      <td>Cuanza Norte province</td>\n",
       "      <td>Samba Cajú municipality</td>\n",
       "      <td>0</td>\n",
       "    </tr>\n",
       "    <tr>\n",
       "      <th>5</th>\n",
       "      <td>1989</td>\n",
       "      <td>01</td>\n",
       "      <td>Angola</td>\n",
       "      <td>Huila province</td>\n",
       "      <td>Matala municipality</td>\n",
       "      <td>0</td>\n",
       "    </tr>\n",
       "    <tr>\n",
       "      <th>6</th>\n",
       "      <td>1989</td>\n",
       "      <td>01</td>\n",
       "      <td>Angola</td>\n",
       "      <td>Lunda Norte province</td>\n",
       "      <td>Cambulo municipality</td>\n",
       "      <td>0</td>\n",
       "    </tr>\n",
       "    <tr>\n",
       "      <th>...</th>\n",
       "      <td>...</td>\n",
       "      <td>...</td>\n",
       "      <td>...</td>\n",
       "      <td>...</td>\n",
       "      <td>...</td>\n",
       "      <td>...</td>\n",
       "    </tr>\n",
       "    <tr>\n",
       "      <th>20576</th>\n",
       "      <td>2021</td>\n",
       "      <td>12</td>\n",
       "      <td>Sudan</td>\n",
       "      <td>South Kordofan state</td>\n",
       "      <td>Rashad district</td>\n",
       "      <td>1</td>\n",
       "    </tr>\n",
       "    <tr>\n",
       "      <th>20577</th>\n",
       "      <td>2021</td>\n",
       "      <td>12</td>\n",
       "      <td>Sudan</td>\n",
       "      <td>West Darfur state</td>\n",
       "      <td>Jebel Moon district</td>\n",
       "      <td>25</td>\n",
       "    </tr>\n",
       "    <tr>\n",
       "      <th>20578</th>\n",
       "      <td>2021</td>\n",
       "      <td>12</td>\n",
       "      <td>Sudan</td>\n",
       "      <td>West Darfur state</td>\n",
       "      <td>Kereinik district</td>\n",
       "      <td>102</td>\n",
       "    </tr>\n",
       "    <tr>\n",
       "      <th>20579</th>\n",
       "      <td>2021</td>\n",
       "      <td>12</td>\n",
       "      <td>Sudan</td>\n",
       "      <td>West Darfur state</td>\n",
       "      <td>Sirba district</td>\n",
       "      <td>8</td>\n",
       "    </tr>\n",
       "    <tr>\n",
       "      <th>20580</th>\n",
       "      <td>2021</td>\n",
       "      <td>12</td>\n",
       "      <td>Tanzania</td>\n",
       "      <td>Mtwara region</td>\n",
       "      <td>Mtwara Rural district</td>\n",
       "      <td>11</td>\n",
       "    </tr>\n",
       "  </tbody>\n",
       "</table>\n",
       "<p>20579 rows × 6 columns</p>\n",
       "</div>"
      ],
      "text/plain": [
       "       year month   country                  adm_1                    adm_2  \\\n",
       "2      1989    01    Angola      Benguela province       Ganda municipality   \n",
       "3      1989    01    Angola       Cabinda province      Belize municipality   \n",
       "4      1989    01    Angola  Cuanza Norte province  Samba Cajú municipality   \n",
       "5      1989    01    Angola         Huila province      Matala municipality   \n",
       "6      1989    01    Angola   Lunda Norte province     Cambulo municipality   \n",
       "...     ...   ...       ...                    ...                      ...   \n",
       "20576  2021    12     Sudan   South Kordofan state          Rashad district   \n",
       "20577  2021    12     Sudan      West Darfur state      Jebel Moon district   \n",
       "20578  2021    12     Sudan      West Darfur state        Kereinik district   \n",
       "20579  2021    12     Sudan      West Darfur state           Sirba district   \n",
       "20580  2021    12  Tanzania          Mtwara region    Mtwara Rural district   \n",
       "\n",
       "      best  \n",
       "2        1  \n",
       "3        0  \n",
       "4        0  \n",
       "5        0  \n",
       "6        0  \n",
       "...    ...  \n",
       "20576    1  \n",
       "20577   25  \n",
       "20578  102  \n",
       "20579    8  \n",
       "20580   11  \n",
       "\n",
       "[20579 rows x 6 columns]"
      ]
     },
     "execution_count": 6,
     "metadata": {},
     "output_type": "execute_result"
    }
   ],
   "source": [
    "db = pd.read_csv('GED_monthly_agg.csv')\n",
    "\n",
    "db.rename(columns = {'Unnamed: 0':'year', 'Unnamed: 1' :'month', 'Unnamed: 2': 'country', 'Unnamed: 3': 'adm_1', 'Unnamed: 4': 'adm_2'}, inplace= True)\n",
    "db.drop([0,1], axis=0, inplace=True)\n",
    "db"
   ]
  },
  {
   "cell_type": "code",
   "execution_count": 24,
   "metadata": {},
   "outputs": [],
   "source": [
    "db['adm_1'] = db['adm_1'].str.replace(\"province\", \"\")\n",
    "db['adm_1'] = db['adm_1'].str.replace(\"region\", \"\")\n",
    "db['adm_1'] = db['adm_1'].str.replace(\"district\", \"\")\n",
    "db['adm_1'] = db['adm_1'].str.replace(\"county\", \"\")\n",
    "db['adm_1'] = db['adm_1'].str.replace(\"municipality\", \"\")\n",
    "db['adm_1'] = db['adm_1'].str.replace(\"zone\", \"\")\n",
    "db['adm_1'] = db['adm_1'].str.replace(\"constituency\", \"\")\n",
    "db['adm_1'] = db['adm_1'].str.replace(\"department\", \"\")\n",
    "db['adm_1'] = db['adm_1'].str.replace(\"municipal\", \"\")\n",
    "db['adm_1'] = db['adm_1'].str.replace(\"administrative district\", \"\")\n",
    "db['adm_1'] = db['adm_1'].str.replace(\" \", \"\")\n",
    "\n",
    "\n",
    "db['adm_2'] = db['adm_2'].str.replace(\"province\", \"\")\n",
    "db['adm_2'] = db['adm_2'].str.replace(\"region\", \"\")\n",
    "db['adm_2'] = db['adm_2'].str.replace(\"district\", \"\")\n",
    "db['adm_2'] = db['adm_2'].str.replace(\"county\", \"\")\n",
    "db['adm_2'] = db['adm_2'].str.replace(\"municipality\", \"\")\n",
    "db['adm_2'] = db['adm_2'].str.replace(\"zone\", \"\")\n",
    "db['adm_2'] = db['adm_2'].str.replace(\"constituency\", \"\")\n",
    "db['adm_2'] = db['adm_2'].str.replace(\"department\", \"\")\n",
    "db['adm_2'] = db['adm_2'].str.replace(\"municipal\", \"\")\n",
    "db['adm_2'] = db['adm_2'].str.replace(\"administrative district\", \"\")\n",
    "db['adm_2'] = db['adm_2'].str.replace(\"commune\", \"\")\n",
    "db['adm_2'] = db['adm_2'].str.replace(\" \", \"\")"
   ]
  },
  {
   "cell_type": "code",
   "execution_count": null,
   "metadata": {},
   "outputs": [],
   "source": []
  },
  {
   "cell_type": "code",
   "execution_count": 25,
   "metadata": {},
   "outputs": [
    {
     "name": "stderr",
     "output_type": "stream",
     "text": [
      "C:\\Users\\ASUS\\AppData\\Local\\Temp\\ipykernel_13884\\1494571790.py:2: SettingWithCopyWarning: \n",
      "A value is trying to be set on a copy of a slice from a DataFrame.\n",
      "Try using .loc[row_indexer,col_indexer] = value instead\n",
      "\n",
      "See the caveats in the documentation: https://pandas.pydata.org/pandas-docs/stable/user_guide/indexing.html#returning-a-view-versus-a-copy\n",
      "  dbg['year'] = dbg['year'].astype(int)\n"
     ]
    },
    {
     "data": {
      "text/html": [
       "<div>\n",
       "<style scoped>\n",
       "    .dataframe tbody tr th:only-of-type {\n",
       "        vertical-align: middle;\n",
       "    }\n",
       "\n",
       "    .dataframe tbody tr th {\n",
       "        vertical-align: top;\n",
       "    }\n",
       "\n",
       "    .dataframe thead th {\n",
       "        text-align: right;\n",
       "    }\n",
       "</style>\n",
       "<table border=\"1\" class=\"dataframe\">\n",
       "  <thead>\n",
       "    <tr style=\"text-align: right;\">\n",
       "      <th></th>\n",
       "      <th>year</th>\n",
       "      <th>month</th>\n",
       "      <th>country</th>\n",
       "      <th>adm_1</th>\n",
       "      <th>adm_2</th>\n",
       "      <th>best</th>\n",
       "    </tr>\n",
       "  </thead>\n",
       "  <tbody>\n",
       "    <tr>\n",
       "      <th>5126</th>\n",
       "      <td>2001</td>\n",
       "      <td>01</td>\n",
       "      <td>Algeria</td>\n",
       "      <td>AinDefla</td>\n",
       "      <td>AinSoltane</td>\n",
       "      <td>7</td>\n",
       "    </tr>\n",
       "    <tr>\n",
       "      <th>5127</th>\n",
       "      <td>2001</td>\n",
       "      <td>01</td>\n",
       "      <td>Algeria</td>\n",
       "      <td>Djelfa</td>\n",
       "      <td>Djelfa</td>\n",
       "      <td>4</td>\n",
       "    </tr>\n",
       "    <tr>\n",
       "      <th>5128</th>\n",
       "      <td>2001</td>\n",
       "      <td>01</td>\n",
       "      <td>Algeria</td>\n",
       "      <td>Laghouat</td>\n",
       "      <td>Laghouat</td>\n",
       "      <td>4</td>\n",
       "    </tr>\n",
       "    <tr>\n",
       "      <th>5129</th>\n",
       "      <td>2001</td>\n",
       "      <td>01</td>\n",
       "      <td>Algeria</td>\n",
       "      <td>Medea</td>\n",
       "      <td>Medea</td>\n",
       "      <td>7</td>\n",
       "    </tr>\n",
       "    <tr>\n",
       "      <th>5130</th>\n",
       "      <td>2001</td>\n",
       "      <td>01</td>\n",
       "      <td>Algeria</td>\n",
       "      <td>Relizane</td>\n",
       "      <td>Relizane</td>\n",
       "      <td>0</td>\n",
       "    </tr>\n",
       "    <tr>\n",
       "      <th>...</th>\n",
       "      <td>...</td>\n",
       "      <td>...</td>\n",
       "      <td>...</td>\n",
       "      <td>...</td>\n",
       "      <td>...</td>\n",
       "      <td>...</td>\n",
       "    </tr>\n",
       "    <tr>\n",
       "      <th>19026</th>\n",
       "      <td>2020</td>\n",
       "      <td>12</td>\n",
       "      <td>Algeria</td>\n",
       "      <td>Jijel</td>\n",
       "      <td>ElAncer</td>\n",
       "      <td>4</td>\n",
       "    </tr>\n",
       "    <tr>\n",
       "      <th>19138</th>\n",
       "      <td>2021</td>\n",
       "      <td>01</td>\n",
       "      <td>Algeria</td>\n",
       "      <td>Tipaza</td>\n",
       "      <td>Gouraya</td>\n",
       "      <td>9</td>\n",
       "    </tr>\n",
       "    <tr>\n",
       "      <th>19139</th>\n",
       "      <td>2021</td>\n",
       "      <td>01</td>\n",
       "      <td>Algeria</td>\n",
       "      <td>Tébessa</td>\n",
       "      <td>Cheria</td>\n",
       "      <td>5</td>\n",
       "    </tr>\n",
       "    <tr>\n",
       "      <th>19140</th>\n",
       "      <td>2021</td>\n",
       "      <td>01</td>\n",
       "      <td>Algeria</td>\n",
       "      <td>Tébessa</td>\n",
       "      <td>ElOgla</td>\n",
       "      <td>1</td>\n",
       "    </tr>\n",
       "    <tr>\n",
       "      <th>19630</th>\n",
       "      <td>2021</td>\n",
       "      <td>05</td>\n",
       "      <td>Algeria</td>\n",
       "      <td>Medea</td>\n",
       "      <td>Aziz</td>\n",
       "      <td>1</td>\n",
       "    </tr>\n",
       "  </tbody>\n",
       "</table>\n",
       "<p>1165 rows × 6 columns</p>\n",
       "</div>"
      ],
      "text/plain": [
       "       year month  country     adm_1       adm_2 best\n",
       "5126   2001    01  Algeria  AinDefla  AinSoltane    7\n",
       "5127   2001    01  Algeria    Djelfa      Djelfa    4\n",
       "5128   2001    01  Algeria  Laghouat    Laghouat    4\n",
       "5129   2001    01  Algeria     Medea       Medea    7\n",
       "5130   2001    01  Algeria  Relizane    Relizane    0\n",
       "...     ...   ...      ...       ...         ...  ...\n",
       "19026  2020    12  Algeria     Jijel     ElAncer    4\n",
       "19138  2021    01  Algeria    Tipaza     Gouraya    9\n",
       "19139  2021    01  Algeria   Tébessa      Cheria    5\n",
       "19140  2021    01  Algeria   Tébessa      ElOgla    1\n",
       "19630  2021    05  Algeria     Medea        Aziz    1\n",
       "\n",
       "[1165 rows x 6 columns]"
      ]
     },
     "execution_count": 25,
     "metadata": {},
     "output_type": "execute_result"
    }
   ],
   "source": [
    "dbg = db[db['country']=='Algeria']\n",
    "dbg['year'] = dbg['year'].astype(int)\n",
    "dbg = dbg[dbg['year']>= 2001]\n",
    "dbg"
   ]
  },
  {
   "cell_type": "code",
   "execution_count": 20,
   "metadata": {},
   "outputs": [
    {
     "data": {
      "text/plain": [
       "array([2001, 2003, 2007, 1988, 2005, 1960, 1965, 1966, 1974, 1980, 1981,\n",
       "       1982, 1985, 1987, 1989, 1992, 1993, 1994, 1996, 1997, 1999, 2000,\n",
       "       2002, 2004, 2006, 2008, 2009, 2011, 2012, 2014, 1967, 1969, 1973,\n",
       "       2017, 2015, 2018], dtype=int64)"
      ]
     },
     "execution_count": 20,
     "metadata": {},
     "output_type": "execute_result"
    }
   ],
   "source": [
    "dfg = dff[dff['country']=='Algeria']\n",
    "dfg.year.unique()"
   ]
  },
  {
   "cell_type": "code",
   "execution_count": 27,
   "metadata": {},
   "outputs": [],
   "source": [
    "alg_adm=dbg.adm_2.unique()\n",
    "alg_mat = dfg[dfg.adm2.isin(alg_adm)]"
   ]
  },
  {
   "cell_type": "code",
   "execution_count": 29,
   "metadata": {},
   "outputs": [],
   "source": [
    "alg_mat.to_csv(r'C:\\Users\\ASUS\\Desktop\\WHK\\GED_Disaster\\Algeria.csv')"
   ]
  },
  {
   "cell_type": "code",
   "execution_count": null,
   "metadata": {},
   "outputs": [],
   "source": []
  },
  {
   "cell_type": "code",
   "execution_count": null,
   "metadata": {},
   "outputs": [],
   "source": []
  },
  {
   "cell_type": "code",
   "execution_count": 37,
   "metadata": {},
   "outputs": [
    {
     "name": "stderr",
     "output_type": "stream",
     "text": [
      "C:\\Users\\ASUS\\AppData\\Local\\Temp\\ipykernel_13884\\3993133329.py:2: SettingWithCopyWarning: \n",
      "A value is trying to be set on a copy of a slice from a DataFrame.\n",
      "Try using .loc[row_indexer,col_indexer] = value instead\n",
      "\n",
      "See the caveats in the documentation: https://pandas.pydata.org/pandas-docs/stable/user_guide/indexing.html#returning-a-view-versus-a-copy\n",
      "  dbg['year'] = dbg['year'].astype(int)\n"
     ]
    }
   ],
   "source": [
    "dbg = db[db['country']=='Burkina Faso']\n",
    "dbg['year'] = dbg['year'].astype(int)\n",
    "\n",
    "dbg = dbg[dbg['year']==2016]\n",
    "bk_adm=dbg.adm_2.unique()"
   ]
  },
  {
   "cell_type": "code",
   "execution_count": 33,
   "metadata": {},
   "outputs": [
    {
     "data": {
      "text/plain": [
       "array([2016, 2015, 2003, 2007, 2010, 1988, 1995, 1984, 2017, 1985, 2006,\n",
       "       2009, 2013, 1999, 2008, 1969, 2001, 2011, 2014], dtype=int64)"
      ]
     },
     "execution_count": 33,
     "metadata": {},
     "output_type": "execute_result"
    }
   ],
   "source": [
    "dfg = dff[dff['country']=='Burkina Faso']\n",
    "dfg.year.unique()"
   ]
  },
  {
   "cell_type": "code",
   "execution_count": 42,
   "metadata": {},
   "outputs": [],
   "source": [
    "bk_mat = dfg[dfg.adm2.isin(bk_adm)]\n",
    "bk_mat = bk_mat[bk_mat['year']==2016]\n",
    "bk_mat.to_csv(r'C:\\Users\\ASUS\\Desktop\\WHK\\GED_Disaster\\Burkina_Faso.csv')"
   ]
  },
  {
   "cell_type": "code",
   "execution_count": null,
   "metadata": {},
   "outputs": [],
   "source": []
  },
  {
   "cell_type": "code",
   "execution_count": null,
   "metadata": {},
   "outputs": [],
   "source": []
  },
  {
   "cell_type": "code",
   "execution_count": 59,
   "metadata": {},
   "outputs": [
    {
     "name": "stderr",
     "output_type": "stream",
     "text": [
      "C:\\Users\\ASUS\\AppData\\Local\\Temp\\ipykernel_13884\\1090865973.py:2: SettingWithCopyWarning: \n",
      "A value is trying to be set on a copy of a slice from a DataFrame.\n",
      "Try using .loc[row_indexer,col_indexer] = value instead\n",
      "\n",
      "See the caveats in the documentation: https://pandas.pydata.org/pandas-docs/stable/user_guide/indexing.html#returning-a-view-versus-a-copy\n",
      "  dbg['year'] = dbg['year'].astype(int)\n"
     ]
    }
   ],
   "source": [
    "dbg = db[db['country']=='Burundi']\n",
    "dbg['year'] = dbg['year'].astype(int)\n",
    "year_list = dbg.year.unique()\n",
    "bk_adm=dbg.adm_2.unique()"
   ]
  },
  {
   "cell_type": "code",
   "execution_count": 57,
   "metadata": {},
   "outputs": [],
   "source": [
    "dfg = dff[dff['country']=='Burundi']\n",
    "dfg = dfg[dfg.year.isin(year_list)]\n",
    "dfg=dfg[dfg.adm2.isin(bk_adm)]\n",
    "dfg.to_csv(r'C:\\Users\\ASUS\\Desktop\\WHK\\GED_Disaster\\Burundi.csv')"
   ]
  },
  {
   "cell_type": "code",
   "execution_count": null,
   "metadata": {},
   "outputs": [],
   "source": []
  },
  {
   "cell_type": "code",
   "execution_count": null,
   "metadata": {},
   "outputs": [],
   "source": []
  },
  {
   "cell_type": "code",
   "execution_count": 62,
   "metadata": {},
   "outputs": [
    {
     "name": "stderr",
     "output_type": "stream",
     "text": [
      "C:\\Users\\ASUS\\AppData\\Local\\Temp\\ipykernel_13884\\4207967889.py:2: SettingWithCopyWarning: \n",
      "A value is trying to be set on a copy of a slice from a DataFrame.\n",
      "Try using .loc[row_indexer,col_indexer] = value instead\n",
      "\n",
      "See the caveats in the documentation: https://pandas.pydata.org/pandas-docs/stable/user_guide/indexing.html#returning-a-view-versus-a-copy\n",
      "  dbg['year'] = dbg['year'].astype(int)\n"
     ]
    }
   ],
   "source": [
    "dbg = db[db['country']=='Cameroon']\n",
    "dbg['year'] = dbg['year'].astype(int)\n",
    "year_list = dbg.year.unique()\n",
    "bk_adm=dbg.adm_2.unique()"
   ]
  },
  {
   "cell_type": "code",
   "execution_count": 63,
   "metadata": {},
   "outputs": [],
   "source": [
    "dfg = dff[dff['country']=='Cameroon']\n",
    "dfg = dfg[dfg.year.isin(year_list)]\n",
    "dfg=dfg[dfg.adm2.isin(bk_adm)]"
   ]
  },
  {
   "cell_type": "code",
   "execution_count": 65,
   "metadata": {},
   "outputs": [],
   "source": [
    "dfg.to_csv(r'C:\\Users\\ASUS\\Desktop\\WHK\\GED_Disaster\\Cameroon.csv')"
   ]
  },
  {
   "cell_type": "code",
   "execution_count": null,
   "metadata": {},
   "outputs": [],
   "source": []
  },
  {
   "cell_type": "code",
   "execution_count": 75,
   "metadata": {},
   "outputs": [
    {
     "name": "stderr",
     "output_type": "stream",
     "text": [
      "C:\\Users\\ASUS\\AppData\\Local\\Temp\\ipykernel_13884\\3548261130.py:2: SettingWithCopyWarning: \n",
      "A value is trying to be set on a copy of a slice from a DataFrame.\n",
      "Try using .loc[row_indexer,col_indexer] = value instead\n",
      "\n",
      "See the caveats in the documentation: https://pandas.pydata.org/pandas-docs/stable/user_guide/indexing.html#returning-a-view-versus-a-copy\n",
      "  dbg['year'] = dbg['year'].astype(int)\n"
     ]
    }
   ],
   "source": [
    "dbg = db[db['country']=='Central African Republic']\n",
    "dbg['year'] = dbg['year'].astype(int)\n",
    "year_list = dbg.year.unique()\n",
    "bk_adm=dbg.adm_2.unique()"
   ]
  },
  {
   "cell_type": "code",
   "execution_count": 76,
   "metadata": {},
   "outputs": [],
   "source": [
    "dfg = dff[dff['country']=='Central African Republic']\n",
    "dfg = dfg[dfg.year.isin(year_list)]\n",
    "dfg=dfg[dfg.adm2.isin(bk_adm)]"
   ]
  },
  {
   "cell_type": "code",
   "execution_count": 77,
   "metadata": {},
   "outputs": [],
   "source": [
    "dfg.to_csv(r'C:\\Users\\ASUS\\Desktop\\WHK\\GED_Disaster\\Central_African_Republic.csv')"
   ]
  },
  {
   "cell_type": "code",
   "execution_count": null,
   "metadata": {},
   "outputs": [],
   "source": []
  },
  {
   "cell_type": "code",
   "execution_count": 70,
   "metadata": {},
   "outputs": [
    {
     "name": "stderr",
     "output_type": "stream",
     "text": [
      "C:\\Users\\ASUS\\AppData\\Local\\Temp\\ipykernel_13884\\4151622388.py:2: SettingWithCopyWarning: \n",
      "A value is trying to be set on a copy of a slice from a DataFrame.\n",
      "Try using .loc[row_indexer,col_indexer] = value instead\n",
      "\n",
      "See the caveats in the documentation: https://pandas.pydata.org/pandas-docs/stable/user_guide/indexing.html#returning-a-view-versus-a-copy\n",
      "  dbg['year'] = dbg['year'].astype(int)\n"
     ]
    }
   ],
   "source": [
    "dbg = db[db['country']=='Chad']\n",
    "dbg['year'] = dbg['year'].astype(int)\n",
    "year_list = dbg.year.unique()\n",
    "bk_adm=dbg.adm_2.unique()"
   ]
  },
  {
   "cell_type": "code",
   "execution_count": 71,
   "metadata": {},
   "outputs": [],
   "source": [
    "dfg = dff[dff['country']=='Chad']\n",
    "dfg = dfg[dfg.year.isin(year_list)]\n",
    "dfg=dfg[dfg.adm2.isin(bk_adm)]"
   ]
  },
  {
   "cell_type": "code",
   "execution_count": 74,
   "metadata": {},
   "outputs": [],
   "source": [
    "dfg.to_csv(r'C:\\Users\\ASUS\\Desktop\\WHK\\GED_Disaster\\Chad.csv')"
   ]
  },
  {
   "cell_type": "code",
   "execution_count": null,
   "metadata": {},
   "outputs": [],
   "source": []
  },
  {
   "cell_type": "code",
   "execution_count": 94,
   "metadata": {},
   "outputs": [
    {
     "name": "stderr",
     "output_type": "stream",
     "text": [
      "C:\\Users\\ASUS\\AppData\\Local\\Temp\\ipykernel_13884\\4158202044.py:2: SettingWithCopyWarning: \n",
      "A value is trying to be set on a copy of a slice from a DataFrame.\n",
      "Try using .loc[row_indexer,col_indexer] = value instead\n",
      "\n",
      "See the caveats in the documentation: https://pandas.pydata.org/pandas-docs/stable/user_guide/indexing.html#returning-a-view-versus-a-copy\n",
      "  dbg['year'] = dbg['year'].astype(int)\n"
     ]
    }
   ],
   "source": [
    "dbg = db[db['country']=='Ethiopia']\n",
    "dbg['year'] = dbg['year'].astype(int)\n",
    "year_list = dbg.year.unique()\n",
    "bk_adm=dbg.adm_2.unique()\n"
   ]
  },
  {
   "cell_type": "code",
   "execution_count": 95,
   "metadata": {},
   "outputs": [],
   "source": [
    "dfg = dff[dff['country']=='Ethiopia']\n",
    "dfg = dfg[dfg.year.isin(year_list)]\n",
    "dfg=dfg[dfg.adm2.isin(bk_adm)]\n"
   ]
  },
  {
   "cell_type": "code",
   "execution_count": 97,
   "metadata": {},
   "outputs": [],
   "source": [
    "dfg.to_csv(r'C:\\Users\\ASUS\\Desktop\\WHK\\GED_Disaster\\Ethiopia.csv')"
   ]
  },
  {
   "cell_type": "code",
   "execution_count": null,
   "metadata": {},
   "outputs": [],
   "source": []
  },
  {
   "cell_type": "code",
   "execution_count": 116,
   "metadata": {},
   "outputs": [
    {
     "name": "stderr",
     "output_type": "stream",
     "text": [
      "C:\\Users\\ASUS\\AppData\\Local\\Temp\\ipykernel_13884\\673886146.py:2: SettingWithCopyWarning: \n",
      "A value is trying to be set on a copy of a slice from a DataFrame.\n",
      "Try using .loc[row_indexer,col_indexer] = value instead\n",
      "\n",
      "See the caveats in the documentation: https://pandas.pydata.org/pandas-docs/stable/user_guide/indexing.html#returning-a-view-versus-a-copy\n",
      "  dbg['year'] = dbg['year'].astype(int)\n"
     ]
    }
   ],
   "source": [
    "dbg = db[db['country']=='Kenya']\n",
    "dbg['year'] = dbg['year'].astype(int)\n",
    "year_list = dbg.year.unique()\n",
    "bk_adm=dbg.adm_2.unique()\n"
   ]
  },
  {
   "cell_type": "code",
   "execution_count": 117,
   "metadata": {},
   "outputs": [],
   "source": [
    "dfg = dff[dff['country']=='Kenya']\n",
    "dfg = dfg[dfg.year.isin(year_list)]\n",
    "dfg=dfg[dfg.adm2.isin(bk_adm)]"
   ]
  },
  {
   "cell_type": "code",
   "execution_count": 119,
   "metadata": {},
   "outputs": [],
   "source": [
    "dfg.to_csv(r'C:\\Users\\ASUS\\Desktop\\WHK\\GED_Disaster\\Kenya.csv')"
   ]
  },
  {
   "cell_type": "code",
   "execution_count": null,
   "metadata": {},
   "outputs": [],
   "source": []
  },
  {
   "cell_type": "code",
   "execution_count": 130,
   "metadata": {},
   "outputs": [
    {
     "name": "stderr",
     "output_type": "stream",
     "text": [
      "C:\\Users\\ASUS\\AppData\\Local\\Temp\\ipykernel_13884\\4026392364.py:2: SettingWithCopyWarning: \n",
      "A value is trying to be set on a copy of a slice from a DataFrame.\n",
      "Try using .loc[row_indexer,col_indexer] = value instead\n",
      "\n",
      "See the caveats in the documentation: https://pandas.pydata.org/pandas-docs/stable/user_guide/indexing.html#returning-a-view-versus-a-copy\n",
      "  dbg['year'] = dbg['year'].astype(int)\n"
     ]
    }
   ],
   "source": [
    "dbg = db[db['country']=='Mauritania']\n",
    "dbg['year'] = dbg['year'].astype(int)\n",
    "year_list = dbg.year.unique()\n",
    "bk_adm=dbg.adm_2.unique()\n"
   ]
  },
  {
   "cell_type": "code",
   "execution_count": 131,
   "metadata": {},
   "outputs": [],
   "source": [
    "dfg = dff[dff['country']=='Mauritania']\n",
    "dfg = dfg[dfg.year.isin(year_list)]\n",
    "dfg=dfg[dfg.adm2.isin(bk_adm)]"
   ]
  },
  {
   "cell_type": "code",
   "execution_count": 133,
   "metadata": {},
   "outputs": [],
   "source": [
    "dfg.to_csv(r'C:\\Users\\ASUS\\Desktop\\WHK\\GED_Disaster\\Mauritania.csv')"
   ]
  },
  {
   "cell_type": "code",
   "execution_count": null,
   "metadata": {},
   "outputs": [],
   "source": []
  },
  {
   "cell_type": "code",
   "execution_count": 137,
   "metadata": {},
   "outputs": [
    {
     "name": "stderr",
     "output_type": "stream",
     "text": [
      "C:\\Users\\ASUS\\AppData\\Local\\Temp\\ipykernel_13884\\3993607896.py:2: SettingWithCopyWarning: \n",
      "A value is trying to be set on a copy of a slice from a DataFrame.\n",
      "Try using .loc[row_indexer,col_indexer] = value instead\n",
      "\n",
      "See the caveats in the documentation: https://pandas.pydata.org/pandas-docs/stable/user_guide/indexing.html#returning-a-view-versus-a-copy\n",
      "  dbg['year'] = dbg['year'].astype(int)\n"
     ]
    }
   ],
   "source": [
    "dbg = db[db['country']=='Mozambique']\n",
    "dbg['year'] = dbg['year'].astype(int)\n",
    "year_list = dbg.year.unique()\n",
    "bk_adm=dbg.adm_2.unique()\n"
   ]
  },
  {
   "cell_type": "code",
   "execution_count": 138,
   "metadata": {},
   "outputs": [],
   "source": [
    "dfg = dff[dff['country']=='Mozambique']\n",
    "dfg = dfg[dfg.year.isin(year_list)]\n",
    "dfg=dfg[dfg.adm2.isin(bk_adm)]"
   ]
  },
  {
   "cell_type": "code",
   "execution_count": 140,
   "metadata": {},
   "outputs": [],
   "source": [
    "dfg.to_csv(r'C:\\Users\\ASUS\\Desktop\\WHK\\GED_Disaster\\Mozambique.csv')"
   ]
  },
  {
   "cell_type": "code",
   "execution_count": null,
   "metadata": {},
   "outputs": [],
   "source": []
  },
  {
   "cell_type": "code",
   "execution_count": 144,
   "metadata": {},
   "outputs": [
    {
     "name": "stderr",
     "output_type": "stream",
     "text": [
      "C:\\Users\\ASUS\\AppData\\Local\\Temp\\ipykernel_13884\\2082640467.py:2: SettingWithCopyWarning: \n",
      "A value is trying to be set on a copy of a slice from a DataFrame.\n",
      "Try using .loc[row_indexer,col_indexer] = value instead\n",
      "\n",
      "See the caveats in the documentation: https://pandas.pydata.org/pandas-docs/stable/user_guide/indexing.html#returning-a-view-versus-a-copy\n",
      "  dbg['year'] = dbg['year'].astype(int)\n"
     ]
    }
   ],
   "source": [
    "dbg = db[db['country']=='Niger']\n",
    "dbg['year'] = dbg['year'].astype(int)\n",
    "year_list = dbg.year.unique()\n",
    "bk_adm=dbg.adm_2.unique()"
   ]
  },
  {
   "cell_type": "code",
   "execution_count": 145,
   "metadata": {},
   "outputs": [],
   "source": [
    "dfg = dff[dff['country']=='Niger']\n",
    "dfg = dfg[dfg.year.isin(year_list)]\n",
    "dfg=dfg[dfg.adm2.isin(bk_adm)]"
   ]
  },
  {
   "cell_type": "code",
   "execution_count": 147,
   "metadata": {},
   "outputs": [],
   "source": [
    "dfg.to_csv(r'C:\\Users\\ASUS\\Desktop\\WHK\\GED_Disaster\\Niger.csv')"
   ]
  },
  {
   "cell_type": "code",
   "execution_count": null,
   "metadata": {},
   "outputs": [],
   "source": []
  },
  {
   "cell_type": "code",
   "execution_count": 151,
   "metadata": {},
   "outputs": [
    {
     "name": "stderr",
     "output_type": "stream",
     "text": [
      "C:\\Users\\ASUS\\AppData\\Local\\Temp\\ipykernel_13884\\4046182154.py:2: SettingWithCopyWarning: \n",
      "A value is trying to be set on a copy of a slice from a DataFrame.\n",
      "Try using .loc[row_indexer,col_indexer] = value instead\n",
      "\n",
      "See the caveats in the documentation: https://pandas.pydata.org/pandas-docs/stable/user_guide/indexing.html#returning-a-view-versus-a-copy\n",
      "  dbg['year'] = dbg['year'].astype(int)\n"
     ]
    }
   ],
   "source": [
    "dbg = db[db['country']=='Rwanda']\n",
    "dbg['year'] = dbg['year'].astype(int)\n",
    "year_list = dbg.year.unique()\n",
    "bk_adm=dbg.adm_2.unique()"
   ]
  },
  {
   "cell_type": "code",
   "execution_count": 152,
   "metadata": {},
   "outputs": [],
   "source": [
    "dfg = dff[dff['country']=='Rwanda']\n",
    "dfg = dfg[dfg.year.isin(year_list)]\n",
    "dfg=dfg[dfg.adm2.isin(bk_adm)]"
   ]
  },
  {
   "cell_type": "code",
   "execution_count": 154,
   "metadata": {},
   "outputs": [],
   "source": [
    "dfg.to_csv(r'C:\\Users\\ASUS\\Desktop\\WHK\\GED_Disaster\\Rwanda.csv')"
   ]
  },
  {
   "cell_type": "code",
   "execution_count": null,
   "metadata": {},
   "outputs": [],
   "source": []
  },
  {
   "cell_type": "code",
   "execution_count": 155,
   "metadata": {},
   "outputs": [
    {
     "name": "stderr",
     "output_type": "stream",
     "text": [
      "C:\\Users\\ASUS\\AppData\\Local\\Temp\\ipykernel_13884\\221856530.py:2: SettingWithCopyWarning: \n",
      "A value is trying to be set on a copy of a slice from a DataFrame.\n",
      "Try using .loc[row_indexer,col_indexer] = value instead\n",
      "\n",
      "See the caveats in the documentation: https://pandas.pydata.org/pandas-docs/stable/user_guide/indexing.html#returning-a-view-versus-a-copy\n",
      "  dbg['year'] = dbg['year'].astype(int)\n"
     ]
    }
   ],
   "source": [
    "dbg = db[db['country']=='Senegal']\n",
    "dbg['year'] = dbg['year'].astype(int)\n",
    "year_list = dbg.year.unique()\n",
    "bk_adm=dbg.adm_2.unique()"
   ]
  },
  {
   "cell_type": "code",
   "execution_count": 156,
   "metadata": {},
   "outputs": [],
   "source": [
    "dfg = dff[dff['country']=='Senegal']\n",
    "dfg = dfg[dfg.year.isin(year_list)]\n",
    "dfg=dfg[dfg.adm2.isin(bk_adm)]"
   ]
  },
  {
   "cell_type": "code",
   "execution_count": 158,
   "metadata": {},
   "outputs": [],
   "source": [
    "dfg.to_csv(r'C:\\Users\\ASUS\\Desktop\\WHK\\GED_Disaster\\Senegal.csv')"
   ]
  },
  {
   "cell_type": "code",
   "execution_count": null,
   "metadata": {},
   "outputs": [],
   "source": []
  },
  {
   "cell_type": "code",
   "execution_count": 165,
   "metadata": {},
   "outputs": [
    {
     "name": "stderr",
     "output_type": "stream",
     "text": [
      "C:\\Users\\ASUS\\AppData\\Local\\Temp\\ipykernel_13884\\4100187909.py:2: SettingWithCopyWarning: \n",
      "A value is trying to be set on a copy of a slice from a DataFrame.\n",
      "Try using .loc[row_indexer,col_indexer] = value instead\n",
      "\n",
      "See the caveats in the documentation: https://pandas.pydata.org/pandas-docs/stable/user_guide/indexing.html#returning-a-view-versus-a-copy\n",
      "  dbg['year'] = dbg['year'].astype(int)\n"
     ]
    }
   ],
   "source": [
    "dbg = db[db['country']=='Somalia']\n",
    "dbg['year'] = dbg['year'].astype(int)\n",
    "year_list = dbg.year.unique()\n",
    "bk_adm=dbg.adm_2.unique()"
   ]
  },
  {
   "cell_type": "code",
   "execution_count": 166,
   "metadata": {},
   "outputs": [],
   "source": [
    "dfg = dff[dff['country']=='Somalia']\n",
    "dfg = dfg[dfg.year.isin(year_list)]\n",
    "dfg=dfg[dfg.adm2.isin(bk_adm)]"
   ]
  },
  {
   "cell_type": "code",
   "execution_count": 168,
   "metadata": {},
   "outputs": [],
   "source": [
    "dfg.to_csv(r'C:\\Users\\ASUS\\Desktop\\WHK\\GED_Disaster\\Somalia.csv')"
   ]
  },
  {
   "cell_type": "code",
   "execution_count": null,
   "metadata": {},
   "outputs": [],
   "source": []
  },
  {
   "cell_type": "code",
   "execution_count": 172,
   "metadata": {},
   "outputs": [
    {
     "name": "stderr",
     "output_type": "stream",
     "text": [
      "C:\\Users\\ASUS\\AppData\\Local\\Temp\\ipykernel_13884\\3154968142.py:2: SettingWithCopyWarning: \n",
      "A value is trying to be set on a copy of a slice from a DataFrame.\n",
      "Try using .loc[row_indexer,col_indexer] = value instead\n",
      "\n",
      "See the caveats in the documentation: https://pandas.pydata.org/pandas-docs/stable/user_guide/indexing.html#returning-a-view-versus-a-copy\n",
      "  dbg['year'] = dbg['year'].astype(int)\n"
     ]
    }
   ],
   "source": [
    "dbg = db[db['country']=='South Sudan']\n",
    "dbg['year'] = dbg['year'].astype(int)\n",
    "year_list = dbg.year.unique()\n",
    "bk_adm=dbg.adm_2.unique()"
   ]
  },
  {
   "cell_type": "code",
   "execution_count": 173,
   "metadata": {},
   "outputs": [],
   "source": [
    "dfg = dff[dff['country']=='South Sudan']\n",
    "dfg = dfg[dfg.year.isin(year_list)]\n",
    "dfg=dfg[dfg.adm2.isin(bk_adm)]"
   ]
  },
  {
   "cell_type": "code",
   "execution_count": 175,
   "metadata": {},
   "outputs": [],
   "source": [
    "dfg.to_csv(r'C:\\Users\\ASUS\\Desktop\\WHK\\GED_Disaster\\South_Sudan.csv')"
   ]
  },
  {
   "cell_type": "code",
   "execution_count": null,
   "metadata": {},
   "outputs": [],
   "source": []
  },
  {
   "cell_type": "code",
   "execution_count": 176,
   "metadata": {},
   "outputs": [
    {
     "name": "stderr",
     "output_type": "stream",
     "text": [
      "C:\\Users\\ASUS\\AppData\\Local\\Temp\\ipykernel_13884\\3383186290.py:2: SettingWithCopyWarning: \n",
      "A value is trying to be set on a copy of a slice from a DataFrame.\n",
      "Try using .loc[row_indexer,col_indexer] = value instead\n",
      "\n",
      "See the caveats in the documentation: https://pandas.pydata.org/pandas-docs/stable/user_guide/indexing.html#returning-a-view-versus-a-copy\n",
      "  dbg['year'] = dbg['year'].astype(int)\n"
     ]
    }
   ],
   "source": [
    "dbg = db[db['country']=='Sudan']\n",
    "dbg['year'] = dbg['year'].astype(int)\n",
    "year_list = dbg.year.unique()\n",
    "bk_adm=dbg.adm_2.unique()"
   ]
  },
  {
   "cell_type": "code",
   "execution_count": 177,
   "metadata": {},
   "outputs": [],
   "source": [
    "dfg = dff[dff['country']=='Sudan']\n",
    "dfg = dfg[dfg.year.isin(year_list)]\n",
    "dfg=dfg[dfg.adm2.isin(bk_adm)]"
   ]
  },
  {
   "cell_type": "code",
   "execution_count": 179,
   "metadata": {},
   "outputs": [],
   "source": [
    "dfg.to_csv(r'C:\\Users\\ASUS\\Desktop\\WHK\\GED_Disaster\\Sudan.csv')"
   ]
  },
  {
   "cell_type": "code",
   "execution_count": null,
   "metadata": {},
   "outputs": [],
   "source": []
  },
  {
   "cell_type": "code",
   "execution_count": 180,
   "metadata": {},
   "outputs": [
    {
     "name": "stderr",
     "output_type": "stream",
     "text": [
      "C:\\Users\\ASUS\\AppData\\Local\\Temp\\ipykernel_13884\\2475874254.py:2: SettingWithCopyWarning: \n",
      "A value is trying to be set on a copy of a slice from a DataFrame.\n",
      "Try using .loc[row_indexer,col_indexer] = value instead\n",
      "\n",
      "See the caveats in the documentation: https://pandas.pydata.org/pandas-docs/stable/user_guide/indexing.html#returning-a-view-versus-a-copy\n",
      "  dbg['year'] = dbg['year'].astype(int)\n"
     ]
    }
   ],
   "source": [
    "dbg = db[db['country']=='Tanzania']\n",
    "dbg['year'] = dbg['year'].astype(int)\n",
    "year_list = dbg.year.unique()\n",
    "bk_adm=dbg.adm_2.unique()"
   ]
  },
  {
   "cell_type": "code",
   "execution_count": 181,
   "metadata": {},
   "outputs": [],
   "source": [
    "dfg = dff[dff['country']=='Tanzania']\n",
    "dfg = dfg[dfg.year.isin(year_list)]\n",
    "dfg=dfg[dfg.adm2.isin(bk_adm)]"
   ]
  },
  {
   "cell_type": "code",
   "execution_count": 183,
   "metadata": {},
   "outputs": [],
   "source": [
    "dfg.to_csv(r'C:\\Users\\ASUS\\Desktop\\WHK\\GED_Disaster\\Tanzania.csv')"
   ]
  },
  {
   "cell_type": "code",
   "execution_count": null,
   "metadata": {},
   "outputs": [],
   "source": []
  },
  {
   "cell_type": "code",
   "execution_count": 190,
   "metadata": {},
   "outputs": [
    {
     "name": "stderr",
     "output_type": "stream",
     "text": [
      "C:\\Users\\ASUS\\AppData\\Local\\Temp\\ipykernel_13884\\3393005481.py:2: SettingWithCopyWarning: \n",
      "A value is trying to be set on a copy of a slice from a DataFrame.\n",
      "Try using .loc[row_indexer,col_indexer] = value instead\n",
      "\n",
      "See the caveats in the documentation: https://pandas.pydata.org/pandas-docs/stable/user_guide/indexing.html#returning-a-view-versus-a-copy\n",
      "  dbg['year'] = dbg['year'].astype(int)\n"
     ]
    }
   ],
   "source": [
    "dbg = db[db['country']=='Uganda']\n",
    "dbg['year'] = dbg['year'].astype(int)\n",
    "year_list = dbg.year.unique()\n",
    "bk_adm=dbg.adm_2.unique()"
   ]
  },
  {
   "cell_type": "code",
   "execution_count": 191,
   "metadata": {},
   "outputs": [],
   "source": [
    "dfg = dff[dff['country']=='Uganda']\n",
    "dfg = dfg[dfg.year.isin(year_list)]\n",
    "dfg=dfg[dfg.adm2.isin(bk_adm)]"
   ]
  },
  {
   "cell_type": "code",
   "execution_count": 193,
   "metadata": {},
   "outputs": [],
   "source": [
    "dfg.to_csv(r'C:\\Users\\ASUS\\Desktop\\WHK\\GED_Disaster\\Uganda.csv')"
   ]
  },
  {
   "cell_type": "code",
   "execution_count": null,
   "metadata": {},
   "outputs": [],
   "source": []
  },
  {
   "cell_type": "code",
   "execution_count": 197,
   "metadata": {},
   "outputs": [
    {
     "name": "stderr",
     "output_type": "stream",
     "text": [
      "C:\\Users\\ASUS\\AppData\\Local\\Temp\\ipykernel_13884\\2565825637.py:2: SettingWithCopyWarning: \n",
      "A value is trying to be set on a copy of a slice from a DataFrame.\n",
      "Try using .loc[row_indexer,col_indexer] = value instead\n",
      "\n",
      "See the caveats in the documentation: https://pandas.pydata.org/pandas-docs/stable/user_guide/indexing.html#returning-a-view-versus-a-copy\n",
      "  dbg['year'] = dbg['year'].astype(int)\n"
     ]
    }
   ],
   "source": [
    "dbg = db[db['country']=='Zimbabwe (Rhodesia)']\n",
    "dbg['year'] = dbg['year'].astype(int)\n",
    "year_list = dbg.year.unique()\n",
    "bk_adm=dbg.adm_2.unique()"
   ]
  },
  {
   "cell_type": "code",
   "execution_count": 198,
   "metadata": {},
   "outputs": [],
   "source": [
    "dfg = dff[dff['country']=='Zimbabwe (Rhodesia)']\n",
    "dfg = dfg[dfg.year.isin(year_list)]\n",
    "dfg=dfg[dfg.adm2.isin(bk_adm)]"
   ]
  },
  {
   "cell_type": "code",
   "execution_count": 199,
   "metadata": {},
   "outputs": [
    {
     "data": {
      "text/html": [
       "<div>\n",
       "<style scoped>\n",
       "    .dataframe tbody tr th:only-of-type {\n",
       "        vertical-align: middle;\n",
       "    }\n",
       "\n",
       "    .dataframe tbody tr th {\n",
       "        vertical-align: top;\n",
       "    }\n",
       "\n",
       "    .dataframe thead th {\n",
       "        text-align: right;\n",
       "    }\n",
       "</style>\n",
       "<table border=\"1\" class=\"dataframe\">\n",
       "  <thead>\n",
       "    <tr style=\"text-align: right;\">\n",
       "      <th></th>\n",
       "      <th>id</th>\n",
       "      <th>country</th>\n",
       "      <th>iso3</th>\n",
       "      <th>gwno</th>\n",
       "      <th>year</th>\n",
       "      <th>geo_id</th>\n",
       "      <th>geolocation</th>\n",
       "      <th>level</th>\n",
       "      <th>adm1</th>\n",
       "      <th>adm2</th>\n",
       "      <th>adm3</th>\n",
       "      <th>location</th>\n",
       "      <th>historical</th>\n",
       "      <th>hist_country</th>\n",
       "      <th>disastertype</th>\n",
       "      <th>disasterno</th>\n",
       "      <th>latitude</th>\n",
       "      <th>longitude</th>\n",
       "    </tr>\n",
       "  </thead>\n",
       "  <tbody>\n",
       "  </tbody>\n",
       "</table>\n",
       "</div>"
      ],
      "text/plain": [
       "Empty DataFrame\n",
       "Columns: [id, country, iso3, gwno, year, geo_id, geolocation, level, adm1, adm2, adm3, location, historical, hist_country, disastertype, disasterno, latitude, longitude]\n",
       "Index: []"
      ]
     },
     "execution_count": 199,
     "metadata": {},
     "output_type": "execute_result"
    }
   ],
   "source": [
    "dfg"
   ]
  },
  {
   "cell_type": "code",
   "execution_count": null,
   "metadata": {},
   "outputs": [],
   "source": []
  }
 ],
 "metadata": {
  "kernelspec": {
   "display_name": "Python 3",
   "language": "python",
   "name": "python3"
  },
  "language_info": {
   "codemirror_mode": {
    "name": "ipython",
    "version": 3
   },
   "file_extension": ".py",
   "mimetype": "text/x-python",
   "name": "python",
   "nbconvert_exporter": "python",
   "pygments_lexer": "ipython3",
   "version": "3.8.5"
  }
 },
 "nbformat": 4,
 "nbformat_minor": 5
}
